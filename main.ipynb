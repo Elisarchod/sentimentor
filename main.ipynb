{
 "cells": [
  {
   "cell_type": "code",
   "execution_count": null,
   "outputs": [],
   "source": [
    "import numpy as np\n",
    "import pandas as pd"
   ],
   "metadata": {
    "collapsed": false,
    "pycharm": {
     "name": "#%%\n"
    }
   }
  },
  {
   "cell_type": "markdown",
   "source": [
    "\n",
    "\"\"\"\n",
    "https://towardsdatascience.com/natural-language-processing-feature-engineering-using-tf-idf-e8b9d00e7e76\n",
    "\n",
    "https://medium.com/analytics-vidhya/a-simple-yet-effective-way-of-text-cleaning-using-nltk-4f90a8ff21d4\n",
    "https://scikit-learn.org/stable/modules/generated/sklearn.feature_extraction.text.TfidfTransformer.html\n",
    "\n",
    "\"\"\""
   ],
   "metadata": {
    "collapsed": false,
    "pycharm": {
     "name": "#%% md\n"
    }
   }
  },
  {
   "cell_type": "code",
   "execution_count": null,
   "outputs": [],
   "source": [
    "from typing import List, Dict\n",
    "from nltk.corpus import stopwords\n",
    "from sklearn.feature_extraction.text import TfidfTransformer\n",
    "stopwords.words('english')\n",
    "\n",
    "def drop_stop_words(df: pd.DataFrame) -> pd.DataFrame:\n",
    "    print(df.shape)\n",
    "    words_to_drop = [col for col in df.columns if col in stopwords.words('english')]\n",
    "    df.drop(words_to_drop, axis=1, inplace=True)\n",
    "    print(df.shape)\n",
    "    return df\n",
    "\n",
    "def get_correlation_pairs(tfidf, corr_type):\n",
    "    correlations = tfidf.corr(corr_type)\n",
    "    correlations_stacked = correlations.abs().unstack().sort_values(ascending=False)\n",
    "    correlations_stacked = correlations_stacked[correlations_stacked < 1]\n",
    "    return correlations_stacked\n",
    "\n",
    "def combone_pairs(X, strong_corr_pairs):\n",
    "    droped = []\n",
    "    for pair in strong_corr_pairs:\n",
    "        pair_splited = pair.split(\"_\")\n",
    "        if all([False if word in droped else True for word in pair_splited]):\n",
    "            X[pair] = X[pair_splited].mean(axis=1)\n",
    "            X.drop(pair_splited, axis=1, inplace=True)\n",
    "            droped.extend(pair_splited)\n",
    "    print(X.shape)\n",
    "    return X\n",
    "\n",
    "def run_transformer(X):\n",
    "    transformer = TfidfTransformer()\n",
    "    tfidf_sk = pd.DataFrame(\n",
    "        transformer.fit_transform(X.values).toarray(),\n",
    "        columns=X.columns,\n",
    "        index=X.index\n",
    "    )\n",
    "    return transformer, tfidf_sk"
   ],
   "metadata": {
    "collapsed": false,
    "pycharm": {
     "name": "#%%\n"
    }
   }
  },
  {
   "cell_type": "code",
   "execution_count": null,
   "outputs": [],
   "source": [],
   "metadata": {
    "collapsed": false,
    "pycharm": {
     "name": "#%%\n"
    }
   }
  },
  {
   "cell_type": "code",
   "execution_count": null,
   "outputs": [],
   "source": [],
   "metadata": {
    "collapsed": false,
    "pycharm": {
     "name": "#%%\n"
    }
   }
  },
  {
   "cell_type": "code",
   "execution_count": null,
   "outputs": [],
   "source": [
    "df"
   ],
   "metadata": {
    "collapsed": false,
    "pycharm": {
     "name": "#%%\n"
    }
   }
  },
  {
   "cell_type": "code",
   "execution_count": null,
   "outputs": [],
   "source": [
    "from scipy.stats import chi2_contingency\n",
    "  \n",
    "# defining the table\n",
    "data = [[207, 282, 241], [234, 242, 232]]\n",
    "stat, p, dof, expected = chi2_contingency(data)\n",
    "  "
   ],
   "metadata": {
    "collapsed": false,
    "pycharm": {
     "name": "#%%\n"
    }
   }
  },
  {
   "cell_type": "code",
   "execution_count": null,
   "outputs": [],
   "source": [
    "df = pd.read_csv('text_training.csv', index_col=\"ID\") # rollout_X"
   ],
   "metadata": {
    "collapsed": false,
    "pycharm": {
     "name": "#%%\n"
    }
   }
  },
  {
   "cell_type": "code",
   "execution_count": null,
   "outputs": [],
   "source": [
    "df = pd.read_csv('text_training.csv', index_col=\"ID\") # rollout_X\n",
    "df = df[df.sum().sort_values(ascending=False).index]\n",
    "df = df.loc[df.sum(axis=1).sort_values(ascending=False).index]\n",
    "df = drop_stop_words(df)"
   ],
   "metadata": {
    "collapsed": false,
    "pycharm": {
     "name": "#%%\n"
    }
   }
  },
  {
   "cell_type": "code",
   "execution_count": null,
   "outputs": [],
   "source": [
    "label_freq = df.groupby([\"rating\"]).mean().T.rename(columns={1:\"label_freq\"})\n",
    "label_freq[\"diff\"] = label_freq[\"label_freq\"].sub(label_freq[0]).abs()\n",
    "label_freq = label_freq.sort_values(\"diff\", ascending=False).reset_index()"
   ],
   "metadata": {
    "collapsed": false,
    "pycharm": {
     "name": "#%%\n"
    }
   }
  },
  {
   "cell_type": "code",
   "execution_count": null,
   "outputs": [],
   "source": [],
   "metadata": {
    "collapsed": false,
    "pycharm": {
     "name": "#%%\n"
    }
   }
  },
  {
   "cell_type": "code",
   "execution_count": null,
   "outputs": [],
   "source": [
    "fig = px.scatter(\n",
    "    label_freq, x=\"diff\", y=\"index\", #color=\"rating_freq_log_abs\", \n",
    "#                  hover_data=[\"count_review\", \"rating_freq_log_abs\"]\n",
    ")\n",
    "fig.show()"
   ],
   "metadata": {
    "collapsed": false,
    "pycharm": {
     "name": "#%%\n"
    }
   }
  },
  {
   "cell_type": "code",
   "execution_count": null,
   "outputs": [],
   "source": [],
   "metadata": {
    "collapsed": false,
    "pycharm": {
     "name": "#%%\n"
    }
   }
  },
  {
   "cell_type": "code",
   "execution_count": null,
   "outputs": [],
   "source": [],
   "metadata": {
    "collapsed": false,
    "pycharm": {
     "name": "#%%\n"
    }
   }
  },
  {
   "cell_type": "code",
   "execution_count": null,
   "outputs": [],
   "source": [
    "\n",
    "from scipy.stats import chi2_contingency\n",
    "  \n",
    "\n",
    "stat, p, dof, expected = chi2_contingency(df[[\"rating\", \"love\"]].values)\n",
    "  \n",
    "# interpret p-value\n",
    "alpha = 0.05\n",
    "print(\"p value is \" + str(p))\n",
    "if p <= alpha:\n",
    "    print('Dependent (reject H0)')\n",
    "else:\n",
    "    print('Independent (H0 holds true)')"
   ],
   "metadata": {
    "collapsed": false,
    "pycharm": {
     "name": "#%%\n"
    }
   }
  },
  {
   "cell_type": "code",
   "execution_count": null,
   "outputs": [],
   "source": [],
   "metadata": {
    "collapsed": false,
    "pycharm": {
     "name": "#%%\n"
    }
   }
  },
  {
   "cell_type": "code",
   "execution_count": null,
   "outputs": [],
   "source": [],
   "metadata": {
    "collapsed": false,
    "pycharm": {
     "name": "#%%\n"
    }
   }
  },
  {
   "cell_type": "code",
   "execution_count": null,
   "outputs": [],
   "source": [],
   "metadata": {
    "collapsed": false,
    "pycharm": {
     "name": "#%%\n"
    }
   }
  },
  {
   "cell_type": "code",
   "execution_count": null,
   "outputs": [],
   "source": [
    "X, y = df.drop(\"rating\", axis=1).copy(), df[\"rating\"].copy()\n",
    "\n",
    "transformer = TfidfTransformer()\n",
    "tfidf_sk = pd.DataFrame(\n",
    "    transformer.fit_transform(X.values).toarray(),\n",
    "    columns=X.columns,\n",
    "    index=X.index\n",
    ")"
   ],
   "metadata": {
    "collapsed": false,
    "pycharm": {
     "name": "#%%\n"
    }
   }
  },
  {
   "cell_type": "code",
   "execution_count": null,
   "outputs": [],
   "source": [
    "correlations_pearson = get_correlation_pairs(tfidf_sk, \"pearson\")\n",
    "correlations_spearman = get_correlation_pairs(tfidf_sk, \"spearman\")\n",
    "\n",
    "correlations_stacked = (correlations_pearson.to_frame()\n",
    " .rename(columns={0:\"pearson\"})\n",
    " .join(correlations_spearman.to_frame()\n",
    "       .rename(columns={0:\"spearman\"})))\n",
    "\n",
    "correlations_stacked = correlations_stacked.iloc[range(0, len(correlations_stacked), 2)]\n",
    "correlations_stacked.index = [\"_\".join(pair) for pair in correlations_stacked.index.to_list()]"
   ],
   "metadata": {
    "collapsed": false,
    "pycharm": {
     "name": "#%%\n"
    }
   }
  },
  {
   "cell_type": "code",
   "execution_count": null,
   "outputs": [],
   "source": [
    "strong_corr = []\n",
    "for cor in [\"pearson\", \"spearman\"]:\n",
    "    strong_corr.extend(correlations_stacked[\"pearson\"].sort_values(ascending=False).head(60).index.to_list())\n",
    "strong_corr_pairs = list(set(strong_corr))"
   ],
   "metadata": {
    "collapsed": false,
    "pycharm": {
     "name": "#%%\n"
    }
   }
  },
  {
   "cell_type": "code",
   "execution_count": null,
   "outputs": [],
   "source": [
    "import plotly.graph_objects as go\n",
    "\n",
    "correlations_stacked_plot = correlations_stacked.loc[strong_corr].reset_index().sort_values(\"pearson\")\n",
    "fig = go.Figure()\n",
    "\n",
    "for cor in [\"pearson\", \"spearman\"]:\n",
    "\n",
    "# Add traces\n",
    "    fig.add_trace(\n",
    "        go.Scatter(\n",
    "            y=correlations_stacked_plot[\"index\"], \n",
    "            x=correlations_stacked_plot[cor],\n",
    "            mode='markers',\n",
    "            text=correlations_stacked_plot[[\"pearson\", \"spearman\"]],\n",
    "            name=cor)\n",
    "    )\n",
    "\n",
    "\n",
    "fig.show()"
   ],
   "metadata": {
    "collapsed": false,
    "pycharm": {
     "name": "#%%\n"
    }
   }
  },
  {
   "cell_type": "code",
   "execution_count": null,
   "outputs": [],
   "source": [
    "X, y = combone_pairs(df.drop(\"rating\", axis=1), strong_corr_pairs), df[\"rating\"]\n",
    "_, tfidf_sk = run_transformer(X)"
   ],
   "metadata": {
    "collapsed": false,
    "pycharm": {
     "name": "#%%\n"
    }
   }
  },
  {
   "cell_type": "code",
   "execution_count": null,
   "outputs": [],
   "source": [
    "import plotly.graph_objects as go\n",
    "\n",
    "tfidf_sk_plot = (tfidf_sk\n",
    "#  .replace({0:None})\n",
    " .mean(axis=0).to_frame().rename(columns={0:\"tfidf\"})\n",
    " .join(\n",
    "     X.replace({0:None})\n",
    "     .notnull().sum(axis=0)\n",
    "     .to_frame()\n",
    "     .rename(columns={0:\"count_review\"}))\n",
    " .sort_values(\"tfidf\", ascending=False)\n",
    " .join(\n",
    "     X\n",
    "     .join(y.to_frame())\n",
    "     .groupby(\"rating\", as_index=False)\n",
    "     .mean().T[1]\n",
    "     .to_frame()\n",
    "     .rename(\n",
    "         columns={1:\"rating_freq\"}\n",
    "     )       \n",
    ")).reset_index().sort_values(\"tfidf\", ascending=False)\n",
    "\n",
    "tfidf_sk_plot[\"rating_freq_log\"] = np.log(tfidf_sk_plot[\"rating_freq\"])\n",
    "tfidf_sk_plot[\"rating_freq_log_add\"] = np.log(tfidf_sk_plot[\"rating_freq\"].add(1e-06))\n",
    "\n",
    "tfidf_sk_plot[\"rating_freq_log_abs\"] = tfidf_sk_plot[\"rating_freq_log\"].abs()\n",
    "tfidf_sk_plot.loc[tfidf_sk_plot[\"rating_freq_log\"]==-np.inf, \"rating_freq_log_abs\"] = 0"
   ],
   "metadata": {
    "collapsed": false,
    "pycharm": {
     "name": "#%%\n"
    }
   }
  },
  {
   "cell_type": "code",
   "execution_count": null,
   "outputs": [],
   "source": [
    "fig = px.scatter(\n",
    "    tfidf_sk_plot, x=\"tfidf\", y=\"index\", color=\"rating_freq_log_abs\", \n",
    "                 hover_data=[\"count_review\", \"rating_freq_log_abs\"]\n",
    ")\n",
    "fig.show()"
   ],
   "metadata": {
    "collapsed": false,
    "pycharm": {
     "name": "#%%\n"
    }
   }
  },
  {
   "cell_type": "code",
   "execution_count": null,
   "outputs": [],
   "source": [
    "high_tfidf_value: list = tfidf_sk_plot[tfidf_sk_plot[\"tfidf\"] < 5e-03][\"index\"].to_list()\n",
    "_, tfidf_sk = run_transformer(X.filter(high_tfidf_value, axis=1))"
   ],
   "metadata": {
    "collapsed": false,
    "pycharm": {
     "name": "#%%\n"
    }
   }
  },
  {
   "cell_type": "code",
   "execution_count": null,
   "outputs": [],
   "source": [
    "tfidf_sk"
   ],
   "metadata": {
    "collapsed": false,
    "pycharm": {
     "name": "#%%\n"
    }
   }
  },
  {
   "cell_type": "code",
   "execution_count": null,
   "outputs": [],
   "source": [],
   "metadata": {
    "collapsed": false,
    "pycharm": {
     "name": "#%%\n"
    }
   }
  },
  {
   "cell_type": "code",
   "execution_count": null,
   "outputs": [],
   "source": [],
   "metadata": {
    "collapsed": false,
    "pycharm": {
     "name": "#%%\n"
    }
   }
  },
  {
   "cell_type": "code",
   "execution_count": null,
   "outputs": [],
   "source": [],
   "metadata": {
    "collapsed": false,
    "pycharm": {
     "name": "#%%\n"
    }
   }
  },
  {
   "cell_type": "code",
   "execution_count": null,
   "outputs": [],
   "source": [],
   "metadata": {
    "collapsed": false,
    "pycharm": {
     "name": "#%%\n"
    }
   }
  },
  {
   "cell_type": "code",
   "execution_count": 253,
   "metadata": {
    "collapsed": true
   },
   "outputs": [
    {
     "data": {
      "application/vnd.plotly.v1+json": {
       "config": {
        "plotlyServerURL": "https://plot.ly"
       },
       "data": [
        {
         "mode": "markers",
         "name": "pearson",
         "text": [
          [
           0.36689158549568995,
           0.08001061090657817
          ],
          [
           0.36689158549568995,
           0.08001061090657817
          ],
          [
           0.36734576029119836,
           0.3474562628592354
          ],
          [
           0.36734576029119836,
           0.3474562628592354
          ],
          [
           0.3698924284593915,
           0.15767469285647331
          ],
          [
           0.3698924284593915,
           0.15767469285647331
          ],
          [
           0.37011836090757205,
           0.32092976167331444
          ],
          [
           0.37011836090757205,
           0.32092976167331444
          ],
          [
           0.37302622520354634,
           0.42727876656792146
          ],
          [
           0.37302622520354634,
           0.42727876656792146
          ],
          [
           0.37667041101943544,
           0.15517497270332287
          ],
          [
           0.37667041101943544,
           0.15517497270332287
          ],
          [
           0.37931735221297314,
           0.11673302898429583
          ],
          [
           0.37931735221297314,
           0.11673302898429583
          ],
          [
           0.380366164271969,
           0.22124790769163552
          ],
          [
           0.380366164271969,
           0.22124790769163552
          ],
          [
           0.3806937434174051,
           0.1860373006161166
          ],
          [
           0.3806937434174051,
           0.1860373006161166
          ],
          [
           0.38536211748050336,
           0.20452861360854718
          ],
          [
           0.38536211748050336,
           0.20452861360854718
          ],
          [
           0.3863481016137933,
           0.3833634255238285
          ],
          [
           0.3863481016137933,
           0.3833634255238285
          ],
          [
           0.38761506770880705,
           0.08775161692054714
          ],
          [
           0.38761506770880705,
           0.08775161692054714
          ],
          [
           0.38777112078935866,
           0.0943873576769324
          ],
          [
           0.38777112078935866,
           0.0943873576769324
          ],
          [
           0.3878387410818026,
           0.433458179110218
          ],
          [
           0.3878387410818026,
           0.433458179110218
          ],
          [
           0.3895895733448138,
           0.13417315910880576
          ],
          [
           0.3895895733448138,
           0.13417315910880576
          ],
          [
           0.39007789713029317,
           0.06922822279076693
          ],
          [
           0.39007789713029317,
           0.06922822279076693
          ],
          [
           0.3902457298190173,
           0.23740753999515693
          ],
          [
           0.3902457298190173,
           0.23740753999515693
          ],
          [
           0.3947426814065616,
           0.17062070917150715
          ],
          [
           0.3947426814065616,
           0.17062070917150715
          ],
          [
           0.3947807769510538,
           0.31720242579234775
          ],
          [
           0.3947807769510538,
           0.31720242579234775
          ],
          [
           0.3984100142442437,
           0.3333833428267058
          ],
          [
           0.3984100142442437,
           0.3333833428267058
          ],
          [
           0.39899564656638764,
           0.3455376235784703
          ],
          [
           0.39899564656638764,
           0.3455376235784703
          ],
          [
           0.4005618270362359,
           0.4118584243694211
          ],
          [
           0.4005618270362359,
           0.4118584243694211
          ],
          [
           0.40301145291167134,
           0.12154358852965173
          ],
          [
           0.40301145291167134,
           0.12154358852965173
          ],
          [
           0.4088059432220175,
           0.13670508146040758
          ],
          [
           0.4088059432220175,
           0.13670508146040758
          ],
          [
           0.41613809945785446,
           0.19557473406649611
          ],
          [
           0.41613809945785446,
           0.19557473406649611
          ],
          [
           0.41756108653158447,
           0.4243626922839311
          ],
          [
           0.41756108653158447,
           0.4243626922839311
          ],
          [
           0.4205604684402498,
           0.3221616678123626
          ],
          [
           0.4205604684402498,
           0.3221616678123626
          ],
          [
           0.42226189511300194,
           0.3358317637907647
          ],
          [
           0.42226189511300194,
           0.3358317637907647
          ],
          [
           0.42505192461714936,
           0.3514510661331054
          ],
          [
           0.42505192461714936,
           0.3514510661331054
          ],
          [
           0.42672724129519,
           0.25755230451959366
          ],
          [
           0.42672724129519,
           0.25755230451959366
          ],
          [
           0.42800188109768145,
           0.1911954915315493
          ],
          [
           0.42800188109768145,
           0.1911954915315493
          ],
          [
           0.4310822758021017,
           0.17881126608435904
          ],
          [
           0.4310822758021017,
           0.17881126608435904
          ],
          [
           0.431694461271513,
           0.37203938201870707
          ],
          [
           0.431694461271513,
           0.37203938201870707
          ],
          [
           0.4331333157849809,
           0.38824191007410647
          ],
          [
           0.4331333157849809,
           0.38824191007410647
          ],
          [
           0.4355715130416835,
           0.2696389378563562
          ],
          [
           0.4355715130416835,
           0.2696389378563562
          ],
          [
           0.4409288445885942,
           0.35419522048229707
          ],
          [
           0.4409288445885942,
           0.35419522048229707
          ],
          [
           0.4461867508242505,
           0.20832849616138044
          ],
          [
           0.4461867508242505,
           0.20832849616138044
          ],
          [
           0.447016405304735,
           0.43258046872285233
          ],
          [
           0.447016405304735,
           0.43258046872285233
          ],
          [
           0.4506193588620065,
           0.4247548099755956
          ],
          [
           0.4506193588620065,
           0.4247548099755956
          ],
          [
           0.45447357815111716,
           0.10871595253730976
          ],
          [
           0.45447357815111716,
           0.10871595253730976
          ],
          [
           0.45644572546205764,
           0.28133574490497754
          ],
          [
           0.45644572546205764,
           0.28133574490497754
          ],
          [
           0.4584519417062186,
           0.2349347354748413
          ],
          [
           0.4584519417062186,
           0.2349347354748413
          ],
          [
           0.4695244106695983,
           0.4746893391791415
          ],
          [
           0.4695244106695983,
           0.4746893391791415
          ],
          [
           0.47615414334592676,
           0.42324022835657
          ],
          [
           0.47615414334592676,
           0.42324022835657
          ],
          [
           0.4782193363308726,
           0.4710486088255654
          ],
          [
           0.4782193363308726,
           0.4710486088255654
          ],
          [
           0.4784988635336734,
           0.2496240918560483
          ],
          [
           0.4784988635336734,
           0.2496240918560483
          ],
          [
           0.4834856889876982,
           0.39419807589249795
          ],
          [
           0.4834856889876982,
           0.39419807589249795
          ],
          [
           0.4857428513373288,
           0.09148966103230222
          ],
          [
           0.4857428513373288,
           0.09148966103230222
          ],
          [
           0.5069822258488343,
           0.5747900145250345
          ],
          [
           0.5069822258488343,
           0.5747900145250345
          ],
          [
           0.5131887870470552,
           0.41923860929415424
          ],
          [
           0.5131887870470552,
           0.41923860929415424
          ],
          [
           0.520178364884902,
           0.3921617750774388
          ],
          [
           0.520178364884902,
           0.3921617750774388
          ],
          [
           0.5213467471305225,
           0.3496441225771357
          ],
          [
           0.5213467471305225,
           0.3496441225771357
          ],
          [
           0.52727624834012,
           0.16742076041959206
          ],
          [
           0.52727624834012,
           0.16742076041959206
          ],
          [
           0.5438259202823386,
           0.49366875197825055
          ],
          [
           0.5438259202823386,
           0.49366875197825055
          ],
          [
           0.5968294467664406,
           0.3326654430542861
          ],
          [
           0.5968294467664406,
           0.3326654430542861
          ],
          [
           0.6566567873531298,
           0.581758462350933
          ],
          [
           0.6566567873531298,
           0.581758462350933
          ],
          [
           0.6741694261234968,
           0.40018769392588505
          ],
          [
           0.6741694261234968,
           0.40018769392588505
          ],
          [
           0.7222805526803416,
           0.6219240259705278
          ],
          [
           0.7222805526803416,
           0.6219240259705278
          ],
          [
           0.7526993515396088,
           0.475079395025939
          ],
          [
           0.7526993515396088,
           0.475079395025939
          ],
          [
           0.9976390236221183,
           0.9537014019515108
          ],
          [
           0.9976390236221183,
           0.9537014019515108
          ]
         ],
         "type": "scatter",
         "x": [
          0.36689158549568995,
          0.36689158549568995,
          0.36734576029119836,
          0.36734576029119836,
          0.3698924284593915,
          0.3698924284593915,
          0.37011836090757205,
          0.37011836090757205,
          0.37302622520354634,
          0.37302622520354634,
          0.37667041101943544,
          0.37667041101943544,
          0.37931735221297314,
          0.37931735221297314,
          0.380366164271969,
          0.380366164271969,
          0.3806937434174051,
          0.3806937434174051,
          0.38536211748050336,
          0.38536211748050336,
          0.3863481016137933,
          0.3863481016137933,
          0.38761506770880705,
          0.38761506770880705,
          0.38777112078935866,
          0.38777112078935866,
          0.3878387410818026,
          0.3878387410818026,
          0.3895895733448138,
          0.3895895733448138,
          0.39007789713029317,
          0.39007789713029317,
          0.3902457298190173,
          0.3902457298190173,
          0.3947426814065616,
          0.3947426814065616,
          0.3947807769510538,
          0.3947807769510538,
          0.3984100142442437,
          0.3984100142442437,
          0.39899564656638764,
          0.39899564656638764,
          0.4005618270362359,
          0.4005618270362359,
          0.40301145291167134,
          0.40301145291167134,
          0.4088059432220175,
          0.4088059432220175,
          0.41613809945785446,
          0.41613809945785446,
          0.41756108653158447,
          0.41756108653158447,
          0.4205604684402498,
          0.4205604684402498,
          0.42226189511300194,
          0.42226189511300194,
          0.42505192461714936,
          0.42505192461714936,
          0.42672724129519,
          0.42672724129519,
          0.42800188109768145,
          0.42800188109768145,
          0.4310822758021017,
          0.4310822758021017,
          0.431694461271513,
          0.431694461271513,
          0.4331333157849809,
          0.4331333157849809,
          0.4355715130416835,
          0.4355715130416835,
          0.4409288445885942,
          0.4409288445885942,
          0.4461867508242505,
          0.4461867508242505,
          0.447016405304735,
          0.447016405304735,
          0.4506193588620065,
          0.4506193588620065,
          0.45447357815111716,
          0.45447357815111716,
          0.45644572546205764,
          0.45644572546205764,
          0.4584519417062186,
          0.4584519417062186,
          0.4695244106695983,
          0.4695244106695983,
          0.47615414334592676,
          0.47615414334592676,
          0.4782193363308726,
          0.4782193363308726,
          0.4784988635336734,
          0.4784988635336734,
          0.4834856889876982,
          0.4834856889876982,
          0.4857428513373288,
          0.4857428513373288,
          0.5069822258488343,
          0.5069822258488343,
          0.5131887870470552,
          0.5131887870470552,
          0.520178364884902,
          0.520178364884902,
          0.5213467471305225,
          0.5213467471305225,
          0.52727624834012,
          0.52727624834012,
          0.5438259202823386,
          0.5438259202823386,
          0.5968294467664406,
          0.5968294467664406,
          0.6566567873531298,
          0.6566567873531298,
          0.6741694261234968,
          0.6741694261234968,
          0.7222805526803416,
          0.7222805526803416,
          0.7526993515396088,
          0.7526993515396088,
          0.9976390236221183,
          0.9976390236221183
         ],
         "y": [
          "supplement_gain",
          "supplement_gain",
          "ingredi_list",
          "ingredi_list",
          "stuck_vinegar",
          "stuck_vinegar",
          "china_kidney",
          "china_kidney",
          "cheddar_puff",
          "cheddar_puff",
          "design_specif",
          "design_specif",
          "yeast_medicin",
          "yeast_medicin",
          "lab_usa",
          "lab_usa",
          "ran_dairi",
          "ran_dairi",
          "hes_son",
          "hes_son",
          "salt_sea",
          "salt_sea",
          "center_liquid",
          "center_liquid",
          "emerg_die",
          "emerg_die",
          "kcup_keurig",
          "kcup_keurig",
          "handl_late",
          "handl_late",
          "filter_onto",
          "filter_onto",
          "leak_mess",
          "leak_mess",
          "birthday_parti",
          "birthday_parti",
          "symptom_cramp",
          "symptom_cramp",
          "adopt_shes",
          "adopt_shes",
          "potato_chip",
          "potato_chip",
          "began_scienc",
          "began_scienc",
          "berri_smoothi",
          "berri_smoothi",
          "websit_word",
          "websit_word",
          "superior_agav",
          "superior_agav",
          "pocket_pill",
          "pocket_pill",
          "pain_intestin",
          "pain_intestin",
          "cream_ice",
          "cream_ice",
          "golden_werent",
          "golden_werent",
          "trap_accord",
          "trap_accord",
          "cancer_anim",
          "cancer_anim",
          "crack_mail",
          "crack_mail",
          "scienc_diet",
          "scienc_diet",
          "gluten_free",
          "gluten_free",
          "stool_slowli",
          "stool_slowli",
          "brewer_timothi",
          "brewer_timothi",
          "mixtur_raisin",
          "mixtur_raisin",
          "subscrib_save",
          "subscrib_save",
          "diseas_celiac",
          "diseas_celiac",
          "toler_gain",
          "toler_gain",
          "apart_fall",
          "apart_fall",
          "meet_luck",
          "meet_luck",
          "crust_pizza",
          "crust_pizza",
          "store_groceri",
          "store_groceri",
          "hydrogen_partial",
          "hydrogen_partial",
          "agav_prompt",
          "agav_prompt",
          "custom_servic",
          "custom_servic",
          "percent_fructos",
          "percent_fructos",
          "expir_date",
          "expir_date",
          "money_wast",
          "money_wast",
          "basket_gift",
          "basket_gift",
          "bulli_stick",
          "bulli_stick",
          "chop_pork",
          "chop_pork",
          "butter_peanut",
          "butter_peanut",
          "trap_mebr",
          "trap_mebr",
          "scienc_evo",
          "scienc_evo",
          "link_jack",
          "link_jack",
          "bewar_buyer",
          "bewar_buyer",
          "beer_root",
          "beer_root",
          "earl_grey",
          "earl_grey"
         ]
        },
        {
         "mode": "markers",
         "name": "spearman",
         "text": [
          [
           0.36689158549568995,
           0.08001061090657817
          ],
          [
           0.36689158549568995,
           0.08001061090657817
          ],
          [
           0.36734576029119836,
           0.3474562628592354
          ],
          [
           0.36734576029119836,
           0.3474562628592354
          ],
          [
           0.3698924284593915,
           0.15767469285647331
          ],
          [
           0.3698924284593915,
           0.15767469285647331
          ],
          [
           0.37011836090757205,
           0.32092976167331444
          ],
          [
           0.37011836090757205,
           0.32092976167331444
          ],
          [
           0.37302622520354634,
           0.42727876656792146
          ],
          [
           0.37302622520354634,
           0.42727876656792146
          ],
          [
           0.37667041101943544,
           0.15517497270332287
          ],
          [
           0.37667041101943544,
           0.15517497270332287
          ],
          [
           0.37931735221297314,
           0.11673302898429583
          ],
          [
           0.37931735221297314,
           0.11673302898429583
          ],
          [
           0.380366164271969,
           0.22124790769163552
          ],
          [
           0.380366164271969,
           0.22124790769163552
          ],
          [
           0.3806937434174051,
           0.1860373006161166
          ],
          [
           0.3806937434174051,
           0.1860373006161166
          ],
          [
           0.38536211748050336,
           0.20452861360854718
          ],
          [
           0.38536211748050336,
           0.20452861360854718
          ],
          [
           0.3863481016137933,
           0.3833634255238285
          ],
          [
           0.3863481016137933,
           0.3833634255238285
          ],
          [
           0.38761506770880705,
           0.08775161692054714
          ],
          [
           0.38761506770880705,
           0.08775161692054714
          ],
          [
           0.38777112078935866,
           0.0943873576769324
          ],
          [
           0.38777112078935866,
           0.0943873576769324
          ],
          [
           0.3878387410818026,
           0.433458179110218
          ],
          [
           0.3878387410818026,
           0.433458179110218
          ],
          [
           0.3895895733448138,
           0.13417315910880576
          ],
          [
           0.3895895733448138,
           0.13417315910880576
          ],
          [
           0.39007789713029317,
           0.06922822279076693
          ],
          [
           0.39007789713029317,
           0.06922822279076693
          ],
          [
           0.3902457298190173,
           0.23740753999515693
          ],
          [
           0.3902457298190173,
           0.23740753999515693
          ],
          [
           0.3947426814065616,
           0.17062070917150715
          ],
          [
           0.3947426814065616,
           0.17062070917150715
          ],
          [
           0.3947807769510538,
           0.31720242579234775
          ],
          [
           0.3947807769510538,
           0.31720242579234775
          ],
          [
           0.3984100142442437,
           0.3333833428267058
          ],
          [
           0.3984100142442437,
           0.3333833428267058
          ],
          [
           0.39899564656638764,
           0.3455376235784703
          ],
          [
           0.39899564656638764,
           0.3455376235784703
          ],
          [
           0.4005618270362359,
           0.4118584243694211
          ],
          [
           0.4005618270362359,
           0.4118584243694211
          ],
          [
           0.40301145291167134,
           0.12154358852965173
          ],
          [
           0.40301145291167134,
           0.12154358852965173
          ],
          [
           0.4088059432220175,
           0.13670508146040758
          ],
          [
           0.4088059432220175,
           0.13670508146040758
          ],
          [
           0.41613809945785446,
           0.19557473406649611
          ],
          [
           0.41613809945785446,
           0.19557473406649611
          ],
          [
           0.41756108653158447,
           0.4243626922839311
          ],
          [
           0.41756108653158447,
           0.4243626922839311
          ],
          [
           0.4205604684402498,
           0.3221616678123626
          ],
          [
           0.4205604684402498,
           0.3221616678123626
          ],
          [
           0.42226189511300194,
           0.3358317637907647
          ],
          [
           0.42226189511300194,
           0.3358317637907647
          ],
          [
           0.42505192461714936,
           0.3514510661331054
          ],
          [
           0.42505192461714936,
           0.3514510661331054
          ],
          [
           0.42672724129519,
           0.25755230451959366
          ],
          [
           0.42672724129519,
           0.25755230451959366
          ],
          [
           0.42800188109768145,
           0.1911954915315493
          ],
          [
           0.42800188109768145,
           0.1911954915315493
          ],
          [
           0.4310822758021017,
           0.17881126608435904
          ],
          [
           0.4310822758021017,
           0.17881126608435904
          ],
          [
           0.431694461271513,
           0.37203938201870707
          ],
          [
           0.431694461271513,
           0.37203938201870707
          ],
          [
           0.4331333157849809,
           0.38824191007410647
          ],
          [
           0.4331333157849809,
           0.38824191007410647
          ],
          [
           0.4355715130416835,
           0.2696389378563562
          ],
          [
           0.4355715130416835,
           0.2696389378563562
          ],
          [
           0.4409288445885942,
           0.35419522048229707
          ],
          [
           0.4409288445885942,
           0.35419522048229707
          ],
          [
           0.4461867508242505,
           0.20832849616138044
          ],
          [
           0.4461867508242505,
           0.20832849616138044
          ],
          [
           0.447016405304735,
           0.43258046872285233
          ],
          [
           0.447016405304735,
           0.43258046872285233
          ],
          [
           0.4506193588620065,
           0.4247548099755956
          ],
          [
           0.4506193588620065,
           0.4247548099755956
          ],
          [
           0.45447357815111716,
           0.10871595253730976
          ],
          [
           0.45447357815111716,
           0.10871595253730976
          ],
          [
           0.45644572546205764,
           0.28133574490497754
          ],
          [
           0.45644572546205764,
           0.28133574490497754
          ],
          [
           0.4584519417062186,
           0.2349347354748413
          ],
          [
           0.4584519417062186,
           0.2349347354748413
          ],
          [
           0.4695244106695983,
           0.4746893391791415
          ],
          [
           0.4695244106695983,
           0.4746893391791415
          ],
          [
           0.47615414334592676,
           0.42324022835657
          ],
          [
           0.47615414334592676,
           0.42324022835657
          ],
          [
           0.4782193363308726,
           0.4710486088255654
          ],
          [
           0.4782193363308726,
           0.4710486088255654
          ],
          [
           0.4784988635336734,
           0.2496240918560483
          ],
          [
           0.4784988635336734,
           0.2496240918560483
          ],
          [
           0.4834856889876982,
           0.39419807589249795
          ],
          [
           0.4834856889876982,
           0.39419807589249795
          ],
          [
           0.4857428513373288,
           0.09148966103230222
          ],
          [
           0.4857428513373288,
           0.09148966103230222
          ],
          [
           0.5069822258488343,
           0.5747900145250345
          ],
          [
           0.5069822258488343,
           0.5747900145250345
          ],
          [
           0.5131887870470552,
           0.41923860929415424
          ],
          [
           0.5131887870470552,
           0.41923860929415424
          ],
          [
           0.520178364884902,
           0.3921617750774388
          ],
          [
           0.520178364884902,
           0.3921617750774388
          ],
          [
           0.5213467471305225,
           0.3496441225771357
          ],
          [
           0.5213467471305225,
           0.3496441225771357
          ],
          [
           0.52727624834012,
           0.16742076041959206
          ],
          [
           0.52727624834012,
           0.16742076041959206
          ],
          [
           0.5438259202823386,
           0.49366875197825055
          ],
          [
           0.5438259202823386,
           0.49366875197825055
          ],
          [
           0.5968294467664406,
           0.3326654430542861
          ],
          [
           0.5968294467664406,
           0.3326654430542861
          ],
          [
           0.6566567873531298,
           0.581758462350933
          ],
          [
           0.6566567873531298,
           0.581758462350933
          ],
          [
           0.6741694261234968,
           0.40018769392588505
          ],
          [
           0.6741694261234968,
           0.40018769392588505
          ],
          [
           0.7222805526803416,
           0.6219240259705278
          ],
          [
           0.7222805526803416,
           0.6219240259705278
          ],
          [
           0.7526993515396088,
           0.475079395025939
          ],
          [
           0.7526993515396088,
           0.475079395025939
          ],
          [
           0.9976390236221183,
           0.9537014019515108
          ],
          [
           0.9976390236221183,
           0.9537014019515108
          ]
         ],
         "type": "scatter",
         "x": [
          0.08001061090657817,
          0.08001061090657817,
          0.3474562628592354,
          0.3474562628592354,
          0.15767469285647331,
          0.15767469285647331,
          0.32092976167331444,
          0.32092976167331444,
          0.42727876656792146,
          0.42727876656792146,
          0.15517497270332287,
          0.15517497270332287,
          0.11673302898429583,
          0.11673302898429583,
          0.22124790769163552,
          0.22124790769163552,
          0.1860373006161166,
          0.1860373006161166,
          0.20452861360854718,
          0.20452861360854718,
          0.3833634255238285,
          0.3833634255238285,
          0.08775161692054714,
          0.08775161692054714,
          0.0943873576769324,
          0.0943873576769324,
          0.433458179110218,
          0.433458179110218,
          0.13417315910880576,
          0.13417315910880576,
          0.06922822279076693,
          0.06922822279076693,
          0.23740753999515693,
          0.23740753999515693,
          0.17062070917150715,
          0.17062070917150715,
          0.31720242579234775,
          0.31720242579234775,
          0.3333833428267058,
          0.3333833428267058,
          0.3455376235784703,
          0.3455376235784703,
          0.4118584243694211,
          0.4118584243694211,
          0.12154358852965173,
          0.12154358852965173,
          0.13670508146040758,
          0.13670508146040758,
          0.19557473406649611,
          0.19557473406649611,
          0.4243626922839311,
          0.4243626922839311,
          0.3221616678123626,
          0.3221616678123626,
          0.3358317637907647,
          0.3358317637907647,
          0.3514510661331054,
          0.3514510661331054,
          0.25755230451959366,
          0.25755230451959366,
          0.1911954915315493,
          0.1911954915315493,
          0.17881126608435904,
          0.17881126608435904,
          0.37203938201870707,
          0.37203938201870707,
          0.38824191007410647,
          0.38824191007410647,
          0.2696389378563562,
          0.2696389378563562,
          0.35419522048229707,
          0.35419522048229707,
          0.20832849616138044,
          0.20832849616138044,
          0.43258046872285233,
          0.43258046872285233,
          0.4247548099755956,
          0.4247548099755956,
          0.10871595253730976,
          0.10871595253730976,
          0.28133574490497754,
          0.28133574490497754,
          0.2349347354748413,
          0.2349347354748413,
          0.4746893391791415,
          0.4746893391791415,
          0.42324022835657,
          0.42324022835657,
          0.4710486088255654,
          0.4710486088255654,
          0.2496240918560483,
          0.2496240918560483,
          0.39419807589249795,
          0.39419807589249795,
          0.09148966103230222,
          0.09148966103230222,
          0.5747900145250345,
          0.5747900145250345,
          0.41923860929415424,
          0.41923860929415424,
          0.3921617750774388,
          0.3921617750774388,
          0.3496441225771357,
          0.3496441225771357,
          0.16742076041959206,
          0.16742076041959206,
          0.49366875197825055,
          0.49366875197825055,
          0.3326654430542861,
          0.3326654430542861,
          0.581758462350933,
          0.581758462350933,
          0.40018769392588505,
          0.40018769392588505,
          0.6219240259705278,
          0.6219240259705278,
          0.475079395025939,
          0.475079395025939,
          0.9537014019515108,
          0.9537014019515108
         ],
         "y": [
          "supplement_gain",
          "supplement_gain",
          "ingredi_list",
          "ingredi_list",
          "stuck_vinegar",
          "stuck_vinegar",
          "china_kidney",
          "china_kidney",
          "cheddar_puff",
          "cheddar_puff",
          "design_specif",
          "design_specif",
          "yeast_medicin",
          "yeast_medicin",
          "lab_usa",
          "lab_usa",
          "ran_dairi",
          "ran_dairi",
          "hes_son",
          "hes_son",
          "salt_sea",
          "salt_sea",
          "center_liquid",
          "center_liquid",
          "emerg_die",
          "emerg_die",
          "kcup_keurig",
          "kcup_keurig",
          "handl_late",
          "handl_late",
          "filter_onto",
          "filter_onto",
          "leak_mess",
          "leak_mess",
          "birthday_parti",
          "birthday_parti",
          "symptom_cramp",
          "symptom_cramp",
          "adopt_shes",
          "adopt_shes",
          "potato_chip",
          "potato_chip",
          "began_scienc",
          "began_scienc",
          "berri_smoothi",
          "berri_smoothi",
          "websit_word",
          "websit_word",
          "superior_agav",
          "superior_agav",
          "pocket_pill",
          "pocket_pill",
          "pain_intestin",
          "pain_intestin",
          "cream_ice",
          "cream_ice",
          "golden_werent",
          "golden_werent",
          "trap_accord",
          "trap_accord",
          "cancer_anim",
          "cancer_anim",
          "crack_mail",
          "crack_mail",
          "scienc_diet",
          "scienc_diet",
          "gluten_free",
          "gluten_free",
          "stool_slowli",
          "stool_slowli",
          "brewer_timothi",
          "brewer_timothi",
          "mixtur_raisin",
          "mixtur_raisin",
          "subscrib_save",
          "subscrib_save",
          "diseas_celiac",
          "diseas_celiac",
          "toler_gain",
          "toler_gain",
          "apart_fall",
          "apart_fall",
          "meet_luck",
          "meet_luck",
          "crust_pizza",
          "crust_pizza",
          "store_groceri",
          "store_groceri",
          "hydrogen_partial",
          "hydrogen_partial",
          "agav_prompt",
          "agav_prompt",
          "custom_servic",
          "custom_servic",
          "percent_fructos",
          "percent_fructos",
          "expir_date",
          "expir_date",
          "money_wast",
          "money_wast",
          "basket_gift",
          "basket_gift",
          "bulli_stick",
          "bulli_stick",
          "chop_pork",
          "chop_pork",
          "butter_peanut",
          "butter_peanut",
          "trap_mebr",
          "trap_mebr",
          "scienc_evo",
          "scienc_evo",
          "link_jack",
          "link_jack",
          "bewar_buyer",
          "bewar_buyer",
          "beer_root",
          "beer_root",
          "earl_grey",
          "earl_grey"
         ]
        }
       ],
       "layout": {
        "template": {
         "data": {
          "bar": [
           {
            "error_x": {
             "color": "#2a3f5f"
            },
            "error_y": {
             "color": "#2a3f5f"
            },
            "marker": {
             "line": {
              "color": "#E5ECF6",
              "width": 0.5
             },
             "pattern": {
              "fillmode": "overlay",
              "size": 10,
              "solidity": 0.2
             }
            },
            "type": "bar"
           }
          ],
          "barpolar": [
           {
            "marker": {
             "line": {
              "color": "#E5ECF6",
              "width": 0.5
             },
             "pattern": {
              "fillmode": "overlay",
              "size": 10,
              "solidity": 0.2
             }
            },
            "type": "barpolar"
           }
          ],
          "carpet": [
           {
            "aaxis": {
             "endlinecolor": "#2a3f5f",
             "gridcolor": "white",
             "linecolor": "white",
             "minorgridcolor": "white",
             "startlinecolor": "#2a3f5f"
            },
            "baxis": {
             "endlinecolor": "#2a3f5f",
             "gridcolor": "white",
             "linecolor": "white",
             "minorgridcolor": "white",
             "startlinecolor": "#2a3f5f"
            },
            "type": "carpet"
           }
          ],
          "choropleth": [
           {
            "colorbar": {
             "outlinewidth": 0,
             "ticks": ""
            },
            "type": "choropleth"
           }
          ],
          "contour": [
           {
            "colorbar": {
             "outlinewidth": 0,
             "ticks": ""
            },
            "colorscale": [
             [
              0,
              "#0d0887"
             ],
             [
              0.1111111111111111,
              "#46039f"
             ],
             [
              0.2222222222222222,
              "#7201a8"
             ],
             [
              0.3333333333333333,
              "#9c179e"
             ],
             [
              0.4444444444444444,
              "#bd3786"
             ],
             [
              0.5555555555555556,
              "#d8576b"
             ],
             [
              0.6666666666666666,
              "#ed7953"
             ],
             [
              0.7777777777777778,
              "#fb9f3a"
             ],
             [
              0.8888888888888888,
              "#fdca26"
             ],
             [
              1,
              "#f0f921"
             ]
            ],
            "type": "contour"
           }
          ],
          "contourcarpet": [
           {
            "colorbar": {
             "outlinewidth": 0,
             "ticks": ""
            },
            "type": "contourcarpet"
           }
          ],
          "heatmap": [
           {
            "colorbar": {
             "outlinewidth": 0,
             "ticks": ""
            },
            "colorscale": [
             [
              0,
              "#0d0887"
             ],
             [
              0.1111111111111111,
              "#46039f"
             ],
             [
              0.2222222222222222,
              "#7201a8"
             ],
             [
              0.3333333333333333,
              "#9c179e"
             ],
             [
              0.4444444444444444,
              "#bd3786"
             ],
             [
              0.5555555555555556,
              "#d8576b"
             ],
             [
              0.6666666666666666,
              "#ed7953"
             ],
             [
              0.7777777777777778,
              "#fb9f3a"
             ],
             [
              0.8888888888888888,
              "#fdca26"
             ],
             [
              1,
              "#f0f921"
             ]
            ],
            "type": "heatmap"
           }
          ],
          "heatmapgl": [
           {
            "colorbar": {
             "outlinewidth": 0,
             "ticks": ""
            },
            "colorscale": [
             [
              0,
              "#0d0887"
             ],
             [
              0.1111111111111111,
              "#46039f"
             ],
             [
              0.2222222222222222,
              "#7201a8"
             ],
             [
              0.3333333333333333,
              "#9c179e"
             ],
             [
              0.4444444444444444,
              "#bd3786"
             ],
             [
              0.5555555555555556,
              "#d8576b"
             ],
             [
              0.6666666666666666,
              "#ed7953"
             ],
             [
              0.7777777777777778,
              "#fb9f3a"
             ],
             [
              0.8888888888888888,
              "#fdca26"
             ],
             [
              1,
              "#f0f921"
             ]
            ],
            "type": "heatmapgl"
           }
          ],
          "histogram": [
           {
            "marker": {
             "pattern": {
              "fillmode": "overlay",
              "size": 10,
              "solidity": 0.2
             }
            },
            "type": "histogram"
           }
          ],
          "histogram2d": [
           {
            "colorbar": {
             "outlinewidth": 0,
             "ticks": ""
            },
            "colorscale": [
             [
              0,
              "#0d0887"
             ],
             [
              0.1111111111111111,
              "#46039f"
             ],
             [
              0.2222222222222222,
              "#7201a8"
             ],
             [
              0.3333333333333333,
              "#9c179e"
             ],
             [
              0.4444444444444444,
              "#bd3786"
             ],
             [
              0.5555555555555556,
              "#d8576b"
             ],
             [
              0.6666666666666666,
              "#ed7953"
             ],
             [
              0.7777777777777778,
              "#fb9f3a"
             ],
             [
              0.8888888888888888,
              "#fdca26"
             ],
             [
              1,
              "#f0f921"
             ]
            ],
            "type": "histogram2d"
           }
          ],
          "histogram2dcontour": [
           {
            "colorbar": {
             "outlinewidth": 0,
             "ticks": ""
            },
            "colorscale": [
             [
              0,
              "#0d0887"
             ],
             [
              0.1111111111111111,
              "#46039f"
             ],
             [
              0.2222222222222222,
              "#7201a8"
             ],
             [
              0.3333333333333333,
              "#9c179e"
             ],
             [
              0.4444444444444444,
              "#bd3786"
             ],
             [
              0.5555555555555556,
              "#d8576b"
             ],
             [
              0.6666666666666666,
              "#ed7953"
             ],
             [
              0.7777777777777778,
              "#fb9f3a"
             ],
             [
              0.8888888888888888,
              "#fdca26"
             ],
             [
              1,
              "#f0f921"
             ]
            ],
            "type": "histogram2dcontour"
           }
          ],
          "mesh3d": [
           {
            "colorbar": {
             "outlinewidth": 0,
             "ticks": ""
            },
            "type": "mesh3d"
           }
          ],
          "parcoords": [
           {
            "line": {
             "colorbar": {
              "outlinewidth": 0,
              "ticks": ""
             }
            },
            "type": "parcoords"
           }
          ],
          "pie": [
           {
            "automargin": true,
            "type": "pie"
           }
          ],
          "scatter": [
           {
            "marker": {
             "colorbar": {
              "outlinewidth": 0,
              "ticks": ""
             }
            },
            "type": "scatter"
           }
          ],
          "scatter3d": [
           {
            "line": {
             "colorbar": {
              "outlinewidth": 0,
              "ticks": ""
             }
            },
            "marker": {
             "colorbar": {
              "outlinewidth": 0,
              "ticks": ""
             }
            },
            "type": "scatter3d"
           }
          ],
          "scattercarpet": [
           {
            "marker": {
             "colorbar": {
              "outlinewidth": 0,
              "ticks": ""
             }
            },
            "type": "scattercarpet"
           }
          ],
          "scattergeo": [
           {
            "marker": {
             "colorbar": {
              "outlinewidth": 0,
              "ticks": ""
             }
            },
            "type": "scattergeo"
           }
          ],
          "scattergl": [
           {
            "marker": {
             "colorbar": {
              "outlinewidth": 0,
              "ticks": ""
             }
            },
            "type": "scattergl"
           }
          ],
          "scattermapbox": [
           {
            "marker": {
             "colorbar": {
              "outlinewidth": 0,
              "ticks": ""
             }
            },
            "type": "scattermapbox"
           }
          ],
          "scatterpolar": [
           {
            "marker": {
             "colorbar": {
              "outlinewidth": 0,
              "ticks": ""
             }
            },
            "type": "scatterpolar"
           }
          ],
          "scatterpolargl": [
           {
            "marker": {
             "colorbar": {
              "outlinewidth": 0,
              "ticks": ""
             }
            },
            "type": "scatterpolargl"
           }
          ],
          "scatterternary": [
           {
            "marker": {
             "colorbar": {
              "outlinewidth": 0,
              "ticks": ""
             }
            },
            "type": "scatterternary"
           }
          ],
          "surface": [
           {
            "colorbar": {
             "outlinewidth": 0,
             "ticks": ""
            },
            "colorscale": [
             [
              0,
              "#0d0887"
             ],
             [
              0.1111111111111111,
              "#46039f"
             ],
             [
              0.2222222222222222,
              "#7201a8"
             ],
             [
              0.3333333333333333,
              "#9c179e"
             ],
             [
              0.4444444444444444,
              "#bd3786"
             ],
             [
              0.5555555555555556,
              "#d8576b"
             ],
             [
              0.6666666666666666,
              "#ed7953"
             ],
             [
              0.7777777777777778,
              "#fb9f3a"
             ],
             [
              0.8888888888888888,
              "#fdca26"
             ],
             [
              1,
              "#f0f921"
             ]
            ],
            "type": "surface"
           }
          ],
          "table": [
           {
            "cells": {
             "fill": {
              "color": "#EBF0F8"
             },
             "line": {
              "color": "white"
             }
            },
            "header": {
             "fill": {
              "color": "#C8D4E3"
             },
             "line": {
              "color": "white"
             }
            },
            "type": "table"
           }
          ]
         },
         "layout": {
          "annotationdefaults": {
           "arrowcolor": "#2a3f5f",
           "arrowhead": 0,
           "arrowwidth": 1
          },
          "autotypenumbers": "strict",
          "coloraxis": {
           "colorbar": {
            "outlinewidth": 0,
            "ticks": ""
           }
          },
          "colorscale": {
           "diverging": [
            [
             0,
             "#8e0152"
            ],
            [
             0.1,
             "#c51b7d"
            ],
            [
             0.2,
             "#de77ae"
            ],
            [
             0.3,
             "#f1b6da"
            ],
            [
             0.4,
             "#fde0ef"
            ],
            [
             0.5,
             "#f7f7f7"
            ],
            [
             0.6,
             "#e6f5d0"
            ],
            [
             0.7,
             "#b8e186"
            ],
            [
             0.8,
             "#7fbc41"
            ],
            [
             0.9,
             "#4d9221"
            ],
            [
             1,
             "#276419"
            ]
           ],
           "sequential": [
            [
             0,
             "#0d0887"
            ],
            [
             0.1111111111111111,
             "#46039f"
            ],
            [
             0.2222222222222222,
             "#7201a8"
            ],
            [
             0.3333333333333333,
             "#9c179e"
            ],
            [
             0.4444444444444444,
             "#bd3786"
            ],
            [
             0.5555555555555556,
             "#d8576b"
            ],
            [
             0.6666666666666666,
             "#ed7953"
            ],
            [
             0.7777777777777778,
             "#fb9f3a"
            ],
            [
             0.8888888888888888,
             "#fdca26"
            ],
            [
             1,
             "#f0f921"
            ]
           ],
           "sequentialminus": [
            [
             0,
             "#0d0887"
            ],
            [
             0.1111111111111111,
             "#46039f"
            ],
            [
             0.2222222222222222,
             "#7201a8"
            ],
            [
             0.3333333333333333,
             "#9c179e"
            ],
            [
             0.4444444444444444,
             "#bd3786"
            ],
            [
             0.5555555555555556,
             "#d8576b"
            ],
            [
             0.6666666666666666,
             "#ed7953"
            ],
            [
             0.7777777777777778,
             "#fb9f3a"
            ],
            [
             0.8888888888888888,
             "#fdca26"
            ],
            [
             1,
             "#f0f921"
            ]
           ]
          },
          "colorway": [
           "#636efa",
           "#EF553B",
           "#00cc96",
           "#ab63fa",
           "#FFA15A",
           "#19d3f3",
           "#FF6692",
           "#B6E880",
           "#FF97FF",
           "#FECB52"
          ],
          "font": {
           "color": "#2a3f5f"
          },
          "geo": {
           "bgcolor": "white",
           "lakecolor": "white",
           "landcolor": "#E5ECF6",
           "showlakes": true,
           "showland": true,
           "subunitcolor": "white"
          },
          "hoverlabel": {
           "align": "left"
          },
          "hovermode": "closest",
          "mapbox": {
           "style": "light"
          },
          "paper_bgcolor": "white",
          "plot_bgcolor": "#E5ECF6",
          "polar": {
           "angularaxis": {
            "gridcolor": "white",
            "linecolor": "white",
            "ticks": ""
           },
           "bgcolor": "#E5ECF6",
           "radialaxis": {
            "gridcolor": "white",
            "linecolor": "white",
            "ticks": ""
           }
          },
          "scene": {
           "xaxis": {
            "backgroundcolor": "#E5ECF6",
            "gridcolor": "white",
            "gridwidth": 2,
            "linecolor": "white",
            "showbackground": true,
            "ticks": "",
            "zerolinecolor": "white"
           },
           "yaxis": {
            "backgroundcolor": "#E5ECF6",
            "gridcolor": "white",
            "gridwidth": 2,
            "linecolor": "white",
            "showbackground": true,
            "ticks": "",
            "zerolinecolor": "white"
           },
           "zaxis": {
            "backgroundcolor": "#E5ECF6",
            "gridcolor": "white",
            "gridwidth": 2,
            "linecolor": "white",
            "showbackground": true,
            "ticks": "",
            "zerolinecolor": "white"
           }
          },
          "shapedefaults": {
           "line": {
            "color": "#2a3f5f"
           }
          },
          "ternary": {
           "aaxis": {
            "gridcolor": "white",
            "linecolor": "white",
            "ticks": ""
           },
           "baxis": {
            "gridcolor": "white",
            "linecolor": "white",
            "ticks": ""
           },
           "bgcolor": "#E5ECF6",
           "caxis": {
            "gridcolor": "white",
            "linecolor": "white",
            "ticks": ""
           }
          },
          "title": {
           "x": 0.05
          },
          "xaxis": {
           "automargin": true,
           "gridcolor": "white",
           "linecolor": "white",
           "ticks": "",
           "title": {
            "standoff": 15
           },
           "zerolinecolor": "white",
           "zerolinewidth": 2
          },
          "yaxis": {
           "automargin": true,
           "gridcolor": "white",
           "linecolor": "white",
           "ticks": "",
           "title": {
            "standoff": 15
           },
           "zerolinecolor": "white",
           "zerolinewidth": 2
          }
         }
        }
       }
      },
      "text/html": [
       "<div>                            <div id=\"d9615047-b022-4f1e-b9d3-17b4228ff1f5\" class=\"plotly-graph-div\" style=\"height:525px; width:100%;\"></div>            <script type=\"text/javascript\">                require([\"plotly\"], function(Plotly) {                    window.PLOTLYENV=window.PLOTLYENV || {};                                    if (document.getElementById(\"d9615047-b022-4f1e-b9d3-17b4228ff1f5\")) {                    Plotly.newPlot(                        \"d9615047-b022-4f1e-b9d3-17b4228ff1f5\",                        [{\"mode\":\"markers\",\"name\":\"pearson\",\"text\":[[0.36689158549568995,0.08001061090657817],[0.36689158549568995,0.08001061090657817],[0.36734576029119836,0.3474562628592354],[0.36734576029119836,0.3474562628592354],[0.3698924284593915,0.15767469285647331],[0.3698924284593915,0.15767469285647331],[0.37011836090757205,0.32092976167331444],[0.37011836090757205,0.32092976167331444],[0.37302622520354634,0.42727876656792146],[0.37302622520354634,0.42727876656792146],[0.37667041101943544,0.15517497270332287],[0.37667041101943544,0.15517497270332287],[0.37931735221297314,0.11673302898429583],[0.37931735221297314,0.11673302898429583],[0.380366164271969,0.22124790769163552],[0.380366164271969,0.22124790769163552],[0.3806937434174051,0.1860373006161166],[0.3806937434174051,0.1860373006161166],[0.38536211748050336,0.20452861360854718],[0.38536211748050336,0.20452861360854718],[0.3863481016137933,0.3833634255238285],[0.3863481016137933,0.3833634255238285],[0.38761506770880705,0.08775161692054714],[0.38761506770880705,0.08775161692054714],[0.38777112078935866,0.0943873576769324],[0.38777112078935866,0.0943873576769324],[0.3878387410818026,0.433458179110218],[0.3878387410818026,0.433458179110218],[0.3895895733448138,0.13417315910880576],[0.3895895733448138,0.13417315910880576],[0.39007789713029317,0.06922822279076693],[0.39007789713029317,0.06922822279076693],[0.3902457298190173,0.23740753999515693],[0.3902457298190173,0.23740753999515693],[0.3947426814065616,0.17062070917150715],[0.3947426814065616,0.17062070917150715],[0.3947807769510538,0.31720242579234775],[0.3947807769510538,0.31720242579234775],[0.3984100142442437,0.3333833428267058],[0.3984100142442437,0.3333833428267058],[0.39899564656638764,0.3455376235784703],[0.39899564656638764,0.3455376235784703],[0.4005618270362359,0.4118584243694211],[0.4005618270362359,0.4118584243694211],[0.40301145291167134,0.12154358852965173],[0.40301145291167134,0.12154358852965173],[0.4088059432220175,0.13670508146040758],[0.4088059432220175,0.13670508146040758],[0.41613809945785446,0.19557473406649611],[0.41613809945785446,0.19557473406649611],[0.41756108653158447,0.4243626922839311],[0.41756108653158447,0.4243626922839311],[0.4205604684402498,0.3221616678123626],[0.4205604684402498,0.3221616678123626],[0.42226189511300194,0.3358317637907647],[0.42226189511300194,0.3358317637907647],[0.42505192461714936,0.3514510661331054],[0.42505192461714936,0.3514510661331054],[0.42672724129519,0.25755230451959366],[0.42672724129519,0.25755230451959366],[0.42800188109768145,0.1911954915315493],[0.42800188109768145,0.1911954915315493],[0.4310822758021017,0.17881126608435904],[0.4310822758021017,0.17881126608435904],[0.431694461271513,0.37203938201870707],[0.431694461271513,0.37203938201870707],[0.4331333157849809,0.38824191007410647],[0.4331333157849809,0.38824191007410647],[0.4355715130416835,0.2696389378563562],[0.4355715130416835,0.2696389378563562],[0.4409288445885942,0.35419522048229707],[0.4409288445885942,0.35419522048229707],[0.4461867508242505,0.20832849616138044],[0.4461867508242505,0.20832849616138044],[0.447016405304735,0.43258046872285233],[0.447016405304735,0.43258046872285233],[0.4506193588620065,0.4247548099755956],[0.4506193588620065,0.4247548099755956],[0.45447357815111716,0.10871595253730976],[0.45447357815111716,0.10871595253730976],[0.45644572546205764,0.28133574490497754],[0.45644572546205764,0.28133574490497754],[0.4584519417062186,0.2349347354748413],[0.4584519417062186,0.2349347354748413],[0.4695244106695983,0.4746893391791415],[0.4695244106695983,0.4746893391791415],[0.47615414334592676,0.42324022835657],[0.47615414334592676,0.42324022835657],[0.4782193363308726,0.4710486088255654],[0.4782193363308726,0.4710486088255654],[0.4784988635336734,0.2496240918560483],[0.4784988635336734,0.2496240918560483],[0.4834856889876982,0.39419807589249795],[0.4834856889876982,0.39419807589249795],[0.4857428513373288,0.09148966103230222],[0.4857428513373288,0.09148966103230222],[0.5069822258488343,0.5747900145250345],[0.5069822258488343,0.5747900145250345],[0.5131887870470552,0.41923860929415424],[0.5131887870470552,0.41923860929415424],[0.520178364884902,0.3921617750774388],[0.520178364884902,0.3921617750774388],[0.5213467471305225,0.3496441225771357],[0.5213467471305225,0.3496441225771357],[0.52727624834012,0.16742076041959206],[0.52727624834012,0.16742076041959206],[0.5438259202823386,0.49366875197825055],[0.5438259202823386,0.49366875197825055],[0.5968294467664406,0.3326654430542861],[0.5968294467664406,0.3326654430542861],[0.6566567873531298,0.581758462350933],[0.6566567873531298,0.581758462350933],[0.6741694261234968,0.40018769392588505],[0.6741694261234968,0.40018769392588505],[0.7222805526803416,0.6219240259705278],[0.7222805526803416,0.6219240259705278],[0.7526993515396088,0.475079395025939],[0.7526993515396088,0.475079395025939],[0.9976390236221183,0.9537014019515108],[0.9976390236221183,0.9537014019515108]],\"x\":[0.36689158549568995,0.36689158549568995,0.36734576029119836,0.36734576029119836,0.3698924284593915,0.3698924284593915,0.37011836090757205,0.37011836090757205,0.37302622520354634,0.37302622520354634,0.37667041101943544,0.37667041101943544,0.37931735221297314,0.37931735221297314,0.380366164271969,0.380366164271969,0.3806937434174051,0.3806937434174051,0.38536211748050336,0.38536211748050336,0.3863481016137933,0.3863481016137933,0.38761506770880705,0.38761506770880705,0.38777112078935866,0.38777112078935866,0.3878387410818026,0.3878387410818026,0.3895895733448138,0.3895895733448138,0.39007789713029317,0.39007789713029317,0.3902457298190173,0.3902457298190173,0.3947426814065616,0.3947426814065616,0.3947807769510538,0.3947807769510538,0.3984100142442437,0.3984100142442437,0.39899564656638764,0.39899564656638764,0.4005618270362359,0.4005618270362359,0.40301145291167134,0.40301145291167134,0.4088059432220175,0.4088059432220175,0.41613809945785446,0.41613809945785446,0.41756108653158447,0.41756108653158447,0.4205604684402498,0.4205604684402498,0.42226189511300194,0.42226189511300194,0.42505192461714936,0.42505192461714936,0.42672724129519,0.42672724129519,0.42800188109768145,0.42800188109768145,0.4310822758021017,0.4310822758021017,0.431694461271513,0.431694461271513,0.4331333157849809,0.4331333157849809,0.4355715130416835,0.4355715130416835,0.4409288445885942,0.4409288445885942,0.4461867508242505,0.4461867508242505,0.447016405304735,0.447016405304735,0.4506193588620065,0.4506193588620065,0.45447357815111716,0.45447357815111716,0.45644572546205764,0.45644572546205764,0.4584519417062186,0.4584519417062186,0.4695244106695983,0.4695244106695983,0.47615414334592676,0.47615414334592676,0.4782193363308726,0.4782193363308726,0.4784988635336734,0.4784988635336734,0.4834856889876982,0.4834856889876982,0.4857428513373288,0.4857428513373288,0.5069822258488343,0.5069822258488343,0.5131887870470552,0.5131887870470552,0.520178364884902,0.520178364884902,0.5213467471305225,0.5213467471305225,0.52727624834012,0.52727624834012,0.5438259202823386,0.5438259202823386,0.5968294467664406,0.5968294467664406,0.6566567873531298,0.6566567873531298,0.6741694261234968,0.6741694261234968,0.7222805526803416,0.7222805526803416,0.7526993515396088,0.7526993515396088,0.9976390236221183,0.9976390236221183],\"y\":[\"supplement_gain\",\"supplement_gain\",\"ingredi_list\",\"ingredi_list\",\"stuck_vinegar\",\"stuck_vinegar\",\"china_kidney\",\"china_kidney\",\"cheddar_puff\",\"cheddar_puff\",\"design_specif\",\"design_specif\",\"yeast_medicin\",\"yeast_medicin\",\"lab_usa\",\"lab_usa\",\"ran_dairi\",\"ran_dairi\",\"hes_son\",\"hes_son\",\"salt_sea\",\"salt_sea\",\"center_liquid\",\"center_liquid\",\"emerg_die\",\"emerg_die\",\"kcup_keurig\",\"kcup_keurig\",\"handl_late\",\"handl_late\",\"filter_onto\",\"filter_onto\",\"leak_mess\",\"leak_mess\",\"birthday_parti\",\"birthday_parti\",\"symptom_cramp\",\"symptom_cramp\",\"adopt_shes\",\"adopt_shes\",\"potato_chip\",\"potato_chip\",\"began_scienc\",\"began_scienc\",\"berri_smoothi\",\"berri_smoothi\",\"websit_word\",\"websit_word\",\"superior_agav\",\"superior_agav\",\"pocket_pill\",\"pocket_pill\",\"pain_intestin\",\"pain_intestin\",\"cream_ice\",\"cream_ice\",\"golden_werent\",\"golden_werent\",\"trap_accord\",\"trap_accord\",\"cancer_anim\",\"cancer_anim\",\"crack_mail\",\"crack_mail\",\"scienc_diet\",\"scienc_diet\",\"gluten_free\",\"gluten_free\",\"stool_slowli\",\"stool_slowli\",\"brewer_timothi\",\"brewer_timothi\",\"mixtur_raisin\",\"mixtur_raisin\",\"subscrib_save\",\"subscrib_save\",\"diseas_celiac\",\"diseas_celiac\",\"toler_gain\",\"toler_gain\",\"apart_fall\",\"apart_fall\",\"meet_luck\",\"meet_luck\",\"crust_pizza\",\"crust_pizza\",\"store_groceri\",\"store_groceri\",\"hydrogen_partial\",\"hydrogen_partial\",\"agav_prompt\",\"agav_prompt\",\"custom_servic\",\"custom_servic\",\"percent_fructos\",\"percent_fructos\",\"expir_date\",\"expir_date\",\"money_wast\",\"money_wast\",\"basket_gift\",\"basket_gift\",\"bulli_stick\",\"bulli_stick\",\"chop_pork\",\"chop_pork\",\"butter_peanut\",\"butter_peanut\",\"trap_mebr\",\"trap_mebr\",\"scienc_evo\",\"scienc_evo\",\"link_jack\",\"link_jack\",\"bewar_buyer\",\"bewar_buyer\",\"beer_root\",\"beer_root\",\"earl_grey\",\"earl_grey\"],\"type\":\"scatter\"},{\"mode\":\"markers\",\"name\":\"spearman\",\"text\":[[0.36689158549568995,0.08001061090657817],[0.36689158549568995,0.08001061090657817],[0.36734576029119836,0.3474562628592354],[0.36734576029119836,0.3474562628592354],[0.3698924284593915,0.15767469285647331],[0.3698924284593915,0.15767469285647331],[0.37011836090757205,0.32092976167331444],[0.37011836090757205,0.32092976167331444],[0.37302622520354634,0.42727876656792146],[0.37302622520354634,0.42727876656792146],[0.37667041101943544,0.15517497270332287],[0.37667041101943544,0.15517497270332287],[0.37931735221297314,0.11673302898429583],[0.37931735221297314,0.11673302898429583],[0.380366164271969,0.22124790769163552],[0.380366164271969,0.22124790769163552],[0.3806937434174051,0.1860373006161166],[0.3806937434174051,0.1860373006161166],[0.38536211748050336,0.20452861360854718],[0.38536211748050336,0.20452861360854718],[0.3863481016137933,0.3833634255238285],[0.3863481016137933,0.3833634255238285],[0.38761506770880705,0.08775161692054714],[0.38761506770880705,0.08775161692054714],[0.38777112078935866,0.0943873576769324],[0.38777112078935866,0.0943873576769324],[0.3878387410818026,0.433458179110218],[0.3878387410818026,0.433458179110218],[0.3895895733448138,0.13417315910880576],[0.3895895733448138,0.13417315910880576],[0.39007789713029317,0.06922822279076693],[0.39007789713029317,0.06922822279076693],[0.3902457298190173,0.23740753999515693],[0.3902457298190173,0.23740753999515693],[0.3947426814065616,0.17062070917150715],[0.3947426814065616,0.17062070917150715],[0.3947807769510538,0.31720242579234775],[0.3947807769510538,0.31720242579234775],[0.3984100142442437,0.3333833428267058],[0.3984100142442437,0.3333833428267058],[0.39899564656638764,0.3455376235784703],[0.39899564656638764,0.3455376235784703],[0.4005618270362359,0.4118584243694211],[0.4005618270362359,0.4118584243694211],[0.40301145291167134,0.12154358852965173],[0.40301145291167134,0.12154358852965173],[0.4088059432220175,0.13670508146040758],[0.4088059432220175,0.13670508146040758],[0.41613809945785446,0.19557473406649611],[0.41613809945785446,0.19557473406649611],[0.41756108653158447,0.4243626922839311],[0.41756108653158447,0.4243626922839311],[0.4205604684402498,0.3221616678123626],[0.4205604684402498,0.3221616678123626],[0.42226189511300194,0.3358317637907647],[0.42226189511300194,0.3358317637907647],[0.42505192461714936,0.3514510661331054],[0.42505192461714936,0.3514510661331054],[0.42672724129519,0.25755230451959366],[0.42672724129519,0.25755230451959366],[0.42800188109768145,0.1911954915315493],[0.42800188109768145,0.1911954915315493],[0.4310822758021017,0.17881126608435904],[0.4310822758021017,0.17881126608435904],[0.431694461271513,0.37203938201870707],[0.431694461271513,0.37203938201870707],[0.4331333157849809,0.38824191007410647],[0.4331333157849809,0.38824191007410647],[0.4355715130416835,0.2696389378563562],[0.4355715130416835,0.2696389378563562],[0.4409288445885942,0.35419522048229707],[0.4409288445885942,0.35419522048229707],[0.4461867508242505,0.20832849616138044],[0.4461867508242505,0.20832849616138044],[0.447016405304735,0.43258046872285233],[0.447016405304735,0.43258046872285233],[0.4506193588620065,0.4247548099755956],[0.4506193588620065,0.4247548099755956],[0.45447357815111716,0.10871595253730976],[0.45447357815111716,0.10871595253730976],[0.45644572546205764,0.28133574490497754],[0.45644572546205764,0.28133574490497754],[0.4584519417062186,0.2349347354748413],[0.4584519417062186,0.2349347354748413],[0.4695244106695983,0.4746893391791415],[0.4695244106695983,0.4746893391791415],[0.47615414334592676,0.42324022835657],[0.47615414334592676,0.42324022835657],[0.4782193363308726,0.4710486088255654],[0.4782193363308726,0.4710486088255654],[0.4784988635336734,0.2496240918560483],[0.4784988635336734,0.2496240918560483],[0.4834856889876982,0.39419807589249795],[0.4834856889876982,0.39419807589249795],[0.4857428513373288,0.09148966103230222],[0.4857428513373288,0.09148966103230222],[0.5069822258488343,0.5747900145250345],[0.5069822258488343,0.5747900145250345],[0.5131887870470552,0.41923860929415424],[0.5131887870470552,0.41923860929415424],[0.520178364884902,0.3921617750774388],[0.520178364884902,0.3921617750774388],[0.5213467471305225,0.3496441225771357],[0.5213467471305225,0.3496441225771357],[0.52727624834012,0.16742076041959206],[0.52727624834012,0.16742076041959206],[0.5438259202823386,0.49366875197825055],[0.5438259202823386,0.49366875197825055],[0.5968294467664406,0.3326654430542861],[0.5968294467664406,0.3326654430542861],[0.6566567873531298,0.581758462350933],[0.6566567873531298,0.581758462350933],[0.6741694261234968,0.40018769392588505],[0.6741694261234968,0.40018769392588505],[0.7222805526803416,0.6219240259705278],[0.7222805526803416,0.6219240259705278],[0.7526993515396088,0.475079395025939],[0.7526993515396088,0.475079395025939],[0.9976390236221183,0.9537014019515108],[0.9976390236221183,0.9537014019515108]],\"x\":[0.08001061090657817,0.08001061090657817,0.3474562628592354,0.3474562628592354,0.15767469285647331,0.15767469285647331,0.32092976167331444,0.32092976167331444,0.42727876656792146,0.42727876656792146,0.15517497270332287,0.15517497270332287,0.11673302898429583,0.11673302898429583,0.22124790769163552,0.22124790769163552,0.1860373006161166,0.1860373006161166,0.20452861360854718,0.20452861360854718,0.3833634255238285,0.3833634255238285,0.08775161692054714,0.08775161692054714,0.0943873576769324,0.0943873576769324,0.433458179110218,0.433458179110218,0.13417315910880576,0.13417315910880576,0.06922822279076693,0.06922822279076693,0.23740753999515693,0.23740753999515693,0.17062070917150715,0.17062070917150715,0.31720242579234775,0.31720242579234775,0.3333833428267058,0.3333833428267058,0.3455376235784703,0.3455376235784703,0.4118584243694211,0.4118584243694211,0.12154358852965173,0.12154358852965173,0.13670508146040758,0.13670508146040758,0.19557473406649611,0.19557473406649611,0.4243626922839311,0.4243626922839311,0.3221616678123626,0.3221616678123626,0.3358317637907647,0.3358317637907647,0.3514510661331054,0.3514510661331054,0.25755230451959366,0.25755230451959366,0.1911954915315493,0.1911954915315493,0.17881126608435904,0.17881126608435904,0.37203938201870707,0.37203938201870707,0.38824191007410647,0.38824191007410647,0.2696389378563562,0.2696389378563562,0.35419522048229707,0.35419522048229707,0.20832849616138044,0.20832849616138044,0.43258046872285233,0.43258046872285233,0.4247548099755956,0.4247548099755956,0.10871595253730976,0.10871595253730976,0.28133574490497754,0.28133574490497754,0.2349347354748413,0.2349347354748413,0.4746893391791415,0.4746893391791415,0.42324022835657,0.42324022835657,0.4710486088255654,0.4710486088255654,0.2496240918560483,0.2496240918560483,0.39419807589249795,0.39419807589249795,0.09148966103230222,0.09148966103230222,0.5747900145250345,0.5747900145250345,0.41923860929415424,0.41923860929415424,0.3921617750774388,0.3921617750774388,0.3496441225771357,0.3496441225771357,0.16742076041959206,0.16742076041959206,0.49366875197825055,0.49366875197825055,0.3326654430542861,0.3326654430542861,0.581758462350933,0.581758462350933,0.40018769392588505,0.40018769392588505,0.6219240259705278,0.6219240259705278,0.475079395025939,0.475079395025939,0.9537014019515108,0.9537014019515108],\"y\":[\"supplement_gain\",\"supplement_gain\",\"ingredi_list\",\"ingredi_list\",\"stuck_vinegar\",\"stuck_vinegar\",\"china_kidney\",\"china_kidney\",\"cheddar_puff\",\"cheddar_puff\",\"design_specif\",\"design_specif\",\"yeast_medicin\",\"yeast_medicin\",\"lab_usa\",\"lab_usa\",\"ran_dairi\",\"ran_dairi\",\"hes_son\",\"hes_son\",\"salt_sea\",\"salt_sea\",\"center_liquid\",\"center_liquid\",\"emerg_die\",\"emerg_die\",\"kcup_keurig\",\"kcup_keurig\",\"handl_late\",\"handl_late\",\"filter_onto\",\"filter_onto\",\"leak_mess\",\"leak_mess\",\"birthday_parti\",\"birthday_parti\",\"symptom_cramp\",\"symptom_cramp\",\"adopt_shes\",\"adopt_shes\",\"potato_chip\",\"potato_chip\",\"began_scienc\",\"began_scienc\",\"berri_smoothi\",\"berri_smoothi\",\"websit_word\",\"websit_word\",\"superior_agav\",\"superior_agav\",\"pocket_pill\",\"pocket_pill\",\"pain_intestin\",\"pain_intestin\",\"cream_ice\",\"cream_ice\",\"golden_werent\",\"golden_werent\",\"trap_accord\",\"trap_accord\",\"cancer_anim\",\"cancer_anim\",\"crack_mail\",\"crack_mail\",\"scienc_diet\",\"scienc_diet\",\"gluten_free\",\"gluten_free\",\"stool_slowli\",\"stool_slowli\",\"brewer_timothi\",\"brewer_timothi\",\"mixtur_raisin\",\"mixtur_raisin\",\"subscrib_save\",\"subscrib_save\",\"diseas_celiac\",\"diseas_celiac\",\"toler_gain\",\"toler_gain\",\"apart_fall\",\"apart_fall\",\"meet_luck\",\"meet_luck\",\"crust_pizza\",\"crust_pizza\",\"store_groceri\",\"store_groceri\",\"hydrogen_partial\",\"hydrogen_partial\",\"agav_prompt\",\"agav_prompt\",\"custom_servic\",\"custom_servic\",\"percent_fructos\",\"percent_fructos\",\"expir_date\",\"expir_date\",\"money_wast\",\"money_wast\",\"basket_gift\",\"basket_gift\",\"bulli_stick\",\"bulli_stick\",\"chop_pork\",\"chop_pork\",\"butter_peanut\",\"butter_peanut\",\"trap_mebr\",\"trap_mebr\",\"scienc_evo\",\"scienc_evo\",\"link_jack\",\"link_jack\",\"bewar_buyer\",\"bewar_buyer\",\"beer_root\",\"beer_root\",\"earl_grey\",\"earl_grey\"],\"type\":\"scatter\"}],                        {\"template\":{\"data\":{\"bar\":[{\"error_x\":{\"color\":\"#2a3f5f\"},\"error_y\":{\"color\":\"#2a3f5f\"},\"marker\":{\"line\":{\"color\":\"#E5ECF6\",\"width\":0.5},\"pattern\":{\"fillmode\":\"overlay\",\"size\":10,\"solidity\":0.2}},\"type\":\"bar\"}],\"barpolar\":[{\"marker\":{\"line\":{\"color\":\"#E5ECF6\",\"width\":0.5},\"pattern\":{\"fillmode\":\"overlay\",\"size\":10,\"solidity\":0.2}},\"type\":\"barpolar\"}],\"carpet\":[{\"aaxis\":{\"endlinecolor\":\"#2a3f5f\",\"gridcolor\":\"white\",\"linecolor\":\"white\",\"minorgridcolor\":\"white\",\"startlinecolor\":\"#2a3f5f\"},\"baxis\":{\"endlinecolor\":\"#2a3f5f\",\"gridcolor\":\"white\",\"linecolor\":\"white\",\"minorgridcolor\":\"white\",\"startlinecolor\":\"#2a3f5f\"},\"type\":\"carpet\"}],\"choropleth\":[{\"colorbar\":{\"outlinewidth\":0,\"ticks\":\"\"},\"type\":\"choropleth\"}],\"contour\":[{\"colorbar\":{\"outlinewidth\":0,\"ticks\":\"\"},\"colorscale\":[[0.0,\"#0d0887\"],[0.1111111111111111,\"#46039f\"],[0.2222222222222222,\"#7201a8\"],[0.3333333333333333,\"#9c179e\"],[0.4444444444444444,\"#bd3786\"],[0.5555555555555556,\"#d8576b\"],[0.6666666666666666,\"#ed7953\"],[0.7777777777777778,\"#fb9f3a\"],[0.8888888888888888,\"#fdca26\"],[1.0,\"#f0f921\"]],\"type\":\"contour\"}],\"contourcarpet\":[{\"colorbar\":{\"outlinewidth\":0,\"ticks\":\"\"},\"type\":\"contourcarpet\"}],\"heatmap\":[{\"colorbar\":{\"outlinewidth\":0,\"ticks\":\"\"},\"colorscale\":[[0.0,\"#0d0887\"],[0.1111111111111111,\"#46039f\"],[0.2222222222222222,\"#7201a8\"],[0.3333333333333333,\"#9c179e\"],[0.4444444444444444,\"#bd3786\"],[0.5555555555555556,\"#d8576b\"],[0.6666666666666666,\"#ed7953\"],[0.7777777777777778,\"#fb9f3a\"],[0.8888888888888888,\"#fdca26\"],[1.0,\"#f0f921\"]],\"type\":\"heatmap\"}],\"heatmapgl\":[{\"colorbar\":{\"outlinewidth\":0,\"ticks\":\"\"},\"colorscale\":[[0.0,\"#0d0887\"],[0.1111111111111111,\"#46039f\"],[0.2222222222222222,\"#7201a8\"],[0.3333333333333333,\"#9c179e\"],[0.4444444444444444,\"#bd3786\"],[0.5555555555555556,\"#d8576b\"],[0.6666666666666666,\"#ed7953\"],[0.7777777777777778,\"#fb9f3a\"],[0.8888888888888888,\"#fdca26\"],[1.0,\"#f0f921\"]],\"type\":\"heatmapgl\"}],\"histogram\":[{\"marker\":{\"pattern\":{\"fillmode\":\"overlay\",\"size\":10,\"solidity\":0.2}},\"type\":\"histogram\"}],\"histogram2d\":[{\"colorbar\":{\"outlinewidth\":0,\"ticks\":\"\"},\"colorscale\":[[0.0,\"#0d0887\"],[0.1111111111111111,\"#46039f\"],[0.2222222222222222,\"#7201a8\"],[0.3333333333333333,\"#9c179e\"],[0.4444444444444444,\"#bd3786\"],[0.5555555555555556,\"#d8576b\"],[0.6666666666666666,\"#ed7953\"],[0.7777777777777778,\"#fb9f3a\"],[0.8888888888888888,\"#fdca26\"],[1.0,\"#f0f921\"]],\"type\":\"histogram2d\"}],\"histogram2dcontour\":[{\"colorbar\":{\"outlinewidth\":0,\"ticks\":\"\"},\"colorscale\":[[0.0,\"#0d0887\"],[0.1111111111111111,\"#46039f\"],[0.2222222222222222,\"#7201a8\"],[0.3333333333333333,\"#9c179e\"],[0.4444444444444444,\"#bd3786\"],[0.5555555555555556,\"#d8576b\"],[0.6666666666666666,\"#ed7953\"],[0.7777777777777778,\"#fb9f3a\"],[0.8888888888888888,\"#fdca26\"],[1.0,\"#f0f921\"]],\"type\":\"histogram2dcontour\"}],\"mesh3d\":[{\"colorbar\":{\"outlinewidth\":0,\"ticks\":\"\"},\"type\":\"mesh3d\"}],\"parcoords\":[{\"line\":{\"colorbar\":{\"outlinewidth\":0,\"ticks\":\"\"}},\"type\":\"parcoords\"}],\"pie\":[{\"automargin\":true,\"type\":\"pie\"}],\"scatter\":[{\"marker\":{\"colorbar\":{\"outlinewidth\":0,\"ticks\":\"\"}},\"type\":\"scatter\"}],\"scatter3d\":[{\"line\":{\"colorbar\":{\"outlinewidth\":0,\"ticks\":\"\"}},\"marker\":{\"colorbar\":{\"outlinewidth\":0,\"ticks\":\"\"}},\"type\":\"scatter3d\"}],\"scattercarpet\":[{\"marker\":{\"colorbar\":{\"outlinewidth\":0,\"ticks\":\"\"}},\"type\":\"scattercarpet\"}],\"scattergeo\":[{\"marker\":{\"colorbar\":{\"outlinewidth\":0,\"ticks\":\"\"}},\"type\":\"scattergeo\"}],\"scattergl\":[{\"marker\":{\"colorbar\":{\"outlinewidth\":0,\"ticks\":\"\"}},\"type\":\"scattergl\"}],\"scattermapbox\":[{\"marker\":{\"colorbar\":{\"outlinewidth\":0,\"ticks\":\"\"}},\"type\":\"scattermapbox\"}],\"scatterpolar\":[{\"marker\":{\"colorbar\":{\"outlinewidth\":0,\"ticks\":\"\"}},\"type\":\"scatterpolar\"}],\"scatterpolargl\":[{\"marker\":{\"colorbar\":{\"outlinewidth\":0,\"ticks\":\"\"}},\"type\":\"scatterpolargl\"}],\"scatterternary\":[{\"marker\":{\"colorbar\":{\"outlinewidth\":0,\"ticks\":\"\"}},\"type\":\"scatterternary\"}],\"surface\":[{\"colorbar\":{\"outlinewidth\":0,\"ticks\":\"\"},\"colorscale\":[[0.0,\"#0d0887\"],[0.1111111111111111,\"#46039f\"],[0.2222222222222222,\"#7201a8\"],[0.3333333333333333,\"#9c179e\"],[0.4444444444444444,\"#bd3786\"],[0.5555555555555556,\"#d8576b\"],[0.6666666666666666,\"#ed7953\"],[0.7777777777777778,\"#fb9f3a\"],[0.8888888888888888,\"#fdca26\"],[1.0,\"#f0f921\"]],\"type\":\"surface\"}],\"table\":[{\"cells\":{\"fill\":{\"color\":\"#EBF0F8\"},\"line\":{\"color\":\"white\"}},\"header\":{\"fill\":{\"color\":\"#C8D4E3\"},\"line\":{\"color\":\"white\"}},\"type\":\"table\"}]},\"layout\":{\"annotationdefaults\":{\"arrowcolor\":\"#2a3f5f\",\"arrowhead\":0,\"arrowwidth\":1},\"autotypenumbers\":\"strict\",\"coloraxis\":{\"colorbar\":{\"outlinewidth\":0,\"ticks\":\"\"}},\"colorscale\":{\"diverging\":[[0,\"#8e0152\"],[0.1,\"#c51b7d\"],[0.2,\"#de77ae\"],[0.3,\"#f1b6da\"],[0.4,\"#fde0ef\"],[0.5,\"#f7f7f7\"],[0.6,\"#e6f5d0\"],[0.7,\"#b8e186\"],[0.8,\"#7fbc41\"],[0.9,\"#4d9221\"],[1,\"#276419\"]],\"sequential\":[[0.0,\"#0d0887\"],[0.1111111111111111,\"#46039f\"],[0.2222222222222222,\"#7201a8\"],[0.3333333333333333,\"#9c179e\"],[0.4444444444444444,\"#bd3786\"],[0.5555555555555556,\"#d8576b\"],[0.6666666666666666,\"#ed7953\"],[0.7777777777777778,\"#fb9f3a\"],[0.8888888888888888,\"#fdca26\"],[1.0,\"#f0f921\"]],\"sequentialminus\":[[0.0,\"#0d0887\"],[0.1111111111111111,\"#46039f\"],[0.2222222222222222,\"#7201a8\"],[0.3333333333333333,\"#9c179e\"],[0.4444444444444444,\"#bd3786\"],[0.5555555555555556,\"#d8576b\"],[0.6666666666666666,\"#ed7953\"],[0.7777777777777778,\"#fb9f3a\"],[0.8888888888888888,\"#fdca26\"],[1.0,\"#f0f921\"]]},\"colorway\":[\"#636efa\",\"#EF553B\",\"#00cc96\",\"#ab63fa\",\"#FFA15A\",\"#19d3f3\",\"#FF6692\",\"#B6E880\",\"#FF97FF\",\"#FECB52\"],\"font\":{\"color\":\"#2a3f5f\"},\"geo\":{\"bgcolor\":\"white\",\"lakecolor\":\"white\",\"landcolor\":\"#E5ECF6\",\"showlakes\":true,\"showland\":true,\"subunitcolor\":\"white\"},\"hoverlabel\":{\"align\":\"left\"},\"hovermode\":\"closest\",\"mapbox\":{\"style\":\"light\"},\"paper_bgcolor\":\"white\",\"plot_bgcolor\":\"#E5ECF6\",\"polar\":{\"angularaxis\":{\"gridcolor\":\"white\",\"linecolor\":\"white\",\"ticks\":\"\"},\"bgcolor\":\"#E5ECF6\",\"radialaxis\":{\"gridcolor\":\"white\",\"linecolor\":\"white\",\"ticks\":\"\"}},\"scene\":{\"xaxis\":{\"backgroundcolor\":\"#E5ECF6\",\"gridcolor\":\"white\",\"gridwidth\":2,\"linecolor\":\"white\",\"showbackground\":true,\"ticks\":\"\",\"zerolinecolor\":\"white\"},\"yaxis\":{\"backgroundcolor\":\"#E5ECF6\",\"gridcolor\":\"white\",\"gridwidth\":2,\"linecolor\":\"white\",\"showbackground\":true,\"ticks\":\"\",\"zerolinecolor\":\"white\"},\"zaxis\":{\"backgroundcolor\":\"#E5ECF6\",\"gridcolor\":\"white\",\"gridwidth\":2,\"linecolor\":\"white\",\"showbackground\":true,\"ticks\":\"\",\"zerolinecolor\":\"white\"}},\"shapedefaults\":{\"line\":{\"color\":\"#2a3f5f\"}},\"ternary\":{\"aaxis\":{\"gridcolor\":\"white\",\"linecolor\":\"white\",\"ticks\":\"\"},\"baxis\":{\"gridcolor\":\"white\",\"linecolor\":\"white\",\"ticks\":\"\"},\"bgcolor\":\"#E5ECF6\",\"caxis\":{\"gridcolor\":\"white\",\"linecolor\":\"white\",\"ticks\":\"\"}},\"title\":{\"x\":0.05},\"xaxis\":{\"automargin\":true,\"gridcolor\":\"white\",\"linecolor\":\"white\",\"ticks\":\"\",\"title\":{\"standoff\":15},\"zerolinecolor\":\"white\",\"zerolinewidth\":2},\"yaxis\":{\"automargin\":true,\"gridcolor\":\"white\",\"linecolor\":\"white\",\"ticks\":\"\",\"title\":{\"standoff\":15},\"zerolinecolor\":\"white\",\"zerolinewidth\":2}}}},                        {\"responsive\": true}                    ).then(function(){\n",
       "                            \n",
       "var gd = document.getElementById('d9615047-b022-4f1e-b9d3-17b4228ff1f5');\n",
       "var x = new MutationObserver(function (mutations, observer) {{\n",
       "        var display = window.getComputedStyle(gd).display;\n",
       "        if (!display || display === 'none') {{\n",
       "            console.log([gd, 'removed!']);\n",
       "            Plotly.purge(gd);\n",
       "            observer.disconnect();\n",
       "        }}\n",
       "}});\n",
       "\n",
       "// Listen for the removal of the full notebook cells\n",
       "var notebookContainer = gd.closest('#notebook-container');\n",
       "if (notebookContainer) {{\n",
       "    x.observe(notebookContainer, {childList: true});\n",
       "}}\n",
       "\n",
       "// Listen for the clearing of the current output cell\n",
       "var outputEl = gd.closest('.output');\n",
       "if (outputEl) {{\n",
       "    x.observe(outputEl, {childList: true});\n",
       "}}\n",
       "\n",
       "                        })                };                });            </script>        </div>"
      ]
     },
     "metadata": {},
     "output_type": "display_data"
    }
   ],
   "source": [
    "import plotly.graph_objects as go\n",
    "\n",
    "correlations_stacked_plot = correlations_stacked.loc[strong_corr].reset_index().sort_values(\"pearson\")\n",
    "fig = go.Figure()\n",
    "\n",
    "for cor in [\"pearson\", \"spearman\"]:\n",
    "\n",
    "# Add traces\n",
    "    fig.add_trace(\n",
    "        go.Scatter(\n",
    "            y=correlations_stacked_plot[\"index\"], \n",
    "            x=correlations_stacked_plot[cor],\n",
    "            mode='markers',\n",
    "            text=correlations_stacked_plot[[\"pearson\", \"spearman\"]],\n",
    "            name=cor)\n",
    "    )\n",
    "\n",
    "\n",
    "fig.show()"
   ]
  },
  {
   "cell_type": "code",
   "execution_count": 256,
   "metadata": {},
   "outputs": [],
   "source": [
    "X, y = combone_pairs(df.drop(\"rating\", axis=1), strong_corr_pairs), df[\"rating\"]\n",
    "_, tfidf_sk = run_transformer(X)"
   ]
  },
  {
   "cell_type": "code",
   "execution_count": 408,
   "metadata": {},
   "outputs": [
    {
     "name": "stderr",
     "output_type": "stream",
     "text": [
      "/Users/elisar.chodorov/miniconda3/envs/auto_sklearn/lib/python3.8/site-packages/pandas/core/arraylike.py:397: RuntimeWarning:\n",
      "\n",
      "divide by zero encountered in log\n",
      "\n"
     ]
    }
   ],
   "source": [
    "import plotly.graph_objects as go\n",
    "\n",
    "tfidf_sk_plot = (tfidf_sk\n",
    "#  .replace({0:None})\n",
    " .mean(axis=0).to_frame().rename(columns={0:\"tfidf\"})\n",
    " .join(\n",
    "     X.replace({0:None})\n",
    "     .notnull().sum(axis=0)\n",
    "     .to_frame()\n",
    "     .rename(columns={0:\"count_review\"}))\n",
    " .sort_values(\"tfidf\", ascending=False)\n",
    " .join(\n",
    "     X\n",
    "     .join(y.to_frame())\n",
    "     .groupby(\"rating\", as_index=False)\n",
    "     .mean().T[1]\n",
    "     .to_frame()\n",
    "     .rename(\n",
    "         columns={1:\"rating_freq\"}\n",
    "     )       \n",
    ")).reset_index().sort_values(\"tfidf\", ascending=False)\n",
    "\n",
    "tfidf_sk_plot[\"rating_freq_log\"] = np.log(tfidf_sk_plot[\"rating_freq\"])\n",
    "tfidf_sk_plot[\"rating_freq_log_add\"] = np.log(tfidf_sk_plot[\"rating_freq\"].add(1e-06))\n",
    "\n",
    "tfidf_sk_plot[\"rating_freq_log_abs\"] = tfidf_sk_plot[\"rating_freq_log\"].abs()\n",
    "tfidf_sk_plot.loc[tfidf_sk_plot[\"rating_freq_log\"]==-np.inf, \"rating_freq_log_abs\"] = 0"
   ]
  },
  {
   "cell_type": "code",
   "execution_count": 412,
   "metadata": {},
   "outputs": [
    {
     "data": {
      "application/vnd.plotly.v1+json": {
       "config": {
        "plotlyServerURL": "https://plot.ly"
       },
       "data": [
        {
         "customdata": [
          [
           623,
           0.89216361592607
          ],
          [
           671,
           0.7723624161134492
          ],
          [
           499,
           1.250282603437036
          ],
          [
           497,
           0.91877726444416
          ],
          [
           229,
           1.3037077701106166
          ],
          [
           514,
           0.912572487557277
          ],
          [
           326,
           0.9941627838811915
          ],
          [
           533,
           1.0031516084496246
          ],
          [
           522,
           1.068442858264062
          ],
          [
           177,
           1.3796936770885386
          ],
          [
           424,
           0.99864709632852
          ],
          [
           465,
           1.0446322095703435
          ],
          [
           458,
           1.1886384403258292
          ],
          [
           209,
           1.3896111137458846
          ],
          [
           396,
           1.1178356135936385
          ],
          [
           433,
           1.3067612075975068
          ],
          [
           370,
           1.6456829249290597
          ],
          [
           283,
           1.8135176497567718
          ],
          [
           307,
           1.4727038723074217
          ],
          [
           381,
           1.6895496070346414
          ],
          [
           368,
           1.3862943611198906
          ],
          [
           290,
           1.778601384650544
          ],
          [
           333,
           1.6499840068284501
          ],
          [
           224,
           1.7934164704356845
          ],
          [
           318,
           1.6119244450041053
          ],
          [
           335,
           1.6119244450041053
          ],
          [
           191,
           2.184066492758708
          ],
          [
           239,
           1.7934164704356845
          ],
          [
           308,
           1.5792684820300527
          ],
          [
           287,
           1.7076496486782593
          ],
          [
           156,
           1.949226901681307
          ],
          [
           290,
           1.949226901681307
          ],
          [
           250,
           1.6940439966224807
          ],
          [
           178,
           1.7934164704356845
          ],
          [
           123,
           2.0153170135102974
          ],
          [
           253,
           1.6244507048232855
          ],
          [
           241,
           1.6895496070346414
          ],
          [
           282,
           1.8340311895898747
          ],
          [
           234,
           2.221524055293609
          ],
          [
           209,
           1.854974363435118
          ],
          [
           276,
           1.6499840068284501
          ],
          [
           222,
           1.7591832987934424
          ],
          [
           234,
           1.778601384650544
          ],
          [
           198,
           2.4915511925066687
          ],
          [
           168,
           2.147961488116592
          ],
          [
           150,
           2.191446600056331
          ],
          [
           97,
           2.0532962615755137
          ],
          [
           179,
           2.3092296357127142
          ],
          [
           226,
           2.147961488116592
          ],
          [
           216,
           2.0404755731464523
          ],
          [
           178,
           1.8656127616401736
          ],
          [
           203,
           2.2764398128897234
          ],
          [
           176,
           1.984733590138217
          ],
          [
           194,
           2.1269080789187598
          ],
          [
           227,
           2.1408943208934996
          ],
          [
           208,
           2.221524055293609
          ],
          [
           223,
           2.198881578543849
          ],
          [
           185,
           2.133876748234853
          ],
          [
           186,
           2.2764398128897234
          ],
          [
           219,
           2.300930832898019
          ],
          [
           197,
           2.4145901513705406
          ],
          [
           140,
           2.57493280144572
          ],
          [
           270,
           2.109695950037638
          ],
          [
           199,
           2.244691114575143
          ],
          [
           69,
           2.360522930100265
          ],
          [
           177,
           2.6080850087626204
          ],
          [
           172,
           2.57493280144572
          ],
          [
           173,
           2.119987636074186
          ],
          [
           100,
           2.3693335597824197
          ],
          [
           181,
           2.4238925440328543
          ],
          [
           138,
           2.184066492758708
          ],
          [
           155,
           2.4915511925066687
          ],
          [
           135,
           2.387191177182426
          ],
          [
           162,
           2.4238925440328543
          ],
          [
           160,
           2.3260367540290954
          ],
          [
           177,
           2.396241012702344
          ],
          [
           142,
           2.1694676933375554
          ],
          [
           133,
           2.387191177182426
          ],
          [
           164,
           2.191446600056331
          ],
          [
           136,
           3.9612271625656104
          ],
          [
           178,
           2.3517892501315103
          ],
          [
           151,
           2.848226136445401
          ],
          [
           122,
           2.848226136445401
          ],
          [
           164,
           2.3517892501315103
          ],
          [
           143,
           2.4717485652104894
          ],
          [
           125,
           2.4717485652104894
          ],
          [
           133,
           2.2845370231223425
          ],
          [
           118,
           2.4523304793533875
          ],
          [
           156,
           2.7146947438208784
          ],
          [
           102,
           3.312531744576499
          ],
          [
           140,
           2.300930832898019
          ],
          [
           118,
           2.2764398128897234
          ],
          [
           114,
           3.4591352187683744
          ],
          [
           142,
           3.2049010803841336
          ],
          [
           124,
           2.820055259478705
          ],
          [
           137,
           2.7272735260277385
          ],
          [
           141,
           2.4619923902651246
          ],
          [
           149,
           2.5858618719779103
          ],
          [
           140,
           2.396241012702344
          ],
          [
           119,
           3.2465737767847016
          ],
          [
           131,
           2.4053734962656166
          ],
          [
           111,
           2.5220103999913777
          ],
          [
           134,
           3.184698373066614
          ],
          [
           129,
           2.481600861653501
          ],
          [
           145,
           2.57493280144572
          ],
          [
           121,
           2.5858618719779103
          ],
          [
           81,
           2.7146947438208784
          ],
          [
           107,
           2.6308132598401768
          ],
          [
           116,
           2.3431311873883955
          ],
          [
           127,
           2.4717485652104894
          ],
          [
           130,
           2.5220103999913777
          ],
          [
           124,
           2.553426596224756
          ],
          [
           130,
           2.77923326495845
          ],
          [
           125,
           2.677880770698162
          ],
          [
           119,
           2.690002131230507
          ],
          [
           117,
           2.532373187026924
          ],
          [
           55,
           2.690002131230507
          ],
          [
           120,
           2.442761028337237
          ],
          [
           117,
           2.7529159566410764
          ],
          [
           117,
           2.690002131230507
          ],
          [
           109,
           2.7272735260277385
          ],
          [
           101,
           2.907066636468335
          ],
          [
           116,
           2.834041501453445
          ],
          [
           116,
           2.7146947438208784
          ],
          [
           89,
           2.553426596224756
          ],
          [
           107,
           3.4331597323651137
          ],
          [
           109,
           2.677880770698162
          ],
          [
           129,
           2.820055259478705
          ],
          [
           104,
           2.9300561546930335
          ],
          [
           99,
           2.7146947438208784
          ],
          [
           109,
           2.9535866521032275
          ],
          [
           106,
           2.7146947438208784
          ],
          [
           116,
           2.57493280144572
          ],
          [
           100,
           2.6423740822412527
          ],
          [
           131,
           2.57493280144572
          ],
          [
           56,
           3.3831493117904525
          ],
          [
           109,
           2.7146947438208784
          ],
          [
           75,
           2.77923326495845
          ],
          [
           113,
           2.862614873897501
          ],
          [
           80,
           2.806261937346369
          ],
          [
           121,
           3.071369687759611
          ],
          [
           66,
           3.2465737767847016
          ],
          [
           101,
           3.05367011066021
          ],
          [
           90,
           2.9535866521032275
          ],
          [
           50,
           2.6308132598401768
          ],
          [
           120,
           2.5428444868942193
          ],
          [
           81,
           2.765988038208429
          ],
          [
           110,
           2.6423740822412527
          ],
          [
           98,
           3.05367011066021
          ],
          [
           100,
           2.596911708164495
          ],
          [
           84,
           3.0893881932622893
          ],
          [
           72,
           2.969586993449669
          ],
          [
           111,
           2.6659045796514467
          ],
          [
           86,
           2.654070122004444
          ],
          [
           102,
           2.765988038208429
          ],
          [
           90,
           2.7146947438208784
          ],
          [
           102,
           2.9223341085991232
          ],
          [
           86,
           2.7926562852905903
          ],
          [
           103,
           2.553426596224756
          ],
          [
           110,
           2.820055259478705
          ],
          [
           82,
           2.969586993449669
          ],
          [
           66,
           2.7272735260277385
          ],
          [
           100,
           2.9535866521032275
          ],
          [
           114,
           3.0893881932622893
          ],
          [
           97,
           3.4331597323651137
          ],
          [
           97,
           2.820055259478705
          ],
          [
           95,
           2.969586993449669
          ],
          [
           110,
           3.0191839345890408
          ],
          [
           68,
           3.2255203675868693
          ],
          [
           77,
           2.9378382951350885
          ],
          [
           76,
           2.9378382951350885
          ],
          [
           89,
           3.1648957457704343
          ],
          [
           75,
           3.2465737767847016
          ],
          [
           37,
           3.3831493117904525
          ],
          [
           135,
           4.076296492350398
          ],
          [
           35,
           3.2680799820056654
          ],
          [
           87,
           3.145477659913333
          ],
          [
           92,
           3.0023768162726596
          ],
          [
           98,
           2.862614873897501
          ],
          [
           135,
           2.7994359722759694
          ],
          [
           78,
           4.38867117739255
          ],
          [
           86,
           3.60021381702828
          ],
          [
           98,
           3.107737331930486
          ],
          [
           38,
           3.184698373066614
          ],
          [
           76,
           2.9535866521032275
          ],
          [
           86,
           3.2900588887244404
          ],
          [
           79,
           3.3355212628011977
          ],
          [
           80,
           2.9378382951350885
          ],
          [
           73,
           3.51320244003865
          ],
          [
           57,
           2.9378382951350885
          ],
          [
           53,
           2.969586993449669
          ],
          [
           70,
           2.862614873897501
          ],
          [
           76,
           2.7146947438208784
          ],
          [
           88,
           2.907066636468335
          ],
          [
           83,
           3.51320244003865
          ],
          [
           73,
           3.1264294649426385
          ],
          [
           79,
           3.1264294649426385
          ],
          [
           86,
           3.5413733170053465
          ],
          [
           67,
           3.0191839345890408
          ],
          [
           145,
           2.9615548217524044
          ],
          [
           60,
           3.8386248404732783
          ],
          [
           73,
           3.2900588887244404
          ],
          [
           88,
           3.407841924380824
          ],
          [
           76,
           3.184698373066614
          ],
          [
           68,
           3.3355212628011977
          ],
          [
           65,
           3.1264294649426385
          ],
          [
           58,
           3.359051760211392
          ],
          [
           69,
           2.9535866521032275
          ],
          [
           73,
           3.2465737767847016
          ],
          [
           71,
           3.036278367948341
          ],
          [
           88,
           3.312531744576499
          ],
          [
           88,
           3.05367011066021
          ],
          [
           62,
           3.0893881932622893
          ],
          [
           63,
           3.145477659913333
          ],
          [
           70,
           3.071369687759611
          ],
          [
           67,
           3.2900588887244404
          ],
          [
           65,
           3.107737331930486
          ],
          [
           64,
           3.0023768162726596
          ],
          [
           68,
           3.312531744576499
          ],
          [
           75,
           3.2049010803841336
          ],
          [
           76,
           3.51320244003865
          ],
          [
           58,
           3.05367011066021
          ],
          [
           59,
           3.1648957457704343
          ],
          [
           56,
           3.184698373066614
          ],
          [
           64,
           3.3355212628011977
          ],
          [
           68,
           3.2049010803841336
          ],
          [
           77,
           3.51320244003865
          ],
          [
           72,
           3.0276946242569496
          ],
          [
           88,
           2.985847514321449
          ],
          [
           51,
           3.0023768162726596
          ],
          [
           77,
           3.407841924380824
          ],
          [
           57,
           3.2680799820056654
          ],
          [
           73,
           3.1648957457704343
          ],
          [
           62,
           3.5413733170053465
          ],
          [
           55,
           3.2049010803841336
          ],
          [
           57,
           3.2465737767847016
          ],
          [
           56,
           3.2049010803841336
          ],
          [
           86,
           3.4858034658505357
          ],
          [
           67,
           3.0893881932622893
          ],
          [
           47,
           3.359051760211392
          ],
          [
           74,
           3.312531744576499
          ],
          [
           46,
           3.2465737767847016
          ],
          [
           69,
           3.145477659913333
          ],
          [
           73,
           3.4331597323651137
          ],
          [
           56,
           3.312531744576499
          ],
          [
           69,
           3.6309854756950335
          ],
          [
           48,
           3.145477659913333
          ],
          [
           57,
           3.9186675481468147
          ],
          [
           60,
           3.312531744576499
          ],
          [
           70,
           3.4591352187683744
          ],
          [
           76,
           3.2359916674541647
          ],
          [
           54,
           3.407841924380824
          ],
          [
           57,
           3.6309854756950335
          ],
          [
           61,
           3.7294255485082863
          ],
          [
           64,
           3.1648957457704343
          ],
          [
           43,
           3.407841924380824
          ],
          [
           59,
           3.4591352187683744
          ],
          [
           51,
           3.3355212628011977
          ],
          [
           56,
           3.9612271625656104
          ],
          [
           66,
           3.2900588887244404
          ],
          [
           59,
           3.2680799820056654
          ],
          [
           58,
           3.2465737767847016
          ],
          [
           55,
           5.017279836814924
          ],
          [
           69,
           3.4858034658505357
          ],
          [
           50,
           4.100989104940769
          ],
          [
           66,
           3.420420706587684
          ],
          [
           49,
           3.2255203675868693
          ],
          [
           40,
           3.2255203675868693
          ],
          [
           59,
           3.662734174009614
          ],
          [
           61,
           3.2900588887244404
          ],
          [
           67,
           3.312531744576499
          ],
          [
           53,
           3.5413733170053465
          ],
          [
           65,
           3.8778455536265595
          ],
          [
           43,
           3.51320244003865
          ],
          [
           64,
           3.036278367948341
          ],
          [
           49,
           3.4331597323651137
          ],
          [
           70,
           3.570360853878599
          ],
          [
           60,
           3.2680799820056654
          ],
          [
           52,
           3.2049010803841336
          ],
          [
           62,
           3.2900588887244404
          ],
          [
           54,
           3.8008845124904314
          ],
          [
           56,
           4.005678925136444
          ],
          [
           53,
           3.662734174009614
          ],
          [
           56,
           3.3831493117904525
          ],
          [
           41,
           3.51320244003865
          ],
          [
           54,
           3.4591352187683744
          ],
          [
           42,
           3.9186675481468147
          ],
          [
           54,
           3.0893881932622893
          ],
          [
           50,
           3.3831493117904525
          ],
          [
           71,
           3.2255203675868693
          ],
          [
           55,
           3.359051760211392
          ],
          [
           54,
           3.2680799820056654
          ],
          [
           49,
           3.570360853878599
          ],
          [
           55,
           3.2255203675868693
          ],
          [
           53,
           3.3355212628011977
          ],
          [
           42,
           3.5413733170053465
          ],
          [
           50,
           3.407841924380824
          ],
          [
           69,
           3.4591352187683744
          ],
          [
           33,
           3.8386248404732783
          ],
          [
           24,
           3.8778455536265595
          ],
          [
           55,
           3.4858034658505357
          ],
          [
           53,
           3.662734174009614
          ],
          [
           64,
           3.2049010803841336
          ],
          [
           58,
           3.51320244003865
          ],
          [
           64,
           3.2900588887244404
          ],
          [
           44,
           3.4858034658505357
          ],
          [
           65,
           3.3355212628011977
          ],
          [
           59,
           3.51320244003865
          ],
          [
           56,
           3.51320244003865
          ],
          [
           71,
           3.7645168683195562
          ],
          [
           60,
           3.2049010803841336
          ],
          [
           64,
           3.60021381702828
          ],
          [
           46,
           3.5413733170053465
          ],
          [
           87,
           3.5851759396637397
          ],
          [
           62,
           3.7645168683195562
          ],
          [
           52,
           3.407841924380824
          ],
          [
           36,
           3.662734174009614
          ],
          [
           54,
           3.8386248404732783
          ],
          [
           56,
           3.312531744576499
          ],
          [
           38,
           3.695523996832605
          ],
          [
           53,
           3.312531744576499
          ],
          [
           53,
           3.570360853878599
          ],
          [
           51,
           3.4591352187683744
          ],
          [
           48,
           3.4858034658505357
          ],
          [
           52,
           3.662734174009614
          ],
          [
           47,
           4.005678925136444
          ],
          [
           36,
           3.4331597323651137
          ],
          [
           49,
           3.662734174009614
          ],
          [
           25,
           3.7294255485082863
          ],
          [
           60,
           3.7294255485082863
          ],
          [
           35,
           3.4858034658505357
          ],
          [
           49,
           3.3831493117904525
          ],
          [
           30,
           3.5413733170053465
          ],
          [
           54,
           3.7645168683195562
          ],
          [
           24,
           3.7294255485082863
          ],
          [
           61,
           3.7645168683195562
          ],
          [
           42,
           3.7645168683195562
          ],
          [
           55,
           3.662734174009614
          ],
          [
           54,
           3.6309854756950335
          ],
          [
           51,
           3.8008845124904314
          ],
          [
           49,
           3.7294255485082863
          ],
          [
           39,
           3.6309854756950335
          ],
          [
           52,
           3.60021381702828
          ],
          [
           29,
           4.052198940771337
          ],
          [
           49,
           3.51320244003865
          ],
          [
           38,
           4.61181472870676
          ],
          [
           38,
           3.7645168683195562
          ],
          [
           43,
           4.38867117739255
          ],
          [
           86,
           3.5413733170053465
          ],
          [
           51,
           3.9612271625656104
          ],
          [
           50,
           3.7645168683195562
          ],
          [
           49,
           4.61181472870676
          ],
          [
           39,
           3.60021381702828
          ],
          [
           35,
           4.8994968011585405
          ],
          [
           45,
           3.4591352187683744
          ],
          [
           53,
           3.4591352187683744
          ],
          [
           52,
           3.6309854756950335
          ],
          [
           28,
           3.51320244003865
          ],
          [
           59,
           3.312531744576499
          ],
          [
           41,
           4.152282399328319
          ],
          [
           36,
           3.60021381702828
          ],
          [
           66,
           3.983206069284386
          ],
          [
           54,
           3.8008845124904314
          ],
          [
           44,
           3.9186675481468147
          ],
          [
           46,
           3.3831493117904525
          ],
          [
           40,
           5.9981090898266505
          ],
          [
           41,
           3.407841924380824
          ],
          [
           43,
           3.695523996832605
          ],
          [
           48,
           3.3831493117904525
          ],
          [
           39,
           3.662734174009614
          ],
          [
           34,
           5.017279836814924
          ],
          [
           34,
           3.570360853878599
          ],
          [
           23,
           4.263508034438544
          ],
          [
           44,
           3.2255203675868693
          ],
          [
           50,
           3.60021381702828
          ],
          [
           35,
           3.7645168683195562
          ],
          [
           40,
           3.8778455536265595
          ],
          [
           34,
           5.48728346606066
          ],
          [
           33,
           5.017279836814924
          ],
          [
           40,
           4.324132656254979
          ],
          [
           26,
           3.7645168683195562
          ],
          [
           45,
           3.695523996832605
          ],
          [
           47,
           3.8386248404732783
          ],
          [
           36,
           3.4858034658505357
          ],
          [
           43,
           3.6309854756950335
          ],
          [
           48,
           3.4591352187683744
          ],
          [
           28,
           3.9186675481468147
          ],
          [
           46,
           3.7294255485082863
          ],
          [
           44,
           4.206349620598596
          ],
          [
           42,
           4.100989104940769
          ],
          [
           31,
           3.695523996832605
          ],
          [
           43,
           4.263508034438544
          ],
          [
           40,
           4.100989104940769
          ],
          [
           58,
           3.8778455536265595
          ],
          [
           30,
           3.9186675481468147
          ],
          [
           35,
           3.9186675481468147
          ],
          [
           45,
           3.570360853878599
          ],
          [
           34,
           4.794136285500715
          ],
          [
           40,
           4.531772021033223
          ],
          [
           49,
           3.60021381702828
          ],
          [
           42,
           3.5413733170053465
          ],
          [
           42,
           4.457664048879502
          ],
          [
           31,
           5.9981090898266505
          ],
          [
           17,
           4.052198940771337
          ],
          [
           18,
           4.005678925136444
          ],
          [
           39,
           3.9612271625656104
          ],
          [
           23,
           3.9186675481468147
          ],
          [
           40,
           3.8008845124904314
          ],
          [
           37,
           3.695523996832605
          ],
          [
           31,
           3.6309854756950335
          ],
          [
           44,
           4.8994968011585405
          ],
          [
           35,
           3.8778455536265595
          ],
          [
           32,
           3.662734174009614
          ],
          [
           35,
           3.570360853878599
          ],
          [
           37,
           3.4591352187683744
          ],
          [
           39,
           4.100989104940769
          ],
          [
           17,
           3.60021381702828
          ],
          [
           37,
           4.052198940771337
          ],
          [
           44,
           3.695523996832605
          ],
          [
           35,
           3.695523996832605
          ],
          [
           36,
           4.052198940771337
          ],
          [
           37,
           5.017279836814924
          ],
          [
           46,
           3.9612271625656104
          ],
          [
           50,
           3.5413733170053465
          ],
          [
           32,
           3.7645168683195562
          ],
          [
           33,
           3.8386248404732783
          ],
          [
           40,
           4.052198940771337
          ],
          [
           63,
           4.457664048879502
          ],
          [
           36,
           3.8386248404732783
          ],
          [
           43,
           3.7294255485082863
          ],
          [
           20,
           3.570360853878599
          ],
          [
           39,
           3.8778455536265595
          ],
          [
           35,
           3.7294255485082863
          ],
          [
           35,
           3.8008845124904314
          ],
          [
           43,
           3.570360853878599
          ],
          [
           23,
           3.8778455536265595
          ],
          [
           31,
           4.324132656254979
          ],
          [
           31,
           3.9612271625656104
          ],
          [
           34,
           4.61181472870676
          ],
          [
           19,
           4.324132656254979
          ],
          [
           42,
           4.052198940771337
          ],
          [
           23,
           4.531772021033223
          ],
          [
           39,
           3.8008845124904314
          ],
          [
           30,
           3.662734174009614
          ],
          [
           29,
           3.8778455536265595
          ],
          [
           38,
           3.695523996832605
          ],
          [
           26,
           4.005678925136444
          ],
          [
           44,
           3.7294255485082863
          ],
          [
           26,
           4.100989104940769
          ],
          [
           33,
           3.9612271625656104
          ],
          [
           33,
           4.100989104940769
          ],
          [
           24,
           4.005678925136444
          ],
          [
           43,
           3.695523996832605
          ],
          [
           39,
           3.7645168683195562
          ],
          [
           30,
           3.7645168683195562
          ],
          [
           40,
           3.7645168683195562
          ],
          [
           29,
           0
          ],
          [
           36,
           3.6309854756950335
          ],
          [
           41,
           3.7294255485082863
          ],
          [
           25,
           3.8386248404732783
          ],
          [
           38,
           4.531772021033223
          ],
          [
           46,
           3.8008845124904314
          ],
          [
           39,
           3.9612271625656104
          ],
          [
           35,
           4.61181472870676
          ],
          [
           36,
           4.794136285500715
          ],
          [
           21,
           3.8386248404732783
          ],
          [
           39,
           3.662734174009614
          ],
          [
           38,
           3.8386248404732783
          ],
          [
           30,
           4.100989104940769
          ],
          [
           41,
           3.8778455536265595
          ],
          [
           46,
           4.100989104940769
          ],
          [
           24,
           4.38867117739255
          ],
          [
           29,
           4.263508034438544
          ],
          [
           27,
           4.052198940771337
          ],
          [
           31,
           5.9981090898266505
          ],
          [
           40,
           3.9612271625656104
          ],
          [
           38,
           3.51320244003865
          ],
          [
           35,
           3.695523996832605
          ],
          [
           42,
           3.8386248404732783
          ],
          [
           41,
           3.9186675481468147
          ],
          [
           37,
           4.152282399328319
          ],
          [
           44,
           4.457664048879502
          ],
          [
           27,
           4.052198940771337
          ],
          [
           34,
           3.6309854756950335
          ],
          [
           37,
           3.9612271625656104
          ],
          [
           35,
           4.324132656254979
          ],
          [
           25,
           3.9186675481468147
          ],
          [
           23,
           3.4331597323651137
          ],
          [
           36,
           4.794136285500715
          ],
          [
           26,
           4.152282399328319
          ],
          [
           29,
           4.052198940771337
          ],
          [
           26,
           4.052198940771337
          ],
          [
           36,
           4.38867117739255
          ],
          [
           31,
           4.457664048879502
          ],
          [
           40,
           4.324132656254979
          ],
          [
           34,
           4.152282399328319
          ],
          [
           27,
           4.38867117739255
          ],
          [
           38,
           4.052198940771337
          ],
          [
           20,
           3.9186675481468147
          ],
          [
           34,
           3.8778455536265595
          ],
          [
           32,
           4.61181472870676
          ],
          [
           24,
           4.206349620598596
          ],
          [
           20,
           4.100989104940769
          ],
          [
           36,
           4.005678925136444
          ],
          [
           33,
           3.5413733170053465
          ],
          [
           36,
           4.005678925136444
          ],
          [
           39,
           3.8008845124904314
          ],
          [
           25,
           4.457664048879502
          ],
          [
           33,
           3.8008845124904314
          ],
          [
           35,
           5.304961909266705
          ],
          [
           36,
           4.531772021033223
          ],
          [
           30,
           3.9612271625656104
          ],
          [
           16,
           4.324132656254979
          ],
          [
           33,
           4.38867117739255
          ],
          [
           30,
           4.005678925136444
          ],
          [
           24,
           4.69882610569639
          ],
          [
           30,
           4.263508034438544
          ],
          [
           36,
           4.206349620598596
          ],
          [
           34,
           3.8386248404732783
          ],
          [
           30,
           4.61181472870676
          ],
          [
           17,
           4.324132656254979
          ],
          [
           27,
           4.152282399328319
          ],
          [
           24,
           4.61181472870676
          ],
          [
           32,
           4.152282399328319
          ],
          [
           29,
           4.206349620598596
          ],
          [
           37,
           4.263508034438544
          ],
          [
           30,
           4.052198940771337
          ],
          [
           34,
           4.052198940771337
          ],
          [
           42,
           3.8778455536265595
          ],
          [
           21,
           4.263508034438544
          ],
          [
           24,
           4.38867117739255
          ],
          [
           30,
           3.8778455536265595
          ],
          [
           28,
           4.206349620598596
          ],
          [
           26,
           4.052198940771337
          ],
          [
           24,
           3.9186675481468147
          ],
          [
           24,
           4.531772021033223
          ],
          [
           26,
           4.005678925136444
          ],
          [
           35,
           4.206349620598596
          ],
          [
           25,
           4.38867117739255
          ],
          [
           27,
           5.017279836814924
          ],
          [
           35,
           3.7645168683195562
          ],
          [
           26,
           4.152282399328319
          ],
          [
           35,
           4.263508034438544
          ],
          [
           26,
           3.8778455536265595
          ],
          [
           31,
           5.017279836814924
          ],
          [
           28,
           5.304961909266705
          ],
          [
           30,
           4.100989104940769
          ],
          [
           18,
           4.61181472870676
          ],
          [
           11,
           4.531772021033223
          ],
          [
           25,
           4.152282399328319
          ],
          [
           51,
           4.494031693050377
          ],
          [
           14,
           4.152282399328319
          ],
          [
           26,
           4.61181472870676
          ],
          [
           30,
           4.61181472870676
          ],
          [
           32,
           4.531772021033223
          ],
          [
           35,
           3.9612271625656104
          ],
          [
           28,
           4.052198940771337
          ],
          [
           29,
           4.206349620598596
          ],
          [
           30,
           4.457664048879502
          ],
          [
           29,
           4.100989104940769
          ],
          [
           32,
           4.69882610569639
          ],
          [
           31,
           4.457664048879502
          ],
          [
           23,
           4.152282399328319
          ],
          [
           30,
           4.38867117739255
          ],
          [
           30,
           3.8008845124904314
          ],
          [
           27,
           7.0967213784947605
          ],
          [
           29,
           4.152282399328319
          ],
          [
           27,
           4.61181472870676
          ],
          [
           34,
           4.005678925136444
          ],
          [
           28,
           4.38867117739255
          ],
          [
           24,
           4.263508034438544
          ],
          [
           26,
           4.38867117739255
          ],
          [
           17,
           4.457664048879502
          ],
          [
           25,
           4.794136285500715
          ],
          [
           24,
           4.457664048879502
          ],
          [
           21,
           4.052198940771337
          ],
          [
           29,
           4.794136285500715
          ],
          [
           26,
           3.9186675481468147
          ],
          [
           25,
           4.100989104940769
          ],
          [
           13,
           4.457664048879502
          ],
          [
           24,
           4.794136285500715
          ],
          [
           26,
           4.263508034438544
          ],
          [
           24,
           4.38867117739255
          ],
          [
           31,
           3.8778455536265595
          ],
          [
           25,
           3.9186675481468147
          ],
          [
           17,
           4.152282399328319
          ],
          [
           27,
           4.263508034438544
          ],
          [
           31,
           4.152282399328319
          ],
          [
           23,
           4.531772021033223
          ],
          [
           20,
           4.263508034438544
          ],
          [
           33,
           4.005678925136444
          ],
          [
           20,
           4.61181472870676
          ],
          [
           21,
           4.61181472870676
          ],
          [
           30,
           4.8994968011585405
          ],
          [
           30,
           4.152282399328319
          ],
          [
           26,
           5.017279836814924
          ],
          [
           27,
           4.206349620598596
          ],
          [
           13,
           4.206349620598596
          ],
          [
           24,
           3.8386248404732783
          ],
          [
           31,
           4.61181472870676
          ],
          [
           16,
           4.324132656254979
          ],
          [
           21,
           4.457664048879502
          ],
          [
           35,
           4.206349620598596
          ],
          [
           34,
           4.100989104940769
          ],
          [
           30,
           3.9612271625656104
          ],
          [
           21,
           4.100989104940769
          ],
          [
           34,
           4.324132656254979
          ],
          [
           27,
           4.052198940771337
          ],
          [
           30,
           4.531772021033223
          ],
          [
           22,
           4.38867117739255
          ],
          [
           33,
           4.206349620598596
          ],
          [
           35,
           4.61181472870676
          ],
          [
           43,
           4.028668443361143
          ],
          [
           33,
           4.324132656254979
          ],
          [
           31,
           4.005678925136444
          ],
          [
           30,
           4.324132656254979
          ],
          [
           22,
           5.304961909266705
          ],
          [
           19,
           4.206349620598596
          ],
          [
           28,
           4.005678925136444
          ],
          [
           27,
           4.100989104940769
          ],
          [
           18,
           4.052198940771337
          ],
          [
           23,
           4.324132656254979
          ],
          [
           25,
           3.8778455536265595
          ],
          [
           18,
           4.38867117739255
          ],
          [
           25,
           4.8994968011585405
          ],
          [
           28,
           4.052198940771337
          ],
          [
           25,
           4.457664048879502
          ],
          [
           26,
           5.304961909266705
          ],
          [
           19,
           4.206349620598596
          ],
          [
           24,
           4.457664048879502
          ],
          [
           28,
           4.206349620598596
          ],
          [
           33,
           6.180430646620605
          ],
          [
           19,
           4.324132656254979
          ],
          [
           29,
           4.457664048879502
          ],
          [
           24,
           4.38867117739255
          ],
          [
           33,
           3.8778455536265595
          ],
          [
           16,
           4.457664048879502
          ],
          [
           22,
           5.48728346606066
          ],
          [
           32,
           3.8008845124904314
          ],
          [
           32,
           4.152282399328319
          ],
          [
           16,
           5.150811229439447
          ],
          [
           24,
           4.531772021033223
          ],
          [
           26,
           4.69882610569639
          ],
          [
           13,
           4.324132656254979
          ],
          [
           30,
           4.69882610569639
          ],
          [
           17,
           4.100989104940769
          ],
          [
           27,
           4.38867117739255
          ],
          [
           27,
           4.152282399328319
          ],
          [
           20,
           4.457664048879502
          ],
          [
           32,
           4.457664048879502
          ],
          [
           27,
           4.61181472870676
          ],
          [
           22,
           4.263508034438544
          ],
          [
           23,
           4.324132656254979
          ],
          [
           25,
           4.69882610569639
          ],
          [
           21,
           4.206349620598596
          ],
          [
           24,
           4.052198940771337
          ],
          [
           24,
           4.69882610569639
          ],
          [
           23,
           5.150811229439447
          ],
          [
           21,
           4.263508034438544
          ],
          [
           29,
           3.9612271625656104
          ],
          [
           22,
           4.457664048879502
          ],
          [
           25,
           4.38867117739255
          ],
          [
           26,
           4.005678925136444
          ],
          [
           20,
           4.052198940771337
          ],
          [
           22,
           4.324132656254979
          ],
          [
           12,
           5.48728346606066
          ],
          [
           19,
           4.005678925136444
          ],
          [
           18,
           4.206349620598596
          ],
          [
           19,
           5.71042701737487
          ],
          [
           22,
           4.324132656254979
          ],
          [
           20,
           4.61181472870676
          ],
          [
           21,
           4.206349620598596
          ],
          [
           23,
           4.457664048879502
          ],
          [
           18,
           4.794136285500715
          ],
          [
           22,
           4.206349620598596
          ],
          [
           23,
           4.206349620598596
          ],
          [
           28,
           4.61181472870676
          ],
          [
           18,
           4.206349620598596
          ],
          [
           22,
           4.457664048879502
          ],
          [
           24,
           4.8994968011585405
          ],
          [
           24,
           5.9981090898266505
          ],
          [
           16,
           4.457664048879502
          ],
          [
           24,
           4.263508034438544
          ],
          [
           21,
           4.794136285500715
          ],
          [
           23,
           4.69882610569639
          ],
          [
           36,
           5.150811229439447
          ],
          [
           25,
           5.017279836814924
          ],
          [
           17,
           4.152282399328319
          ],
          [
           25,
           4.206349620598596
          ],
          [
           27,
           4.531772021033223
          ],
          [
           20,
           4.531772021033223
          ],
          [
           30,
           3.8778455536265595
          ],
          [
           19,
           4.531772021033223
          ],
          [
           32,
           3.9186675481468147
          ],
          [
           22,
           4.531772021033223
          ],
          [
           13,
           3.9186675481468147
          ],
          [
           20,
           4.794136285500715
          ],
          [
           22,
           4.152282399328319
          ],
          [
           23,
           3.9186675481468147
          ],
          [
           20,
           4.69882610569639
          ],
          [
           21,
           4.206349620598596
          ],
          [
           20,
           6.403574197934815
          ],
          [
           21,
           4.531772021033223
          ],
          [
           22,
           5.017279836814924
          ],
          [
           24,
           4.38867117739255
          ],
          [
           22,
           4.052198940771337
          ],
          [
           17,
           4.005678925136444
          ],
          [
           22,
           5.304961909266705
          ],
          [
           21,
           3.9612271625656104
          ],
          [
           19,
           4.38867117739255
          ],
          [
           24,
           4.052198940771337
          ],
          [
           27,
           4.8994968011585405
          ],
          [
           21,
           4.152282399328319
          ],
          [
           30,
           3.9612271625656104
          ],
          [
           26,
           4.38867117739255
          ],
          [
           18,
           4.457664048879502
          ],
          [
           19,
           4.457664048879502
          ],
          [
           20,
           4.69882610569639
          ],
          [
           22,
           4.263508034438544
          ],
          [
           21,
           4.324132656254979
          ],
          [
           21,
           4.263508034438544
          ],
          [
           19,
           4.38867117739255
          ],
          [
           21,
           5.150811229439447
          ],
          [
           21,
           4.69882610569639
          ],
          [
           17,
           4.38867117739255
          ],
          [
           17,
           4.263508034438544
          ],
          [
           24,
           4.61181472870676
          ],
          [
           19,
           4.61181472870676
          ],
          [
           20,
           4.152282399328319
          ],
          [
           18,
           4.38867117739255
          ],
          [
           26,
           3.9612271625656104
          ],
          [
           24,
           4.100989104940769
          ],
          [
           23,
           4.263508034438544
          ],
          [
           25,
           4.457664048879502
          ],
          [
           18,
           4.8994968011585405
          ],
          [
           14,
           4.263508034438544
          ],
          [
           26,
           4.206349620598596
          ],
          [
           15,
           4.052198940771337
          ],
          [
           22,
           4.324132656254979
          ],
          [
           17,
           4.457664048879502
          ],
          [
           25,
           4.61181472870676
          ],
          [
           21,
           4.100989104940769
          ],
          [
           12,
           4.61181472870676
          ],
          [
           17,
           4.263508034438544
          ],
          [
           18,
           4.38867117739255
          ],
          [
           16,
           4.531772021033223
          ],
          [
           20,
           5.48728346606066
          ],
          [
           20,
           4.38867117739255
          ],
          [
           16,
           6.403574197934815
          ],
          [
           21,
           4.206349620598596
          ],
          [
           22,
           4.005678925136444
          ],
          [
           25,
           4.8994968011585405
          ],
          [
           22,
           5.150811229439447
          ],
          [
           23,
           4.61181472870676
          ],
          [
           19,
           4.457664048879502
          ],
          [
           18,
           4.324132656254979
          ],
          [
           14,
           4.206349620598596
          ],
          [
           10,
           4.69882610569639
          ],
          [
           21,
           4.152282399328319
          ],
          [
           14,
           5.150811229439447
          ],
          [
           16,
           4.263508034438544
          ],
          [
           12,
           4.38867117739255
          ],
          [
           17,
           4.263508034438544
          ],
          [
           22,
           5.48728346606066
          ],
          [
           17,
           4.61181472870676
          ],
          [
           11,
           4.69882610569639
          ],
          [
           20,
           4.8994968011585405
          ],
          [
           17,
           4.38867117739255
          ],
          [
           9,
           4.206349620598596
          ],
          [
           30,
           4.052198940771337
          ],
          [
           20,
           5.304961909266705
          ],
          [
           23,
           4.324132656254979
          ],
          [
           23,
           4.69882610569639
          ],
          [
           25,
           4.152282399328319
          ],
          [
           25,
           4.38867117739255
          ],
          [
           18,
           5.017279836814924
          ],
          [
           17,
           4.61181472870676
          ],
          [
           22,
           4.457664048879502
          ],
          [
           7,
           4.69882610569639
          ],
          [
           18,
           4.8994968011585405
          ],
          [
           19,
           4.38867117739255
          ],
          [
           17,
           4.69882610569639
          ],
          [
           21,
           4.61181472870676
          ],
          [
           20,
           4.61181472870676
          ],
          [
           20,
           4.457664048879502
          ],
          [
           23,
           4.457664048879502
          ],
          [
           32,
           5.391973286256335
          ],
          [
           23,
           4.61181472870676
          ],
          [
           11,
           4.654374343125556
          ],
          [
           22,
           4.61181472870676
          ],
          [
           23,
           6.180430646620605
          ],
          [
           27,
           4.61181472870676
          ],
          [
           8,
           4.457664048879502
          ],
          [
           24,
           5.150811229439447
          ],
          [
           19,
           4.324132656254979
          ],
          [
           13,
           4.61181472870676
          ],
          [
           20,
           4.324132656254979
          ],
          [
           21,
           5.304961909266705
          ],
          [
           16,
           4.457664048879502
          ],
          [
           17,
           4.61181472870676
          ],
          [
           16,
           4.531772021033223
          ],
          [
           18,
           5.304961909266705
          ],
          [
           12,
           4.8994968011585405
          ],
          [
           18,
           4.794136285500715
          ],
          [
           21,
           4.69882610569639
          ],
          [
           29,
           4.152282399328319
          ],
          [
           19,
           5.71042701737487
          ],
          [
           19,
           4.531772021033223
          ],
          [
           17,
           4.324132656254979
          ],
          [
           16,
           4.38867117739255
          ],
          [
           23,
           4.457664048879502
          ],
          [
           16,
           4.531772021033223
          ],
          [
           22,
           4.69882610569639
          ],
          [
           15,
           5.150811229439447
          ],
          [
           22,
           4.531772021033223
          ],
          [
           19,
           4.263508034438544
          ],
          [
           25,
           4.531772021033223
          ],
          [
           17,
           4.61181472870676
          ],
          [
           21,
           4.794136285500715
          ],
          [
           15,
           5.71042701737487
          ],
          [
           16,
           4.69882610569639
          ],
          [
           21,
           4.324132656254979
          ],
          [
           16,
           4.38867117739255
          ],
          [
           25,
           4.69882610569639
          ],
          [
           20,
           4.8994968011585405
          ],
          [
           20,
           4.263508034438544
          ],
          [
           18,
           4.005678925136444
          ],
          [
           14,
           4.8994968011585405
          ],
          [
           17,
           4.61181472870676
          ],
          [
           15,
           4.794136285500715
          ],
          [
           14,
           4.61181472870676
          ],
          [
           14,
           4.8994968011585405
          ],
          [
           14,
           4.531772021033223
          ],
          [
           15,
           4.8994968011585405
          ],
          [
           16,
           4.794136285500715
          ],
          [
           17,
           5.017279836814924
          ],
          [
           25,
           4.531772021033223
          ],
          [
           16,
           4.531772021033223
          ],
          [
           17,
           5.017279836814924
          ],
          [
           16,
           4.61181472870676
          ],
          [
           16,
           5.304961909266705
          ],
          [
           14,
           4.457664048879502
          ],
          [
           19,
           4.61181472870676
          ],
          [
           19,
           4.61181472870676
          ],
          [
           17,
           4.38867117739255
          ],
          [
           19,
           4.457664048879502
          ],
          [
           13,
           4.8994968011585405
          ],
          [
           12,
           5.71042701737487
          ],
          [
           15,
           4.8994968011585405
          ],
          [
           13,
           4.61181472870676
          ],
          [
           12,
           4.531772021033223
          ],
          [
           21,
           5.017279836814924
          ],
          [
           20,
           4.531772021033223
          ],
          [
           17,
           4.263508034438544
          ],
          [
           15,
           4.69882610569639
          ],
          [
           16,
           5.150811229439447
          ],
          [
           19,
           4.794136285500715
          ],
          [
           14,
           4.457664048879502
          ],
          [
           12,
           5.150811229439447
          ],
          [
           22,
           4.69882610569639
          ],
          [
           17,
           4.794136285500715
          ],
          [
           16,
           4.794136285500715
          ],
          [
           13,
           4.457664048879502
          ],
          [
           20,
           5.48728346606066
          ],
          [
           17,
           4.61181472870676
          ],
          [
           20,
           4.206349620598596
          ],
          [
           8,
           4.794136285500715
          ],
          [
           16,
           4.8994968011585405
          ],
          [
           10,
           4.206349620598596
          ],
          [
           10,
           5.304961909266705
          ],
          [
           17,
           4.8994968011585405
          ],
          [
           16,
           4.794136285500715
          ],
          [
           20,
           5.48728346606066
          ],
          [
           14,
           4.794136285500715
          ],
          [
           12,
           4.8994968011585405
          ],
          [
           17,
           4.794136285500715
          ],
          [
           13,
           4.8994968011585405
          ],
          [
           7,
           6.403574197934815
          ],
          [
           9,
           4.69882610569639
          ],
          [
           17,
           4.457664048879502
          ],
          [
           20,
           4.8994968011585405
          ],
          [
           16,
           4.794136285500715
          ],
          [
           17,
           5.150811229439447
          ],
          [
           13,
           5.9981090898266505
          ],
          [
           17,
           4.457664048879502
          ],
          [
           13,
           5.71042701737487
          ],
          [
           13,
           7.0967213784947605
          ],
          [
           15,
           5.71042701737487
          ],
          [
           22,
           4.38867117739255
          ],
          [
           15,
           4.531772021033223
          ],
          [
           21,
           4.845429579888265
          ],
          [
           14,
           4.531772021033223
          ],
          [
           12,
           4.794136285500715
          ],
          [
           12,
           5.017279836814924
          ],
          [
           22,
           4.61181472870676
          ],
          [
           14,
           4.61181472870676
          ],
          [
           11,
           4.457664048879502
          ],
          [
           17,
           4.531772021033223
          ],
          [
           14,
           4.8994968011585405
          ],
          [
           19,
           4.324132656254979
          ],
          [
           27,
           5.081818357952495
          ],
          [
           14,
           4.531772021033223
          ],
          [
           14,
           5.71042701737487
          ],
          [
           21,
           5.150811229439447
          ],
          [
           12,
           5.017279836814924
          ],
          [
           17,
           4.69882610569639
          ],
          [
           10,
           4.531772021033223
          ],
          [
           13,
           5.017279836814924
          ],
          [
           13,
           4.8994968011585405
          ],
          [
           17,
           4.531772021033223
          ],
          [
           12,
           4.531772021033223
          ],
          [
           16,
           4.61181472870676
          ],
          [
           15,
           6.403574197934815
          ],
          [
           14,
           4.8994968011585405
          ],
          [
           10,
           5.150811229439447
          ],
          [
           11,
           5.71042701737487
          ],
          [
           11,
           4.69882610569639
          ],
          [
           16,
           5.9981090898266505
          ],
          [
           13,
           4.69882610569639
          ],
          [
           20,
           4.052198940771337
          ],
          [
           12,
           4.8994968011585405
          ],
          [
           18,
           4.8994968011585405
          ],
          [
           13,
           5.150811229439447
          ],
          [
           15,
           5.304961909266705
          ],
          [
           11,
           5.017279836814924
          ],
          [
           13,
           4.69882610569639
          ],
          [
           17,
           5.017279836814924
          ],
          [
           17,
           4.794136285500715
          ],
          [
           17,
           5.150811229439447
          ],
          [
           14,
           5.9981090898266505
          ],
          [
           11,
           0
          ],
          [
           14,
           5.017279836814924
          ],
          [
           16,
           5.150811229439447
          ],
          [
           16,
           4.61181472870676
          ],
          [
           13,
           4.794136285500715
          ],
          [
           14,
           5.48728346606066
          ],
          [
           14,
           5.304961909266705
          ],
          [
           13,
           4.8994968011585405
          ],
          [
           19,
           4.38867117739255
          ],
          [
           13,
           4.69882610569639
          ],
          [
           12,
           4.69882610569639
          ],
          [
           17,
           4.8994968011585405
          ],
          [
           14,
           4.794136285500715
          ],
          [
           13,
           5.017279836814924
          ],
          [
           17,
           7.0967213784947605
          ],
          [
           16,
           4.69882610569639
          ],
          [
           11,
           5.71042701737487
          ],
          [
           9,
           5.48728346606066
          ],
          [
           8,
           4.531772021033223
          ],
          [
           12,
           4.61181472870676
          ],
          [
           18,
           4.457664048879502
          ],
          [
           14,
           5.017279836814924
          ],
          [
           11,
           4.794136285500715
          ],
          [
           13,
           5.48728346606066
          ],
          [
           16,
           4.845429579888265
          ],
          [
           12,
           4.61181472870676
          ],
          [
           22,
           4.69882610569639
          ],
          [
           9,
           5.48728346606066
          ],
          [
           13,
           7.0967213784947605
          ],
          [
           13,
           4.531772021033223
          ],
          [
           18,
           4.8994968011585405
          ],
          [
           15,
           5.017279836814924
          ],
          [
           8,
           5.304961909266705
          ],
          [
           16,
           5.304961909266705
          ],
          [
           15,
           5.304961909266705
          ],
          [
           12,
           4.69882610569639
          ],
          [
           18,
           4.69882610569639
          ],
          [
           13,
           4.531772021033223
          ],
          [
           13,
           5.48728346606066
          ],
          [
           14,
           5.9981090898266505
          ],
          [
           13,
           4.263508034438544
          ],
          [
           11,
           5.150811229439447
          ],
          [
           16,
           5.150811229439447
          ],
          [
           15,
           7.0967213784947605
          ],
          [
           11,
           4.531772021033223
          ],
          [
           11,
           5.017279836814924
          ],
          [
           13,
           5.017279836814924
          ],
          [
           16,
           5.71042701737487
          ],
          [
           15,
           4.69882610569639
          ],
          [
           14,
           4.794136285500715
          ],
          [
           16,
           5.304961909266705
          ],
          [
           15,
           5.304961909266705
          ],
          [
           15,
           5.017279836814924
          ],
          [
           10,
           4.794136285500715
          ],
          [
           17,
           4.61181472870676
          ],
          [
           15,
           4.8994968011585405
          ],
          [
           12,
           5.150811229439447
          ],
          [
           15,
           4.8994968011585405
          ],
          [
           17,
           5.304961909266705
          ],
          [
           11,
           4.8994968011585405
          ],
          [
           15,
           5.017279836814924
          ],
          [
           6,
           5.150811229439447
          ],
          [
           14,
           4.794136285500715
          ],
          [
           15,
           5.71042701737487
          ],
          [
           10,
           5.304961909266705
          ],
          [
           10,
           0
          ],
          [
           16,
           4.8994968011585405
          ],
          [
           13,
           4.8994968011585405
          ],
          [
           6,
           5.017279836814924
          ],
          [
           9,
           5.150811229439447
          ],
          [
           9,
           4.531772021033223
          ],
          [
           9,
           4.8994968011585405
          ],
          [
           12,
           4.794136285500715
          ],
          [
           7,
           5.017279836814924
          ],
          [
           11,
           5.017279836814924
          ],
          [
           12,
           4.69882610569639
          ],
          [
           10,
           5.48728346606066
          ],
          [
           11,
           4.794136285500715
          ],
          [
           12,
           6.403574197934815
          ],
          [
           12,
           4.8994968011585405
          ],
          [
           9,
           5.9981090898266505
          ],
          [
           15,
           4.794136285500715
          ],
          [
           13,
           5.71042701737487
          ],
          [
           14,
           5.71042701737487
          ],
          [
           12,
           4.794136285500715
          ],
          [
           22,
           4.61181472870676
          ],
          [
           16,
           4.8994968011585405
          ],
          [
           14,
           5.017279836814924
          ],
          [
           13,
           5.9981090898266505
          ],
          [
           13,
           5.304961909266705
          ],
          [
           11,
           5.150811229439447
          ],
          [
           16,
           5.71042701737487
          ],
          [
           15,
           4.61181472870676
          ],
          [
           7,
           4.8994968011585405
          ],
          [
           12,
           4.8994968011585405
          ],
          [
           12,
           5.48728346606066
          ],
          [
           17,
           5.48728346606066
          ],
          [
           14,
           4.8994968011585405
          ],
          [
           12,
           4.8994968011585405
          ],
          [
           14,
           4.61181472870676
          ],
          [
           11,
           5.017279836814924
          ],
          [
           10,
           5.150811229439447
          ],
          [
           14,
           5.017279836814924
          ],
          [
           11,
           5.304961909266705
          ],
          [
           13,
           5.304961909266705
          ],
          [
           16,
           5.150811229439447
          ],
          [
           12,
           4.69882610569639
          ],
          [
           11,
           5.017279836814924
          ],
          [
           11,
           5.150811229439447
          ],
          [
           13,
           4.69882610569639
          ],
          [
           14,
           5.017279836814924
          ],
          [
           12,
           6.403574197934815
          ],
          [
           18,
           5.017279836814924
          ],
          [
           14,
           4.69882610569639
          ],
          [
           23,
           5.017279836814924
          ],
          [
           13,
           5.017279836814924
          ],
          [
           13,
           4.531772021033223
          ],
          [
           10,
           5.150811229439447
          ],
          [
           9,
           5.150811229439447
          ],
          [
           12,
           5.9981090898266505
          ],
          [
           10,
           6.403574197934815
          ],
          [
           12,
           5.150811229439447
          ],
          [
           6,
           5.304961909266705
          ],
          [
           12,
           4.61181472870676
          ],
          [
           15,
           5.304961909266705
          ],
          [
           11,
           4.794136285500715
          ],
          [
           13,
           5.9981090898266505
          ],
          [
           13,
           5.017279836814924
          ],
          [
           10,
           5.150811229439447
          ],
          [
           17,
           4.745346121331282
          ],
          [
           13,
           5.304961909266705
          ],
          [
           11,
           4.457664048879502
          ],
          [
           13,
           5.48728346606066
          ],
          [
           12,
           4.794136285500715
          ],
          [
           14,
           5.017279836814924
          ],
          [
           10,
           4.8994968011585405
          ],
          [
           20,
           5.71042701737487
          ],
          [
           6,
           5.9981090898266505
          ],
          [
           11,
           5.150811229439447
          ],
          [
           10,
           4.8994968011585405
          ],
          [
           8,
           5.48728346606066
          ],
          [
           17,
           4.61181472870676
          ],
          [
           9,
           5.304961909266705
          ],
          [
           14,
           5.9981090898266505
          ],
          [
           9,
           5.150811229439447
          ],
          [
           15,
           4.794136285500715
          ],
          [
           12,
           5.304961909266705
          ],
          [
           9,
           4.794136285500715
          ],
          [
           23,
           4.845429579888265
          ],
          [
           12,
           4.794136285500715
          ],
          [
           12,
           5.017279836814924
          ],
          [
           13,
           5.9981090898266505
          ],
          [
           13,
           5.71042701737487
          ],
          [
           12,
           4.69882610569639
          ],
          [
           5,
           4.61181472870676
          ],
          [
           10,
           5.48728346606066
          ],
          [
           13,
           5.304961909266705
          ],
          [
           15,
           5.017279836814924
          ],
          [
           10,
           5.017279836814924
          ],
          [
           11,
           5.304961909266705
          ],
          [
           10,
           5.304961909266705
          ],
          [
           11,
           4.69882610569639
          ],
          [
           14,
           4.794136285500715
          ],
          [
           13,
           4.69882610569639
          ],
          [
           10,
           5.017279836814924
          ],
          [
           12,
           4.8994968011585405
          ],
          [
           7,
           5.150811229439447
          ],
          [
           13,
           4.8994968011585405
          ],
          [
           13,
           5.017279836814924
          ],
          [
           10,
           4.8994968011585405
          ],
          [
           16,
           5.150811229439447
          ],
          [
           10,
           5.150811229439447
          ],
          [
           9,
           4.324132656254979
          ],
          [
           10,
           6.403574197934815
          ],
          [
           8,
           5.9981090898266505
          ],
          [
           12,
           5.71042701737487
          ],
          [
           13,
           4.69882610569639
          ],
          [
           13,
           5.304961909266705
          ],
          [
           10,
           5.150811229439447
          ],
          [
           10,
           5.71042701737487
          ],
          [
           9,
           7.0967213784947605
          ],
          [
           16,
           4.38867117739255
          ],
          [
           5,
           4.794136285500715
          ],
          [
           13,
           5.71042701737487
          ],
          [
           11,
           5.48728346606066
          ],
          [
           15,
           5.017279836814924
          ],
          [
           11,
           5.71042701737487
          ],
          [
           9,
           5.304961909266705
          ],
          [
           8,
           5.150811229439447
          ],
          [
           16,
           5.304961909266705
          ],
          [
           8,
           5.304961909266705
          ],
          [
           7,
           5.71042701737487
          ],
          [
           13,
           5.304961909266705
          ],
          [
           11,
           5.391973286256335
          ],
          [
           23,
           4.745346121331282
          ],
          [
           12,
           5.017279836814924
          ],
          [
           13,
           5.150811229439447
          ],
          [
           11,
           4.8994968011585405
          ],
          [
           9,
           5.150811229439447
          ],
          [
           8,
           4.69882610569639
          ],
          [
           12,
           4.38867117739255
          ],
          [
           10,
           5.48728346606066
          ],
          [
           16,
           5.017279836814924
          ],
          [
           20,
           5.71042701737487
          ],
          [
           13,
           5.017279836814924
          ],
          [
           19,
           4.95665521499849
          ],
          [
           9,
           5.150811229439447
          ],
          [
           11,
           5.150811229439447
          ],
          [
           9,
           5.71042701737487
          ],
          [
           12,
           4.8994968011585405
          ],
          [
           20,
           4.95665521499849
          ],
          [
           11,
           5.71042701737487
          ],
          [
           10,
           5.017279836814924
          ],
          [
           12,
           5.48728346606066
          ],
          [
           10,
           4.794136285500715
          ],
          [
           10,
           4.61181472870676
          ],
          [
           26,
           5.150811229439447
          ],
          [
           19,
           5.081818357952495
          ],
          [
           10,
           5.9981090898266505
          ],
          [
           8,
           7.0967213784947605
          ],
          [
           12,
           4.69882610569639
          ],
          [
           6,
           4.69882610569639
          ],
          [
           12,
           5.71042701737487
          ],
          [
           7,
           5.304961909266705
          ],
          [
           11,
           4.69882610569639
          ],
          [
           11,
           5.017279836814924
          ],
          [
           11,
           4.69882610569639
          ],
          [
           9,
           6.403574197934815
          ],
          [
           10,
           5.48728346606066
          ],
          [
           7,
           4.8994968011585405
          ],
          [
           9,
           5.017279836814924
          ],
          [
           9,
           6.403574197934815
          ],
          [
           8,
           5.48728346606066
          ],
          [
           14,
           5.150811229439447
          ],
          [
           15,
           4.794136285500715
          ],
          [
           9,
           7.0967213784947605
          ],
          [
           23,
           4.845429579888265
          ],
          [
           6,
           5.304961909266705
          ],
          [
           14,
           5.304961909266705
          ],
          [
           10,
           5.48728346606066
          ],
          [
           8,
           5.71042701737487
          ],
          [
           9,
           5.304961909266705
          ],
          [
           9,
           5.304961909266705
          ],
          [
           4,
           5.71042701737487
          ],
          [
           9,
           6.403574197934815
          ],
          [
           12,
           5.017279836814924
          ],
          [
           21,
           5.150811229439447
          ],
          [
           9,
           5.71042701737487
          ],
          [
           11,
           5.9981090898266505
          ],
          [
           11,
           5.304961909266705
          ],
          [
           11,
           5.9981090898266505
          ],
          [
           9,
           5.017279836814924
          ],
          [
           10,
           5.017279836814924
          ],
          [
           11,
           5.150811229439447
          ],
          [
           10,
           5.150811229439447
          ],
          [
           9,
           5.48728346606066
          ],
          [
           11,
           5.017279836814924
          ],
          [
           11,
           5.150811229439447
          ],
          [
           10,
           5.48728346606066
          ],
          [
           13,
           5.304961909266705
          ],
          [
           9,
           5.017279836814924
          ],
          [
           7,
           4.8994968011585405
          ],
          [
           11,
           5.017279836814924
          ],
          [
           8,
           5.017279836814924
          ],
          [
           11,
           4.8994968011585405
          ],
          [
           12,
           4.61181472870676
          ],
          [
           9,
           5.48728346606066
          ],
          [
           4,
           7.0967213784947605
          ],
          [
           8,
           5.9981090898266505
          ],
          [
           9,
           5.48728346606066
          ],
          [
           14,
           5.304961909266705
          ],
          [
           12,
           5.150811229439447
          ],
          [
           11,
           5.017279836814924
          ],
          [
           9,
           5.71042701737487
          ],
          [
           11,
           5.48728346606066
          ],
          [
           10,
           5.304961909266705
          ],
          [
           9,
           5.017279836814924
          ],
          [
           10,
           5.304961909266705
          ],
          [
           10,
           4.8994968011585405
          ],
          [
           9,
           4.61181472870676
          ],
          [
           11,
           5.304961909266705
          ],
          [
           10,
           5.304961909266705
          ],
          [
           11,
           5.48728346606066
          ],
          [
           8,
           5.48728346606066
          ],
          [
           8,
           5.71042701737487
          ],
          [
           9,
           5.150811229439447
          ],
          [
           6,
           6.403574197934815
          ],
          [
           12,
           5.150811229439447
          ],
          [
           7,
           5.71042701737487
          ],
          [
           13,
           5.150811229439447
          ],
          [
           7,
           5.017279836814924
          ],
          [
           9,
           5.017279836814924
          ],
          [
           11,
           7.0967213784947605
          ],
          [
           7,
           4.794136285500715
          ],
          [
           20,
           5.48728346606066
          ],
          [
           14,
           5.9981090898266505
          ],
          [
           10,
           5.48728346606066
          ],
          [
           8,
           0
          ],
          [
           7,
           5.150811229439447
          ],
          [
           8,
           5.304961909266705
          ],
          [
           7,
           5.71042701737487
          ],
          [
           5,
           5.150811229439447
          ],
          [
           8,
           5.48728346606066
          ],
          [
           12,
           5.150811229439447
          ],
          [
           8,
           5.71042701737487
          ],
          [
           12,
           6.403574197934815
          ],
          [
           10,
           5.71042701737487
          ],
          [
           11,
           5.48728346606066
          ],
          [
           10,
           5.150811229439447
          ],
          [
           14,
           5.150811229439447
          ],
          [
           8,
           5.48728346606066
          ],
          [
           16,
           4.794136285500715
          ],
          [
           8,
           5.304961909266705
          ],
          [
           8,
           5.48728346606066
          ],
          [
           6,
           5.71042701737487
          ],
          [
           11,
           5.9981090898266505
          ],
          [
           5,
           5.9981090898266505
          ],
          [
           6,
           5.48728346606066
          ],
          [
           7,
           5.304961909266705
          ],
          [
           8,
           5.48728346606066
          ],
          [
           14,
           5.592643981718486
          ],
          [
           13,
           5.9981090898266505
          ],
          [
           5,
           5.71042701737487
          ],
          [
           8,
           4.794136285500715
          ],
          [
           10,
           5.150811229439447
          ],
          [
           5,
           7.0967213784947605
          ],
          [
           9,
           4.8994968011585405
          ],
          [
           8,
           5.9981090898266505
          ],
          [
           16,
           5.224919201593169
          ],
          [
           11,
           5.304961909266705
          ],
          [
           7,
           5.71042701737487
          ],
          [
           10,
           4.8994968011585405
          ],
          [
           9,
           5.304961909266705
          ],
          [
           13,
           5.9981090898266505
          ],
          [
           10,
           7.0967213784947605
          ],
          [
           8,
           5.304961909266705
          ],
          [
           6,
           5.9981090898266505
          ],
          [
           12,
           5.71042701737487
          ],
          [
           9,
           5.71042701737487
          ],
          [
           4,
           5.304961909266705
          ],
          [
           13,
           5.150811229439447
          ],
          [
           10,
           5.304961909266705
          ],
          [
           9,
           5.150811229439447
          ],
          [
           9,
           7.0967213784947605
          ],
          [
           4,
           5.304961909266705
          ],
          [
           8,
           5.9981090898266505
          ],
          [
           9,
           7.0967213784947605
          ],
          [
           8,
           5.150811229439447
          ],
          [
           13,
           4.794136285500715
          ],
          [
           4,
           5.017279836814924
          ],
          [
           4,
           4.61181472870676
          ],
          [
           9,
           6.180430646620605
          ],
          [
           8,
           5.017279836814924
          ],
          [
           6,
           5.71042701737487
          ],
          [
           8,
           5.48728346606066
          ],
          [
           10,
           5.9981090898266505
          ],
          [
           11,
           5.391973286256335
          ],
          [
           6,
           7.0967213784947605
          ],
          [
           13,
           4.845429579888265
          ],
          [
           8,
           5.304961909266705
          ],
          [
           10,
           4.8994968011585405
          ],
          [
           4,
           5.304961909266705
          ],
          [
           9,
           5.48728346606066
          ],
          [
           7,
           5.304961909266705
          ],
          [
           11,
           5.71042701737487
          ],
          [
           9,
           5.48728346606066
          ],
          [
           7,
           5.9981090898266505
          ],
          [
           9,
           6.403574197934815
          ],
          [
           9,
           5.71042701737487
          ],
          [
           6,
           4.531772021033223
          ],
          [
           10,
           6.403574197934815
          ],
          [
           10,
           5.9981090898266505
          ],
          [
           8,
           5.71042701737487
          ],
          [
           6,
           5.48728346606066
          ],
          [
           10,
           5.9981090898266505
          ],
          [
           6,
           5.71042701737487
          ],
          [
           5,
           7.0967213784947605
          ],
          [
           7,
           5.9981090898266505
          ],
          [
           8,
           5.9981090898266505
          ],
          [
           8,
           5.9981090898266505
          ],
          [
           3,
           6.403574197934815
          ],
          [
           6,
           5.71042701737487
          ],
          [
           7,
           6.403574197934815
          ],
          [
           8,
           5.71042701737487
          ],
          [
           6,
           5.48728346606066
          ],
          [
           5,
           6.403574197934815
          ],
          [
           6,
           5.9981090898266505
          ],
          [
           6,
           5.48728346606066
          ],
          [
           7,
           5.9981090898266505
          ],
          [
           6,
           5.71042701737487
          ],
          [
           3,
           5.71042701737487
          ],
          [
           7,
           6.403574197934815
          ],
          [
           7,
           5.150811229439447
          ],
          [
           7,
           5.71042701737487
          ],
          [
           10,
           5.9981090898266505
          ],
          [
           5,
           5.71042701737487
          ],
          [
           6,
           5.71042701737487
          ],
          [
           10,
           5.48728346606066
          ],
          [
           7,
           5.304961909266705
          ],
          [
           9,
           5.9981090898266505
          ],
          [
           5,
           6.403574197934815
          ],
          [
           11,
           5.843958409999392
          ],
          [
           9,
           5.9981090898266505
          ],
          [
           5,
           6.403574197934815
          ],
          [
           3,
           7.0967213784947605
          ],
          [
           8,
           5.304961909266705
          ],
          [
           5,
           5.9981090898266505
          ],
          [
           5,
           5.71042701737487
          ],
          [
           4,
           5.9981090898266505
          ],
          [
           6,
           0
          ],
          [
           5,
           6.403574197934815
          ],
          [
           10,
           5.48728346606066
          ],
          [
           5,
           6.403574197934815
          ],
          [
           6,
           7.0967213784947605
          ],
          [
           9,
           5.48728346606066
          ],
          [
           6,
           5.48728346606066
          ],
          [
           4,
           5.9981090898266505
          ],
          [
           6,
           5.71042701737487
          ],
          [
           10,
           5.48728346606066
          ],
          [
           6,
           6.403574197934815
          ],
          [
           6,
           0
          ],
          [
           4,
           7.0967213784947605
          ],
          [
           6,
           5.304961909266705
          ],
          [
           4,
           5.9981090898266505
          ],
          [
           5,
           0
          ],
          [
           4,
           6.403574197934815
          ],
          [
           1,
           0
          ],
          [
           3,
           6.403574197934815
          ],
          [
           2,
           5.71042701737487
          ],
          [
           8,
           6.403574197934815
          ],
          [
           6,
           7.0967213784947605
          ],
          [
           3,
           6.403574197934815
          ],
          [
           5,
           7.0967213784947605
          ],
          [
           6,
           5.48728346606066
          ],
          [
           7,
           5.9981090898266505
          ],
          [
           3,
           7.0967213784947605
          ],
          [
           4,
           5.9981090898266505
          ],
          [
           4,
           6.403574197934815
          ],
          [
           2,
           6.403574197934815
          ],
          [
           4,
           5.48728346606066
          ]
         ],
         "hovertemplate": "tfidf=%{x}<br>index=%{y}<br>count_review=%{customdata[0]}<br>rating_freq_log_abs=%{marker.color}<extra></extra>",
         "legendgroup": "",
         "marker": {
          "color": [
           0.89216361592607,
           0.7723624161134492,
           1.250282603437036,
           0.91877726444416,
           1.3037077701106166,
           0.912572487557277,
           0.9941627838811915,
           1.0031516084496246,
           1.068442858264062,
           1.3796936770885386,
           0.99864709632852,
           1.0446322095703435,
           1.1886384403258292,
           1.3896111137458846,
           1.1178356135936385,
           1.3067612075975068,
           1.6456829249290597,
           1.8135176497567718,
           1.4727038723074217,
           1.6895496070346414,
           1.3862943611198906,
           1.778601384650544,
           1.6499840068284501,
           1.7934164704356845,
           1.6119244450041053,
           1.6119244450041053,
           2.184066492758708,
           1.7934164704356845,
           1.5792684820300527,
           1.7076496486782593,
           1.949226901681307,
           1.949226901681307,
           1.6940439966224807,
           1.7934164704356845,
           2.0153170135102974,
           1.6244507048232855,
           1.6895496070346414,
           1.8340311895898747,
           2.221524055293609,
           1.854974363435118,
           1.6499840068284501,
           1.7591832987934424,
           1.778601384650544,
           2.4915511925066687,
           2.147961488116592,
           2.191446600056331,
           2.0532962615755137,
           2.3092296357127142,
           2.147961488116592,
           2.0404755731464523,
           1.8656127616401736,
           2.2764398128897234,
           1.984733590138217,
           2.1269080789187598,
           2.1408943208934996,
           2.221524055293609,
           2.198881578543849,
           2.133876748234853,
           2.2764398128897234,
           2.300930832898019,
           2.4145901513705406,
           2.57493280144572,
           2.109695950037638,
           2.244691114575143,
           2.360522930100265,
           2.6080850087626204,
           2.57493280144572,
           2.119987636074186,
           2.3693335597824197,
           2.4238925440328543,
           2.184066492758708,
           2.4915511925066687,
           2.387191177182426,
           2.4238925440328543,
           2.3260367540290954,
           2.396241012702344,
           2.1694676933375554,
           2.387191177182426,
           2.191446600056331,
           3.9612271625656104,
           2.3517892501315103,
           2.848226136445401,
           2.848226136445401,
           2.3517892501315103,
           2.4717485652104894,
           2.4717485652104894,
           2.2845370231223425,
           2.4523304793533875,
           2.7146947438208784,
           3.312531744576499,
           2.300930832898019,
           2.2764398128897234,
           3.4591352187683744,
           3.2049010803841336,
           2.820055259478705,
           2.7272735260277385,
           2.4619923902651246,
           2.5858618719779103,
           2.396241012702344,
           3.2465737767847016,
           2.4053734962656166,
           2.5220103999913777,
           3.184698373066614,
           2.481600861653501,
           2.57493280144572,
           2.5858618719779103,
           2.7146947438208784,
           2.6308132598401768,
           2.3431311873883955,
           2.4717485652104894,
           2.5220103999913777,
           2.553426596224756,
           2.77923326495845,
           2.677880770698162,
           2.690002131230507,
           2.532373187026924,
           2.690002131230507,
           2.442761028337237,
           2.7529159566410764,
           2.690002131230507,
           2.7272735260277385,
           2.907066636468335,
           2.834041501453445,
           2.7146947438208784,
           2.553426596224756,
           3.4331597323651137,
           2.677880770698162,
           2.820055259478705,
           2.9300561546930335,
           2.7146947438208784,
           2.9535866521032275,
           2.7146947438208784,
           2.57493280144572,
           2.6423740822412527,
           2.57493280144572,
           3.3831493117904525,
           2.7146947438208784,
           2.77923326495845,
           2.862614873897501,
           2.806261937346369,
           3.071369687759611,
           3.2465737767847016,
           3.05367011066021,
           2.9535866521032275,
           2.6308132598401768,
           2.5428444868942193,
           2.765988038208429,
           2.6423740822412527,
           3.05367011066021,
           2.596911708164495,
           3.0893881932622893,
           2.969586993449669,
           2.6659045796514467,
           2.654070122004444,
           2.765988038208429,
           2.7146947438208784,
           2.9223341085991232,
           2.7926562852905903,
           2.553426596224756,
           2.820055259478705,
           2.969586993449669,
           2.7272735260277385,
           2.9535866521032275,
           3.0893881932622893,
           3.4331597323651137,
           2.820055259478705,
           2.969586993449669,
           3.0191839345890408,
           3.2255203675868693,
           2.9378382951350885,
           2.9378382951350885,
           3.1648957457704343,
           3.2465737767847016,
           3.3831493117904525,
           4.076296492350398,
           3.2680799820056654,
           3.145477659913333,
           3.0023768162726596,
           2.862614873897501,
           2.7994359722759694,
           4.38867117739255,
           3.60021381702828,
           3.107737331930486,
           3.184698373066614,
           2.9535866521032275,
           3.2900588887244404,
           3.3355212628011977,
           2.9378382951350885,
           3.51320244003865,
           2.9378382951350885,
           2.969586993449669,
           2.862614873897501,
           2.7146947438208784,
           2.907066636468335,
           3.51320244003865,
           3.1264294649426385,
           3.1264294649426385,
           3.5413733170053465,
           3.0191839345890408,
           2.9615548217524044,
           3.8386248404732783,
           3.2900588887244404,
           3.407841924380824,
           3.184698373066614,
           3.3355212628011977,
           3.1264294649426385,
           3.359051760211392,
           2.9535866521032275,
           3.2465737767847016,
           3.036278367948341,
           3.312531744576499,
           3.05367011066021,
           3.0893881932622893,
           3.145477659913333,
           3.071369687759611,
           3.2900588887244404,
           3.107737331930486,
           3.0023768162726596,
           3.312531744576499,
           3.2049010803841336,
           3.51320244003865,
           3.05367011066021,
           3.1648957457704343,
           3.184698373066614,
           3.3355212628011977,
           3.2049010803841336,
           3.51320244003865,
           3.0276946242569496,
           2.985847514321449,
           3.0023768162726596,
           3.407841924380824,
           3.2680799820056654,
           3.1648957457704343,
           3.5413733170053465,
           3.2049010803841336,
           3.2465737767847016,
           3.2049010803841336,
           3.4858034658505357,
           3.0893881932622893,
           3.359051760211392,
           3.312531744576499,
           3.2465737767847016,
           3.145477659913333,
           3.4331597323651137,
           3.312531744576499,
           3.6309854756950335,
           3.145477659913333,
           3.9186675481468147,
           3.312531744576499,
           3.4591352187683744,
           3.2359916674541647,
           3.407841924380824,
           3.6309854756950335,
           3.7294255485082863,
           3.1648957457704343,
           3.407841924380824,
           3.4591352187683744,
           3.3355212628011977,
           3.9612271625656104,
           3.2900588887244404,
           3.2680799820056654,
           3.2465737767847016,
           5.017279836814924,
           3.4858034658505357,
           4.100989104940769,
           3.420420706587684,
           3.2255203675868693,
           3.2255203675868693,
           3.662734174009614,
           3.2900588887244404,
           3.312531744576499,
           3.5413733170053465,
           3.8778455536265595,
           3.51320244003865,
           3.036278367948341,
           3.4331597323651137,
           3.570360853878599,
           3.2680799820056654,
           3.2049010803841336,
           3.2900588887244404,
           3.8008845124904314,
           4.005678925136444,
           3.662734174009614,
           3.3831493117904525,
           3.51320244003865,
           3.4591352187683744,
           3.9186675481468147,
           3.0893881932622893,
           3.3831493117904525,
           3.2255203675868693,
           3.359051760211392,
           3.2680799820056654,
           3.570360853878599,
           3.2255203675868693,
           3.3355212628011977,
           3.5413733170053465,
           3.407841924380824,
           3.4591352187683744,
           3.8386248404732783,
           3.8778455536265595,
           3.4858034658505357,
           3.662734174009614,
           3.2049010803841336,
           3.51320244003865,
           3.2900588887244404,
           3.4858034658505357,
           3.3355212628011977,
           3.51320244003865,
           3.51320244003865,
           3.7645168683195562,
           3.2049010803841336,
           3.60021381702828,
           3.5413733170053465,
           3.5851759396637397,
           3.7645168683195562,
           3.407841924380824,
           3.662734174009614,
           3.8386248404732783,
           3.312531744576499,
           3.695523996832605,
           3.312531744576499,
           3.570360853878599,
           3.4591352187683744,
           3.4858034658505357,
           3.662734174009614,
           4.005678925136444,
           3.4331597323651137,
           3.662734174009614,
           3.7294255485082863,
           3.7294255485082863,
           3.4858034658505357,
           3.3831493117904525,
           3.5413733170053465,
           3.7645168683195562,
           3.7294255485082863,
           3.7645168683195562,
           3.7645168683195562,
           3.662734174009614,
           3.6309854756950335,
           3.8008845124904314,
           3.7294255485082863,
           3.6309854756950335,
           3.60021381702828,
           4.052198940771337,
           3.51320244003865,
           4.61181472870676,
           3.7645168683195562,
           4.38867117739255,
           3.5413733170053465,
           3.9612271625656104,
           3.7645168683195562,
           4.61181472870676,
           3.60021381702828,
           4.8994968011585405,
           3.4591352187683744,
           3.4591352187683744,
           3.6309854756950335,
           3.51320244003865,
           3.312531744576499,
           4.152282399328319,
           3.60021381702828,
           3.983206069284386,
           3.8008845124904314,
           3.9186675481468147,
           3.3831493117904525,
           5.9981090898266505,
           3.407841924380824,
           3.695523996832605,
           3.3831493117904525,
           3.662734174009614,
           5.017279836814924,
           3.570360853878599,
           4.263508034438544,
           3.2255203675868693,
           3.60021381702828,
           3.7645168683195562,
           3.8778455536265595,
           5.48728346606066,
           5.017279836814924,
           4.324132656254979,
           3.7645168683195562,
           3.695523996832605,
           3.8386248404732783,
           3.4858034658505357,
           3.6309854756950335,
           3.4591352187683744,
           3.9186675481468147,
           3.7294255485082863,
           4.206349620598596,
           4.100989104940769,
           3.695523996832605,
           4.263508034438544,
           4.100989104940769,
           3.8778455536265595,
           3.9186675481468147,
           3.9186675481468147,
           3.570360853878599,
           4.794136285500715,
           4.531772021033223,
           3.60021381702828,
           3.5413733170053465,
           4.457664048879502,
           5.9981090898266505,
           4.052198940771337,
           4.005678925136444,
           3.9612271625656104,
           3.9186675481468147,
           3.8008845124904314,
           3.695523996832605,
           3.6309854756950335,
           4.8994968011585405,
           3.8778455536265595,
           3.662734174009614,
           3.570360853878599,
           3.4591352187683744,
           4.100989104940769,
           3.60021381702828,
           4.052198940771337,
           3.695523996832605,
           3.695523996832605,
           4.052198940771337,
           5.017279836814924,
           3.9612271625656104,
           3.5413733170053465,
           3.7645168683195562,
           3.8386248404732783,
           4.052198940771337,
           4.457664048879502,
           3.8386248404732783,
           3.7294255485082863,
           3.570360853878599,
           3.8778455536265595,
           3.7294255485082863,
           3.8008845124904314,
           3.570360853878599,
           3.8778455536265595,
           4.324132656254979,
           3.9612271625656104,
           4.61181472870676,
           4.324132656254979,
           4.052198940771337,
           4.531772021033223,
           3.8008845124904314,
           3.662734174009614,
           3.8778455536265595,
           3.695523996832605,
           4.005678925136444,
           3.7294255485082863,
           4.100989104940769,
           3.9612271625656104,
           4.100989104940769,
           4.005678925136444,
           3.695523996832605,
           3.7645168683195562,
           3.7645168683195562,
           3.7645168683195562,
           0,
           3.6309854756950335,
           3.7294255485082863,
           3.8386248404732783,
           4.531772021033223,
           3.8008845124904314,
           3.9612271625656104,
           4.61181472870676,
           4.794136285500715,
           3.8386248404732783,
           3.662734174009614,
           3.8386248404732783,
           4.100989104940769,
           3.8778455536265595,
           4.100989104940769,
           4.38867117739255,
           4.263508034438544,
           4.052198940771337,
           5.9981090898266505,
           3.9612271625656104,
           3.51320244003865,
           3.695523996832605,
           3.8386248404732783,
           3.9186675481468147,
           4.152282399328319,
           4.457664048879502,
           4.052198940771337,
           3.6309854756950335,
           3.9612271625656104,
           4.324132656254979,
           3.9186675481468147,
           3.4331597323651137,
           4.794136285500715,
           4.152282399328319,
           4.052198940771337,
           4.052198940771337,
           4.38867117739255,
           4.457664048879502,
           4.324132656254979,
           4.152282399328319,
           4.38867117739255,
           4.052198940771337,
           3.9186675481468147,
           3.8778455536265595,
           4.61181472870676,
           4.206349620598596,
           4.100989104940769,
           4.005678925136444,
           3.5413733170053465,
           4.005678925136444,
           3.8008845124904314,
           4.457664048879502,
           3.8008845124904314,
           5.304961909266705,
           4.531772021033223,
           3.9612271625656104,
           4.324132656254979,
           4.38867117739255,
           4.005678925136444,
           4.69882610569639,
           4.263508034438544,
           4.206349620598596,
           3.8386248404732783,
           4.61181472870676,
           4.324132656254979,
           4.152282399328319,
           4.61181472870676,
           4.152282399328319,
           4.206349620598596,
           4.263508034438544,
           4.052198940771337,
           4.052198940771337,
           3.8778455536265595,
           4.263508034438544,
           4.38867117739255,
           3.8778455536265595,
           4.206349620598596,
           4.052198940771337,
           3.9186675481468147,
           4.531772021033223,
           4.005678925136444,
           4.206349620598596,
           4.38867117739255,
           5.017279836814924,
           3.7645168683195562,
           4.152282399328319,
           4.263508034438544,
           3.8778455536265595,
           5.017279836814924,
           5.304961909266705,
           4.100989104940769,
           4.61181472870676,
           4.531772021033223,
           4.152282399328319,
           4.494031693050377,
           4.152282399328319,
           4.61181472870676,
           4.61181472870676,
           4.531772021033223,
           3.9612271625656104,
           4.052198940771337,
           4.206349620598596,
           4.457664048879502,
           4.100989104940769,
           4.69882610569639,
           4.457664048879502,
           4.152282399328319,
           4.38867117739255,
           3.8008845124904314,
           7.0967213784947605,
           4.152282399328319,
           4.61181472870676,
           4.005678925136444,
           4.38867117739255,
           4.263508034438544,
           4.38867117739255,
           4.457664048879502,
           4.794136285500715,
           4.457664048879502,
           4.052198940771337,
           4.794136285500715,
           3.9186675481468147,
           4.100989104940769,
           4.457664048879502,
           4.794136285500715,
           4.263508034438544,
           4.38867117739255,
           3.8778455536265595,
           3.9186675481468147,
           4.152282399328319,
           4.263508034438544,
           4.152282399328319,
           4.531772021033223,
           4.263508034438544,
           4.005678925136444,
           4.61181472870676,
           4.61181472870676,
           4.8994968011585405,
           4.152282399328319,
           5.017279836814924,
           4.206349620598596,
           4.206349620598596,
           3.8386248404732783,
           4.61181472870676,
           4.324132656254979,
           4.457664048879502,
           4.206349620598596,
           4.100989104940769,
           3.9612271625656104,
           4.100989104940769,
           4.324132656254979,
           4.052198940771337,
           4.531772021033223,
           4.38867117739255,
           4.206349620598596,
           4.61181472870676,
           4.028668443361143,
           4.324132656254979,
           4.005678925136444,
           4.324132656254979,
           5.304961909266705,
           4.206349620598596,
           4.005678925136444,
           4.100989104940769,
           4.052198940771337,
           4.324132656254979,
           3.8778455536265595,
           4.38867117739255,
           4.8994968011585405,
           4.052198940771337,
           4.457664048879502,
           5.304961909266705,
           4.206349620598596,
           4.457664048879502,
           4.206349620598596,
           6.180430646620605,
           4.324132656254979,
           4.457664048879502,
           4.38867117739255,
           3.8778455536265595,
           4.457664048879502,
           5.48728346606066,
           3.8008845124904314,
           4.152282399328319,
           5.150811229439447,
           4.531772021033223,
           4.69882610569639,
           4.324132656254979,
           4.69882610569639,
           4.100989104940769,
           4.38867117739255,
           4.152282399328319,
           4.457664048879502,
           4.457664048879502,
           4.61181472870676,
           4.263508034438544,
           4.324132656254979,
           4.69882610569639,
           4.206349620598596,
           4.052198940771337,
           4.69882610569639,
           5.150811229439447,
           4.263508034438544,
           3.9612271625656104,
           4.457664048879502,
           4.38867117739255,
           4.005678925136444,
           4.052198940771337,
           4.324132656254979,
           5.48728346606066,
           4.005678925136444,
           4.206349620598596,
           5.71042701737487,
           4.324132656254979,
           4.61181472870676,
           4.206349620598596,
           4.457664048879502,
           4.794136285500715,
           4.206349620598596,
           4.206349620598596,
           4.61181472870676,
           4.206349620598596,
           4.457664048879502,
           4.8994968011585405,
           5.9981090898266505,
           4.457664048879502,
           4.263508034438544,
           4.794136285500715,
           4.69882610569639,
           5.150811229439447,
           5.017279836814924,
           4.152282399328319,
           4.206349620598596,
           4.531772021033223,
           4.531772021033223,
           3.8778455536265595,
           4.531772021033223,
           3.9186675481468147,
           4.531772021033223,
           3.9186675481468147,
           4.794136285500715,
           4.152282399328319,
           3.9186675481468147,
           4.69882610569639,
           4.206349620598596,
           6.403574197934815,
           4.531772021033223,
           5.017279836814924,
           4.38867117739255,
           4.052198940771337,
           4.005678925136444,
           5.304961909266705,
           3.9612271625656104,
           4.38867117739255,
           4.052198940771337,
           4.8994968011585405,
           4.152282399328319,
           3.9612271625656104,
           4.38867117739255,
           4.457664048879502,
           4.457664048879502,
           4.69882610569639,
           4.263508034438544,
           4.324132656254979,
           4.263508034438544,
           4.38867117739255,
           5.150811229439447,
           4.69882610569639,
           4.38867117739255,
           4.263508034438544,
           4.61181472870676,
           4.61181472870676,
           4.152282399328319,
           4.38867117739255,
           3.9612271625656104,
           4.100989104940769,
           4.263508034438544,
           4.457664048879502,
           4.8994968011585405,
           4.263508034438544,
           4.206349620598596,
           4.052198940771337,
           4.324132656254979,
           4.457664048879502,
           4.61181472870676,
           4.100989104940769,
           4.61181472870676,
           4.263508034438544,
           4.38867117739255,
           4.531772021033223,
           5.48728346606066,
           4.38867117739255,
           6.403574197934815,
           4.206349620598596,
           4.005678925136444,
           4.8994968011585405,
           5.150811229439447,
           4.61181472870676,
           4.457664048879502,
           4.324132656254979,
           4.206349620598596,
           4.69882610569639,
           4.152282399328319,
           5.150811229439447,
           4.263508034438544,
           4.38867117739255,
           4.263508034438544,
           5.48728346606066,
           4.61181472870676,
           4.69882610569639,
           4.8994968011585405,
           4.38867117739255,
           4.206349620598596,
           4.052198940771337,
           5.304961909266705,
           4.324132656254979,
           4.69882610569639,
           4.152282399328319,
           4.38867117739255,
           5.017279836814924,
           4.61181472870676,
           4.457664048879502,
           4.69882610569639,
           4.8994968011585405,
           4.38867117739255,
           4.69882610569639,
           4.61181472870676,
           4.61181472870676,
           4.457664048879502,
           4.457664048879502,
           5.391973286256335,
           4.61181472870676,
           4.654374343125556,
           4.61181472870676,
           6.180430646620605,
           4.61181472870676,
           4.457664048879502,
           5.150811229439447,
           4.324132656254979,
           4.61181472870676,
           4.324132656254979,
           5.304961909266705,
           4.457664048879502,
           4.61181472870676,
           4.531772021033223,
           5.304961909266705,
           4.8994968011585405,
           4.794136285500715,
           4.69882610569639,
           4.152282399328319,
           5.71042701737487,
           4.531772021033223,
           4.324132656254979,
           4.38867117739255,
           4.457664048879502,
           4.531772021033223,
           4.69882610569639,
           5.150811229439447,
           4.531772021033223,
           4.263508034438544,
           4.531772021033223,
           4.61181472870676,
           4.794136285500715,
           5.71042701737487,
           4.69882610569639,
           4.324132656254979,
           4.38867117739255,
           4.69882610569639,
           4.8994968011585405,
           4.263508034438544,
           4.005678925136444,
           4.8994968011585405,
           4.61181472870676,
           4.794136285500715,
           4.61181472870676,
           4.8994968011585405,
           4.531772021033223,
           4.8994968011585405,
           4.794136285500715,
           5.017279836814924,
           4.531772021033223,
           4.531772021033223,
           5.017279836814924,
           4.61181472870676,
           5.304961909266705,
           4.457664048879502,
           4.61181472870676,
           4.61181472870676,
           4.38867117739255,
           4.457664048879502,
           4.8994968011585405,
           5.71042701737487,
           4.8994968011585405,
           4.61181472870676,
           4.531772021033223,
           5.017279836814924,
           4.531772021033223,
           4.263508034438544,
           4.69882610569639,
           5.150811229439447,
           4.794136285500715,
           4.457664048879502,
           5.150811229439447,
           4.69882610569639,
           4.794136285500715,
           4.794136285500715,
           4.457664048879502,
           5.48728346606066,
           4.61181472870676,
           4.206349620598596,
           4.794136285500715,
           4.8994968011585405,
           4.206349620598596,
           5.304961909266705,
           4.8994968011585405,
           4.794136285500715,
           5.48728346606066,
           4.794136285500715,
           4.8994968011585405,
           4.794136285500715,
           4.8994968011585405,
           6.403574197934815,
           4.69882610569639,
           4.457664048879502,
           4.8994968011585405,
           4.794136285500715,
           5.150811229439447,
           5.9981090898266505,
           4.457664048879502,
           5.71042701737487,
           7.0967213784947605,
           5.71042701737487,
           4.38867117739255,
           4.531772021033223,
           4.845429579888265,
           4.531772021033223,
           4.794136285500715,
           5.017279836814924,
           4.61181472870676,
           4.61181472870676,
           4.457664048879502,
           4.531772021033223,
           4.8994968011585405,
           4.324132656254979,
           5.081818357952495,
           4.531772021033223,
           5.71042701737487,
           5.150811229439447,
           5.017279836814924,
           4.69882610569639,
           4.531772021033223,
           5.017279836814924,
           4.8994968011585405,
           4.531772021033223,
           4.531772021033223,
           4.61181472870676,
           6.403574197934815,
           4.8994968011585405,
           5.150811229439447,
           5.71042701737487,
           4.69882610569639,
           5.9981090898266505,
           4.69882610569639,
           4.052198940771337,
           4.8994968011585405,
           4.8994968011585405,
           5.150811229439447,
           5.304961909266705,
           5.017279836814924,
           4.69882610569639,
           5.017279836814924,
           4.794136285500715,
           5.150811229439447,
           5.9981090898266505,
           0,
           5.017279836814924,
           5.150811229439447,
           4.61181472870676,
           4.794136285500715,
           5.48728346606066,
           5.304961909266705,
           4.8994968011585405,
           4.38867117739255,
           4.69882610569639,
           4.69882610569639,
           4.8994968011585405,
           4.794136285500715,
           5.017279836814924,
           7.0967213784947605,
           4.69882610569639,
           5.71042701737487,
           5.48728346606066,
           4.531772021033223,
           4.61181472870676,
           4.457664048879502,
           5.017279836814924,
           4.794136285500715,
           5.48728346606066,
           4.845429579888265,
           4.61181472870676,
           4.69882610569639,
           5.48728346606066,
           7.0967213784947605,
           4.531772021033223,
           4.8994968011585405,
           5.017279836814924,
           5.304961909266705,
           5.304961909266705,
           5.304961909266705,
           4.69882610569639,
           4.69882610569639,
           4.531772021033223,
           5.48728346606066,
           5.9981090898266505,
           4.263508034438544,
           5.150811229439447,
           5.150811229439447,
           7.0967213784947605,
           4.531772021033223,
           5.017279836814924,
           5.017279836814924,
           5.71042701737487,
           4.69882610569639,
           4.794136285500715,
           5.304961909266705,
           5.304961909266705,
           5.017279836814924,
           4.794136285500715,
           4.61181472870676,
           4.8994968011585405,
           5.150811229439447,
           4.8994968011585405,
           5.304961909266705,
           4.8994968011585405,
           5.017279836814924,
           5.150811229439447,
           4.794136285500715,
           5.71042701737487,
           5.304961909266705,
           0,
           4.8994968011585405,
           4.8994968011585405,
           5.017279836814924,
           5.150811229439447,
           4.531772021033223,
           4.8994968011585405,
           4.794136285500715,
           5.017279836814924,
           5.017279836814924,
           4.69882610569639,
           5.48728346606066,
           4.794136285500715,
           6.403574197934815,
           4.8994968011585405,
           5.9981090898266505,
           4.794136285500715,
           5.71042701737487,
           5.71042701737487,
           4.794136285500715,
           4.61181472870676,
           4.8994968011585405,
           5.017279836814924,
           5.9981090898266505,
           5.304961909266705,
           5.150811229439447,
           5.71042701737487,
           4.61181472870676,
           4.8994968011585405,
           4.8994968011585405,
           5.48728346606066,
           5.48728346606066,
           4.8994968011585405,
           4.8994968011585405,
           4.61181472870676,
           5.017279836814924,
           5.150811229439447,
           5.017279836814924,
           5.304961909266705,
           5.304961909266705,
           5.150811229439447,
           4.69882610569639,
           5.017279836814924,
           5.150811229439447,
           4.69882610569639,
           5.017279836814924,
           6.403574197934815,
           5.017279836814924,
           4.69882610569639,
           5.017279836814924,
           5.017279836814924,
           4.531772021033223,
           5.150811229439447,
           5.150811229439447,
           5.9981090898266505,
           6.403574197934815,
           5.150811229439447,
           5.304961909266705,
           4.61181472870676,
           5.304961909266705,
           4.794136285500715,
           5.9981090898266505,
           5.017279836814924,
           5.150811229439447,
           4.745346121331282,
           5.304961909266705,
           4.457664048879502,
           5.48728346606066,
           4.794136285500715,
           5.017279836814924,
           4.8994968011585405,
           5.71042701737487,
           5.9981090898266505,
           5.150811229439447,
           4.8994968011585405,
           5.48728346606066,
           4.61181472870676,
           5.304961909266705,
           5.9981090898266505,
           5.150811229439447,
           4.794136285500715,
           5.304961909266705,
           4.794136285500715,
           4.845429579888265,
           4.794136285500715,
           5.017279836814924,
           5.9981090898266505,
           5.71042701737487,
           4.69882610569639,
           4.61181472870676,
           5.48728346606066,
           5.304961909266705,
           5.017279836814924,
           5.017279836814924,
           5.304961909266705,
           5.304961909266705,
           4.69882610569639,
           4.794136285500715,
           4.69882610569639,
           5.017279836814924,
           4.8994968011585405,
           5.150811229439447,
           4.8994968011585405,
           5.017279836814924,
           4.8994968011585405,
           5.150811229439447,
           5.150811229439447,
           4.324132656254979,
           6.403574197934815,
           5.9981090898266505,
           5.71042701737487,
           4.69882610569639,
           5.304961909266705,
           5.150811229439447,
           5.71042701737487,
           7.0967213784947605,
           4.38867117739255,
           4.794136285500715,
           5.71042701737487,
           5.48728346606066,
           5.017279836814924,
           5.71042701737487,
           5.304961909266705,
           5.150811229439447,
           5.304961909266705,
           5.304961909266705,
           5.71042701737487,
           5.304961909266705,
           5.391973286256335,
           4.745346121331282,
           5.017279836814924,
           5.150811229439447,
           4.8994968011585405,
           5.150811229439447,
           4.69882610569639,
           4.38867117739255,
           5.48728346606066,
           5.017279836814924,
           5.71042701737487,
           5.017279836814924,
           4.95665521499849,
           5.150811229439447,
           5.150811229439447,
           5.71042701737487,
           4.8994968011585405,
           4.95665521499849,
           5.71042701737487,
           5.017279836814924,
           5.48728346606066,
           4.794136285500715,
           4.61181472870676,
           5.150811229439447,
           5.081818357952495,
           5.9981090898266505,
           7.0967213784947605,
           4.69882610569639,
           4.69882610569639,
           5.71042701737487,
           5.304961909266705,
           4.69882610569639,
           5.017279836814924,
           4.69882610569639,
           6.403574197934815,
           5.48728346606066,
           4.8994968011585405,
           5.017279836814924,
           6.403574197934815,
           5.48728346606066,
           5.150811229439447,
           4.794136285500715,
           7.0967213784947605,
           4.845429579888265,
           5.304961909266705,
           5.304961909266705,
           5.48728346606066,
           5.71042701737487,
           5.304961909266705,
           5.304961909266705,
           5.71042701737487,
           6.403574197934815,
           5.017279836814924,
           5.150811229439447,
           5.71042701737487,
           5.9981090898266505,
           5.304961909266705,
           5.9981090898266505,
           5.017279836814924,
           5.017279836814924,
           5.150811229439447,
           5.150811229439447,
           5.48728346606066,
           5.017279836814924,
           5.150811229439447,
           5.48728346606066,
           5.304961909266705,
           5.017279836814924,
           4.8994968011585405,
           5.017279836814924,
           5.017279836814924,
           4.8994968011585405,
           4.61181472870676,
           5.48728346606066,
           7.0967213784947605,
           5.9981090898266505,
           5.48728346606066,
           5.304961909266705,
           5.150811229439447,
           5.017279836814924,
           5.71042701737487,
           5.48728346606066,
           5.304961909266705,
           5.017279836814924,
           5.304961909266705,
           4.8994968011585405,
           4.61181472870676,
           5.304961909266705,
           5.304961909266705,
           5.48728346606066,
           5.48728346606066,
           5.71042701737487,
           5.150811229439447,
           6.403574197934815,
           5.150811229439447,
           5.71042701737487,
           5.150811229439447,
           5.017279836814924,
           5.017279836814924,
           7.0967213784947605,
           4.794136285500715,
           5.48728346606066,
           5.9981090898266505,
           5.48728346606066,
           0,
           5.150811229439447,
           5.304961909266705,
           5.71042701737487,
           5.150811229439447,
           5.48728346606066,
           5.150811229439447,
           5.71042701737487,
           6.403574197934815,
           5.71042701737487,
           5.48728346606066,
           5.150811229439447,
           5.150811229439447,
           5.48728346606066,
           4.794136285500715,
           5.304961909266705,
           5.48728346606066,
           5.71042701737487,
           5.9981090898266505,
           5.9981090898266505,
           5.48728346606066,
           5.304961909266705,
           5.48728346606066,
           5.592643981718486,
           5.9981090898266505,
           5.71042701737487,
           4.794136285500715,
           5.150811229439447,
           7.0967213784947605,
           4.8994968011585405,
           5.9981090898266505,
           5.224919201593169,
           5.304961909266705,
           5.71042701737487,
           4.8994968011585405,
           5.304961909266705,
           5.9981090898266505,
           7.0967213784947605,
           5.304961909266705,
           5.9981090898266505,
           5.71042701737487,
           5.71042701737487,
           5.304961909266705,
           5.150811229439447,
           5.304961909266705,
           5.150811229439447,
           7.0967213784947605,
           5.304961909266705,
           5.9981090898266505,
           7.0967213784947605,
           5.150811229439447,
           4.794136285500715,
           5.017279836814924,
           4.61181472870676,
           6.180430646620605,
           5.017279836814924,
           5.71042701737487,
           5.48728346606066,
           5.9981090898266505,
           5.391973286256335,
           7.0967213784947605,
           4.845429579888265,
           5.304961909266705,
           4.8994968011585405,
           5.304961909266705,
           5.48728346606066,
           5.304961909266705,
           5.71042701737487,
           5.48728346606066,
           5.9981090898266505,
           6.403574197934815,
           5.71042701737487,
           4.531772021033223,
           6.403574197934815,
           5.9981090898266505,
           5.71042701737487,
           5.48728346606066,
           5.9981090898266505,
           5.71042701737487,
           7.0967213784947605,
           5.9981090898266505,
           5.9981090898266505,
           5.9981090898266505,
           6.403574197934815,
           5.71042701737487,
           6.403574197934815,
           5.71042701737487,
           5.48728346606066,
           6.403574197934815,
           5.9981090898266505,
           5.48728346606066,
           5.9981090898266505,
           5.71042701737487,
           5.71042701737487,
           6.403574197934815,
           5.150811229439447,
           5.71042701737487,
           5.9981090898266505,
           5.71042701737487,
           5.71042701737487,
           5.48728346606066,
           5.304961909266705,
           5.9981090898266505,
           6.403574197934815,
           5.843958409999392,
           5.9981090898266505,
           6.403574197934815,
           7.0967213784947605,
           5.304961909266705,
           5.9981090898266505,
           5.71042701737487,
           5.9981090898266505,
           0,
           6.403574197934815,
           5.48728346606066,
           6.403574197934815,
           7.0967213784947605,
           5.48728346606066,
           5.48728346606066,
           5.9981090898266505,
           5.71042701737487,
           5.48728346606066,
           6.403574197934815,
           0,
           7.0967213784947605,
           5.304961909266705,
           5.9981090898266505,
           0,
           6.403574197934815,
           0,
           6.403574197934815,
           5.71042701737487,
           6.403574197934815,
           7.0967213784947605,
           6.403574197934815,
           7.0967213784947605,
           5.48728346606066,
           5.9981090898266505,
           7.0967213784947605,
           5.9981090898266505,
           6.403574197934815,
           6.403574197934815,
           5.48728346606066
          ],
          "coloraxis": "coloraxis",
          "symbol": "circle"
         },
         "mode": "markers",
         "name": "",
         "showlegend": false,
         "type": "scattergl",
         "x": [
          0.03545826195598267,
          0.03440551271980061,
          0.03192122575605723,
          0.030659561603499686,
          0.029630231196241752,
          0.028888050988746666,
          0.02835076597172593,
          0.027986004467101457,
          0.027716478287669263,
          0.026518469855458412,
          0.026462964265306067,
          0.02596679663770024,
          0.025734379738770248,
          0.025337239151165394,
          0.024814699788191598,
          0.023171617589069504,
          0.022448567276737594,
          0.02202893918740409,
          0.021767689608910516,
          0.020165831889478437,
          0.01960373583032863,
          0.01956441216036312,
          0.018683337920787982,
          0.018446851102142853,
          0.01819180291886519,
          0.01758754160231483,
          0.01703729213193319,
          0.017019275675667984,
          0.017008665590245546,
          0.01679812124275754,
          0.01627469674242197,
          0.015936450740669437,
          0.015744131841507185,
          0.015738444730805205,
          0.01569378541530755,
          0.015611345209595104,
          0.015001147676833377,
          0.01478897422923365,
          0.01457452924391723,
          0.014500535667465939,
          0.01442828325560765,
          0.014310846002975212,
          0.014266477408003242,
          0.014142697551449781,
          0.013935204339226435,
          0.013906682826486869,
          0.013830277612921181,
          0.013700070863494047,
          0.013599438165947572,
          0.013477366602156706,
          0.013207726146107875,
          0.012939328026399133,
          0.012852715396560513,
          0.012604454986743988,
          0.012579950918139673,
          0.012429496344628525,
          0.012326164665755897,
          0.01190155525086707,
          0.011624184593413665,
          0.011606976796629198,
          0.011588936395971805,
          0.01131009418660128,
          0.011273366058271951,
          0.011141589380934078,
          0.01110922379394815,
          0.01109711402948983,
          0.011087247904024995,
          0.011059793032123353,
          0.010910529713623284,
          0.010900319867271812,
          0.010769515644858788,
          0.010755698249973984,
          0.010617093327234033,
          0.010552045527156223,
          0.010532591352523702,
          0.010529425742378959,
          0.010478789046132055,
          0.01036387763182957,
          0.010290623857244533,
          0.010220920003877174,
          0.010136642753819387,
          0.009985538309399182,
          0.009957202165406267,
          0.009948575988122436,
          0.00983200484061488,
          0.009790053640098507,
          0.009627098893972886,
          0.009582213136008955,
          0.009543744833473948,
          0.00948994534481545,
          0.009485449091780498,
          0.009404583544318197,
          0.009394292317060036,
          0.00935298901908189,
          0.009338271082800303,
          0.009188568165982826,
          0.008929553183693583,
          0.00892017476250784,
          0.008917698017419673,
          0.008782039247289508,
          0.008768620715331866,
          0.008732391562720081,
          0.008693099325486888,
          0.008643448355198233,
          0.008557984112204627,
          0.008551616506974133,
          0.008418899606497023,
          0.008417662803052388,
          0.008363031904514663,
          0.008358283409639638,
          0.008322392682388739,
          0.008306248004205721,
          0.008304094545666014,
          0.008303561499027052,
          0.008293399780329879,
          0.008271832403374766,
          0.008233309403107,
          0.008221228315166824,
          0.008175718945158355,
          0.008168196380645936,
          0.008115875031049675,
          0.008009488085970356,
          0.007921883538959647,
          0.00792181034389452,
          0.007913697277887438,
          0.007847541894055407,
          0.0078063183613986354,
          0.007803479235783645,
          0.0077882994347556874,
          0.007786069722919892,
          0.007784141196411637,
          0.007731820490766809,
          0.007657263517570973,
          0.007624371288642362,
          0.00760080889461777,
          0.007581330625467717,
          0.007409578917655825,
          0.007408586377985921,
          0.007403814659136727,
          0.00739694648718823,
          0.007347700533269716,
          0.007327595760758798,
          0.007315194757967779,
          0.007279258743026982,
          0.007253070991119221,
          0.0072460121783733894,
          0.007244457478296767,
          0.007242333000587146,
          0.007234279940324056,
          0.0071763981259139464,
          0.007163580559841438,
          0.007136911884136146,
          0.007108446152191951,
          0.007108269957295619,
          0.0070748001751058005,
          0.007054287680725204,
          0.007022820794565824,
          0.007018635596803847,
          0.0069736763005865815,
          0.0069699997448143085,
          0.006966100030828859,
          0.006946314700206913,
          0.006909489173558321,
          0.00681810492978539,
          0.006817355145987331,
          0.0067240053556255576,
          0.00670457039690005,
          0.006679130650350341,
          0.006661916536776424,
          0.00662374249711632,
          0.006554984528476321,
          0.006524759203101933,
          0.006480782395327611,
          0.006457570694709169,
          0.00638513970030846,
          0.006381770400266677,
          0.006379822807691248,
          0.006366413054557746,
          0.00635442282793778,
          0.006327373358833884,
          0.006242354537037117,
          0.006177908520970592,
          0.006170166394362992,
          0.006143077975610674,
          0.006109211827115248,
          0.006103529877522893,
          0.006091878045870865,
          0.0060810834771666674,
          0.006063515465251329,
          0.006045176017807164,
          0.006044360238069176,
          0.006024170855895619,
          0.005948858480545699,
          0.00594717476343622,
          0.005852847968347209,
          0.005847467170202485,
          0.005782562748748442,
          0.005767878098716497,
          0.005719423288171349,
          0.005713160811181825,
          0.005692092491090939,
          0.005643077310376832,
          0.0056358765091332735,
          0.005625259576347431,
          0.005592470401733911,
          0.005579922668729556,
          0.005575582535760902,
          0.005572534425361801,
          0.005566033308017741,
          0.005565541313094748,
          0.005556968825414565,
          0.005543115373504843,
          0.005474069607528352,
          0.005444316678144088,
          0.005441593071198394,
          0.0054275920693866555,
          0.005421400071160991,
          0.005382555492863897,
          0.005382230827426095,
          0.005374711742316502,
          0.005366774297882017,
          0.005336875333468473,
          0.005326510961359003,
          0.005319205914635214,
          0.005314300775325615,
          0.005301807963093104,
          0.005297439680873288,
          0.005244332576503711,
          0.0052380533827964095,
          0.005213791476630269,
          0.005210087710443261,
          0.005188623470463319,
          0.005182760942974121,
          0.00515497162908715,
          0.005149484005993489,
          0.005143151089828219,
          0.005131748512376684,
          0.005119047591940735,
          0.005079298122693507,
          0.005077642834739931,
          0.0050754908802830455,
          0.005056508289783353,
          0.005033910724993191,
          0.005025953912817102,
          0.004990997640778843,
          0.004979149987966312,
          0.004963852454805292,
          0.004939382552505041,
          0.004887865587608495,
          0.004875580820939186,
          0.004860501892947692,
          0.00485835174767314,
          0.004840161045094462,
          0.004839699406877775,
          0.004835593155927665,
          0.004826751714008236,
          0.00479500539649606,
          0.004788462584425162,
          0.004757070764840372,
          0.004746374932573393,
          0.004692955916626024,
          0.004689503838492441,
          0.004680463142669988,
          0.004677421784339437,
          0.0046755467156424785,
          0.0046512421176009055,
          0.0046433094629474165,
          0.004639756840930875,
          0.0046317679300538015,
          0.004627908685509908,
          0.004613661191395285,
          0.00460635959282347,
          0.004604865166937195,
          0.0045986336705958475,
          0.0045862896580458985,
          0.004572939225438757,
          0.004568008302128143,
          0.004564242146802747,
          0.004563232052290921,
          0.004562386042329494,
          0.004546282572366153,
          0.004534728364768905,
          0.004532814883158293,
          0.004523348457735063,
          0.004518800211701894,
          0.004518460590665845,
          0.004497375523584159,
          0.004489172576242511,
          0.004488307557561763,
          0.00448620979885681,
          0.004457340759554254,
          0.004444999464898294,
          0.004435452731166808,
          0.004429748836919677,
          0.004429034573802588,
          0.004387766998067202,
          0.0043815618470213966,
          0.0043781583921113035,
          0.0043752334410602275,
          0.0043443371579001125,
          0.004331812783810758,
          0.00432117299670464,
          0.0043071618716922595,
          0.004269827991891951,
          0.004269453717040508,
          0.004266594306196039,
          0.004223002335347487,
          0.004209649575675909,
          0.004198527825546941,
          0.00417066845005613,
          0.004168150077060765,
          0.00414800210015779,
          0.0041372132128386484,
          0.004133653085874325,
          0.004126199157006775,
          0.004121277646649527,
          0.004106606099779677,
          0.004100532129518705,
          0.004098038280616594,
          0.004083830337237648,
          0.004078247308754368,
          0.0040616943412404415,
          0.004054673801513463,
          0.004035709077049591,
          0.004029786646090175,
          0.00402717984211032,
          0.004016081122299982,
          0.004006430934838803,
          0.003983309232116256,
          0.003981589066133944,
          0.003977416129255809,
          0.003975024963655005,
          0.003970320283618747,
          0.003967472468120425,
          0.003959897497933367,
          0.003950440311322021,
          0.003924382704945243,
          0.00392257140271946,
          0.003910254376737934,
          0.0038964062346107603,
          0.0038871761941558325,
          0.003878898154910456,
          0.0038678584739510915,
          0.0038597910494954308,
          0.003851574787768285,
          0.0038459946359703226,
          0.0037982286851362904,
          0.003788299423018549,
          0.0037573721011186496,
          0.003755788950010028,
          0.0037519458799951336,
          0.0037483439057065175,
          0.003747110705612443,
          0.0037183411078203755,
          0.0037146096448129086,
          0.003711713984019798,
          0.003709549614150471,
          0.0036944024184996827,
          0.0036745914365308293,
          0.0036595136599621323,
          0.003644327065864989,
          0.003642518551582547,
          0.0036414058098686174,
          0.003639724135777244,
          0.0036318644346545336,
          0.0036297521016147856,
          0.0036286521527840367,
          0.00360504748489059,
          0.003604540539874013,
          0.0035991363729316384,
          0.003587834696256317,
          0.003575420178825551,
          0.0035753593828732736,
          0.0035362483684511026,
          0.0035360674290073417,
          0.0035282441348526905,
          0.0035253704226219772,
          0.003511377834108878,
          0.0035109438974947225,
          0.003510813503842515,
          0.0034958682145823823,
          0.0034932647013089617,
          0.003491525489460393,
          0.00348931453671754,
          0.003488828420074556,
          0.0034870216141518673,
          0.003474723061236367,
          0.003463044233157546,
          0.0034561064760475825,
          0.0034495130940190005,
          0.0034422075065423437,
          0.0034260618148042057,
          0.0034254711002620953,
          0.0034237694584831743,
          0.0034179378499950494,
          0.003414733727185535,
          0.003396190641046861,
          0.0033741916339962027,
          0.0033672819752208166,
          0.0033608576463888193,
          0.0033537897434337003,
          0.003346719848305604,
          0.003333473586460837,
          0.0033319743868977032,
          0.0033250854162892017,
          0.003321068699516966,
          0.003310081391542294,
          0.003303184110014319,
          0.0032966708908034608,
          0.0032936253628764903,
          0.003292063574467479,
          0.003286608551443729,
          0.003284853835700671,
          0.0032795897099824633,
          0.0032767930734193458,
          0.003274423356248784,
          0.0032717733594120873,
          0.003271003332794319,
          0.003267543752474235,
          0.0032556047086095903,
          0.0032549562776482844,
          0.0032525022544683175,
          0.0032482659286051413,
          0.003248182076418228,
          0.003242379919621323,
          0.003240342450608836,
          0.0032357177956302986,
          0.0032339522860620243,
          0.003233522124219094,
          0.0032292854956902655,
          0.003227593173083832,
          0.003227587030415063,
          0.003202536013390164,
          0.0031994933275235737,
          0.0031980540970353672,
          0.0031959576371666165,
          0.0031809375470899298,
          0.0031666912839496963,
          0.0031624842579364215,
          0.0031474722890320987,
          0.0031425902661845182,
          0.003131440808228107,
          0.003130278327656664,
          0.003116175924273799,
          0.0031158914624601847,
          0.0031066807849648046,
          0.0030993113128080494,
          0.0030846260100546134,
          0.003075085752681534,
          0.0030707249482976556,
          0.0030687207549672784,
          0.003062371274610559,
          0.003033700392410178,
          0.0030143941825420953,
          0.0030097544535216173,
          0.0030081693828809208,
          0.0030054487008835144,
          0.0029992106873694543,
          0.002994307839981236,
          0.0029925034539701567,
          0.002974497049293142,
          0.0029632920917509087,
          0.0029327812178945247,
          0.0029293227215010428,
          0.0029270570501912503,
          0.0029182656622647727,
          0.0029179380691029323,
          0.0029135644687496797,
          0.0029132611396393343,
          0.002909720783007904,
          0.0029042079498526495,
          0.0028998048628444714,
          0.0028956743932474966,
          0.002891166065028302,
          0.002887691727473646,
          0.002886938711508666,
          0.002884765573329525,
          0.0028817485110981837,
          0.0028790325985732584,
          0.0028786993623697308,
          0.002868377565855843,
          0.0028679445470807933,
          0.0028591639330061295,
          0.0028572884399378413,
          0.002852235239420023,
          0.0028325884764627265,
          0.002830222321107004,
          0.0028291807220741797,
          0.002828703367910608,
          0.002819592470573868,
          0.0028188102306887187,
          0.0028090076927105114,
          0.0028082473108315786,
          0.0028069069285101664,
          0.0028027473019750196,
          0.0028017841853805237,
          0.0027921179588589824,
          0.0027918298821558328,
          0.0027897846623723345,
          0.0027867791675278124,
          0.002785379746117565,
          0.0027832134566604253,
          0.0027753055406552095,
          0.0027634925986348815,
          0.0027621342174497295,
          0.002757106060153019,
          0.0027512543677184497,
          0.002748961484588328,
          0.002743768882598645,
          0.0027394807901843046,
          0.0027278655810324707,
          0.0027265746358294037,
          0.0027255418017589302,
          0.0027166035681554525,
          0.002714439757336285,
          0.002712291055057822,
          0.002708610713539055,
          0.002706449537547758,
          0.0026943129740043766,
          0.0026925225553690074,
          0.0026886953192925703,
          0.002680084278255559,
          0.0026783979915236183,
          0.002668472995403698,
          0.002662522194907715,
          0.002656915226915038,
          0.002646055513139238,
          0.00264548256097269,
          0.00264126934979973,
          0.002636614879414579,
          0.002636339591587397,
          0.0026213502705024322,
          0.002602892817384488,
          0.002602411867811133,
          0.002599341101270528,
          0.002597276097163938,
          0.002595932919174285,
          0.0025895091234832083,
          0.0025877186395512077,
          0.0025844383405334774,
          0.002581714008512461,
          0.002573720845415249,
          0.0025605355354555268,
          0.002559513144018236,
          0.002558021615753067,
          0.002553743948013289,
          0.002547349362965599,
          0.0025430595352740927,
          0.0025353820578309827,
          0.0025346121827282742,
          0.0025313450942486752,
          0.002522213400565319,
          0.0025217161571055922,
          0.0025136404712888323,
          0.002511749379107223,
          0.0025105668158530267,
          0.0025095867851232553,
          0.0025034727912407076,
          0.0025034107007912546,
          0.0024951898751154273,
          0.0024918368723594836,
          0.0024917956615529858,
          0.002484740394258875,
          0.002479533386232629,
          0.002474888590318859,
          0.0024735021374399026,
          0.0024716240894263526,
          0.0024662146821588502,
          0.002460071122481665,
          0.002457580430001531,
          0.002457495611597118,
          0.002452994401033876,
          0.0024489811194034886,
          0.0024485648622895456,
          0.002440410257227229,
          0.0024330285357690566,
          0.0024314637390973792,
          0.002427080936302063,
          0.0024270087273954074,
          0.002416791074094027,
          0.002416441503735937,
          0.0024138850024160263,
          0.0024137434868601246,
          0.002410296273613924,
          0.0024093867773624183,
          0.0024090764819584224,
          0.0024034528203691562,
          0.002400567855402971,
          0.0023971056623151013,
          0.0023936592933922318,
          0.0023922090652114835,
          0.002392149991483285,
          0.002390665940532945,
          0.002389542096323829,
          0.00238190897511228,
          0.002376445798482043,
          0.002374398073192458,
          0.002374015626077388,
          0.0023653233037761578,
          0.0023534606767204014,
          0.002345416468962897,
          0.0023392699343995353,
          0.0023341810061233053,
          0.0023325316031518727,
          0.002319685767488517,
          0.002314039679020112,
          0.002296359429810151,
          0.002290168838151752,
          0.002288044952313051,
          0.002286007467340261,
          0.002279800263534916,
          0.0022789690566641005,
          0.002277697078401769,
          0.002276857375452954,
          0.0022665149848286833,
          0.0022642359675448497,
          0.002260634352445467,
          0.0022584109057456024,
          0.002250342931843198,
          0.002250138226269111,
          0.002249508759740903,
          0.002249472490963372,
          0.002248526253104775,
          0.0022465428990414843,
          0.002244784119452992,
          0.002243264524387705,
          0.0022406973635841296,
          0.0022339783699561783,
          0.0022326692839360267,
          0.0022291574676506906,
          0.002216405695613008,
          0.0022156860293029877,
          0.0022069103935596682,
          0.002205628457349034,
          0.0021999354853095236,
          0.0021953480806501174,
          0.0021931262128495024,
          0.0021892087722176746,
          0.0021832251570212285,
          0.002178633182226703,
          0.0021750336978652576,
          0.0021714030706497076,
          0.0021700397731545143,
          0.0021663803749167564,
          0.0021646548440285938,
          0.0021641645651686615,
          0.0021634680251306276,
          0.0021608303376090842,
          0.0021566785063450757,
          0.0021566740856429558,
          0.002154870928394869,
          0.0021530677990747597,
          0.002150401658186796,
          0.002146112574924248,
          0.0021435711859704755,
          0.0021419261456359054,
          0.0021366939168259184,
          0.0021366811353413047,
          0.0021339447314048196,
          0.0021324308299827672,
          0.0021288568513766542,
          0.0021283584209987757,
          0.0021237538008211983,
          0.0021206698628502708,
          0.002120619470811003,
          0.002111592534982409,
          0.002108320856498687,
          0.002103624550513228,
          0.0021036177759870063,
          0.0020976723649896076,
          0.0020974411054529504,
          0.0020935548447834447,
          0.0020928306207644676,
          0.002088667152373834,
          0.0020860308015198713,
          0.002082248178712731,
          0.002081972767614832,
          0.002078573169206901,
          0.0020780744094377277,
          0.0020768827407538974,
          0.0020750992536187713,
          0.002074173088064304,
          0.0020725632822519726,
          0.0020720811392990926,
          0.002068817521448229,
          0.0020637289124447924,
          0.002063110863129302,
          0.0020624352451512917,
          0.002058499648763509,
          0.002058380162457276,
          0.0020556129691713565,
          0.002053957806532852,
          0.0020534741909761763,
          0.002047724342798541,
          0.002039363822627665,
          0.0020377563899956195,
          0.0020343128824097233,
          0.002031594654463313,
          0.0020310183376932973,
          0.0020276509972858227,
          0.0020248944207691064,
          0.002022678382375969,
          0.002020186605543306,
          0.0020180072750308605,
          0.0020163260842842945,
          0.002014696285491241,
          0.002012999388212834,
          0.002012178735622631,
          0.002010671521490303,
          0.002007508107284234,
          0.00200384975136239,
          0.002000478058805611,
          0.0019989734763928096,
          0.001991333983833738,
          0.0019899845324383107,
          0.001989428434833205,
          0.0019763681007132538,
          0.001974415966508175,
          0.0019737204796362734,
          0.00197274251942239,
          0.0019687669995728527,
          0.0019676926563278567,
          0.0019619229241487506,
          0.0019606902878737745,
          0.0019599787421149322,
          0.0019578223990070523,
          0.001954002402240917,
          0.00195399840810776,
          0.0019496820225354528,
          0.001947203892915642,
          0.0019455799873544716,
          0.001943940702248503,
          0.0019341556673581012,
          0.0019322940909601784,
          0.0019244087366855692,
          0.0019239927833347172,
          0.0019222666764067687,
          0.001920304604939126,
          0.0019162966556827232,
          0.0019131196954121318,
          0.001907250310652127,
          0.0019071889936450028,
          0.0019070351654714502,
          0.0019032614311037753,
          0.0019000322865935664,
          0.0018987660239348008,
          0.0018949655551284616,
          0.0018946539986114965,
          0.001878830141992229,
          0.0018732070864270823,
          0.0018719339201377363,
          0.0018666125547390528,
          0.0018605752986646854,
          0.0018586180239489698,
          0.0018552202039798424,
          0.0018521580376425182,
          0.0018488237622024087,
          0.001848005329377993,
          0.0018470867295165704,
          0.0018438128364201161,
          0.0018411845327684702,
          0.0018403406930287802,
          0.00183949170950023,
          0.0018390578212705354,
          0.0018321704175033706,
          0.0018242924571591067,
          0.0018217847559415985,
          0.001812409687220218,
          0.0018095756095925042,
          0.001808001157052609,
          0.001802017971440814,
          0.0018008714521048671,
          0.0018004683646742057,
          0.0017969023331899842,
          0.0017947005662395585,
          0.0017944567610567892,
          0.0017936114295896578,
          0.0017929758682153154,
          0.0017890922756008288,
          0.001787527355063731,
          0.0017873614169339155,
          0.0017845000644886328,
          0.0017844177461979237,
          0.0017842601583158003,
          0.0017823042867705428,
          0.0017815593896469333,
          0.001781540621020288,
          0.0017811753098573378,
          0.001778020656289636,
          0.0017775569009117046,
          0.0017764690003517492,
          0.001773620138330288,
          0.0017723491247871885,
          0.0017714131309665955,
          0.0017698380573001624,
          0.0017635325842802667,
          0.0017623041658298868,
          0.0017622169038082512,
          0.0017596010046472346,
          0.0017453683182674991,
          0.0017452430291939522,
          0.0017334434031905945,
          0.001730377449296368,
          0.001730040049882439,
          0.001722551097202253,
          0.0017212187830950728,
          0.0017191110213258048,
          0.0017186551559202473,
          0.001718620957312142,
          0.0017139380394349355,
          0.0017103911717536904,
          0.0017041877405245779,
          0.0017002057302641664,
          0.00169936362491825,
          0.0016991569278504205,
          0.001698237805814621,
          0.001696300070955226,
          0.001694400082652705,
          0.0016923432095291866,
          0.0016907627583500492,
          0.0016903541724608742,
          0.001689057658736553,
          0.0016882433389099187,
          0.0016874920625100142,
          0.0016858471774846282,
          0.001683554876030041,
          0.001681590276830443,
          0.0016798416012203947,
          0.0016792608242601214,
          0.0016769354823561334,
          0.001673544250759983,
          0.0016683663500031546,
          0.001666527794481111,
          0.0016654705526064405,
          0.001664141180282574,
          0.0016633232015347912,
          0.0016555607392257493,
          0.0016547475761570535,
          0.0016518194940696742,
          0.0016492808463185438,
          0.0016397362048566069,
          0.0016392194726419492,
          0.0016331768049655194,
          0.0016312619525366279,
          0.0016264469134722344,
          0.0016244606732258272,
          0.0016233718900207134,
          0.0016231979280684776,
          0.0016217236629002115,
          0.0016209158125320782,
          0.0016203355916573994,
          0.0016166787947780024,
          0.0016152331674970973,
          0.001608241257074293,
          0.001606967778225173,
          0.0016041973745057206,
          0.001597902414319904,
          0.0015948878788841418,
          0.001593921321390973,
          0.0015915238033438815,
          0.0015894640272094472,
          0.0015867724368284523,
          0.0015795548824768962,
          0.0015699016752097222,
          0.001566099767652766,
          0.0015656142699921902,
          0.001562266883381041,
          0.0015606885845181604,
          0.001560611503489558,
          0.0015549819163974124,
          0.001548501110683187,
          0.001548292977629762,
          0.0015459952300098758,
          0.0015440576480518506,
          0.0015388082516111885,
          0.0015384272972740161,
          0.0015340266757299813,
          0.0015323555601412114,
          0.0015271767066176766,
          0.0015267426562972709,
          0.0015249402413976731,
          0.001520863788749496,
          0.001518838870067559,
          0.0015183831490533737,
          0.0015180282732476715,
          0.001514510069778361,
          0.001513398700134303,
          0.001511102647088123,
          0.001510462045142837,
          0.0015079066077471604,
          0.0015062821896561567,
          0.0015058330251132297,
          0.00150529733402694,
          0.001503799323003002,
          0.0015031761121099825,
          0.0015031051908857734,
          0.0015023941047157296,
          0.0014968328045929123,
          0.0014964883720428159,
          0.0014959993390661484,
          0.0014959048825384143,
          0.0014940548439180347,
          0.0014891287214278649,
          0.0014883479110484952,
          0.001487977751361349,
          0.0014878339634301966,
          0.0014796380629317734,
          0.001478609001837551,
          0.0014780848065585985,
          0.0014741718368301983,
          0.0014729039918125052,
          0.0014664215596031668,
          0.0014649578496268212,
          0.0014598920463240127,
          0.0014577208921465678,
          0.0014550802636551048,
          0.0014524079554767953,
          0.0014512030304041463,
          0.0014510107239378912,
          0.0014481975283211126,
          0.0014440231937640083,
          0.0014437708409672611,
          0.0014437334222383604,
          0.0014391704011037512,
          0.001438129250837374,
          0.001436064211020426,
          0.0014329858867422854,
          0.001428841944529485,
          0.001426716317491552,
          0.0014228550654212446,
          0.0014209586637086793,
          0.0014182130532191658,
          0.001408516768928775,
          0.001406245971789195,
          0.0014039334205239193,
          0.0013961941558600283,
          0.001395343524538536,
          0.0013941811362351997,
          0.0013927405701206123,
          0.001392484220220637,
          0.0013874379820160675,
          0.0013870928025872592,
          0.0013855102374604868,
          0.0013830977006275113,
          0.001381540951746165,
          0.001366930393062381,
          0.001365993785335164,
          0.0013657785643800865,
          0.0013652270144987883,
          0.0013598301579576205,
          0.0013598045390352984,
          0.0013544417571310328,
          0.0013536886121034391,
          0.0013523452185838624,
          0.0013512588854561638,
          0.0013469685018614593,
          0.0013464899439162641,
          0.0013460758988374532,
          0.0013458597138105207,
          0.0013442116310308657,
          0.0013441461017487525,
          0.0013407844658678224,
          0.0013396455898667505,
          0.0013377503263635427,
          0.0013369655663795182,
          0.0013344313144569582,
          0.0013310334031033056,
          0.0013308394915195994,
          0.0013302986184126908,
          0.001328511353105221,
          0.0013273629012220314,
          0.0013223651833211586,
          0.001320885712466709,
          0.0013172123528371346,
          0.0013165784947565165,
          0.0013160852310532664,
          0.0013157890551422225,
          0.0013147195131787636,
          0.0013135490411658195,
          0.001312420728127647,
          0.0013048918160674804,
          0.0013028226335480033,
          0.0013004248167520936,
          0.0012998352108649835,
          0.0012995770654682904,
          0.001299314652455889,
          0.0012978230656453288,
          0.0012972569349332468,
          0.0012923545007897347,
          0.001290950941497163,
          0.0012895937478874693,
          0.0012877261068864104,
          0.0012875362791149967,
          0.001286270521888959,
          0.001278498718978461,
          0.0012720985815621861,
          0.001272080862721152,
          0.0012682649643173012,
          0.0012658921692035204,
          0.001265191109521911,
          0.0012632810149931263,
          0.0012620760466149124,
          0.0012591002270886077,
          0.001258096277264789,
          0.0012566210217265221,
          0.0012540981031082883,
          0.0012538959766832205,
          0.0012497897466479625,
          0.0012464520183450645,
          0.0012461826374007008,
          0.0012454472529834525,
          0.0012435834945612816,
          0.0012399297549533519,
          0.0012394956225358117,
          0.0012393180789041962,
          0.0012392115715184236,
          0.0012381502047735767,
          0.001237054229703046,
          0.001232254100210898,
          0.0012295135194433033,
          0.0012278661003298436,
          0.001227648207347724,
          0.0012243902983234578,
          0.0012209435792850444,
          0.0012201734642937755,
          0.0012200584275014901,
          0.0012193262376493461,
          0.0012178815927041413,
          0.0012158120643778365,
          0.0012132935105196292,
          0.0012132291480206289,
          0.0012122688736084534,
          0.0012118220098218343,
          0.001210997923226162,
          0.0012098451531545552,
          0.0012094721750898704,
          0.0012069719814299222,
          0.0012021879463049302,
          0.0012019342135320841,
          0.0012013433242063867,
          0.0011980584901690014,
          0.0011973313594362792,
          0.0011963488688313047,
          0.0011940931065799365,
          0.001194088977063153,
          0.0011903665582275954,
          0.0011896507544017672,
          0.0011865250343619223,
          0.001185953395891095,
          0.0011849588527455175,
          0.0011843572197525521,
          0.0011800430607130383,
          0.0011776941032252068,
          0.001177391700710782,
          0.0011746239365080665,
          0.0011734720148075905,
          0.0011722031246778025,
          0.0011627710230214447,
          0.0011627165340336461,
          0.0011606475967799459,
          0.001160539384805706,
          0.0011600819277445985,
          0.001159265166798959,
          0.0011568442404809125,
          0.0011533680775065256,
          0.0011517341022080057,
          0.001151531050930296,
          0.0011512405577017832,
          0.0011501919292572836,
          0.0011500286069870953,
          0.0011482946619800073,
          0.0011482356538592084,
          0.0011460398852549596,
          0.0011443796763001995,
          0.0011439503889017213,
          0.0011427296523155981,
          0.0011419592293110791,
          0.0011397507923642778,
          0.0011392119317649803,
          0.001137930981935616,
          0.0011361741544836325,
          0.001128178011800268,
          0.0011275513943048371,
          0.0011270673097042777,
          0.0011261792515367493,
          0.0011261482572254926,
          0.0011256047578255875,
          0.0011240791186321879,
          0.0011221080919071238,
          0.0011199594528444679,
          0.0011195430856754177,
          0.001118927266616787,
          0.001118556729033711,
          0.0011183400601035417,
          0.0011136663003452117,
          0.0011136161237258187,
          0.0011133157491695451,
          0.0011116084451718692,
          0.001108903172614551,
          0.001099701087631099,
          0.001099198675039846,
          0.0010948493256778555,
          0.0010917572357479251,
          0.00109030806257924,
          0.001087841601629465,
          0.0010863678123587848,
          0.001086064708476344,
          0.0010860249072364451,
          0.001084844047846545,
          0.0010834272146372612,
          0.0010831602320040788,
          0.0010816092846639585,
          0.0010765150361081138,
          0.0010763165840680677,
          0.0010761221716702157,
          0.0010751516996707923,
          0.0010741529335810648,
          0.0010728226353235355,
          0.0010719344053538146,
          0.001070103552771041,
          0.0010669010323876547,
          0.0010657615883859608,
          0.001058019350421639,
          0.001057972635358349,
          0.001057540455618708,
          0.0010574696144874257,
          0.0010556927467319638,
          0.0010519943438942001,
          0.0010509391929610509,
          0.0010481470032909395,
          0.0010464510109341864,
          0.0010456335364115784,
          0.001045251048078314,
          0.0010448992851185255,
          0.0010440891091835064,
          0.0010367878991614852,
          0.001036748260345206,
          0.001035410646091234,
          0.0010335200925513256,
          0.001033492435332229,
          0.001033019695150602,
          0.0010322393204744208,
          0.001031460817054442,
          0.00103033803305725,
          0.0010297554840867683,
          0.0010280643269487569,
          0.001026735913928868,
          0.00102415145446259,
          0.0010230753588350754,
          0.0010221925132123848,
          0.001021418194324251,
          0.001019793172511376,
          0.001014232630561286,
          0.0010097824436578985,
          0.0010092264244332527,
          0.0010059165653637284,
          0.0010052722726735723,
          0.0010004426017017913,
          9.999129902472426E-4,
          9.995500010373172E-4,
          9.958514469277729E-4,
          9.95566900979968E-4,
          9.944570275573815E-4,
          9.93988714395775E-4,
          9.928241980417386E-4,
          9.912401382338905E-4,
          9.884026258730797E-4,
          9.852887284032487E-4,
          9.818522956049314E-4,
          9.818027244119123E-4,
          9.800235915897169E-4,
          9.79844460911185E-4,
          9.792544346496827E-4,
          9.765018358089564E-4,
          9.761792346041757E-4,
          9.752757398150819E-4,
          9.750526104806505E-4,
          9.709827613078478E-4,
          9.690566497943784E-4,
          9.64955227790266E-4,
          9.637085227255939E-4,
          9.634717127352866E-4,
          9.632587588202856E-4,
          9.623048759390347E-4,
          9.615101182659047E-4,
          9.602516705038409E-4,
          9.602377412123061E-4,
          9.587069308831984E-4,
          9.575987394477941E-4,
          9.575274851307761E-4,
          9.556632816884539E-4,
          9.554327744644846E-4,
          9.554131665573995E-4,
          9.532455095443841E-4,
          9.50937647841178E-4,
          9.505573711687686E-4,
          9.49709946874797E-4,
          9.480433309556785E-4,
          9.462109346917819E-4,
          9.356351606625148E-4,
          9.319461114384719E-4,
          9.310512970748949E-4,
          9.297062963044479E-4,
          9.285365014595699E-4,
          9.285179026381474E-4,
          9.255833227116559E-4,
          9.215309193671408E-4,
          9.204519490473999E-4,
          9.20121947809469E-4,
          9.17005214264142E-4,
          9.158430447809714E-4,
          9.107529535673978E-4,
          9.096315119047636E-4,
          9.08887634022883E-4,
          9.066954108269877E-4,
          9.061804830761284E-4,
          9.029274939518533E-4,
          9.005604636297448E-4,
          9.00076286353043E-4,
          8.998260786357008E-4,
          8.996343013635803E-4,
          8.984832223068004E-4,
          8.958161332248628E-4,
          8.957536227167469E-4,
          8.951048016398947E-4,
          8.938887336849282E-4,
          8.934618515379431E-4,
          8.934456987872312E-4,
          8.908163023584683E-4,
          8.901487211476809E-4,
          8.887474965175197E-4,
          8.847341958688246E-4,
          8.83289245472479E-4,
          8.821096558448196E-4,
          8.817313367020228E-4,
          8.741814506999151E-4,
          8.723341812026638E-4,
          8.708858581309355E-4,
          8.67226754736784E-4,
          8.657679870859097E-4,
          8.642544611886709E-4,
          8.609891759086337E-4,
          8.578740325778576E-4,
          8.542903483578825E-4,
          8.54037676946759E-4,
          8.493198525249212E-4,
          8.462418606389709E-4,
          8.399616342876848E-4,
          8.379220372921803E-4,
          8.347550436214235E-4,
          8.319292810608654E-4,
          8.30631558865748E-4,
          8.287708714033527E-4,
          8.258205482644744E-4,
          8.217319891410793E-4,
          8.185283388483348E-4,
          8.183252866716837E-4,
          8.09971174956478E-4,
          8.087539020480865E-4,
          8.048981483552267E-4,
          8.047331017769411E-4,
          8.035710983312711E-4,
          7.974642203173941E-4,
          7.944499374276376E-4,
          7.918839659259738E-4,
          7.834002634047766E-4,
          7.829859835645776E-4,
          7.779998456480457E-4,
          7.731104670977096E-4,
          7.718312586090623E-4,
          7.669080105890565E-4,
          7.659847139295602E-4,
          7.631650925443469E-4,
          7.615813848382691E-4,
          7.614702034122282E-4,
          7.612870516406789E-4,
          7.586070582870586E-4,
          7.558005748539176E-4,
          7.548746820464639E-4,
          7.484616160498772E-4,
          7.462621057304539E-4,
          7.450830929051095E-4,
          7.437003156287828E-4,
          7.417948901049257E-4,
          7.285616234716226E-4,
          7.257121028368463E-4,
          7.243524969288428E-4,
          7.195665566000111E-4,
          7.154600260825578E-4,
          7.130152468346878E-4,
          7.097420114717144E-4,
          7.038913484379142E-4,
          7.007227820442022E-4,
          6.953025187148153E-4,
          6.933464641479721E-4,
          6.928499045679935E-4,
          6.82443618593851E-4,
          6.800621751519038E-4,
          6.751161013603427E-4,
          6.726509315923344E-4,
          6.704177027900718E-4,
          6.680352799429484E-4,
          6.679802531899827E-4,
          6.664458697217967E-4,
          6.625407193973541E-4,
          6.620204456475918E-4,
          6.61240121315446E-4,
          6.607518058658663E-4,
          6.550979072063141E-4,
          6.526333646789689E-4,
          6.521111907885285E-4,
          6.488900446324313E-4,
          6.485416479845887E-4,
          6.435278970594816E-4,
          6.358708111935593E-4,
          6.354156074327876E-4,
          6.310476042781512E-4,
          6.30554979980203E-4,
          6.300912040101874E-4,
          6.189460041673805E-4,
          6.187345571627387E-4,
          6.178764556121606E-4,
          6.146373367078721E-4,
          6.093570639672653E-4,
          6.080396903287025E-4,
          6.068304658714121E-4,
          6.054803932592763E-4,
          6.042409093199878E-4,
          6.015497618559147E-4,
          6.012332214948774E-4,
          5.90794470754483E-4,
          5.886230626201247E-4,
          5.865217906331963E-4,
          5.810302312046634E-4,
          5.784568058638122E-4,
          5.763379060791838E-4,
          5.683905932540863E-4,
          5.590715047171876E-4,
          5.586198202905061E-4,
          5.379901214815926E-4,
          5.375914306139024E-4,
          5.261611694501802E-4,
          5.225550930246096E-4,
          5.214293767942178E-4,
          5.097184941755876E-4,
          4.876805629293287E-4,
          4.8504676108723077E-4,
          4.8286050733229504E-4,
          4.819305126770794E-4,
          4.805017290454282E-4,
          4.7567286856001645E-4,
          4.7566522784440313E-4,
          4.681880707936899E-4,
          4.6689738742040595E-4,
          4.577215570489428E-4,
          4.506967263038778E-4,
          4.4385361716066987E-4,
          4.3719703414787605E-4,
          4.275370055127299E-4,
          4.175530281611771E-4,
          4.0501019054316233E-4,
          3.927070374268119E-4,
          3.8265602907780504E-4,
          3.67298484333575E-4,
          3.4016262737838934E-4,
          3.154224100976958E-4,
          3.138024673682742E-4,
          2.96845536646877E-4,
          2.8537792285529166E-4,
          2.4609986181293775E-4
         ],
         "xaxis": "x",
         "y": [
          "tast",
          "like",
          "product",
          "flavor",
          "coffe",
          "love",
          "food",
          "one",
          "tri",
          "tea",
          "great",
          "good",
          "veri",
          "dog",
          "use",
          "get",
          "buy",
          "order",
          "eat",
          "would",
          "make",
          "amazon",
          "dont",
          "bag",
          "time",
          "onli",
          "box",
          "price",
          "much",
          "realli",
          "treat",
          "even",
          "best",
          "drink",
          "chocol",
          "well",
          "find",
          "becaus",
          "bought",
          "day",
          "also",
          "ive",
          "littl",
          "purchas",
          "water",
          "cup",
          "cat",
          "packag",
          "look",
          "better",
          "mix",
          "made",
          "brand",
          "recommend",
          "ani",
          "way",
          "want",
          "found",
          "give",
          "first",
          "could",
          "pack",
          "store_groceri",
          "think",
          "cooki",
          "review",
          "never",
          "year",
          "snack",
          "say",
          "favorit",
          "cant",
          "enjoy",
          "two",
          "differ",
          "know",
          "sweet",
          "stuff",
          "high",
          "disappoint",
          "befor",
          "got",
          "smell",
          "thing",
          "local",
          "sugar",
          "delici",
          "ship",
          "someth",
          "item",
          "work",
          "perfect",
          "receiv",
          "bad",
          "old",
          "ever",
          "sinc",
          "still",
          "need",
          "open",
          "take",
          "alway",
          "thought",
          "lot",
          "put",
          "month",
          "organ",
          "nice",
          "add",
          "everi",
          "mani",
          "bit",
          "doe",
          "back",
          "less",
          "right",
          "bar",
          "keep",
          "hard",
          "small",
          "qualiti",
          "dri",
          "peopl",
          "last",
          "hot",
          "away",
          "far",
          "didnt",
          "potato_chip",
          "healthi",
          "new",
          "wonder",
          "feel",
          "fresh",
          "come",
          "candi",
          "whole",
          "oil",
          "actual",
          "bottl",
          "sure",
          "chew",
          "anyth",
          "regular",
          "sauc",
          "start",
          "milk",
          "without",
          "real",
          "size",
          "case",
          "blend",
          "seem",
          "easi",
          "enough",
          "definit",
          "problem",
          "calori",
          "natur",
          "doesnt",
          "chicken",
          "theyr",
          "around",
          "see",
          "compani",
          "long",
          "contain",
          "howev",
          "bitter",
          "thank",
          "quick",
          "expect",
          "arriv",
          "soup",
          "money_wast",
          "cereal",
          "pleas",
          "worth",
          "big",
          "gluten_free",
          "return",
          "noth",
          "anoth",
          "coconut",
          "strong",
          "ill",
          "came",
          "pretti",
          "wont",
          "green",
          "bean",
          "cook",
          "help",
          "though",
          "said",
          "textur",
          "usual",
          "read",
          "deal",
          "ingredi_list",
          "star",
          "absolut",
          "took",
          "expens",
          "corn",
          "happi",
          "kid",
          "serv",
          "kind",
          "tasti",
          "almost",
          "week",
          "low",
          "avail",
          "health",
          "feed",
          "famili",
          "morn",
          "cost",
          "sever",
          "kcup_keurig",
          "protein",
          "friend",
          "brew",
          "ounc",
          "quit",
          "whi",
          "butter_peanut",
          "may",
          "dark",
          "amount",
          "color",
          "yet",
          "piec",
          "fat",
          "powder",
          "excel",
          "end",
          "home",
          "spice",
          "went",
          "roast",
          "leav",
          "second",
          "varieti",
          "hope",
          "bake",
          "couldnt",
          "abl",
          "chang",
          "cream_ice",
          "pet",
          "wish",
          "gave",
          "amaz",
          "fruit",
          "place",
          "glad",
          "mouth",
          "care",
          "husband",
          "vet",
          "horribl",
          "might",
          "throw",
          "salt_sea",
          "carri",
          "rice",
          "sell",
          "live",
          "stop",
          "onlin",
          "els",
          "chees",
          "top",
          "black",
          "mayb",
          "minut",
          "fill",
          "half",
          "total",
          "wouldnt",
          "normal",
          "fan",
          "jar",
          "compar",
          "babi",
          "rich",
          "cheaper",
          "decid",
          "reason",
          "hand",
          "sweeten",
          "meal",
          "per",
          "syrup",
          "light",
          "let",
          "pop",
          "bone",
          "isnt",
          "market",
          "coupl",
          "probabl",
          "full",
          "weight",
          "turn",
          "fact",
          "surpris",
          "least",
          "life",
          "notic",
          "meat",
          "subscrib_save",
          "either",
          "extra",
          "starbuck",
          "must",
          "plus",
          "beef",
          "especi",
          "past",
          "hour",
          "recent",
          "exact",
          "saw",
          "wheat",
          "three",
          "bread",
          "ago",
          "white",
          "type",
          "honey",
          "complet",
          "popcorn",
          "instead",
          "artifici",
          "hous",
          "person",
          "anyon",
          "pick",
          "season",
          "tell",
          "seed",
          "run",
          "seller",
          "salti",
          "plastic",
          "scienc_diet",
          "believ",
          "fine",
          "unfortun",
          "grain",
          "terribl",
          "prefer",
          "near",
          "everyth",
          "vanilla",
          "onc",
          "pay",
          "pound",
          "bulli_stick",
          "experi",
          "bite",
          "youll",
          "worst",
          "smooth",
          "fast",
          "larg",
          "offer",
          "chemic",
          "red",
          "decaf",
          "sometim",
          "final",
          "valu",
          "version",
          "descript",
          "nasti",
          "rest",
          "pepper",
          "clear",
          "insid",
          "awesom",
          "stay",
          "issu",
          "nut",
          "huge",
          "caus",
          "origin",
          "juic",
          "label",
          "excit",
          "wasnt",
          "stock",
          "packet",
          "close",
          "pictur",
          "cheap",
          "although",
          "cut",
          "hate",
          "stale",
          "gum",
          "pasta",
          "direct",
          "cocoa",
          "smaller",
          "consist",
          "allergi",
          "expir_date",
          "teeth",
          "addict",
          "brown",
          "recip",
          "state",
          "licoric",
          "digest",
          "includ",
          "energi",
          "eaten",
          "wrong",
          "base",
          "slight",
          "breakfast",
          "crunchi",
          "finish",
          "custom_servic",
          "goe",
          "part",
          "oatmeal",
          "within",
          "soft",
          "super",
          "switch",
          "soda",
          "formula",
          "soy",
          "cannot",
          "jerki",
          "longer",
          "toy",
          "night",
          "yummi",
          "raw",
          "often",
          "appl",
          "side",
          "bulk",
          "deliv",
          "name",
          "almond",
          "result",
          "addit",
          "instant",
          "mention",
          "threw",
          "satisfi",
          "line",
          "hair",
          "guess",
          "suggest",
          "done",
          "anymor",
          "sent",
          "fri",
          "clean",
          "bowl",
          "veget",
          "content",
          "call",
          "newman",
          "singl",
          "thin",
          "disgust",
          "set",
          "bodi",
          "altern",
          "rather",
          "next",
          "extrem",
          "avoid",
          "acid",
          "benefit",
          "soon",
          "aftertast",
          "cinnamon",
          "skin",
          "someon",
          "chewi",
          "everyon",
          "spici",
          "allow",
          "left",
          "follow",
          "ask",
          "seal",
          "consid",
          "caffein",
          "wait",
          "show",
          "bold",
          "cake",
          "nutrit",
          "point",
          "four",
          "etc",
          "none",
          "blue",
          "poor",
          "happen",
          "fair",
          "chai",
          "today",
          "special",
          "busi",
          "batch",
          "similar",
          "bottom",
          "felt",
          "noodl",
          "wife",
          "dollar",
          "shop",
          "miss",
          "mean",
          "replac",
          "cours",
          "entir",
          "deliveri",
          "count",
          "pour",
          "supermarket",
          "fantast",
          "train",
          "sick",
          "glass",
          "due",
          "choic",
          "warn",
          "continu",
          "thick",
          "immedi",
          "picki",
          "suppos",
          "paid",
          "havent",
          "ball",
          "pretzel",
          "sodium",
          "websit_word",
          "pod",
          "wrap",
          "realiz",
          "check",
          "itbr",
          "plan",
          "crazi",
          "sold",
          "gone",
          "matter",
          "opinion",
          "weve",
          "drop",
          "effect",
          "refund",
          "ground",
          "comment",
          "simpli",
          "machin",
          "christma",
          "flour",
          "mint",
          "weak",
          "plain",
          "puppi",
          "send",
          "heat",
          "worri",
          "cracker",
          "mother",
          "mine",
          "kitchen",
          "stomach",
          "dip",
          "espresso",
          "truli",
          "five",
          "walmart",
          "gram",
          "hold",
          "daughter",
          "incred",
          "told",
          "yes",
          "sip",
          "ate",
          "greeni",
          "beauti",
          "basket_gift",
          "banana",
          "seen",
          "alreadi",
          "process",
          "easili",
          "dish",
          "serious",
          "lower",
          "learn",
          "melt",
          "consum",
          "figur",
          "hes_son",
          "basic",
          "anyway",
          "spend",
          "mistak",
          "ginger",
          "dure",
          "alon",
          "orang",
          "describ",
          "fiber",
          "caramel",
          "twice",
          "option",
          "whatev",
          "sorri",
          "fun",
          "break",
          "given",
          "bewar_buyer",
          "suppli",
          "produc",
          "difficult",
          "sit",
          "garlic",
          "bare",
          "along",
          "provid",
          "shipment",
          "substitut",
          "write",
          "pumpkin",
          "idea",
          "sprinkl",
          "togeth",
          "vitamin",
          "rememb",
          "later",
          "perhap",
          "maker",
          "sale",
          "knew",
          "crave",
          "bring",
          "rate",
          "post",
          "lemon",
          "previous",
          "site",
          "particular",
          "conveni",
          "carb",
          "honest",
          "dent",
          "egg",
          "oliv",
          "gross",
          "crisp",
          "control",
          "french",
          "lack",
          "greasi",
          "search",
          "pure",
          "loos",
          "lunch",
          "everyday",
          "broken",
          "rip",
          "freez",
          "share",
          "quantiti",
          "number",
          "stuck_vinegar",
          "trust",
          "pouch",
          "import",
          "appear",
          "remind",
          "becom",
          "rock",
          "note",
          "individu",
          "pie",
          "boy",
          "creami",
          "mild",
          "sort",
          "shape",
          "tasteless",
          "cover",
          "advertis",
          "pleasant",
          "cold",
          "liver",
          "known",
          "fish",
          "afford",
          "impress",
          "tini",
          "pricey",
          "unlik",
          "dinner",
          "beat",
          "troubl",
          "aroma",
          "healthier",
          "larger",
          "world",
          "delight",
          "unless",
          "mom",
          "simpl",
          "veggi",
          "except",
          "premium",
          "trip",
          "area",
          "discov",
          "sampl",
          "coat",
          "walk",
          "awar",
          "yum",
          "possibl",
          "workout",
          "requir",
          "portion",
          "true",
          "sourc",
          "crystal",
          "face",
          "wet",
          "crust_pizza",
          "zero",
          "complaint",
          "damag",
          "shot",
          "fit",
          "manufactur",
          "bunch",
          "claim",
          "offic",
          "shake",
          "dessert",
          "pancak",
          "crunch",
          "earth",
          "toast",
          "cherri",
          "roll",
          "trash",
          "pantri",
          "sugarfre",
          "lost",
          "italian",
          "granola",
          "research",
          "liter",
          "hit",
          "concern",
          "easier",
          "becam",
          "refus",
          "spot",
          "heavi",
          "curri",
          "junk",
          "salmon",
          "trick",
          "buck",
          "interest",
          "shelf",
          "door",
          "leak_mess",
          "short",
          "earl_grey",
          "hint",
          "china_kidney",
          "talk",
          "tree",
          "imagin",
          "onion",
          "thrill",
          "kick",
          "heart",
          "condit",
          "via",
          "boil",
          "overwhelm",
          "hole",
          "forward",
          "front",
          "general",
          "neither",
          "move",
          "turkey",
          "restaur",
          "arent",
          "retail",
          "empti",
          "stevia",
          "pull",
          "balanc",
          "main",
          "various",
          "brewer_timothi",
          "broke",
          "yellow",
          "readi",
          "travel",
          "sound",
          "weird",
          "tend",
          "pot",
          "fix",
          "amazoncom",
          "test",
          "salad",
          "tomato",
          "style",
          "pocket_pill",
          "lose",
          "six",
          "fed",
          "sour",
          "charg",
          "subscript",
          "unit",
          "sensit",
          "standard",
          "appreci",
          "refresh",
          "suffer",
          "plant",
          "metal",
          "youv",
          "prepar",
          "glutenfre",
          "adult",
          "outsid",
          "upon",
          "tough",
          "doubl",
          "stand",
          "uniqu",
          "flower",
          "initi",
          "wow",
          "chunk",
          "spread",
          "wors",
          "grow",
          "medium",
          "chili",
          "combin",
          "blueberri",
          "overpr",
          "thembr",
          "lover",
          "sad",
          "frozen",
          "lime",
          "remov",
          "job",
          "bacon",
          "mapl",
          "level",
          "paper",
          "otherwis",
          "shock",
          "spit",
          "straight",
          "thrown",
          "beyond",
          "shame",
          "mind",
          "warm",
          "birthday_parti",
          "tip",
          "girl",
          "steak",
          "touch",
          "fabul",
          "chines",
          "homemad",
          "mini",
          "system",
          "handl_late",
          "crumbl",
          "crap",
          "pass",
          "solid",
          "guy",
          "scoop",
          "load",
          "raspberri",
          "grill",
          "mountain",
          "drive",
          "bland",
          "visit",
          "broth",
          "vendor",
          "latt",
          "vomit",
          "skeptic",
          "certain",
          "frequent",
          "kept",
          "gold",
          "contact",
          "tin",
          "heaven",
          "complain",
          "admit",
          "nose",
          "choke",
          "mold",
          "everywher",
          "understand",
          "increas",
          "garden",
          "children",
          "agre",
          "instruct",
          "daili",
          "lid",
          "moist",
          "futur",
          "drinker",
          "superior",
          "garbag",
          "depend",
          "fake",
          "msg",
          "oat",
          "bed",
          "overal",
          "extract",
          "afternoon",
          "squar",
          "beer_root",
          "scent",
          "diseas_celiac",
          "stash",
          "rancid",
          "cool",
          "folk",
          "overpow",
          "kettl",
          "safe",
          "upset",
          "microwav",
          "separ",
          "squeez",
          "odor",
          "ruin",
          "develop",
          "select",
          "decent",
          "respons",
          "wine",
          "tire",
          "alot",
          "reaction",
          "filler",
          "dissolv",
          "term",
          "fell",
          "head",
          "gobbl",
          "anywher",
          "age",
          "step",
          "gas",
          "favor",
          "biscuit",
          "drank",
          "waffl",
          "medic",
          "diarrhea",
          "preserv",
          "gag",
          "experienc",
          "car",
          "gummi",
          "english",
          "jelli",
          "kibbl",
          "kitti",
          "pea",
          "stronger",
          "current",
          "mango",
          "german",
          "cancel",
          "delic",
          "canist",
          "major",
          "support",
          "strang",
          "stir",
          "begin",
          "themselv",
          "suck",
          "spent",
          "third",
          "summer",
          "odd",
          "form",
          "strip",
          "besid",
          "prior",
          "hungri",
          "higher",
          "cent",
          "limit",
          "heard",
          "peach",
          "practic",
          "chanc",
          "web",
          "appeal",
          "sleep",
          "strawberri",
          "doctor",
          "nutriti",
          "play",
          "posit",
          "inform",
          "grab",
          "center_liquid",
          "dad",
          "ton",
          "costco",
          "room",
          "owner",
          "elsewher",
          "brought",
          "hazelnut",
          "spoon",
          "floor",
          "hook",
          "email",
          "concentr",
          "child",
          "berri_smoothi",
          "reduc",
          "slice",
          "cardboard",
          "wild",
          "improv",
          "yogurt",
          "percent_fructos",
          "throat",
          "tart",
          "grind",
          "mark",
          "plenti",
          "bubbl",
          "accept",
          "shell",
          "question",
          "gotten",
          "moistur",
          "adopt_shes",
          "eater",
          "older",
          "risk",
          "whether",
          "school",
          "matcha",
          "bud",
          "dump",
          "obvious",
          "bear",
          "correct",
          "steam",
          "watch",
          "typic",
          "prime",
          "promis",
          "diabet",
          "bbq",
          "dead",
          "nutti",
          "goodbr",
          "symptom_cramp",
          "grew",
          "kitten",
          "ined",
          "aspartam",
          "danger",
          "act",
          "okay",
          "gourmet",
          "burnt",
          "fail",
          "scratch",
          "hemp",
          "attempt",
          "wake",
          "tablespoon",
          "ridicul",
          "harder",
          "creamer",
          "lab_usa",
          "thai",
          "mill",
          "measur",
          "cheddar_puff",
          "supplement_gain",
          "photo",
          "doubt",
          "grade",
          "flat",
          "breath",
          "eye",
          "air",
          "byproduct",
          "crack_mail",
          "necessari",
          "mixtur_raisin",
          "negat",
          "rave",
          "spoil",
          "occasion",
          "ran_dairi",
          "wateri",
          "duck",
          "remain",
          "sandwich",
          "teaspoon",
          "filter_onto",
          "apart_fall",
          "target",
          "carbon",
          "sticki",
          "shampoo",
          "taken",
          "cowork",
          "abov",
          "common",
          "transit",
          "page",
          "imposs",
          "grass",
          "hesit",
          "kit",
          "splenda",
          "sens",
          "relat",
          "swallow",
          "design_specif",
          "litter",
          "lead",
          "productbr",
          "supplier",
          "bill",
          "recal",
          "truffl",
          "edibl",
          "tradit",
          "pain_intestin",
          "equal",
          "dust",
          "beverag",
          "appar",
          "rescu",
          "meant",
          "answer",
          "introduc",
          "countri",
          "nutrient",
          "needless",
          "desk",
          "therefor",
          "pan",
          "canida",
          "bother",
          "mocha",
          "proper",
          "creat",
          "crumb",
          "zico",
          "present",
          "vegetarian",
          "leftov",
          "updat",
          "buffalo",
          "drain",
          "indic",
          "behind",
          "fanci",
          "eventu",
          "refriger",
          "herb",
          "american",
          "prevent",
          "burn",
          "sign",
          "poop",
          "power",
          "leaf",
          "temperatur",
          "member",
          "indoor",
          "cola",
          "whenev",
          "fda",
          "frost",
          "emerg_die",
          "shouldnt",
          "suspect",
          "polici",
          "gravi",
          "despit",
          "cranberri",
          "hear",
          "tuna",
          "human",
          "foil",
          "link_jack",
          "miner",
          "toss",
          "rais",
          "middl",
          "rawhid",
          "foodbr",
          "choos",
          "smoke",
          "sunflow",
          "destroy",
          "farm",
          "magic",
          "lbs",
          "soak",
          "golden_werent",
          "forc",
          "senseo",
          "wash",
          "excess",
          "cane",
          "constant",
          "toler",
          "yeast_medicin",
          "bore",
          "discontinu",
          "youd",
          "exampl",
          "discount",
          "mislead",
          "titl",
          "herbal",
          "cri",
          "allerg",
          "browni",
          "began",
          "effort",
          "earli",
          "spill",
          "diamond",
          "reorder",
          "manag",
          "rins",
          "across",
          "hip",
          "acai",
          "hydrogen_partial",
          "andor",
          "parent",
          "blood",
          "coupon",
          "cancer_anim",
          "wrote",
          "stool_slowli",
          "stapl",
          "press",
          "jasmin",
          "repeat",
          "peppermint",
          "rare",
          "advic",
          "palat",
          "evo",
          "agav_prompt",
          "firm",
          "assur",
          "assum",
          "attent",
          "sister",
          "explain",
          "detail",
          "flavour",
          "resembl",
          "tongu",
          "googl",
          "sodastream",
          "wide",
          "rid",
          "thisbr",
          "forget",
          "accord",
          "activ",
          "internet",
          "tabl",
          "kill",
          "dress",
          "knock",
          "lick",
          "chose",
          "funni",
          "throughout",
          "vegan",
          "stori",
          "program",
          "flavorbr",
          "inch",
          "chop_pork",
          "written",
          "wed",
          "carton",
          "jump",
          "multipl",
          "comparison",
          "california",
          "poison",
          "ten",
          "innova",
          "theyv",
          "somewhat",
          "split",
          "method",
          "spray",
          "grape",
          "hill",
          "death",
          "unpleas",
          "affect",
          "fridg",
          "joe",
          "yuck",
          "taco",
          "nobr",
          "bpa",
          "magnesium",
          "meet_luck",
          "toxic",
          "refil",
          "trap_mebr",
          "push",
          "carbohydr",
          "steep",
          "canin",
          "report",
          "muffin",
          "lie"
         ],
         "yaxis": "y"
        }
       ],
       "layout": {
        "coloraxis": {
         "colorbar": {
          "title": {
           "text": "rating_freq_log_abs"
          }
         },
         "colorscale": [
          [
           0,
           "#0d0887"
          ],
          [
           0.1111111111111111,
           "#46039f"
          ],
          [
           0.2222222222222222,
           "#7201a8"
          ],
          [
           0.3333333333333333,
           "#9c179e"
          ],
          [
           0.4444444444444444,
           "#bd3786"
          ],
          [
           0.5555555555555556,
           "#d8576b"
          ],
          [
           0.6666666666666666,
           "#ed7953"
          ],
          [
           0.7777777777777778,
           "#fb9f3a"
          ],
          [
           0.8888888888888888,
           "#fdca26"
          ],
          [
           1,
           "#f0f921"
          ]
         ]
        },
        "legend": {
         "tracegroupgap": 0
        },
        "margin": {
         "t": 60
        },
        "template": {
         "data": {
          "bar": [
           {
            "error_x": {
             "color": "#2a3f5f"
            },
            "error_y": {
             "color": "#2a3f5f"
            },
            "marker": {
             "line": {
              "color": "#E5ECF6",
              "width": 0.5
             },
             "pattern": {
              "fillmode": "overlay",
              "size": 10,
              "solidity": 0.2
             }
            },
            "type": "bar"
           }
          ],
          "barpolar": [
           {
            "marker": {
             "line": {
              "color": "#E5ECF6",
              "width": 0.5
             },
             "pattern": {
              "fillmode": "overlay",
              "size": 10,
              "solidity": 0.2
             }
            },
            "type": "barpolar"
           }
          ],
          "carpet": [
           {
            "aaxis": {
             "endlinecolor": "#2a3f5f",
             "gridcolor": "white",
             "linecolor": "white",
             "minorgridcolor": "white",
             "startlinecolor": "#2a3f5f"
            },
            "baxis": {
             "endlinecolor": "#2a3f5f",
             "gridcolor": "white",
             "linecolor": "white",
             "minorgridcolor": "white",
             "startlinecolor": "#2a3f5f"
            },
            "type": "carpet"
           }
          ],
          "choropleth": [
           {
            "colorbar": {
             "outlinewidth": 0,
             "ticks": ""
            },
            "type": "choropleth"
           }
          ],
          "contour": [
           {
            "colorbar": {
             "outlinewidth": 0,
             "ticks": ""
            },
            "colorscale": [
             [
              0,
              "#0d0887"
             ],
             [
              0.1111111111111111,
              "#46039f"
             ],
             [
              0.2222222222222222,
              "#7201a8"
             ],
             [
              0.3333333333333333,
              "#9c179e"
             ],
             [
              0.4444444444444444,
              "#bd3786"
             ],
             [
              0.5555555555555556,
              "#d8576b"
             ],
             [
              0.6666666666666666,
              "#ed7953"
             ],
             [
              0.7777777777777778,
              "#fb9f3a"
             ],
             [
              0.8888888888888888,
              "#fdca26"
             ],
             [
              1,
              "#f0f921"
             ]
            ],
            "type": "contour"
           }
          ],
          "contourcarpet": [
           {
            "colorbar": {
             "outlinewidth": 0,
             "ticks": ""
            },
            "type": "contourcarpet"
           }
          ],
          "heatmap": [
           {
            "colorbar": {
             "outlinewidth": 0,
             "ticks": ""
            },
            "colorscale": [
             [
              0,
              "#0d0887"
             ],
             [
              0.1111111111111111,
              "#46039f"
             ],
             [
              0.2222222222222222,
              "#7201a8"
             ],
             [
              0.3333333333333333,
              "#9c179e"
             ],
             [
              0.4444444444444444,
              "#bd3786"
             ],
             [
              0.5555555555555556,
              "#d8576b"
             ],
             [
              0.6666666666666666,
              "#ed7953"
             ],
             [
              0.7777777777777778,
              "#fb9f3a"
             ],
             [
              0.8888888888888888,
              "#fdca26"
             ],
             [
              1,
              "#f0f921"
             ]
            ],
            "type": "heatmap"
           }
          ],
          "heatmapgl": [
           {
            "colorbar": {
             "outlinewidth": 0,
             "ticks": ""
            },
            "colorscale": [
             [
              0,
              "#0d0887"
             ],
             [
              0.1111111111111111,
              "#46039f"
             ],
             [
              0.2222222222222222,
              "#7201a8"
             ],
             [
              0.3333333333333333,
              "#9c179e"
             ],
             [
              0.4444444444444444,
              "#bd3786"
             ],
             [
              0.5555555555555556,
              "#d8576b"
             ],
             [
              0.6666666666666666,
              "#ed7953"
             ],
             [
              0.7777777777777778,
              "#fb9f3a"
             ],
             [
              0.8888888888888888,
              "#fdca26"
             ],
             [
              1,
              "#f0f921"
             ]
            ],
            "type": "heatmapgl"
           }
          ],
          "histogram": [
           {
            "marker": {
             "pattern": {
              "fillmode": "overlay",
              "size": 10,
              "solidity": 0.2
             }
            },
            "type": "histogram"
           }
          ],
          "histogram2d": [
           {
            "colorbar": {
             "outlinewidth": 0,
             "ticks": ""
            },
            "colorscale": [
             [
              0,
              "#0d0887"
             ],
             [
              0.1111111111111111,
              "#46039f"
             ],
             [
              0.2222222222222222,
              "#7201a8"
             ],
             [
              0.3333333333333333,
              "#9c179e"
             ],
             [
              0.4444444444444444,
              "#bd3786"
             ],
             [
              0.5555555555555556,
              "#d8576b"
             ],
             [
              0.6666666666666666,
              "#ed7953"
             ],
             [
              0.7777777777777778,
              "#fb9f3a"
             ],
             [
              0.8888888888888888,
              "#fdca26"
             ],
             [
              1,
              "#f0f921"
             ]
            ],
            "type": "histogram2d"
           }
          ],
          "histogram2dcontour": [
           {
            "colorbar": {
             "outlinewidth": 0,
             "ticks": ""
            },
            "colorscale": [
             [
              0,
              "#0d0887"
             ],
             [
              0.1111111111111111,
              "#46039f"
             ],
             [
              0.2222222222222222,
              "#7201a8"
             ],
             [
              0.3333333333333333,
              "#9c179e"
             ],
             [
              0.4444444444444444,
              "#bd3786"
             ],
             [
              0.5555555555555556,
              "#d8576b"
             ],
             [
              0.6666666666666666,
              "#ed7953"
             ],
             [
              0.7777777777777778,
              "#fb9f3a"
             ],
             [
              0.8888888888888888,
              "#fdca26"
             ],
             [
              1,
              "#f0f921"
             ]
            ],
            "type": "histogram2dcontour"
           }
          ],
          "mesh3d": [
           {
            "colorbar": {
             "outlinewidth": 0,
             "ticks": ""
            },
            "type": "mesh3d"
           }
          ],
          "parcoords": [
           {
            "line": {
             "colorbar": {
              "outlinewidth": 0,
              "ticks": ""
             }
            },
            "type": "parcoords"
           }
          ],
          "pie": [
           {
            "automargin": true,
            "type": "pie"
           }
          ],
          "scatter": [
           {
            "marker": {
             "colorbar": {
              "outlinewidth": 0,
              "ticks": ""
             }
            },
            "type": "scatter"
           }
          ],
          "scatter3d": [
           {
            "line": {
             "colorbar": {
              "outlinewidth": 0,
              "ticks": ""
             }
            },
            "marker": {
             "colorbar": {
              "outlinewidth": 0,
              "ticks": ""
             }
            },
            "type": "scatter3d"
           }
          ],
          "scattercarpet": [
           {
            "marker": {
             "colorbar": {
              "outlinewidth": 0,
              "ticks": ""
             }
            },
            "type": "scattercarpet"
           }
          ],
          "scattergeo": [
           {
            "marker": {
             "colorbar": {
              "outlinewidth": 0,
              "ticks": ""
             }
            },
            "type": "scattergeo"
           }
          ],
          "scattergl": [
           {
            "marker": {
             "colorbar": {
              "outlinewidth": 0,
              "ticks": ""
             }
            },
            "type": "scattergl"
           }
          ],
          "scattermapbox": [
           {
            "marker": {
             "colorbar": {
              "outlinewidth": 0,
              "ticks": ""
             }
            },
            "type": "scattermapbox"
           }
          ],
          "scatterpolar": [
           {
            "marker": {
             "colorbar": {
              "outlinewidth": 0,
              "ticks": ""
             }
            },
            "type": "scatterpolar"
           }
          ],
          "scatterpolargl": [
           {
            "marker": {
             "colorbar": {
              "outlinewidth": 0,
              "ticks": ""
             }
            },
            "type": "scatterpolargl"
           }
          ],
          "scatterternary": [
           {
            "marker": {
             "colorbar": {
              "outlinewidth": 0,
              "ticks": ""
             }
            },
            "type": "scatterternary"
           }
          ],
          "surface": [
           {
            "colorbar": {
             "outlinewidth": 0,
             "ticks": ""
            },
            "colorscale": [
             [
              0,
              "#0d0887"
             ],
             [
              0.1111111111111111,
              "#46039f"
             ],
             [
              0.2222222222222222,
              "#7201a8"
             ],
             [
              0.3333333333333333,
              "#9c179e"
             ],
             [
              0.4444444444444444,
              "#bd3786"
             ],
             [
              0.5555555555555556,
              "#d8576b"
             ],
             [
              0.6666666666666666,
              "#ed7953"
             ],
             [
              0.7777777777777778,
              "#fb9f3a"
             ],
             [
              0.8888888888888888,
              "#fdca26"
             ],
             [
              1,
              "#f0f921"
             ]
            ],
            "type": "surface"
           }
          ],
          "table": [
           {
            "cells": {
             "fill": {
              "color": "#EBF0F8"
             },
             "line": {
              "color": "white"
             }
            },
            "header": {
             "fill": {
              "color": "#C8D4E3"
             },
             "line": {
              "color": "white"
             }
            },
            "type": "table"
           }
          ]
         },
         "layout": {
          "annotationdefaults": {
           "arrowcolor": "#2a3f5f",
           "arrowhead": 0,
           "arrowwidth": 1
          },
          "autotypenumbers": "strict",
          "coloraxis": {
           "colorbar": {
            "outlinewidth": 0,
            "ticks": ""
           }
          },
          "colorscale": {
           "diverging": [
            [
             0,
             "#8e0152"
            ],
            [
             0.1,
             "#c51b7d"
            ],
            [
             0.2,
             "#de77ae"
            ],
            [
             0.3,
             "#f1b6da"
            ],
            [
             0.4,
             "#fde0ef"
            ],
            [
             0.5,
             "#f7f7f7"
            ],
            [
             0.6,
             "#e6f5d0"
            ],
            [
             0.7,
             "#b8e186"
            ],
            [
             0.8,
             "#7fbc41"
            ],
            [
             0.9,
             "#4d9221"
            ],
            [
             1,
             "#276419"
            ]
           ],
           "sequential": [
            [
             0,
             "#0d0887"
            ],
            [
             0.1111111111111111,
             "#46039f"
            ],
            [
             0.2222222222222222,
             "#7201a8"
            ],
            [
             0.3333333333333333,
             "#9c179e"
            ],
            [
             0.4444444444444444,
             "#bd3786"
            ],
            [
             0.5555555555555556,
             "#d8576b"
            ],
            [
             0.6666666666666666,
             "#ed7953"
            ],
            [
             0.7777777777777778,
             "#fb9f3a"
            ],
            [
             0.8888888888888888,
             "#fdca26"
            ],
            [
             1,
             "#f0f921"
            ]
           ],
           "sequentialminus": [
            [
             0,
             "#0d0887"
            ],
            [
             0.1111111111111111,
             "#46039f"
            ],
            [
             0.2222222222222222,
             "#7201a8"
            ],
            [
             0.3333333333333333,
             "#9c179e"
            ],
            [
             0.4444444444444444,
             "#bd3786"
            ],
            [
             0.5555555555555556,
             "#d8576b"
            ],
            [
             0.6666666666666666,
             "#ed7953"
            ],
            [
             0.7777777777777778,
             "#fb9f3a"
            ],
            [
             0.8888888888888888,
             "#fdca26"
            ],
            [
             1,
             "#f0f921"
            ]
           ]
          },
          "colorway": [
           "#636efa",
           "#EF553B",
           "#00cc96",
           "#ab63fa",
           "#FFA15A",
           "#19d3f3",
           "#FF6692",
           "#B6E880",
           "#FF97FF",
           "#FECB52"
          ],
          "font": {
           "color": "#2a3f5f"
          },
          "geo": {
           "bgcolor": "white",
           "lakecolor": "white",
           "landcolor": "#E5ECF6",
           "showlakes": true,
           "showland": true,
           "subunitcolor": "white"
          },
          "hoverlabel": {
           "align": "left"
          },
          "hovermode": "closest",
          "mapbox": {
           "style": "light"
          },
          "paper_bgcolor": "white",
          "plot_bgcolor": "#E5ECF6",
          "polar": {
           "angularaxis": {
            "gridcolor": "white",
            "linecolor": "white",
            "ticks": ""
           },
           "bgcolor": "#E5ECF6",
           "radialaxis": {
            "gridcolor": "white",
            "linecolor": "white",
            "ticks": ""
           }
          },
          "scene": {
           "xaxis": {
            "backgroundcolor": "#E5ECF6",
            "gridcolor": "white",
            "gridwidth": 2,
            "linecolor": "white",
            "showbackground": true,
            "ticks": "",
            "zerolinecolor": "white"
           },
           "yaxis": {
            "backgroundcolor": "#E5ECF6",
            "gridcolor": "white",
            "gridwidth": 2,
            "linecolor": "white",
            "showbackground": true,
            "ticks": "",
            "zerolinecolor": "white"
           },
           "zaxis": {
            "backgroundcolor": "#E5ECF6",
            "gridcolor": "white",
            "gridwidth": 2,
            "linecolor": "white",
            "showbackground": true,
            "ticks": "",
            "zerolinecolor": "white"
           }
          },
          "shapedefaults": {
           "line": {
            "color": "#2a3f5f"
           }
          },
          "ternary": {
           "aaxis": {
            "gridcolor": "white",
            "linecolor": "white",
            "ticks": ""
           },
           "baxis": {
            "gridcolor": "white",
            "linecolor": "white",
            "ticks": ""
           },
           "bgcolor": "#E5ECF6",
           "caxis": {
            "gridcolor": "white",
            "linecolor": "white",
            "ticks": ""
           }
          },
          "title": {
           "x": 0.05
          },
          "xaxis": {
           "automargin": true,
           "gridcolor": "white",
           "linecolor": "white",
           "ticks": "",
           "title": {
            "standoff": 15
           },
           "zerolinecolor": "white",
           "zerolinewidth": 2
          },
          "yaxis": {
           "automargin": true,
           "gridcolor": "white",
           "linecolor": "white",
           "ticks": "",
           "title": {
            "standoff": 15
           },
           "zerolinecolor": "white",
           "zerolinewidth": 2
          }
         }
        },
        "xaxis": {
         "anchor": "y",
         "domain": [
          0,
          1
         ],
         "title": {
          "text": "tfidf"
         }
        },
        "yaxis": {
         "anchor": "x",
         "domain": [
          0,
          1
         ],
         "title": {
          "text": "index"
         }
        }
       }
      },
      "text/html": [
       "<div>                            <div id=\"41d1cd90-92ea-4e7b-9df4-a583883641e5\" class=\"plotly-graph-div\" style=\"height:525px; width:100%;\"></div>            <script type=\"text/javascript\">                require([\"plotly\"], function(Plotly) {                    window.PLOTLYENV=window.PLOTLYENV || {};                                    if (document.getElementById(\"41d1cd90-92ea-4e7b-9df4-a583883641e5\")) {                    Plotly.newPlot(                        \"41d1cd90-92ea-4e7b-9df4-a583883641e5\",                        [{\"customdata\":[[623.0,0.89216361592607],[671.0,0.7723624161134492],[499.0,1.250282603437036],[497.0,0.91877726444416],[229.0,1.3037077701106166],[514.0,0.912572487557277],[326.0,0.9941627838811915],[533.0,1.0031516084496246],[522.0,1.068442858264062],[177.0,1.3796936770885386],[424.0,0.99864709632852],[465.0,1.0446322095703435],[458.0,1.1886384403258292],[209.0,1.3896111137458846],[396.0,1.1178356135936385],[433.0,1.3067612075975068],[370.0,1.6456829249290597],[283.0,1.8135176497567718],[307.0,1.4727038723074217],[381.0,1.6895496070346414],[368.0,1.3862943611198906],[290.0,1.778601384650544],[333.0,1.6499840068284501],[224.0,1.7934164704356845],[318.0,1.6119244450041053],[335.0,1.6119244450041053],[191.0,2.184066492758708],[239.0,1.7934164704356845],[308.0,1.5792684820300527],[287.0,1.7076496486782593],[156.0,1.949226901681307],[290.0,1.949226901681307],[250.0,1.6940439966224807],[178.0,1.7934164704356845],[123.0,2.0153170135102974],[253.0,1.6244507048232855],[241.0,1.6895496070346414],[282.0,1.8340311895898747],[234.0,2.221524055293609],[209.0,1.854974363435118],[276.0,1.6499840068284501],[222.0,1.7591832987934424],[234.0,1.778601384650544],[198.0,2.4915511925066687],[168.0,2.147961488116592],[150.0,2.191446600056331],[97.0,2.0532962615755137],[179.0,2.3092296357127142],[226.0,2.147961488116592],[216.0,2.0404755731464523],[178.0,1.8656127616401736],[203.0,2.2764398128897234],[176.0,1.984733590138217],[194.0,2.1269080789187598],[227.0,2.1408943208934996],[208.0,2.221524055293609],[223.0,2.198881578543849],[185.0,2.133876748234853],[186.0,2.2764398128897234],[219.0,2.300930832898019],[197.0,2.4145901513705406],[140.0,2.57493280144572],[270.0,2.109695950037638],[199.0,2.244691114575143],[69.0,2.360522930100265],[177.0,2.6080850087626204],[172.0,2.57493280144572],[173.0,2.119987636074186],[100.0,2.3693335597824197],[181.0,2.4238925440328543],[138.0,2.184066492758708],[155.0,2.4915511925066687],[135.0,2.387191177182426],[162.0,2.4238925440328543],[160.0,2.3260367540290954],[177.0,2.396241012702344],[142.0,2.1694676933375554],[133.0,2.387191177182426],[164.0,2.191446600056331],[136.0,3.9612271625656104],[178.0,2.3517892501315103],[151.0,2.848226136445401],[122.0,2.848226136445401],[164.0,2.3517892501315103],[143.0,2.4717485652104894],[125.0,2.4717485652104894],[133.0,2.2845370231223425],[118.0,2.4523304793533875],[156.0,2.7146947438208784],[102.0,3.312531744576499],[140.0,2.300930832898019],[118.0,2.2764398128897234],[114.0,3.4591352187683744],[142.0,3.2049010803841336],[124.0,2.820055259478705],[137.0,2.7272735260277385],[141.0,2.4619923902651246],[149.0,2.5858618719779103],[140.0,2.396241012702344],[119.0,3.2465737767847016],[131.0,2.4053734962656166],[111.0,2.5220103999913777],[134.0,3.184698373066614],[129.0,2.481600861653501],[145.0,2.57493280144572],[121.0,2.5858618719779103],[81.0,2.7146947438208784],[107.0,2.6308132598401768],[116.0,2.3431311873883955],[127.0,2.4717485652104894],[130.0,2.5220103999913777],[124.0,2.553426596224756],[130.0,2.77923326495845],[125.0,2.677880770698162],[119.0,2.690002131230507],[117.0,2.532373187026924],[55.0,2.690002131230507],[120.0,2.442761028337237],[117.0,2.7529159566410764],[117.0,2.690002131230507],[109.0,2.7272735260277385],[101.0,2.907066636468335],[116.0,2.834041501453445],[116.0,2.7146947438208784],[89.0,2.553426596224756],[107.0,3.4331597323651137],[109.0,2.677880770698162],[129.0,2.820055259478705],[104.0,2.9300561546930335],[99.0,2.7146947438208784],[109.0,2.9535866521032275],[106.0,2.7146947438208784],[116.0,2.57493280144572],[100.0,2.6423740822412527],[131.0,2.57493280144572],[56.0,3.3831493117904525],[109.0,2.7146947438208784],[75.0,2.77923326495845],[113.0,2.862614873897501],[80.0,2.806261937346369],[121.0,3.071369687759611],[66.0,3.2465737767847016],[101.0,3.05367011066021],[90.0,2.9535866521032275],[50.0,2.6308132598401768],[120.0,2.5428444868942193],[81.0,2.765988038208429],[110.0,2.6423740822412527],[98.0,3.05367011066021],[100.0,2.596911708164495],[84.0,3.0893881932622893],[72.0,2.969586993449669],[111.0,2.6659045796514467],[86.0,2.654070122004444],[102.0,2.765988038208429],[90.0,2.7146947438208784],[102.0,2.9223341085991232],[86.0,2.7926562852905903],[103.0,2.553426596224756],[110.0,2.820055259478705],[82.0,2.969586993449669],[66.0,2.7272735260277385],[100.0,2.9535866521032275],[114.0,3.0893881932622893],[97.0,3.4331597323651137],[97.0,2.820055259478705],[95.0,2.969586993449669],[110.0,3.0191839345890408],[68.0,3.2255203675868693],[77.0,2.9378382951350885],[76.0,2.9378382951350885],[89.0,3.1648957457704343],[75.0,3.2465737767847016],[37.0,3.3831493117904525],[135.0,4.076296492350398],[35.0,3.2680799820056654],[87.0,3.145477659913333],[92.0,3.0023768162726596],[98.0,2.862614873897501],[135.0,2.7994359722759694],[78.0,4.38867117739255],[86.0,3.60021381702828],[98.0,3.107737331930486],[38.0,3.184698373066614],[76.0,2.9535866521032275],[86.0,3.2900588887244404],[79.0,3.3355212628011977],[80.0,2.9378382951350885],[73.0,3.51320244003865],[57.0,2.9378382951350885],[53.0,2.969586993449669],[70.0,2.862614873897501],[76.0,2.7146947438208784],[88.0,2.907066636468335],[83.0,3.51320244003865],[73.0,3.1264294649426385],[79.0,3.1264294649426385],[86.0,3.5413733170053465],[67.0,3.0191839345890408],[145.0,2.9615548217524044],[60.0,3.8386248404732783],[73.0,3.2900588887244404],[88.0,3.407841924380824],[76.0,3.184698373066614],[68.0,3.3355212628011977],[65.0,3.1264294649426385],[58.0,3.359051760211392],[69.0,2.9535866521032275],[73.0,3.2465737767847016],[71.0,3.036278367948341],[88.0,3.312531744576499],[88.0,3.05367011066021],[62.0,3.0893881932622893],[63.0,3.145477659913333],[70.0,3.071369687759611],[67.0,3.2900588887244404],[65.0,3.107737331930486],[64.0,3.0023768162726596],[68.0,3.312531744576499],[75.0,3.2049010803841336],[76.0,3.51320244003865],[58.0,3.05367011066021],[59.0,3.1648957457704343],[56.0,3.184698373066614],[64.0,3.3355212628011977],[68.0,3.2049010803841336],[77.0,3.51320244003865],[72.0,3.0276946242569496],[88.0,2.985847514321449],[51.0,3.0023768162726596],[77.0,3.407841924380824],[57.0,3.2680799820056654],[73.0,3.1648957457704343],[62.0,3.5413733170053465],[55.0,3.2049010803841336],[57.0,3.2465737767847016],[56.0,3.2049010803841336],[86.0,3.4858034658505357],[67.0,3.0893881932622893],[47.0,3.359051760211392],[74.0,3.312531744576499],[46.0,3.2465737767847016],[69.0,3.145477659913333],[73.0,3.4331597323651137],[56.0,3.312531744576499],[69.0,3.6309854756950335],[48.0,3.145477659913333],[57.0,3.9186675481468147],[60.0,3.312531744576499],[70.0,3.4591352187683744],[76.0,3.2359916674541647],[54.0,3.407841924380824],[57.0,3.6309854756950335],[61.0,3.7294255485082863],[64.0,3.1648957457704343],[43.0,3.407841924380824],[59.0,3.4591352187683744],[51.0,3.3355212628011977],[56.0,3.9612271625656104],[66.0,3.2900588887244404],[59.0,3.2680799820056654],[58.0,3.2465737767847016],[55.0,5.017279836814924],[69.0,3.4858034658505357],[50.0,4.100989104940769],[66.0,3.420420706587684],[49.0,3.2255203675868693],[40.0,3.2255203675868693],[59.0,3.662734174009614],[61.0,3.2900588887244404],[67.0,3.312531744576499],[53.0,3.5413733170053465],[65.0,3.8778455536265595],[43.0,3.51320244003865],[64.0,3.036278367948341],[49.0,3.4331597323651137],[70.0,3.570360853878599],[60.0,3.2680799820056654],[52.0,3.2049010803841336],[62.0,3.2900588887244404],[54.0,3.8008845124904314],[56.0,4.005678925136444],[53.0,3.662734174009614],[56.0,3.3831493117904525],[41.0,3.51320244003865],[54.0,3.4591352187683744],[42.0,3.9186675481468147],[54.0,3.0893881932622893],[50.0,3.3831493117904525],[71.0,3.2255203675868693],[55.0,3.359051760211392],[54.0,3.2680799820056654],[49.0,3.570360853878599],[55.0,3.2255203675868693],[53.0,3.3355212628011977],[42.0,3.5413733170053465],[50.0,3.407841924380824],[69.0,3.4591352187683744],[33.0,3.8386248404732783],[24.0,3.8778455536265595],[55.0,3.4858034658505357],[53.0,3.662734174009614],[64.0,3.2049010803841336],[58.0,3.51320244003865],[64.0,3.2900588887244404],[44.0,3.4858034658505357],[65.0,3.3355212628011977],[59.0,3.51320244003865],[56.0,3.51320244003865],[71.0,3.7645168683195562],[60.0,3.2049010803841336],[64.0,3.60021381702828],[46.0,3.5413733170053465],[87.0,3.5851759396637397],[62.0,3.7645168683195562],[52.0,3.407841924380824],[36.0,3.662734174009614],[54.0,3.8386248404732783],[56.0,3.312531744576499],[38.0,3.695523996832605],[53.0,3.312531744576499],[53.0,3.570360853878599],[51.0,3.4591352187683744],[48.0,3.4858034658505357],[52.0,3.662734174009614],[47.0,4.005678925136444],[36.0,3.4331597323651137],[49.0,3.662734174009614],[25.0,3.7294255485082863],[60.0,3.7294255485082863],[35.0,3.4858034658505357],[49.0,3.3831493117904525],[30.0,3.5413733170053465],[54.0,3.7645168683195562],[24.0,3.7294255485082863],[61.0,3.7645168683195562],[42.0,3.7645168683195562],[55.0,3.662734174009614],[54.0,3.6309854756950335],[51.0,3.8008845124904314],[49.0,3.7294255485082863],[39.0,3.6309854756950335],[52.0,3.60021381702828],[29.0,4.052198940771337],[49.0,3.51320244003865],[38.0,4.61181472870676],[38.0,3.7645168683195562],[43.0,4.38867117739255],[86.0,3.5413733170053465],[51.0,3.9612271625656104],[50.0,3.7645168683195562],[49.0,4.61181472870676],[39.0,3.60021381702828],[35.0,4.8994968011585405],[45.0,3.4591352187683744],[53.0,3.4591352187683744],[52.0,3.6309854756950335],[28.0,3.51320244003865],[59.0,3.312531744576499],[41.0,4.152282399328319],[36.0,3.60021381702828],[66.0,3.983206069284386],[54.0,3.8008845124904314],[44.0,3.9186675481468147],[46.0,3.3831493117904525],[40.0,5.9981090898266505],[41.0,3.407841924380824],[43.0,3.695523996832605],[48.0,3.3831493117904525],[39.0,3.662734174009614],[34.0,5.017279836814924],[34.0,3.570360853878599],[23.0,4.263508034438544],[44.0,3.2255203675868693],[50.0,3.60021381702828],[35.0,3.7645168683195562],[40.0,3.8778455536265595],[34.0,5.48728346606066],[33.0,5.017279836814924],[40.0,4.324132656254979],[26.0,3.7645168683195562],[45.0,3.695523996832605],[47.0,3.8386248404732783],[36.0,3.4858034658505357],[43.0,3.6309854756950335],[48.0,3.4591352187683744],[28.0,3.9186675481468147],[46.0,3.7294255485082863],[44.0,4.206349620598596],[42.0,4.100989104940769],[31.0,3.695523996832605],[43.0,4.263508034438544],[40.0,4.100989104940769],[58.0,3.8778455536265595],[30.0,3.9186675481468147],[35.0,3.9186675481468147],[45.0,3.570360853878599],[34.0,4.794136285500715],[40.0,4.531772021033223],[49.0,3.60021381702828],[42.0,3.5413733170053465],[42.0,4.457664048879502],[31.0,5.9981090898266505],[17.0,4.052198940771337],[18.0,4.005678925136444],[39.0,3.9612271625656104],[23.0,3.9186675481468147],[40.0,3.8008845124904314],[37.0,3.695523996832605],[31.0,3.6309854756950335],[44.0,4.8994968011585405],[35.0,3.8778455536265595],[32.0,3.662734174009614],[35.0,3.570360853878599],[37.0,3.4591352187683744],[39.0,4.100989104940769],[17.0,3.60021381702828],[37.0,4.052198940771337],[44.0,3.695523996832605],[35.0,3.695523996832605],[36.0,4.052198940771337],[37.0,5.017279836814924],[46.0,3.9612271625656104],[50.0,3.5413733170053465],[32.0,3.7645168683195562],[33.0,3.8386248404732783],[40.0,4.052198940771337],[63.0,4.457664048879502],[36.0,3.8386248404732783],[43.0,3.7294255485082863],[20.0,3.570360853878599],[39.0,3.8778455536265595],[35.0,3.7294255485082863],[35.0,3.8008845124904314],[43.0,3.570360853878599],[23.0,3.8778455536265595],[31.0,4.324132656254979],[31.0,3.9612271625656104],[34.0,4.61181472870676],[19.0,4.324132656254979],[42.0,4.052198940771337],[23.0,4.531772021033223],[39.0,3.8008845124904314],[30.0,3.662734174009614],[29.0,3.8778455536265595],[38.0,3.695523996832605],[26.0,4.005678925136444],[44.0,3.7294255485082863],[26.0,4.100989104940769],[33.0,3.9612271625656104],[33.0,4.100989104940769],[24.0,4.005678925136444],[43.0,3.695523996832605],[39.0,3.7645168683195562],[30.0,3.7645168683195562],[40.0,3.7645168683195562],[29.0,0.0],[36.0,3.6309854756950335],[41.0,3.7294255485082863],[25.0,3.8386248404732783],[38.0,4.531772021033223],[46.0,3.8008845124904314],[39.0,3.9612271625656104],[35.0,4.61181472870676],[36.0,4.794136285500715],[21.0,3.8386248404732783],[39.0,3.662734174009614],[38.0,3.8386248404732783],[30.0,4.100989104940769],[41.0,3.8778455536265595],[46.0,4.100989104940769],[24.0,4.38867117739255],[29.0,4.263508034438544],[27.0,4.052198940771337],[31.0,5.9981090898266505],[40.0,3.9612271625656104],[38.0,3.51320244003865],[35.0,3.695523996832605],[42.0,3.8386248404732783],[41.0,3.9186675481468147],[37.0,4.152282399328319],[44.0,4.457664048879502],[27.0,4.052198940771337],[34.0,3.6309854756950335],[37.0,3.9612271625656104],[35.0,4.324132656254979],[25.0,3.9186675481468147],[23.0,3.4331597323651137],[36.0,4.794136285500715],[26.0,4.152282399328319],[29.0,4.052198940771337],[26.0,4.052198940771337],[36.0,4.38867117739255],[31.0,4.457664048879502],[40.0,4.324132656254979],[34.0,4.152282399328319],[27.0,4.38867117739255],[38.0,4.052198940771337],[20.0,3.9186675481468147],[34.0,3.8778455536265595],[32.0,4.61181472870676],[24.0,4.206349620598596],[20.0,4.100989104940769],[36.0,4.005678925136444],[33.0,3.5413733170053465],[36.0,4.005678925136444],[39.0,3.8008845124904314],[25.0,4.457664048879502],[33.0,3.8008845124904314],[35.0,5.304961909266705],[36.0,4.531772021033223],[30.0,3.9612271625656104],[16.0,4.324132656254979],[33.0,4.38867117739255],[30.0,4.005678925136444],[24.0,4.69882610569639],[30.0,4.263508034438544],[36.0,4.206349620598596],[34.0,3.8386248404732783],[30.0,4.61181472870676],[17.0,4.324132656254979],[27.0,4.152282399328319],[24.0,4.61181472870676],[32.0,4.152282399328319],[29.0,4.206349620598596],[37.0,4.263508034438544],[30.0,4.052198940771337],[34.0,4.052198940771337],[42.0,3.8778455536265595],[21.0,4.263508034438544],[24.0,4.38867117739255],[30.0,3.8778455536265595],[28.0,4.206349620598596],[26.0,4.052198940771337],[24.0,3.9186675481468147],[24.0,4.531772021033223],[26.0,4.005678925136444],[35.0,4.206349620598596],[25.0,4.38867117739255],[27.0,5.017279836814924],[35.0,3.7645168683195562],[26.0,4.152282399328319],[35.0,4.263508034438544],[26.0,3.8778455536265595],[31.0,5.017279836814924],[28.0,5.304961909266705],[30.0,4.100989104940769],[18.0,4.61181472870676],[11.0,4.531772021033223],[25.0,4.152282399328319],[51.0,4.494031693050377],[14.0,4.152282399328319],[26.0,4.61181472870676],[30.0,4.61181472870676],[32.0,4.531772021033223],[35.0,3.9612271625656104],[28.0,4.052198940771337],[29.0,4.206349620598596],[30.0,4.457664048879502],[29.0,4.100989104940769],[32.0,4.69882610569639],[31.0,4.457664048879502],[23.0,4.152282399328319],[30.0,4.38867117739255],[30.0,3.8008845124904314],[27.0,7.0967213784947605],[29.0,4.152282399328319],[27.0,4.61181472870676],[34.0,4.005678925136444],[28.0,4.38867117739255],[24.0,4.263508034438544],[26.0,4.38867117739255],[17.0,4.457664048879502],[25.0,4.794136285500715],[24.0,4.457664048879502],[21.0,4.052198940771337],[29.0,4.794136285500715],[26.0,3.9186675481468147],[25.0,4.100989104940769],[13.0,4.457664048879502],[24.0,4.794136285500715],[26.0,4.263508034438544],[24.0,4.38867117739255],[31.0,3.8778455536265595],[25.0,3.9186675481468147],[17.0,4.152282399328319],[27.0,4.263508034438544],[31.0,4.152282399328319],[23.0,4.531772021033223],[20.0,4.263508034438544],[33.0,4.005678925136444],[20.0,4.61181472870676],[21.0,4.61181472870676],[30.0,4.8994968011585405],[30.0,4.152282399328319],[26.0,5.017279836814924],[27.0,4.206349620598596],[13.0,4.206349620598596],[24.0,3.8386248404732783],[31.0,4.61181472870676],[16.0,4.324132656254979],[21.0,4.457664048879502],[35.0,4.206349620598596],[34.0,4.100989104940769],[30.0,3.9612271625656104],[21.0,4.100989104940769],[34.0,4.324132656254979],[27.0,4.052198940771337],[30.0,4.531772021033223],[22.0,4.38867117739255],[33.0,4.206349620598596],[35.0,4.61181472870676],[43.0,4.028668443361143],[33.0,4.324132656254979],[31.0,4.005678925136444],[30.0,4.324132656254979],[22.0,5.304961909266705],[19.0,4.206349620598596],[28.0,4.005678925136444],[27.0,4.100989104940769],[18.0,4.052198940771337],[23.0,4.324132656254979],[25.0,3.8778455536265595],[18.0,4.38867117739255],[25.0,4.8994968011585405],[28.0,4.052198940771337],[25.0,4.457664048879502],[26.0,5.304961909266705],[19.0,4.206349620598596],[24.0,4.457664048879502],[28.0,4.206349620598596],[33.0,6.180430646620605],[19.0,4.324132656254979],[29.0,4.457664048879502],[24.0,4.38867117739255],[33.0,3.8778455536265595],[16.0,4.457664048879502],[22.0,5.48728346606066],[32.0,3.8008845124904314],[32.0,4.152282399328319],[16.0,5.150811229439447],[24.0,4.531772021033223],[26.0,4.69882610569639],[13.0,4.324132656254979],[30.0,4.69882610569639],[17.0,4.100989104940769],[27.0,4.38867117739255],[27.0,4.152282399328319],[20.0,4.457664048879502],[32.0,4.457664048879502],[27.0,4.61181472870676],[22.0,4.263508034438544],[23.0,4.324132656254979],[25.0,4.69882610569639],[21.0,4.206349620598596],[24.0,4.052198940771337],[24.0,4.69882610569639],[23.0,5.150811229439447],[21.0,4.263508034438544],[29.0,3.9612271625656104],[22.0,4.457664048879502],[25.0,4.38867117739255],[26.0,4.005678925136444],[20.0,4.052198940771337],[22.0,4.324132656254979],[12.0,5.48728346606066],[19.0,4.005678925136444],[18.0,4.206349620598596],[19.0,5.71042701737487],[22.0,4.324132656254979],[20.0,4.61181472870676],[21.0,4.206349620598596],[23.0,4.457664048879502],[18.0,4.794136285500715],[22.0,4.206349620598596],[23.0,4.206349620598596],[28.0,4.61181472870676],[18.0,4.206349620598596],[22.0,4.457664048879502],[24.0,4.8994968011585405],[24.0,5.9981090898266505],[16.0,4.457664048879502],[24.0,4.263508034438544],[21.0,4.794136285500715],[23.0,4.69882610569639],[36.0,5.150811229439447],[25.0,5.017279836814924],[17.0,4.152282399328319],[25.0,4.206349620598596],[27.0,4.531772021033223],[20.0,4.531772021033223],[30.0,3.8778455536265595],[19.0,4.531772021033223],[32.0,3.9186675481468147],[22.0,4.531772021033223],[13.0,3.9186675481468147],[20.0,4.794136285500715],[22.0,4.152282399328319],[23.0,3.9186675481468147],[20.0,4.69882610569639],[21.0,4.206349620598596],[20.0,6.403574197934815],[21.0,4.531772021033223],[22.0,5.017279836814924],[24.0,4.38867117739255],[22.0,4.052198940771337],[17.0,4.005678925136444],[22.0,5.304961909266705],[21.0,3.9612271625656104],[19.0,4.38867117739255],[24.0,4.052198940771337],[27.0,4.8994968011585405],[21.0,4.152282399328319],[30.0,3.9612271625656104],[26.0,4.38867117739255],[18.0,4.457664048879502],[19.0,4.457664048879502],[20.0,4.69882610569639],[22.0,4.263508034438544],[21.0,4.324132656254979],[21.0,4.263508034438544],[19.0,4.38867117739255],[21.0,5.150811229439447],[21.0,4.69882610569639],[17.0,4.38867117739255],[17.0,4.263508034438544],[24.0,4.61181472870676],[19.0,4.61181472870676],[20.0,4.152282399328319],[18.0,4.38867117739255],[26.0,3.9612271625656104],[24.0,4.100989104940769],[23.0,4.263508034438544],[25.0,4.457664048879502],[18.0,4.8994968011585405],[14.0,4.263508034438544],[26.0,4.206349620598596],[15.0,4.052198940771337],[22.0,4.324132656254979],[17.0,4.457664048879502],[25.0,4.61181472870676],[21.0,4.100989104940769],[12.0,4.61181472870676],[17.0,4.263508034438544],[18.0,4.38867117739255],[16.0,4.531772021033223],[20.0,5.48728346606066],[20.0,4.38867117739255],[16.0,6.403574197934815],[21.0,4.206349620598596],[22.0,4.005678925136444],[25.0,4.8994968011585405],[22.0,5.150811229439447],[23.0,4.61181472870676],[19.0,4.457664048879502],[18.0,4.324132656254979],[14.0,4.206349620598596],[10.0,4.69882610569639],[21.0,4.152282399328319],[14.0,5.150811229439447],[16.0,4.263508034438544],[12.0,4.38867117739255],[17.0,4.263508034438544],[22.0,5.48728346606066],[17.0,4.61181472870676],[11.0,4.69882610569639],[20.0,4.8994968011585405],[17.0,4.38867117739255],[9.0,4.206349620598596],[30.0,4.052198940771337],[20.0,5.304961909266705],[23.0,4.324132656254979],[23.0,4.69882610569639],[25.0,4.152282399328319],[25.0,4.38867117739255],[18.0,5.017279836814924],[17.0,4.61181472870676],[22.0,4.457664048879502],[7.0,4.69882610569639],[18.0,4.8994968011585405],[19.0,4.38867117739255],[17.0,4.69882610569639],[21.0,4.61181472870676],[20.0,4.61181472870676],[20.0,4.457664048879502],[23.0,4.457664048879502],[32.0,5.391973286256335],[23.0,4.61181472870676],[11.0,4.654374343125556],[22.0,4.61181472870676],[23.0,6.180430646620605],[27.0,4.61181472870676],[8.0,4.457664048879502],[24.0,5.150811229439447],[19.0,4.324132656254979],[13.0,4.61181472870676],[20.0,4.324132656254979],[21.0,5.304961909266705],[16.0,4.457664048879502],[17.0,4.61181472870676],[16.0,4.531772021033223],[18.0,5.304961909266705],[12.0,4.8994968011585405],[18.0,4.794136285500715],[21.0,4.69882610569639],[29.0,4.152282399328319],[19.0,5.71042701737487],[19.0,4.531772021033223],[17.0,4.324132656254979],[16.0,4.38867117739255],[23.0,4.457664048879502],[16.0,4.531772021033223],[22.0,4.69882610569639],[15.0,5.150811229439447],[22.0,4.531772021033223],[19.0,4.263508034438544],[25.0,4.531772021033223],[17.0,4.61181472870676],[21.0,4.794136285500715],[15.0,5.71042701737487],[16.0,4.69882610569639],[21.0,4.324132656254979],[16.0,4.38867117739255],[25.0,4.69882610569639],[20.0,4.8994968011585405],[20.0,4.263508034438544],[18.0,4.005678925136444],[14.0,4.8994968011585405],[17.0,4.61181472870676],[15.0,4.794136285500715],[14.0,4.61181472870676],[14.0,4.8994968011585405],[14.0,4.531772021033223],[15.0,4.8994968011585405],[16.0,4.794136285500715],[17.0,5.017279836814924],[25.0,4.531772021033223],[16.0,4.531772021033223],[17.0,5.017279836814924],[16.0,4.61181472870676],[16.0,5.304961909266705],[14.0,4.457664048879502],[19.0,4.61181472870676],[19.0,4.61181472870676],[17.0,4.38867117739255],[19.0,4.457664048879502],[13.0,4.8994968011585405],[12.0,5.71042701737487],[15.0,4.8994968011585405],[13.0,4.61181472870676],[12.0,4.531772021033223],[21.0,5.017279836814924],[20.0,4.531772021033223],[17.0,4.263508034438544],[15.0,4.69882610569639],[16.0,5.150811229439447],[19.0,4.794136285500715],[14.0,4.457664048879502],[12.0,5.150811229439447],[22.0,4.69882610569639],[17.0,4.794136285500715],[16.0,4.794136285500715],[13.0,4.457664048879502],[20.0,5.48728346606066],[17.0,4.61181472870676],[20.0,4.206349620598596],[8.0,4.794136285500715],[16.0,4.8994968011585405],[10.0,4.206349620598596],[10.0,5.304961909266705],[17.0,4.8994968011585405],[16.0,4.794136285500715],[20.0,5.48728346606066],[14.0,4.794136285500715],[12.0,4.8994968011585405],[17.0,4.794136285500715],[13.0,4.8994968011585405],[7.0,6.403574197934815],[9.0,4.69882610569639],[17.0,4.457664048879502],[20.0,4.8994968011585405],[16.0,4.794136285500715],[17.0,5.150811229439447],[13.0,5.9981090898266505],[17.0,4.457664048879502],[13.0,5.71042701737487],[13.0,7.0967213784947605],[15.0,5.71042701737487],[22.0,4.38867117739255],[15.0,4.531772021033223],[21.0,4.845429579888265],[14.0,4.531772021033223],[12.0,4.794136285500715],[12.0,5.017279836814924],[22.0,4.61181472870676],[14.0,4.61181472870676],[11.0,4.457664048879502],[17.0,4.531772021033223],[14.0,4.8994968011585405],[19.0,4.324132656254979],[27.0,5.081818357952495],[14.0,4.531772021033223],[14.0,5.71042701737487],[21.0,5.150811229439447],[12.0,5.017279836814924],[17.0,4.69882610569639],[10.0,4.531772021033223],[13.0,5.017279836814924],[13.0,4.8994968011585405],[17.0,4.531772021033223],[12.0,4.531772021033223],[16.0,4.61181472870676],[15.0,6.403574197934815],[14.0,4.8994968011585405],[10.0,5.150811229439447],[11.0,5.71042701737487],[11.0,4.69882610569639],[16.0,5.9981090898266505],[13.0,4.69882610569639],[20.0,4.052198940771337],[12.0,4.8994968011585405],[18.0,4.8994968011585405],[13.0,5.150811229439447],[15.0,5.304961909266705],[11.0,5.017279836814924],[13.0,4.69882610569639],[17.0,5.017279836814924],[17.0,4.794136285500715],[17.0,5.150811229439447],[14.0,5.9981090898266505],[11.0,0.0],[14.0,5.017279836814924],[16.0,5.150811229439447],[16.0,4.61181472870676],[13.0,4.794136285500715],[14.0,5.48728346606066],[14.0,5.304961909266705],[13.0,4.8994968011585405],[19.0,4.38867117739255],[13.0,4.69882610569639],[12.0,4.69882610569639],[17.0,4.8994968011585405],[14.0,4.794136285500715],[13.0,5.017279836814924],[17.0,7.0967213784947605],[16.0,4.69882610569639],[11.0,5.71042701737487],[9.0,5.48728346606066],[8.0,4.531772021033223],[12.0,4.61181472870676],[18.0,4.457664048879502],[14.0,5.017279836814924],[11.0,4.794136285500715],[13.0,5.48728346606066],[16.0,4.845429579888265],[12.0,4.61181472870676],[22.0,4.69882610569639],[9.0,5.48728346606066],[13.0,7.0967213784947605],[13.0,4.531772021033223],[18.0,4.8994968011585405],[15.0,5.017279836814924],[8.0,5.304961909266705],[16.0,5.304961909266705],[15.0,5.304961909266705],[12.0,4.69882610569639],[18.0,4.69882610569639],[13.0,4.531772021033223],[13.0,5.48728346606066],[14.0,5.9981090898266505],[13.0,4.263508034438544],[11.0,5.150811229439447],[16.0,5.150811229439447],[15.0,7.0967213784947605],[11.0,4.531772021033223],[11.0,5.017279836814924],[13.0,5.017279836814924],[16.0,5.71042701737487],[15.0,4.69882610569639],[14.0,4.794136285500715],[16.0,5.304961909266705],[15.0,5.304961909266705],[15.0,5.017279836814924],[10.0,4.794136285500715],[17.0,4.61181472870676],[15.0,4.8994968011585405],[12.0,5.150811229439447],[15.0,4.8994968011585405],[17.0,5.304961909266705],[11.0,4.8994968011585405],[15.0,5.017279836814924],[6.0,5.150811229439447],[14.0,4.794136285500715],[15.0,5.71042701737487],[10.0,5.304961909266705],[10.0,0.0],[16.0,4.8994968011585405],[13.0,4.8994968011585405],[6.0,5.017279836814924],[9.0,5.150811229439447],[9.0,4.531772021033223],[9.0,4.8994968011585405],[12.0,4.794136285500715],[7.0,5.017279836814924],[11.0,5.017279836814924],[12.0,4.69882610569639],[10.0,5.48728346606066],[11.0,4.794136285500715],[12.0,6.403574197934815],[12.0,4.8994968011585405],[9.0,5.9981090898266505],[15.0,4.794136285500715],[13.0,5.71042701737487],[14.0,5.71042701737487],[12.0,4.794136285500715],[22.0,4.61181472870676],[16.0,4.8994968011585405],[14.0,5.017279836814924],[13.0,5.9981090898266505],[13.0,5.304961909266705],[11.0,5.150811229439447],[16.0,5.71042701737487],[15.0,4.61181472870676],[7.0,4.8994968011585405],[12.0,4.8994968011585405],[12.0,5.48728346606066],[17.0,5.48728346606066],[14.0,4.8994968011585405],[12.0,4.8994968011585405],[14.0,4.61181472870676],[11.0,5.017279836814924],[10.0,5.150811229439447],[14.0,5.017279836814924],[11.0,5.304961909266705],[13.0,5.304961909266705],[16.0,5.150811229439447],[12.0,4.69882610569639],[11.0,5.017279836814924],[11.0,5.150811229439447],[13.0,4.69882610569639],[14.0,5.017279836814924],[12.0,6.403574197934815],[18.0,5.017279836814924],[14.0,4.69882610569639],[23.0,5.017279836814924],[13.0,5.017279836814924],[13.0,4.531772021033223],[10.0,5.150811229439447],[9.0,5.150811229439447],[12.0,5.9981090898266505],[10.0,6.403574197934815],[12.0,5.150811229439447],[6.0,5.304961909266705],[12.0,4.61181472870676],[15.0,5.304961909266705],[11.0,4.794136285500715],[13.0,5.9981090898266505],[13.0,5.017279836814924],[10.0,5.150811229439447],[17.0,4.745346121331282],[13.0,5.304961909266705],[11.0,4.457664048879502],[13.0,5.48728346606066],[12.0,4.794136285500715],[14.0,5.017279836814924],[10.0,4.8994968011585405],[20.0,5.71042701737487],[6.0,5.9981090898266505],[11.0,5.150811229439447],[10.0,4.8994968011585405],[8.0,5.48728346606066],[17.0,4.61181472870676],[9.0,5.304961909266705],[14.0,5.9981090898266505],[9.0,5.150811229439447],[15.0,4.794136285500715],[12.0,5.304961909266705],[9.0,4.794136285500715],[23.0,4.845429579888265],[12.0,4.794136285500715],[12.0,5.017279836814924],[13.0,5.9981090898266505],[13.0,5.71042701737487],[12.0,4.69882610569639],[5.0,4.61181472870676],[10.0,5.48728346606066],[13.0,5.304961909266705],[15.0,5.017279836814924],[10.0,5.017279836814924],[11.0,5.304961909266705],[10.0,5.304961909266705],[11.0,4.69882610569639],[14.0,4.794136285500715],[13.0,4.69882610569639],[10.0,5.017279836814924],[12.0,4.8994968011585405],[7.0,5.150811229439447],[13.0,4.8994968011585405],[13.0,5.017279836814924],[10.0,4.8994968011585405],[16.0,5.150811229439447],[10.0,5.150811229439447],[9.0,4.324132656254979],[10.0,6.403574197934815],[8.0,5.9981090898266505],[12.0,5.71042701737487],[13.0,4.69882610569639],[13.0,5.304961909266705],[10.0,5.150811229439447],[10.0,5.71042701737487],[9.0,7.0967213784947605],[16.0,4.38867117739255],[5.0,4.794136285500715],[13.0,5.71042701737487],[11.0,5.48728346606066],[15.0,5.017279836814924],[11.0,5.71042701737487],[9.0,5.304961909266705],[8.0,5.150811229439447],[16.0,5.304961909266705],[8.0,5.304961909266705],[7.0,5.71042701737487],[13.0,5.304961909266705],[11.0,5.391973286256335],[23.0,4.745346121331282],[12.0,5.017279836814924],[13.0,5.150811229439447],[11.0,4.8994968011585405],[9.0,5.150811229439447],[8.0,4.69882610569639],[12.0,4.38867117739255],[10.0,5.48728346606066],[16.0,5.017279836814924],[20.0,5.71042701737487],[13.0,5.017279836814924],[19.0,4.95665521499849],[9.0,5.150811229439447],[11.0,5.150811229439447],[9.0,5.71042701737487],[12.0,4.8994968011585405],[20.0,4.95665521499849],[11.0,5.71042701737487],[10.0,5.017279836814924],[12.0,5.48728346606066],[10.0,4.794136285500715],[10.0,4.61181472870676],[26.0,5.150811229439447],[19.0,5.081818357952495],[10.0,5.9981090898266505],[8.0,7.0967213784947605],[12.0,4.69882610569639],[6.0,4.69882610569639],[12.0,5.71042701737487],[7.0,5.304961909266705],[11.0,4.69882610569639],[11.0,5.017279836814924],[11.0,4.69882610569639],[9.0,6.403574197934815],[10.0,5.48728346606066],[7.0,4.8994968011585405],[9.0,5.017279836814924],[9.0,6.403574197934815],[8.0,5.48728346606066],[14.0,5.150811229439447],[15.0,4.794136285500715],[9.0,7.0967213784947605],[23.0,4.845429579888265],[6.0,5.304961909266705],[14.0,5.304961909266705],[10.0,5.48728346606066],[8.0,5.71042701737487],[9.0,5.304961909266705],[9.0,5.304961909266705],[4.0,5.71042701737487],[9.0,6.403574197934815],[12.0,5.017279836814924],[21.0,5.150811229439447],[9.0,5.71042701737487],[11.0,5.9981090898266505],[11.0,5.304961909266705],[11.0,5.9981090898266505],[9.0,5.017279836814924],[10.0,5.017279836814924],[11.0,5.150811229439447],[10.0,5.150811229439447],[9.0,5.48728346606066],[11.0,5.017279836814924],[11.0,5.150811229439447],[10.0,5.48728346606066],[13.0,5.304961909266705],[9.0,5.017279836814924],[7.0,4.8994968011585405],[11.0,5.017279836814924],[8.0,5.017279836814924],[11.0,4.8994968011585405],[12.0,4.61181472870676],[9.0,5.48728346606066],[4.0,7.0967213784947605],[8.0,5.9981090898266505],[9.0,5.48728346606066],[14.0,5.304961909266705],[12.0,5.150811229439447],[11.0,5.017279836814924],[9.0,5.71042701737487],[11.0,5.48728346606066],[10.0,5.304961909266705],[9.0,5.017279836814924],[10.0,5.304961909266705],[10.0,4.8994968011585405],[9.0,4.61181472870676],[11.0,5.304961909266705],[10.0,5.304961909266705],[11.0,5.48728346606066],[8.0,5.48728346606066],[8.0,5.71042701737487],[9.0,5.150811229439447],[6.0,6.403574197934815],[12.0,5.150811229439447],[7.0,5.71042701737487],[13.0,5.150811229439447],[7.0,5.017279836814924],[9.0,5.017279836814924],[11.0,7.0967213784947605],[7.0,4.794136285500715],[20.0,5.48728346606066],[14.0,5.9981090898266505],[10.0,5.48728346606066],[8.0,0.0],[7.0,5.150811229439447],[8.0,5.304961909266705],[7.0,5.71042701737487],[5.0,5.150811229439447],[8.0,5.48728346606066],[12.0,5.150811229439447],[8.0,5.71042701737487],[12.0,6.403574197934815],[10.0,5.71042701737487],[11.0,5.48728346606066],[10.0,5.150811229439447],[14.0,5.150811229439447],[8.0,5.48728346606066],[16.0,4.794136285500715],[8.0,5.304961909266705],[8.0,5.48728346606066],[6.0,5.71042701737487],[11.0,5.9981090898266505],[5.0,5.9981090898266505],[6.0,5.48728346606066],[7.0,5.304961909266705],[8.0,5.48728346606066],[14.0,5.592643981718486],[13.0,5.9981090898266505],[5.0,5.71042701737487],[8.0,4.794136285500715],[10.0,5.150811229439447],[5.0,7.0967213784947605],[9.0,4.8994968011585405],[8.0,5.9981090898266505],[16.0,5.224919201593169],[11.0,5.304961909266705],[7.0,5.71042701737487],[10.0,4.8994968011585405],[9.0,5.304961909266705],[13.0,5.9981090898266505],[10.0,7.0967213784947605],[8.0,5.304961909266705],[6.0,5.9981090898266505],[12.0,5.71042701737487],[9.0,5.71042701737487],[4.0,5.304961909266705],[13.0,5.150811229439447],[10.0,5.304961909266705],[9.0,5.150811229439447],[9.0,7.0967213784947605],[4.0,5.304961909266705],[8.0,5.9981090898266505],[9.0,7.0967213784947605],[8.0,5.150811229439447],[13.0,4.794136285500715],[4.0,5.017279836814924],[4.0,4.61181472870676],[9.0,6.180430646620605],[8.0,5.017279836814924],[6.0,5.71042701737487],[8.0,5.48728346606066],[10.0,5.9981090898266505],[11.0,5.391973286256335],[6.0,7.0967213784947605],[13.0,4.845429579888265],[8.0,5.304961909266705],[10.0,4.8994968011585405],[4.0,5.304961909266705],[9.0,5.48728346606066],[7.0,5.304961909266705],[11.0,5.71042701737487],[9.0,5.48728346606066],[7.0,5.9981090898266505],[9.0,6.403574197934815],[9.0,5.71042701737487],[6.0,4.531772021033223],[10.0,6.403574197934815],[10.0,5.9981090898266505],[8.0,5.71042701737487],[6.0,5.48728346606066],[10.0,5.9981090898266505],[6.0,5.71042701737487],[5.0,7.0967213784947605],[7.0,5.9981090898266505],[8.0,5.9981090898266505],[8.0,5.9981090898266505],[3.0,6.403574197934815],[6.0,5.71042701737487],[7.0,6.403574197934815],[8.0,5.71042701737487],[6.0,5.48728346606066],[5.0,6.403574197934815],[6.0,5.9981090898266505],[6.0,5.48728346606066],[7.0,5.9981090898266505],[6.0,5.71042701737487],[3.0,5.71042701737487],[7.0,6.403574197934815],[7.0,5.150811229439447],[7.0,5.71042701737487],[10.0,5.9981090898266505],[5.0,5.71042701737487],[6.0,5.71042701737487],[10.0,5.48728346606066],[7.0,5.304961909266705],[9.0,5.9981090898266505],[5.0,6.403574197934815],[11.0,5.843958409999392],[9.0,5.9981090898266505],[5.0,6.403574197934815],[3.0,7.0967213784947605],[8.0,5.304961909266705],[5.0,5.9981090898266505],[5.0,5.71042701737487],[4.0,5.9981090898266505],[6.0,0.0],[5.0,6.403574197934815],[10.0,5.48728346606066],[5.0,6.403574197934815],[6.0,7.0967213784947605],[9.0,5.48728346606066],[6.0,5.48728346606066],[4.0,5.9981090898266505],[6.0,5.71042701737487],[10.0,5.48728346606066],[6.0,6.403574197934815],[6.0,0.0],[4.0,7.0967213784947605],[6.0,5.304961909266705],[4.0,5.9981090898266505],[5.0,0.0],[4.0,6.403574197934815],[1.0,0.0],[3.0,6.403574197934815],[2.0,5.71042701737487],[8.0,6.403574197934815],[6.0,7.0967213784947605],[3.0,6.403574197934815],[5.0,7.0967213784947605],[6.0,5.48728346606066],[7.0,5.9981090898266505],[3.0,7.0967213784947605],[4.0,5.9981090898266505],[4.0,6.403574197934815],[2.0,6.403574197934815],[4.0,5.48728346606066]],\"hovertemplate\":\"tfidf=%{x}<br>index=%{y}<br>count_review=%{customdata[0]}<br>rating_freq_log_abs=%{marker.color}<extra></extra>\",\"legendgroup\":\"\",\"marker\":{\"color\":[0.89216361592607,0.7723624161134492,1.250282603437036,0.91877726444416,1.3037077701106166,0.912572487557277,0.9941627838811915,1.0031516084496246,1.068442858264062,1.3796936770885386,0.99864709632852,1.0446322095703435,1.1886384403258292,1.3896111137458846,1.1178356135936385,1.3067612075975068,1.6456829249290597,1.8135176497567718,1.4727038723074217,1.6895496070346414,1.3862943611198906,1.778601384650544,1.6499840068284501,1.7934164704356845,1.6119244450041053,1.6119244450041053,2.184066492758708,1.7934164704356845,1.5792684820300527,1.7076496486782593,1.949226901681307,1.949226901681307,1.6940439966224807,1.7934164704356845,2.0153170135102974,1.6244507048232855,1.6895496070346414,1.8340311895898747,2.221524055293609,1.854974363435118,1.6499840068284501,1.7591832987934424,1.778601384650544,2.4915511925066687,2.147961488116592,2.191446600056331,2.0532962615755137,2.3092296357127142,2.147961488116592,2.0404755731464523,1.8656127616401736,2.2764398128897234,1.984733590138217,2.1269080789187598,2.1408943208934996,2.221524055293609,2.198881578543849,2.133876748234853,2.2764398128897234,2.300930832898019,2.4145901513705406,2.57493280144572,2.109695950037638,2.244691114575143,2.360522930100265,2.6080850087626204,2.57493280144572,2.119987636074186,2.3693335597824197,2.4238925440328543,2.184066492758708,2.4915511925066687,2.387191177182426,2.4238925440328543,2.3260367540290954,2.396241012702344,2.1694676933375554,2.387191177182426,2.191446600056331,3.9612271625656104,2.3517892501315103,2.848226136445401,2.848226136445401,2.3517892501315103,2.4717485652104894,2.4717485652104894,2.2845370231223425,2.4523304793533875,2.7146947438208784,3.312531744576499,2.300930832898019,2.2764398128897234,3.4591352187683744,3.2049010803841336,2.820055259478705,2.7272735260277385,2.4619923902651246,2.5858618719779103,2.396241012702344,3.2465737767847016,2.4053734962656166,2.5220103999913777,3.184698373066614,2.481600861653501,2.57493280144572,2.5858618719779103,2.7146947438208784,2.6308132598401768,2.3431311873883955,2.4717485652104894,2.5220103999913777,2.553426596224756,2.77923326495845,2.677880770698162,2.690002131230507,2.532373187026924,2.690002131230507,2.442761028337237,2.7529159566410764,2.690002131230507,2.7272735260277385,2.907066636468335,2.834041501453445,2.7146947438208784,2.553426596224756,3.4331597323651137,2.677880770698162,2.820055259478705,2.9300561546930335,2.7146947438208784,2.9535866521032275,2.7146947438208784,2.57493280144572,2.6423740822412527,2.57493280144572,3.3831493117904525,2.7146947438208784,2.77923326495845,2.862614873897501,2.806261937346369,3.071369687759611,3.2465737767847016,3.05367011066021,2.9535866521032275,2.6308132598401768,2.5428444868942193,2.765988038208429,2.6423740822412527,3.05367011066021,2.596911708164495,3.0893881932622893,2.969586993449669,2.6659045796514467,2.654070122004444,2.765988038208429,2.7146947438208784,2.9223341085991232,2.7926562852905903,2.553426596224756,2.820055259478705,2.969586993449669,2.7272735260277385,2.9535866521032275,3.0893881932622893,3.4331597323651137,2.820055259478705,2.969586993449669,3.0191839345890408,3.2255203675868693,2.9378382951350885,2.9378382951350885,3.1648957457704343,3.2465737767847016,3.3831493117904525,4.076296492350398,3.2680799820056654,3.145477659913333,3.0023768162726596,2.862614873897501,2.7994359722759694,4.38867117739255,3.60021381702828,3.107737331930486,3.184698373066614,2.9535866521032275,3.2900588887244404,3.3355212628011977,2.9378382951350885,3.51320244003865,2.9378382951350885,2.969586993449669,2.862614873897501,2.7146947438208784,2.907066636468335,3.51320244003865,3.1264294649426385,3.1264294649426385,3.5413733170053465,3.0191839345890408,2.9615548217524044,3.8386248404732783,3.2900588887244404,3.407841924380824,3.184698373066614,3.3355212628011977,3.1264294649426385,3.359051760211392,2.9535866521032275,3.2465737767847016,3.036278367948341,3.312531744576499,3.05367011066021,3.0893881932622893,3.145477659913333,3.071369687759611,3.2900588887244404,3.107737331930486,3.0023768162726596,3.312531744576499,3.2049010803841336,3.51320244003865,3.05367011066021,3.1648957457704343,3.184698373066614,3.3355212628011977,3.2049010803841336,3.51320244003865,3.0276946242569496,2.985847514321449,3.0023768162726596,3.407841924380824,3.2680799820056654,3.1648957457704343,3.5413733170053465,3.2049010803841336,3.2465737767847016,3.2049010803841336,3.4858034658505357,3.0893881932622893,3.359051760211392,3.312531744576499,3.2465737767847016,3.145477659913333,3.4331597323651137,3.312531744576499,3.6309854756950335,3.145477659913333,3.9186675481468147,3.312531744576499,3.4591352187683744,3.2359916674541647,3.407841924380824,3.6309854756950335,3.7294255485082863,3.1648957457704343,3.407841924380824,3.4591352187683744,3.3355212628011977,3.9612271625656104,3.2900588887244404,3.2680799820056654,3.2465737767847016,5.017279836814924,3.4858034658505357,4.100989104940769,3.420420706587684,3.2255203675868693,3.2255203675868693,3.662734174009614,3.2900588887244404,3.312531744576499,3.5413733170053465,3.8778455536265595,3.51320244003865,3.036278367948341,3.4331597323651137,3.570360853878599,3.2680799820056654,3.2049010803841336,3.2900588887244404,3.8008845124904314,4.005678925136444,3.662734174009614,3.3831493117904525,3.51320244003865,3.4591352187683744,3.9186675481468147,3.0893881932622893,3.3831493117904525,3.2255203675868693,3.359051760211392,3.2680799820056654,3.570360853878599,3.2255203675868693,3.3355212628011977,3.5413733170053465,3.407841924380824,3.4591352187683744,3.8386248404732783,3.8778455536265595,3.4858034658505357,3.662734174009614,3.2049010803841336,3.51320244003865,3.2900588887244404,3.4858034658505357,3.3355212628011977,3.51320244003865,3.51320244003865,3.7645168683195562,3.2049010803841336,3.60021381702828,3.5413733170053465,3.5851759396637397,3.7645168683195562,3.407841924380824,3.662734174009614,3.8386248404732783,3.312531744576499,3.695523996832605,3.312531744576499,3.570360853878599,3.4591352187683744,3.4858034658505357,3.662734174009614,4.005678925136444,3.4331597323651137,3.662734174009614,3.7294255485082863,3.7294255485082863,3.4858034658505357,3.3831493117904525,3.5413733170053465,3.7645168683195562,3.7294255485082863,3.7645168683195562,3.7645168683195562,3.662734174009614,3.6309854756950335,3.8008845124904314,3.7294255485082863,3.6309854756950335,3.60021381702828,4.052198940771337,3.51320244003865,4.61181472870676,3.7645168683195562,4.38867117739255,3.5413733170053465,3.9612271625656104,3.7645168683195562,4.61181472870676,3.60021381702828,4.8994968011585405,3.4591352187683744,3.4591352187683744,3.6309854756950335,3.51320244003865,3.312531744576499,4.152282399328319,3.60021381702828,3.983206069284386,3.8008845124904314,3.9186675481468147,3.3831493117904525,5.9981090898266505,3.407841924380824,3.695523996832605,3.3831493117904525,3.662734174009614,5.017279836814924,3.570360853878599,4.263508034438544,3.2255203675868693,3.60021381702828,3.7645168683195562,3.8778455536265595,5.48728346606066,5.017279836814924,4.324132656254979,3.7645168683195562,3.695523996832605,3.8386248404732783,3.4858034658505357,3.6309854756950335,3.4591352187683744,3.9186675481468147,3.7294255485082863,4.206349620598596,4.100989104940769,3.695523996832605,4.263508034438544,4.100989104940769,3.8778455536265595,3.9186675481468147,3.9186675481468147,3.570360853878599,4.794136285500715,4.531772021033223,3.60021381702828,3.5413733170053465,4.457664048879502,5.9981090898266505,4.052198940771337,4.005678925136444,3.9612271625656104,3.9186675481468147,3.8008845124904314,3.695523996832605,3.6309854756950335,4.8994968011585405,3.8778455536265595,3.662734174009614,3.570360853878599,3.4591352187683744,4.100989104940769,3.60021381702828,4.052198940771337,3.695523996832605,3.695523996832605,4.052198940771337,5.017279836814924,3.9612271625656104,3.5413733170053465,3.7645168683195562,3.8386248404732783,4.052198940771337,4.457664048879502,3.8386248404732783,3.7294255485082863,3.570360853878599,3.8778455536265595,3.7294255485082863,3.8008845124904314,3.570360853878599,3.8778455536265595,4.324132656254979,3.9612271625656104,4.61181472870676,4.324132656254979,4.052198940771337,4.531772021033223,3.8008845124904314,3.662734174009614,3.8778455536265595,3.695523996832605,4.005678925136444,3.7294255485082863,4.100989104940769,3.9612271625656104,4.100989104940769,4.005678925136444,3.695523996832605,3.7645168683195562,3.7645168683195562,3.7645168683195562,0.0,3.6309854756950335,3.7294255485082863,3.8386248404732783,4.531772021033223,3.8008845124904314,3.9612271625656104,4.61181472870676,4.794136285500715,3.8386248404732783,3.662734174009614,3.8386248404732783,4.100989104940769,3.8778455536265595,4.100989104940769,4.38867117739255,4.263508034438544,4.052198940771337,5.9981090898266505,3.9612271625656104,3.51320244003865,3.695523996832605,3.8386248404732783,3.9186675481468147,4.152282399328319,4.457664048879502,4.052198940771337,3.6309854756950335,3.9612271625656104,4.324132656254979,3.9186675481468147,3.4331597323651137,4.794136285500715,4.152282399328319,4.052198940771337,4.052198940771337,4.38867117739255,4.457664048879502,4.324132656254979,4.152282399328319,4.38867117739255,4.052198940771337,3.9186675481468147,3.8778455536265595,4.61181472870676,4.206349620598596,4.100989104940769,4.005678925136444,3.5413733170053465,4.005678925136444,3.8008845124904314,4.457664048879502,3.8008845124904314,5.304961909266705,4.531772021033223,3.9612271625656104,4.324132656254979,4.38867117739255,4.005678925136444,4.69882610569639,4.263508034438544,4.206349620598596,3.8386248404732783,4.61181472870676,4.324132656254979,4.152282399328319,4.61181472870676,4.152282399328319,4.206349620598596,4.263508034438544,4.052198940771337,4.052198940771337,3.8778455536265595,4.263508034438544,4.38867117739255,3.8778455536265595,4.206349620598596,4.052198940771337,3.9186675481468147,4.531772021033223,4.005678925136444,4.206349620598596,4.38867117739255,5.017279836814924,3.7645168683195562,4.152282399328319,4.263508034438544,3.8778455536265595,5.017279836814924,5.304961909266705,4.100989104940769,4.61181472870676,4.531772021033223,4.152282399328319,4.494031693050377,4.152282399328319,4.61181472870676,4.61181472870676,4.531772021033223,3.9612271625656104,4.052198940771337,4.206349620598596,4.457664048879502,4.100989104940769,4.69882610569639,4.457664048879502,4.152282399328319,4.38867117739255,3.8008845124904314,7.0967213784947605,4.152282399328319,4.61181472870676,4.005678925136444,4.38867117739255,4.263508034438544,4.38867117739255,4.457664048879502,4.794136285500715,4.457664048879502,4.052198940771337,4.794136285500715,3.9186675481468147,4.100989104940769,4.457664048879502,4.794136285500715,4.263508034438544,4.38867117739255,3.8778455536265595,3.9186675481468147,4.152282399328319,4.263508034438544,4.152282399328319,4.531772021033223,4.263508034438544,4.005678925136444,4.61181472870676,4.61181472870676,4.8994968011585405,4.152282399328319,5.017279836814924,4.206349620598596,4.206349620598596,3.8386248404732783,4.61181472870676,4.324132656254979,4.457664048879502,4.206349620598596,4.100989104940769,3.9612271625656104,4.100989104940769,4.324132656254979,4.052198940771337,4.531772021033223,4.38867117739255,4.206349620598596,4.61181472870676,4.028668443361143,4.324132656254979,4.005678925136444,4.324132656254979,5.304961909266705,4.206349620598596,4.005678925136444,4.100989104940769,4.052198940771337,4.324132656254979,3.8778455536265595,4.38867117739255,4.8994968011585405,4.052198940771337,4.457664048879502,5.304961909266705,4.206349620598596,4.457664048879502,4.206349620598596,6.180430646620605,4.324132656254979,4.457664048879502,4.38867117739255,3.8778455536265595,4.457664048879502,5.48728346606066,3.8008845124904314,4.152282399328319,5.150811229439447,4.531772021033223,4.69882610569639,4.324132656254979,4.69882610569639,4.100989104940769,4.38867117739255,4.152282399328319,4.457664048879502,4.457664048879502,4.61181472870676,4.263508034438544,4.324132656254979,4.69882610569639,4.206349620598596,4.052198940771337,4.69882610569639,5.150811229439447,4.263508034438544,3.9612271625656104,4.457664048879502,4.38867117739255,4.005678925136444,4.052198940771337,4.324132656254979,5.48728346606066,4.005678925136444,4.206349620598596,5.71042701737487,4.324132656254979,4.61181472870676,4.206349620598596,4.457664048879502,4.794136285500715,4.206349620598596,4.206349620598596,4.61181472870676,4.206349620598596,4.457664048879502,4.8994968011585405,5.9981090898266505,4.457664048879502,4.263508034438544,4.794136285500715,4.69882610569639,5.150811229439447,5.017279836814924,4.152282399328319,4.206349620598596,4.531772021033223,4.531772021033223,3.8778455536265595,4.531772021033223,3.9186675481468147,4.531772021033223,3.9186675481468147,4.794136285500715,4.152282399328319,3.9186675481468147,4.69882610569639,4.206349620598596,6.403574197934815,4.531772021033223,5.017279836814924,4.38867117739255,4.052198940771337,4.005678925136444,5.304961909266705,3.9612271625656104,4.38867117739255,4.052198940771337,4.8994968011585405,4.152282399328319,3.9612271625656104,4.38867117739255,4.457664048879502,4.457664048879502,4.69882610569639,4.263508034438544,4.324132656254979,4.263508034438544,4.38867117739255,5.150811229439447,4.69882610569639,4.38867117739255,4.263508034438544,4.61181472870676,4.61181472870676,4.152282399328319,4.38867117739255,3.9612271625656104,4.100989104940769,4.263508034438544,4.457664048879502,4.8994968011585405,4.263508034438544,4.206349620598596,4.052198940771337,4.324132656254979,4.457664048879502,4.61181472870676,4.100989104940769,4.61181472870676,4.263508034438544,4.38867117739255,4.531772021033223,5.48728346606066,4.38867117739255,6.403574197934815,4.206349620598596,4.005678925136444,4.8994968011585405,5.150811229439447,4.61181472870676,4.457664048879502,4.324132656254979,4.206349620598596,4.69882610569639,4.152282399328319,5.150811229439447,4.263508034438544,4.38867117739255,4.263508034438544,5.48728346606066,4.61181472870676,4.69882610569639,4.8994968011585405,4.38867117739255,4.206349620598596,4.052198940771337,5.304961909266705,4.324132656254979,4.69882610569639,4.152282399328319,4.38867117739255,5.017279836814924,4.61181472870676,4.457664048879502,4.69882610569639,4.8994968011585405,4.38867117739255,4.69882610569639,4.61181472870676,4.61181472870676,4.457664048879502,4.457664048879502,5.391973286256335,4.61181472870676,4.654374343125556,4.61181472870676,6.180430646620605,4.61181472870676,4.457664048879502,5.150811229439447,4.324132656254979,4.61181472870676,4.324132656254979,5.304961909266705,4.457664048879502,4.61181472870676,4.531772021033223,5.304961909266705,4.8994968011585405,4.794136285500715,4.69882610569639,4.152282399328319,5.71042701737487,4.531772021033223,4.324132656254979,4.38867117739255,4.457664048879502,4.531772021033223,4.69882610569639,5.150811229439447,4.531772021033223,4.263508034438544,4.531772021033223,4.61181472870676,4.794136285500715,5.71042701737487,4.69882610569639,4.324132656254979,4.38867117739255,4.69882610569639,4.8994968011585405,4.263508034438544,4.005678925136444,4.8994968011585405,4.61181472870676,4.794136285500715,4.61181472870676,4.8994968011585405,4.531772021033223,4.8994968011585405,4.794136285500715,5.017279836814924,4.531772021033223,4.531772021033223,5.017279836814924,4.61181472870676,5.304961909266705,4.457664048879502,4.61181472870676,4.61181472870676,4.38867117739255,4.457664048879502,4.8994968011585405,5.71042701737487,4.8994968011585405,4.61181472870676,4.531772021033223,5.017279836814924,4.531772021033223,4.263508034438544,4.69882610569639,5.150811229439447,4.794136285500715,4.457664048879502,5.150811229439447,4.69882610569639,4.794136285500715,4.794136285500715,4.457664048879502,5.48728346606066,4.61181472870676,4.206349620598596,4.794136285500715,4.8994968011585405,4.206349620598596,5.304961909266705,4.8994968011585405,4.794136285500715,5.48728346606066,4.794136285500715,4.8994968011585405,4.794136285500715,4.8994968011585405,6.403574197934815,4.69882610569639,4.457664048879502,4.8994968011585405,4.794136285500715,5.150811229439447,5.9981090898266505,4.457664048879502,5.71042701737487,7.0967213784947605,5.71042701737487,4.38867117739255,4.531772021033223,4.845429579888265,4.531772021033223,4.794136285500715,5.017279836814924,4.61181472870676,4.61181472870676,4.457664048879502,4.531772021033223,4.8994968011585405,4.324132656254979,5.081818357952495,4.531772021033223,5.71042701737487,5.150811229439447,5.017279836814924,4.69882610569639,4.531772021033223,5.017279836814924,4.8994968011585405,4.531772021033223,4.531772021033223,4.61181472870676,6.403574197934815,4.8994968011585405,5.150811229439447,5.71042701737487,4.69882610569639,5.9981090898266505,4.69882610569639,4.052198940771337,4.8994968011585405,4.8994968011585405,5.150811229439447,5.304961909266705,5.017279836814924,4.69882610569639,5.017279836814924,4.794136285500715,5.150811229439447,5.9981090898266505,0.0,5.017279836814924,5.150811229439447,4.61181472870676,4.794136285500715,5.48728346606066,5.304961909266705,4.8994968011585405,4.38867117739255,4.69882610569639,4.69882610569639,4.8994968011585405,4.794136285500715,5.017279836814924,7.0967213784947605,4.69882610569639,5.71042701737487,5.48728346606066,4.531772021033223,4.61181472870676,4.457664048879502,5.017279836814924,4.794136285500715,5.48728346606066,4.845429579888265,4.61181472870676,4.69882610569639,5.48728346606066,7.0967213784947605,4.531772021033223,4.8994968011585405,5.017279836814924,5.304961909266705,5.304961909266705,5.304961909266705,4.69882610569639,4.69882610569639,4.531772021033223,5.48728346606066,5.9981090898266505,4.263508034438544,5.150811229439447,5.150811229439447,7.0967213784947605,4.531772021033223,5.017279836814924,5.017279836814924,5.71042701737487,4.69882610569639,4.794136285500715,5.304961909266705,5.304961909266705,5.017279836814924,4.794136285500715,4.61181472870676,4.8994968011585405,5.150811229439447,4.8994968011585405,5.304961909266705,4.8994968011585405,5.017279836814924,5.150811229439447,4.794136285500715,5.71042701737487,5.304961909266705,0.0,4.8994968011585405,4.8994968011585405,5.017279836814924,5.150811229439447,4.531772021033223,4.8994968011585405,4.794136285500715,5.017279836814924,5.017279836814924,4.69882610569639,5.48728346606066,4.794136285500715,6.403574197934815,4.8994968011585405,5.9981090898266505,4.794136285500715,5.71042701737487,5.71042701737487,4.794136285500715,4.61181472870676,4.8994968011585405,5.017279836814924,5.9981090898266505,5.304961909266705,5.150811229439447,5.71042701737487,4.61181472870676,4.8994968011585405,4.8994968011585405,5.48728346606066,5.48728346606066,4.8994968011585405,4.8994968011585405,4.61181472870676,5.017279836814924,5.150811229439447,5.017279836814924,5.304961909266705,5.304961909266705,5.150811229439447,4.69882610569639,5.017279836814924,5.150811229439447,4.69882610569639,5.017279836814924,6.403574197934815,5.017279836814924,4.69882610569639,5.017279836814924,5.017279836814924,4.531772021033223,5.150811229439447,5.150811229439447,5.9981090898266505,6.403574197934815,5.150811229439447,5.304961909266705,4.61181472870676,5.304961909266705,4.794136285500715,5.9981090898266505,5.017279836814924,5.150811229439447,4.745346121331282,5.304961909266705,4.457664048879502,5.48728346606066,4.794136285500715,5.017279836814924,4.8994968011585405,5.71042701737487,5.9981090898266505,5.150811229439447,4.8994968011585405,5.48728346606066,4.61181472870676,5.304961909266705,5.9981090898266505,5.150811229439447,4.794136285500715,5.304961909266705,4.794136285500715,4.845429579888265,4.794136285500715,5.017279836814924,5.9981090898266505,5.71042701737487,4.69882610569639,4.61181472870676,5.48728346606066,5.304961909266705,5.017279836814924,5.017279836814924,5.304961909266705,5.304961909266705,4.69882610569639,4.794136285500715,4.69882610569639,5.017279836814924,4.8994968011585405,5.150811229439447,4.8994968011585405,5.017279836814924,4.8994968011585405,5.150811229439447,5.150811229439447,4.324132656254979,6.403574197934815,5.9981090898266505,5.71042701737487,4.69882610569639,5.304961909266705,5.150811229439447,5.71042701737487,7.0967213784947605,4.38867117739255,4.794136285500715,5.71042701737487,5.48728346606066,5.017279836814924,5.71042701737487,5.304961909266705,5.150811229439447,5.304961909266705,5.304961909266705,5.71042701737487,5.304961909266705,5.391973286256335,4.745346121331282,5.017279836814924,5.150811229439447,4.8994968011585405,5.150811229439447,4.69882610569639,4.38867117739255,5.48728346606066,5.017279836814924,5.71042701737487,5.017279836814924,4.95665521499849,5.150811229439447,5.150811229439447,5.71042701737487,4.8994968011585405,4.95665521499849,5.71042701737487,5.017279836814924,5.48728346606066,4.794136285500715,4.61181472870676,5.150811229439447,5.081818357952495,5.9981090898266505,7.0967213784947605,4.69882610569639,4.69882610569639,5.71042701737487,5.304961909266705,4.69882610569639,5.017279836814924,4.69882610569639,6.403574197934815,5.48728346606066,4.8994968011585405,5.017279836814924,6.403574197934815,5.48728346606066,5.150811229439447,4.794136285500715,7.0967213784947605,4.845429579888265,5.304961909266705,5.304961909266705,5.48728346606066,5.71042701737487,5.304961909266705,5.304961909266705,5.71042701737487,6.403574197934815,5.017279836814924,5.150811229439447,5.71042701737487,5.9981090898266505,5.304961909266705,5.9981090898266505,5.017279836814924,5.017279836814924,5.150811229439447,5.150811229439447,5.48728346606066,5.017279836814924,5.150811229439447,5.48728346606066,5.304961909266705,5.017279836814924,4.8994968011585405,5.017279836814924,5.017279836814924,4.8994968011585405,4.61181472870676,5.48728346606066,7.0967213784947605,5.9981090898266505,5.48728346606066,5.304961909266705,5.150811229439447,5.017279836814924,5.71042701737487,5.48728346606066,5.304961909266705,5.017279836814924,5.304961909266705,4.8994968011585405,4.61181472870676,5.304961909266705,5.304961909266705,5.48728346606066,5.48728346606066,5.71042701737487,5.150811229439447,6.403574197934815,5.150811229439447,5.71042701737487,5.150811229439447,5.017279836814924,5.017279836814924,7.0967213784947605,4.794136285500715,5.48728346606066,5.9981090898266505,5.48728346606066,0.0,5.150811229439447,5.304961909266705,5.71042701737487,5.150811229439447,5.48728346606066,5.150811229439447,5.71042701737487,6.403574197934815,5.71042701737487,5.48728346606066,5.150811229439447,5.150811229439447,5.48728346606066,4.794136285500715,5.304961909266705,5.48728346606066,5.71042701737487,5.9981090898266505,5.9981090898266505,5.48728346606066,5.304961909266705,5.48728346606066,5.592643981718486,5.9981090898266505,5.71042701737487,4.794136285500715,5.150811229439447,7.0967213784947605,4.8994968011585405,5.9981090898266505,5.224919201593169,5.304961909266705,5.71042701737487,4.8994968011585405,5.304961909266705,5.9981090898266505,7.0967213784947605,5.304961909266705,5.9981090898266505,5.71042701737487,5.71042701737487,5.304961909266705,5.150811229439447,5.304961909266705,5.150811229439447,7.0967213784947605,5.304961909266705,5.9981090898266505,7.0967213784947605,5.150811229439447,4.794136285500715,5.017279836814924,4.61181472870676,6.180430646620605,5.017279836814924,5.71042701737487,5.48728346606066,5.9981090898266505,5.391973286256335,7.0967213784947605,4.845429579888265,5.304961909266705,4.8994968011585405,5.304961909266705,5.48728346606066,5.304961909266705,5.71042701737487,5.48728346606066,5.9981090898266505,6.403574197934815,5.71042701737487,4.531772021033223,6.403574197934815,5.9981090898266505,5.71042701737487,5.48728346606066,5.9981090898266505,5.71042701737487,7.0967213784947605,5.9981090898266505,5.9981090898266505,5.9981090898266505,6.403574197934815,5.71042701737487,6.403574197934815,5.71042701737487,5.48728346606066,6.403574197934815,5.9981090898266505,5.48728346606066,5.9981090898266505,5.71042701737487,5.71042701737487,6.403574197934815,5.150811229439447,5.71042701737487,5.9981090898266505,5.71042701737487,5.71042701737487,5.48728346606066,5.304961909266705,5.9981090898266505,6.403574197934815,5.843958409999392,5.9981090898266505,6.403574197934815,7.0967213784947605,5.304961909266705,5.9981090898266505,5.71042701737487,5.9981090898266505,0.0,6.403574197934815,5.48728346606066,6.403574197934815,7.0967213784947605,5.48728346606066,5.48728346606066,5.9981090898266505,5.71042701737487,5.48728346606066,6.403574197934815,0.0,7.0967213784947605,5.304961909266705,5.9981090898266505,0.0,6.403574197934815,0.0,6.403574197934815,5.71042701737487,6.403574197934815,7.0967213784947605,6.403574197934815,7.0967213784947605,5.48728346606066,5.9981090898266505,7.0967213784947605,5.9981090898266505,6.403574197934815,6.403574197934815,5.48728346606066],\"coloraxis\":\"coloraxis\",\"symbol\":\"circle\"},\"mode\":\"markers\",\"name\":\"\",\"showlegend\":false,\"x\":[0.03545826195598267,0.03440551271980061,0.03192122575605723,0.030659561603499686,0.029630231196241752,0.028888050988746666,0.02835076597172593,0.027986004467101457,0.027716478287669263,0.026518469855458412,0.026462964265306067,0.02596679663770024,0.025734379738770248,0.025337239151165394,0.024814699788191598,0.023171617589069504,0.022448567276737594,0.02202893918740409,0.021767689608910516,0.020165831889478437,0.01960373583032863,0.01956441216036312,0.018683337920787982,0.018446851102142853,0.01819180291886519,0.01758754160231483,0.01703729213193319,0.017019275675667984,0.017008665590245546,0.01679812124275754,0.01627469674242197,0.015936450740669437,0.015744131841507185,0.015738444730805205,0.01569378541530755,0.015611345209595104,0.015001147676833377,0.01478897422923365,0.01457452924391723,0.014500535667465939,0.01442828325560765,0.014310846002975212,0.014266477408003242,0.014142697551449781,0.013935204339226435,0.013906682826486869,0.013830277612921181,0.013700070863494047,0.013599438165947572,0.013477366602156706,0.013207726146107875,0.012939328026399133,0.012852715396560513,0.012604454986743988,0.012579950918139673,0.012429496344628525,0.012326164665755897,0.01190155525086707,0.011624184593413665,0.011606976796629198,0.011588936395971805,0.01131009418660128,0.011273366058271951,0.011141589380934078,0.01110922379394815,0.01109711402948983,0.011087247904024995,0.011059793032123353,0.010910529713623284,0.010900319867271812,0.010769515644858788,0.010755698249973984,0.010617093327234033,0.010552045527156223,0.010532591352523702,0.010529425742378959,0.010478789046132055,0.01036387763182957,0.010290623857244533,0.010220920003877174,0.010136642753819387,0.009985538309399182,0.009957202165406267,0.009948575988122436,0.00983200484061488,0.009790053640098507,0.009627098893972886,0.009582213136008955,0.009543744833473948,0.00948994534481545,0.009485449091780498,0.009404583544318197,0.009394292317060036,0.00935298901908189,0.009338271082800303,0.009188568165982826,0.008929553183693583,0.00892017476250784,0.008917698017419673,0.008782039247289508,0.008768620715331866,0.008732391562720081,0.008693099325486888,0.008643448355198233,0.008557984112204627,0.008551616506974133,0.008418899606497023,0.008417662803052388,0.008363031904514663,0.008358283409639638,0.008322392682388739,0.008306248004205721,0.008304094545666014,0.008303561499027052,0.008293399780329879,0.008271832403374766,0.008233309403107,0.008221228315166824,0.008175718945158355,0.008168196380645936,0.008115875031049675,0.008009488085970356,0.007921883538959647,0.00792181034389452,0.007913697277887438,0.007847541894055407,0.0078063183613986354,0.007803479235783645,0.0077882994347556874,0.007786069722919892,0.007784141196411637,0.007731820490766809,0.007657263517570973,0.007624371288642362,0.00760080889461777,0.007581330625467717,0.007409578917655825,0.007408586377985921,0.007403814659136727,0.00739694648718823,0.007347700533269716,0.007327595760758798,0.007315194757967779,0.007279258743026982,0.007253070991119221,0.0072460121783733894,0.007244457478296767,0.007242333000587146,0.007234279940324056,0.0071763981259139464,0.007163580559841438,0.007136911884136146,0.007108446152191951,0.007108269957295619,0.0070748001751058005,0.007054287680725204,0.007022820794565824,0.007018635596803847,0.0069736763005865815,0.0069699997448143085,0.006966100030828859,0.006946314700206913,0.006909489173558321,0.00681810492978539,0.006817355145987331,0.0067240053556255576,0.00670457039690005,0.006679130650350341,0.006661916536776424,0.00662374249711632,0.006554984528476321,0.006524759203101933,0.006480782395327611,0.006457570694709169,0.00638513970030846,0.006381770400266677,0.006379822807691248,0.006366413054557746,0.00635442282793778,0.006327373358833884,0.006242354537037117,0.006177908520970592,0.006170166394362992,0.006143077975610674,0.006109211827115248,0.006103529877522893,0.006091878045870865,0.0060810834771666674,0.006063515465251329,0.006045176017807164,0.006044360238069176,0.006024170855895619,0.005948858480545699,0.00594717476343622,0.005852847968347209,0.005847467170202485,0.005782562748748442,0.005767878098716497,0.005719423288171349,0.005713160811181825,0.005692092491090939,0.005643077310376832,0.0056358765091332735,0.005625259576347431,0.005592470401733911,0.005579922668729556,0.005575582535760902,0.005572534425361801,0.005566033308017741,0.005565541313094748,0.005556968825414565,0.005543115373504843,0.005474069607528352,0.005444316678144088,0.005441593071198394,0.0054275920693866555,0.005421400071160991,0.005382555492863897,0.005382230827426095,0.005374711742316502,0.005366774297882017,0.005336875333468473,0.005326510961359003,0.005319205914635214,0.005314300775325615,0.005301807963093104,0.005297439680873288,0.005244332576503711,0.0052380533827964095,0.005213791476630269,0.005210087710443261,0.005188623470463319,0.005182760942974121,0.00515497162908715,0.005149484005993489,0.005143151089828219,0.005131748512376684,0.005119047591940735,0.005079298122693507,0.005077642834739931,0.0050754908802830455,0.005056508289783353,0.005033910724993191,0.005025953912817102,0.004990997640778843,0.004979149987966312,0.004963852454805292,0.004939382552505041,0.004887865587608495,0.004875580820939186,0.004860501892947692,0.00485835174767314,0.004840161045094462,0.004839699406877775,0.004835593155927665,0.004826751714008236,0.00479500539649606,0.004788462584425162,0.004757070764840372,0.004746374932573393,0.004692955916626024,0.004689503838492441,0.004680463142669988,0.004677421784339437,0.0046755467156424785,0.0046512421176009055,0.0046433094629474165,0.004639756840930875,0.0046317679300538015,0.004627908685509908,0.004613661191395285,0.00460635959282347,0.004604865166937195,0.0045986336705958475,0.0045862896580458985,0.004572939225438757,0.004568008302128143,0.004564242146802747,0.004563232052290921,0.004562386042329494,0.004546282572366153,0.004534728364768905,0.004532814883158293,0.004523348457735063,0.004518800211701894,0.004518460590665845,0.004497375523584159,0.004489172576242511,0.004488307557561763,0.00448620979885681,0.004457340759554254,0.004444999464898294,0.004435452731166808,0.004429748836919677,0.004429034573802588,0.004387766998067202,0.0043815618470213966,0.0043781583921113035,0.0043752334410602275,0.0043443371579001125,0.004331812783810758,0.00432117299670464,0.0043071618716922595,0.004269827991891951,0.004269453717040508,0.004266594306196039,0.004223002335347487,0.004209649575675909,0.004198527825546941,0.00417066845005613,0.004168150077060765,0.00414800210015779,0.0041372132128386484,0.004133653085874325,0.004126199157006775,0.004121277646649527,0.004106606099779677,0.004100532129518705,0.004098038280616594,0.004083830337237648,0.004078247308754368,0.0040616943412404415,0.004054673801513463,0.004035709077049591,0.004029786646090175,0.00402717984211032,0.004016081122299982,0.004006430934838803,0.003983309232116256,0.003981589066133944,0.003977416129255809,0.003975024963655005,0.003970320283618747,0.003967472468120425,0.003959897497933367,0.003950440311322021,0.003924382704945243,0.00392257140271946,0.003910254376737934,0.0038964062346107603,0.0038871761941558325,0.003878898154910456,0.0038678584739510915,0.0038597910494954308,0.003851574787768285,0.0038459946359703226,0.0037982286851362904,0.003788299423018549,0.0037573721011186496,0.003755788950010028,0.0037519458799951336,0.0037483439057065175,0.003747110705612443,0.0037183411078203755,0.0037146096448129086,0.003711713984019798,0.003709549614150471,0.0036944024184996827,0.0036745914365308293,0.0036595136599621323,0.003644327065864989,0.003642518551582547,0.0036414058098686174,0.003639724135777244,0.0036318644346545336,0.0036297521016147856,0.0036286521527840367,0.00360504748489059,0.003604540539874013,0.0035991363729316384,0.003587834696256317,0.003575420178825551,0.0035753593828732736,0.0035362483684511026,0.0035360674290073417,0.0035282441348526905,0.0035253704226219772,0.003511377834108878,0.0035109438974947225,0.003510813503842515,0.0034958682145823823,0.0034932647013089617,0.003491525489460393,0.00348931453671754,0.003488828420074556,0.0034870216141518673,0.003474723061236367,0.003463044233157546,0.0034561064760475825,0.0034495130940190005,0.0034422075065423437,0.0034260618148042057,0.0034254711002620953,0.0034237694584831743,0.0034179378499950494,0.003414733727185535,0.003396190641046861,0.0033741916339962027,0.0033672819752208166,0.0033608576463888193,0.0033537897434337003,0.003346719848305604,0.003333473586460837,0.0033319743868977032,0.0033250854162892017,0.003321068699516966,0.003310081391542294,0.003303184110014319,0.0032966708908034608,0.0032936253628764903,0.003292063574467479,0.003286608551443729,0.003284853835700671,0.0032795897099824633,0.0032767930734193458,0.003274423356248784,0.0032717733594120873,0.003271003332794319,0.003267543752474235,0.0032556047086095903,0.0032549562776482844,0.0032525022544683175,0.0032482659286051413,0.003248182076418228,0.003242379919621323,0.003240342450608836,0.0032357177956302986,0.0032339522860620243,0.003233522124219094,0.0032292854956902655,0.003227593173083832,0.003227587030415063,0.003202536013390164,0.0031994933275235737,0.0031980540970353672,0.0031959576371666165,0.0031809375470899298,0.0031666912839496963,0.0031624842579364215,0.0031474722890320987,0.0031425902661845182,0.003131440808228107,0.003130278327656664,0.003116175924273799,0.0031158914624601847,0.0031066807849648046,0.0030993113128080494,0.0030846260100546134,0.003075085752681534,0.0030707249482976556,0.0030687207549672784,0.003062371274610559,0.003033700392410178,0.0030143941825420953,0.0030097544535216173,0.0030081693828809208,0.0030054487008835144,0.0029992106873694543,0.002994307839981236,0.0029925034539701567,0.002974497049293142,0.0029632920917509087,0.0029327812178945247,0.0029293227215010428,0.0029270570501912503,0.0029182656622647727,0.0029179380691029323,0.0029135644687496797,0.0029132611396393343,0.002909720783007904,0.0029042079498526495,0.0028998048628444714,0.0028956743932474966,0.002891166065028302,0.002887691727473646,0.002886938711508666,0.002884765573329525,0.0028817485110981837,0.0028790325985732584,0.0028786993623697308,0.002868377565855843,0.0028679445470807933,0.0028591639330061295,0.0028572884399378413,0.002852235239420023,0.0028325884764627265,0.002830222321107004,0.0028291807220741797,0.002828703367910608,0.002819592470573868,0.0028188102306887187,0.0028090076927105114,0.0028082473108315786,0.0028069069285101664,0.0028027473019750196,0.0028017841853805237,0.0027921179588589824,0.0027918298821558328,0.0027897846623723345,0.0027867791675278124,0.002785379746117565,0.0027832134566604253,0.0027753055406552095,0.0027634925986348815,0.0027621342174497295,0.002757106060153019,0.0027512543677184497,0.002748961484588328,0.002743768882598645,0.0027394807901843046,0.0027278655810324707,0.0027265746358294037,0.0027255418017589302,0.0027166035681554525,0.002714439757336285,0.002712291055057822,0.002708610713539055,0.002706449537547758,0.0026943129740043766,0.0026925225553690074,0.0026886953192925703,0.002680084278255559,0.0026783979915236183,0.002668472995403698,0.002662522194907715,0.002656915226915038,0.002646055513139238,0.00264548256097269,0.00264126934979973,0.002636614879414579,0.002636339591587397,0.0026213502705024322,0.002602892817384488,0.002602411867811133,0.002599341101270528,0.002597276097163938,0.002595932919174285,0.0025895091234832083,0.0025877186395512077,0.0025844383405334774,0.002581714008512461,0.002573720845415249,0.0025605355354555268,0.002559513144018236,0.002558021615753067,0.002553743948013289,0.002547349362965599,0.0025430595352740927,0.0025353820578309827,0.0025346121827282742,0.0025313450942486752,0.002522213400565319,0.0025217161571055922,0.0025136404712888323,0.002511749379107223,0.0025105668158530267,0.0025095867851232553,0.0025034727912407076,0.0025034107007912546,0.0024951898751154273,0.0024918368723594836,0.0024917956615529858,0.002484740394258875,0.002479533386232629,0.002474888590318859,0.0024735021374399026,0.0024716240894263526,0.0024662146821588502,0.002460071122481665,0.002457580430001531,0.002457495611597118,0.002452994401033876,0.0024489811194034886,0.0024485648622895456,0.002440410257227229,0.0024330285357690566,0.0024314637390973792,0.002427080936302063,0.0024270087273954074,0.002416791074094027,0.002416441503735937,0.0024138850024160263,0.0024137434868601246,0.002410296273613924,0.0024093867773624183,0.0024090764819584224,0.0024034528203691562,0.002400567855402971,0.0023971056623151013,0.0023936592933922318,0.0023922090652114835,0.002392149991483285,0.002390665940532945,0.002389542096323829,0.00238190897511228,0.002376445798482043,0.002374398073192458,0.002374015626077388,0.0023653233037761578,0.0023534606767204014,0.002345416468962897,0.0023392699343995353,0.0023341810061233053,0.0023325316031518727,0.002319685767488517,0.002314039679020112,0.002296359429810151,0.002290168838151752,0.002288044952313051,0.002286007467340261,0.002279800263534916,0.0022789690566641005,0.002277697078401769,0.002276857375452954,0.0022665149848286833,0.0022642359675448497,0.002260634352445467,0.0022584109057456024,0.002250342931843198,0.002250138226269111,0.002249508759740903,0.002249472490963372,0.002248526253104775,0.0022465428990414843,0.002244784119452992,0.002243264524387705,0.0022406973635841296,0.0022339783699561783,0.0022326692839360267,0.0022291574676506906,0.002216405695613008,0.0022156860293029877,0.0022069103935596682,0.002205628457349034,0.0021999354853095236,0.0021953480806501174,0.0021931262128495024,0.0021892087722176746,0.0021832251570212285,0.002178633182226703,0.0021750336978652576,0.0021714030706497076,0.0021700397731545143,0.0021663803749167564,0.0021646548440285938,0.0021641645651686615,0.0021634680251306276,0.0021608303376090842,0.0021566785063450757,0.0021566740856429558,0.002154870928394869,0.0021530677990747597,0.002150401658186796,0.002146112574924248,0.0021435711859704755,0.0021419261456359054,0.0021366939168259184,0.0021366811353413047,0.0021339447314048196,0.0021324308299827672,0.0021288568513766542,0.0021283584209987757,0.0021237538008211983,0.0021206698628502708,0.002120619470811003,0.002111592534982409,0.002108320856498687,0.002103624550513228,0.0021036177759870063,0.0020976723649896076,0.0020974411054529504,0.0020935548447834447,0.0020928306207644676,0.002088667152373834,0.0020860308015198713,0.002082248178712731,0.002081972767614832,0.002078573169206901,0.0020780744094377277,0.0020768827407538974,0.0020750992536187713,0.002074173088064304,0.0020725632822519726,0.0020720811392990926,0.002068817521448229,0.0020637289124447924,0.002063110863129302,0.0020624352451512917,0.002058499648763509,0.002058380162457276,0.0020556129691713565,0.002053957806532852,0.0020534741909761763,0.002047724342798541,0.002039363822627665,0.0020377563899956195,0.0020343128824097233,0.002031594654463313,0.0020310183376932973,0.0020276509972858227,0.0020248944207691064,0.002022678382375969,0.002020186605543306,0.0020180072750308605,0.0020163260842842945,0.002014696285491241,0.002012999388212834,0.002012178735622631,0.002010671521490303,0.002007508107284234,0.00200384975136239,0.002000478058805611,0.0019989734763928096,0.001991333983833738,0.0019899845324383107,0.001989428434833205,0.0019763681007132538,0.001974415966508175,0.0019737204796362734,0.00197274251942239,0.0019687669995728527,0.0019676926563278567,0.0019619229241487506,0.0019606902878737745,0.0019599787421149322,0.0019578223990070523,0.001954002402240917,0.00195399840810776,0.0019496820225354528,0.001947203892915642,0.0019455799873544716,0.001943940702248503,0.0019341556673581012,0.0019322940909601784,0.0019244087366855692,0.0019239927833347172,0.0019222666764067687,0.001920304604939126,0.0019162966556827232,0.0019131196954121318,0.001907250310652127,0.0019071889936450028,0.0019070351654714502,0.0019032614311037753,0.0019000322865935664,0.0018987660239348008,0.0018949655551284616,0.0018946539986114965,0.001878830141992229,0.0018732070864270823,0.0018719339201377363,0.0018666125547390528,0.0018605752986646854,0.0018586180239489698,0.0018552202039798424,0.0018521580376425182,0.0018488237622024087,0.001848005329377993,0.0018470867295165704,0.0018438128364201161,0.0018411845327684702,0.0018403406930287802,0.00183949170950023,0.0018390578212705354,0.0018321704175033706,0.0018242924571591067,0.0018217847559415985,0.001812409687220218,0.0018095756095925042,0.001808001157052609,0.001802017971440814,0.0018008714521048671,0.0018004683646742057,0.0017969023331899842,0.0017947005662395585,0.0017944567610567892,0.0017936114295896578,0.0017929758682153154,0.0017890922756008288,0.001787527355063731,0.0017873614169339155,0.0017845000644886328,0.0017844177461979237,0.0017842601583158003,0.0017823042867705428,0.0017815593896469333,0.001781540621020288,0.0017811753098573378,0.001778020656289636,0.0017775569009117046,0.0017764690003517492,0.001773620138330288,0.0017723491247871885,0.0017714131309665955,0.0017698380573001624,0.0017635325842802667,0.0017623041658298868,0.0017622169038082512,0.0017596010046472346,0.0017453683182674991,0.0017452430291939522,0.0017334434031905945,0.001730377449296368,0.001730040049882439,0.001722551097202253,0.0017212187830950728,0.0017191110213258048,0.0017186551559202473,0.001718620957312142,0.0017139380394349355,0.0017103911717536904,0.0017041877405245779,0.0017002057302641664,0.00169936362491825,0.0016991569278504205,0.001698237805814621,0.001696300070955226,0.001694400082652705,0.0016923432095291866,0.0016907627583500492,0.0016903541724608742,0.001689057658736553,0.0016882433389099187,0.0016874920625100142,0.0016858471774846282,0.001683554876030041,0.001681590276830443,0.0016798416012203947,0.0016792608242601214,0.0016769354823561334,0.001673544250759983,0.0016683663500031546,0.001666527794481111,0.0016654705526064405,0.001664141180282574,0.0016633232015347912,0.0016555607392257493,0.0016547475761570535,0.0016518194940696742,0.0016492808463185438,0.0016397362048566069,0.0016392194726419492,0.0016331768049655194,0.0016312619525366279,0.0016264469134722344,0.0016244606732258272,0.0016233718900207134,0.0016231979280684776,0.0016217236629002115,0.0016209158125320782,0.0016203355916573994,0.0016166787947780024,0.0016152331674970973,0.001608241257074293,0.001606967778225173,0.0016041973745057206,0.001597902414319904,0.0015948878788841418,0.001593921321390973,0.0015915238033438815,0.0015894640272094472,0.0015867724368284523,0.0015795548824768962,0.0015699016752097222,0.001566099767652766,0.0015656142699921902,0.001562266883381041,0.0015606885845181604,0.001560611503489558,0.0015549819163974124,0.001548501110683187,0.001548292977629762,0.0015459952300098758,0.0015440576480518506,0.0015388082516111885,0.0015384272972740161,0.0015340266757299813,0.0015323555601412114,0.0015271767066176766,0.0015267426562972709,0.0015249402413976731,0.001520863788749496,0.001518838870067559,0.0015183831490533737,0.0015180282732476715,0.001514510069778361,0.001513398700134303,0.001511102647088123,0.001510462045142837,0.0015079066077471604,0.0015062821896561567,0.0015058330251132297,0.00150529733402694,0.001503799323003002,0.0015031761121099825,0.0015031051908857734,0.0015023941047157296,0.0014968328045929123,0.0014964883720428159,0.0014959993390661484,0.0014959048825384143,0.0014940548439180347,0.0014891287214278649,0.0014883479110484952,0.001487977751361349,0.0014878339634301966,0.0014796380629317734,0.001478609001837551,0.0014780848065585985,0.0014741718368301983,0.0014729039918125052,0.0014664215596031668,0.0014649578496268212,0.0014598920463240127,0.0014577208921465678,0.0014550802636551048,0.0014524079554767953,0.0014512030304041463,0.0014510107239378912,0.0014481975283211126,0.0014440231937640083,0.0014437708409672611,0.0014437334222383604,0.0014391704011037512,0.001438129250837374,0.001436064211020426,0.0014329858867422854,0.001428841944529485,0.001426716317491552,0.0014228550654212446,0.0014209586637086793,0.0014182130532191658,0.001408516768928775,0.001406245971789195,0.0014039334205239193,0.0013961941558600283,0.001395343524538536,0.0013941811362351997,0.0013927405701206123,0.001392484220220637,0.0013874379820160675,0.0013870928025872592,0.0013855102374604868,0.0013830977006275113,0.001381540951746165,0.001366930393062381,0.001365993785335164,0.0013657785643800865,0.0013652270144987883,0.0013598301579576205,0.0013598045390352984,0.0013544417571310328,0.0013536886121034391,0.0013523452185838624,0.0013512588854561638,0.0013469685018614593,0.0013464899439162641,0.0013460758988374532,0.0013458597138105207,0.0013442116310308657,0.0013441461017487525,0.0013407844658678224,0.0013396455898667505,0.0013377503263635427,0.0013369655663795182,0.0013344313144569582,0.0013310334031033056,0.0013308394915195994,0.0013302986184126908,0.001328511353105221,0.0013273629012220314,0.0013223651833211586,0.001320885712466709,0.0013172123528371346,0.0013165784947565165,0.0013160852310532664,0.0013157890551422225,0.0013147195131787636,0.0013135490411658195,0.001312420728127647,0.0013048918160674804,0.0013028226335480033,0.0013004248167520936,0.0012998352108649835,0.0012995770654682904,0.001299314652455889,0.0012978230656453288,0.0012972569349332468,0.0012923545007897347,0.001290950941497163,0.0012895937478874693,0.0012877261068864104,0.0012875362791149967,0.001286270521888959,0.001278498718978461,0.0012720985815621861,0.001272080862721152,0.0012682649643173012,0.0012658921692035204,0.001265191109521911,0.0012632810149931263,0.0012620760466149124,0.0012591002270886077,0.001258096277264789,0.0012566210217265221,0.0012540981031082883,0.0012538959766832205,0.0012497897466479625,0.0012464520183450645,0.0012461826374007008,0.0012454472529834525,0.0012435834945612816,0.0012399297549533519,0.0012394956225358117,0.0012393180789041962,0.0012392115715184236,0.0012381502047735767,0.001237054229703046,0.001232254100210898,0.0012295135194433033,0.0012278661003298436,0.001227648207347724,0.0012243902983234578,0.0012209435792850444,0.0012201734642937755,0.0012200584275014901,0.0012193262376493461,0.0012178815927041413,0.0012158120643778365,0.0012132935105196292,0.0012132291480206289,0.0012122688736084534,0.0012118220098218343,0.001210997923226162,0.0012098451531545552,0.0012094721750898704,0.0012069719814299222,0.0012021879463049302,0.0012019342135320841,0.0012013433242063867,0.0011980584901690014,0.0011973313594362792,0.0011963488688313047,0.0011940931065799365,0.001194088977063153,0.0011903665582275954,0.0011896507544017672,0.0011865250343619223,0.001185953395891095,0.0011849588527455175,0.0011843572197525521,0.0011800430607130383,0.0011776941032252068,0.001177391700710782,0.0011746239365080665,0.0011734720148075905,0.0011722031246778025,0.0011627710230214447,0.0011627165340336461,0.0011606475967799459,0.001160539384805706,0.0011600819277445985,0.001159265166798959,0.0011568442404809125,0.0011533680775065256,0.0011517341022080057,0.001151531050930296,0.0011512405577017832,0.0011501919292572836,0.0011500286069870953,0.0011482946619800073,0.0011482356538592084,0.0011460398852549596,0.0011443796763001995,0.0011439503889017213,0.0011427296523155981,0.0011419592293110791,0.0011397507923642778,0.0011392119317649803,0.001137930981935616,0.0011361741544836325,0.001128178011800268,0.0011275513943048371,0.0011270673097042777,0.0011261792515367493,0.0011261482572254926,0.0011256047578255875,0.0011240791186321879,0.0011221080919071238,0.0011199594528444679,0.0011195430856754177,0.001118927266616787,0.001118556729033711,0.0011183400601035417,0.0011136663003452117,0.0011136161237258187,0.0011133157491695451,0.0011116084451718692,0.001108903172614551,0.001099701087631099,0.001099198675039846,0.0010948493256778555,0.0010917572357479251,0.00109030806257924,0.001087841601629465,0.0010863678123587848,0.001086064708476344,0.0010860249072364451,0.001084844047846545,0.0010834272146372612,0.0010831602320040788,0.0010816092846639585,0.0010765150361081138,0.0010763165840680677,0.0010761221716702157,0.0010751516996707923,0.0010741529335810648,0.0010728226353235355,0.0010719344053538146,0.001070103552771041,0.0010669010323876547,0.0010657615883859608,0.001058019350421639,0.001057972635358349,0.001057540455618708,0.0010574696144874257,0.0010556927467319638,0.0010519943438942001,0.0010509391929610509,0.0010481470032909395,0.0010464510109341864,0.0010456335364115784,0.001045251048078314,0.0010448992851185255,0.0010440891091835064,0.0010367878991614852,0.001036748260345206,0.001035410646091234,0.0010335200925513256,0.001033492435332229,0.001033019695150602,0.0010322393204744208,0.001031460817054442,0.00103033803305725,0.0010297554840867683,0.0010280643269487569,0.001026735913928868,0.00102415145446259,0.0010230753588350754,0.0010221925132123848,0.001021418194324251,0.001019793172511376,0.001014232630561286,0.0010097824436578985,0.0010092264244332527,0.0010059165653637284,0.0010052722726735723,0.0010004426017017913,0.0009999129902472426,0.0009995500010373172,0.0009958514469277729,0.000995566900979968,0.0009944570275573815,0.000993988714395775,0.0009928241980417386,0.0009912401382338905,0.0009884026258730797,0.0009852887284032487,0.0009818522956049314,0.0009818027244119123,0.0009800235915897169,0.000979844460911185,0.0009792544346496827,0.0009765018358089564,0.0009761792346041757,0.0009752757398150819,0.0009750526104806505,0.0009709827613078478,0.0009690566497943784,0.000964955227790266,0.0009637085227255939,0.0009634717127352866,0.0009632587588202856,0.0009623048759390347,0.0009615101182659047,0.0009602516705038409,0.0009602377412123061,0.0009587069308831984,0.0009575987394477941,0.0009575274851307761,0.0009556632816884539,0.0009554327744644846,0.0009554131665573995,0.0009532455095443841,0.000950937647841178,0.0009505573711687686,0.000949709946874797,0.0009480433309556785,0.0009462109346917819,0.0009356351606625148,0.0009319461114384719,0.0009310512970748949,0.0009297062963044479,0.0009285365014595699,0.0009285179026381474,0.0009255833227116559,0.0009215309193671408,0.0009204519490473999,0.000920121947809469,0.000917005214264142,0.0009158430447809714,0.0009107529535673978,0.0009096315119047636,0.000908887634022883,0.0009066954108269877,0.0009061804830761284,0.0009029274939518533,0.0009005604636297448,0.000900076286353043,0.0008998260786357008,0.0008996343013635803,0.0008984832223068004,0.0008958161332248628,0.0008957536227167469,0.0008951048016398947,0.0008938887336849282,0.0008934618515379431,0.0008934456987872312,0.0008908163023584683,0.0008901487211476809,0.0008887474965175197,0.0008847341958688246,0.000883289245472479,0.0008821096558448196,0.0008817313367020228,0.0008741814506999151,0.0008723341812026638,0.0008708858581309355,0.000867226754736784,0.0008657679870859097,0.0008642544611886709,0.0008609891759086337,0.0008578740325778576,0.0008542903483578825,0.000854037676946759,0.0008493198525249212,0.0008462418606389709,0.0008399616342876848,0.0008379220372921803,0.0008347550436214235,0.0008319292810608654,0.000830631558865748,0.0008287708714033527,0.0008258205482644744,0.0008217319891410793,0.0008185283388483348,0.0008183252866716837,0.000809971174956478,0.0008087539020480865,0.0008048981483552267,0.0008047331017769411,0.0008035710983312711,0.0007974642203173941,0.0007944499374276376,0.0007918839659259738,0.0007834002634047766,0.0007829859835645776,0.0007779998456480457,0.0007731104670977096,0.0007718312586090623,0.0007669080105890565,0.0007659847139295602,0.0007631650925443469,0.0007615813848382691,0.0007614702034122282,0.0007612870516406789,0.0007586070582870586,0.0007558005748539176,0.0007548746820464639,0.0007484616160498772,0.0007462621057304539,0.0007450830929051095,0.0007437003156287828,0.0007417948901049257,0.0007285616234716226,0.0007257121028368463,0.0007243524969288428,0.0007195665566000111,0.0007154600260825578,0.0007130152468346878,0.0007097420114717144,0.0007038913484379142,0.0007007227820442022,0.0006953025187148153,0.0006933464641479721,0.0006928499045679935,0.000682443618593851,0.0006800621751519038,0.0006751161013603427,0.0006726509315923344,0.0006704177027900718,0.0006680352799429484,0.0006679802531899827,0.0006664458697217967,0.0006625407193973541,0.0006620204456475918,0.000661240121315446,0.0006607518058658663,0.0006550979072063141,0.0006526333646789689,0.0006521111907885285,0.0006488900446324313,0.0006485416479845887,0.0006435278970594816,0.0006358708111935593,0.0006354156074327876,0.0006310476042781512,0.000630554979980203,0.0006300912040101874,0.0006189460041673805,0.0006187345571627387,0.0006178764556121606,0.0006146373367078721,0.0006093570639672653,0.0006080396903287025,0.0006068304658714121,0.0006054803932592763,0.0006042409093199878,0.0006015497618559147,0.0006012332214948774,0.000590794470754483,0.0005886230626201247,0.0005865217906331963,0.0005810302312046634,0.0005784568058638122,0.0005763379060791838,0.0005683905932540863,0.0005590715047171876,0.0005586198202905061,0.0005379901214815926,0.0005375914306139024,0.0005261611694501802,0.0005225550930246096,0.0005214293767942178,0.0005097184941755876,0.0004876805629293287,0.00048504676108723077,0.00048286050733229504,0.0004819305126770794,0.0004805017290454282,0.00047567286856001645,0.00047566522784440313,0.0004681880707936899,0.00046689738742040595,0.0004577215570489428,0.0004506967263038778,0.00044385361716066987,0.00043719703414787605,0.0004275370055127299,0.0004175530281611771,0.00040501019054316233,0.0003927070374268119,0.00038265602907780504,0.000367298484333575,0.00034016262737838934,0.0003154224100976958,0.0003138024673682742,0.000296845536646877,0.00028537792285529166,0.00024609986181293775],\"xaxis\":\"x\",\"y\":[\"tast\",\"like\",\"product\",\"flavor\",\"coffe\",\"love\",\"food\",\"one\",\"tri\",\"tea\",\"great\",\"good\",\"veri\",\"dog\",\"use\",\"get\",\"buy\",\"order\",\"eat\",\"would\",\"make\",\"amazon\",\"dont\",\"bag\",\"time\",\"onli\",\"box\",\"price\",\"much\",\"realli\",\"treat\",\"even\",\"best\",\"drink\",\"chocol\",\"well\",\"find\",\"becaus\",\"bought\",\"day\",\"also\",\"ive\",\"littl\",\"purchas\",\"water\",\"cup\",\"cat\",\"packag\",\"look\",\"better\",\"mix\",\"made\",\"brand\",\"recommend\",\"ani\",\"way\",\"want\",\"found\",\"give\",\"first\",\"could\",\"pack\",\"store_groceri\",\"think\",\"cooki\",\"review\",\"never\",\"year\",\"snack\",\"say\",\"favorit\",\"cant\",\"enjoy\",\"two\",\"differ\",\"know\",\"sweet\",\"stuff\",\"high\",\"disappoint\",\"befor\",\"got\",\"smell\",\"thing\",\"local\",\"sugar\",\"delici\",\"ship\",\"someth\",\"item\",\"work\",\"perfect\",\"receiv\",\"bad\",\"old\",\"ever\",\"sinc\",\"still\",\"need\",\"open\",\"take\",\"alway\",\"thought\",\"lot\",\"put\",\"month\",\"organ\",\"nice\",\"add\",\"everi\",\"mani\",\"bit\",\"doe\",\"back\",\"less\",\"right\",\"bar\",\"keep\",\"hard\",\"small\",\"qualiti\",\"dri\",\"peopl\",\"last\",\"hot\",\"away\",\"far\",\"didnt\",\"potato_chip\",\"healthi\",\"new\",\"wonder\",\"feel\",\"fresh\",\"come\",\"candi\",\"whole\",\"oil\",\"actual\",\"bottl\",\"sure\",\"chew\",\"anyth\",\"regular\",\"sauc\",\"start\",\"milk\",\"without\",\"real\",\"size\",\"case\",\"blend\",\"seem\",\"easi\",\"enough\",\"definit\",\"problem\",\"calori\",\"natur\",\"doesnt\",\"chicken\",\"theyr\",\"around\",\"see\",\"compani\",\"long\",\"contain\",\"howev\",\"bitter\",\"thank\",\"quick\",\"expect\",\"arriv\",\"soup\",\"money_wast\",\"cereal\",\"pleas\",\"worth\",\"big\",\"gluten_free\",\"return\",\"noth\",\"anoth\",\"coconut\",\"strong\",\"ill\",\"came\",\"pretti\",\"wont\",\"green\",\"bean\",\"cook\",\"help\",\"though\",\"said\",\"textur\",\"usual\",\"read\",\"deal\",\"ingredi_list\",\"star\",\"absolut\",\"took\",\"expens\",\"corn\",\"happi\",\"kid\",\"serv\",\"kind\",\"tasti\",\"almost\",\"week\",\"low\",\"avail\",\"health\",\"feed\",\"famili\",\"morn\",\"cost\",\"sever\",\"kcup_keurig\",\"protein\",\"friend\",\"brew\",\"ounc\",\"quit\",\"whi\",\"butter_peanut\",\"may\",\"dark\",\"amount\",\"color\",\"yet\",\"piec\",\"fat\",\"powder\",\"excel\",\"end\",\"home\",\"spice\",\"went\",\"roast\",\"leav\",\"second\",\"varieti\",\"hope\",\"bake\",\"couldnt\",\"abl\",\"chang\",\"cream_ice\",\"pet\",\"wish\",\"gave\",\"amaz\",\"fruit\",\"place\",\"glad\",\"mouth\",\"care\",\"husband\",\"vet\",\"horribl\",\"might\",\"throw\",\"salt_sea\",\"carri\",\"rice\",\"sell\",\"live\",\"stop\",\"onlin\",\"els\",\"chees\",\"top\",\"black\",\"mayb\",\"minut\",\"fill\",\"half\",\"total\",\"wouldnt\",\"normal\",\"fan\",\"jar\",\"compar\",\"babi\",\"rich\",\"cheaper\",\"decid\",\"reason\",\"hand\",\"sweeten\",\"meal\",\"per\",\"syrup\",\"light\",\"let\",\"pop\",\"bone\",\"isnt\",\"market\",\"coupl\",\"probabl\",\"full\",\"weight\",\"turn\",\"fact\",\"surpris\",\"least\",\"life\",\"notic\",\"meat\",\"subscrib_save\",\"either\",\"extra\",\"starbuck\",\"must\",\"plus\",\"beef\",\"especi\",\"past\",\"hour\",\"recent\",\"exact\",\"saw\",\"wheat\",\"three\",\"bread\",\"ago\",\"white\",\"type\",\"honey\",\"complet\",\"popcorn\",\"instead\",\"artifici\",\"hous\",\"person\",\"anyon\",\"pick\",\"season\",\"tell\",\"seed\",\"run\",\"seller\",\"salti\",\"plastic\",\"scienc_diet\",\"believ\",\"fine\",\"unfortun\",\"grain\",\"terribl\",\"prefer\",\"near\",\"everyth\",\"vanilla\",\"onc\",\"pay\",\"pound\",\"bulli_stick\",\"experi\",\"bite\",\"youll\",\"worst\",\"smooth\",\"fast\",\"larg\",\"offer\",\"chemic\",\"red\",\"decaf\",\"sometim\",\"final\",\"valu\",\"version\",\"descript\",\"nasti\",\"rest\",\"pepper\",\"clear\",\"insid\",\"awesom\",\"stay\",\"issu\",\"nut\",\"huge\",\"caus\",\"origin\",\"juic\",\"label\",\"excit\",\"wasnt\",\"stock\",\"packet\",\"close\",\"pictur\",\"cheap\",\"although\",\"cut\",\"hate\",\"stale\",\"gum\",\"pasta\",\"direct\",\"cocoa\",\"smaller\",\"consist\",\"allergi\",\"expir_date\",\"teeth\",\"addict\",\"brown\",\"recip\",\"state\",\"licoric\",\"digest\",\"includ\",\"energi\",\"eaten\",\"wrong\",\"base\",\"slight\",\"breakfast\",\"crunchi\",\"finish\",\"custom_servic\",\"goe\",\"part\",\"oatmeal\",\"within\",\"soft\",\"super\",\"switch\",\"soda\",\"formula\",\"soy\",\"cannot\",\"jerki\",\"longer\",\"toy\",\"night\",\"yummi\",\"raw\",\"often\",\"appl\",\"side\",\"bulk\",\"deliv\",\"name\",\"almond\",\"result\",\"addit\",\"instant\",\"mention\",\"threw\",\"satisfi\",\"line\",\"hair\",\"guess\",\"suggest\",\"done\",\"anymor\",\"sent\",\"fri\",\"clean\",\"bowl\",\"veget\",\"content\",\"call\",\"newman\",\"singl\",\"thin\",\"disgust\",\"set\",\"bodi\",\"altern\",\"rather\",\"next\",\"extrem\",\"avoid\",\"acid\",\"benefit\",\"soon\",\"aftertast\",\"cinnamon\",\"skin\",\"someon\",\"chewi\",\"everyon\",\"spici\",\"allow\",\"left\",\"follow\",\"ask\",\"seal\",\"consid\",\"caffein\",\"wait\",\"show\",\"bold\",\"cake\",\"nutrit\",\"point\",\"four\",\"etc\",\"none\",\"blue\",\"poor\",\"happen\",\"fair\",\"chai\",\"today\",\"special\",\"busi\",\"batch\",\"similar\",\"bottom\",\"felt\",\"noodl\",\"wife\",\"dollar\",\"shop\",\"miss\",\"mean\",\"replac\",\"cours\",\"entir\",\"deliveri\",\"count\",\"pour\",\"supermarket\",\"fantast\",\"train\",\"sick\",\"glass\",\"due\",\"choic\",\"warn\",\"continu\",\"thick\",\"immedi\",\"picki\",\"suppos\",\"paid\",\"havent\",\"ball\",\"pretzel\",\"sodium\",\"websit_word\",\"pod\",\"wrap\",\"realiz\",\"check\",\"itbr\",\"plan\",\"crazi\",\"sold\",\"gone\",\"matter\",\"opinion\",\"weve\",\"drop\",\"effect\",\"refund\",\"ground\",\"comment\",\"simpli\",\"machin\",\"christma\",\"flour\",\"mint\",\"weak\",\"plain\",\"puppi\",\"send\",\"heat\",\"worri\",\"cracker\",\"mother\",\"mine\",\"kitchen\",\"stomach\",\"dip\",\"espresso\",\"truli\",\"five\",\"walmart\",\"gram\",\"hold\",\"daughter\",\"incred\",\"told\",\"yes\",\"sip\",\"ate\",\"greeni\",\"beauti\",\"basket_gift\",\"banana\",\"seen\",\"alreadi\",\"process\",\"easili\",\"dish\",\"serious\",\"lower\",\"learn\",\"melt\",\"consum\",\"figur\",\"hes_son\",\"basic\",\"anyway\",\"spend\",\"mistak\",\"ginger\",\"dure\",\"alon\",\"orang\",\"describ\",\"fiber\",\"caramel\",\"twice\",\"option\",\"whatev\",\"sorri\",\"fun\",\"break\",\"given\",\"bewar_buyer\",\"suppli\",\"produc\",\"difficult\",\"sit\",\"garlic\",\"bare\",\"along\",\"provid\",\"shipment\",\"substitut\",\"write\",\"pumpkin\",\"idea\",\"sprinkl\",\"togeth\",\"vitamin\",\"rememb\",\"later\",\"perhap\",\"maker\",\"sale\",\"knew\",\"crave\",\"bring\",\"rate\",\"post\",\"lemon\",\"previous\",\"site\",\"particular\",\"conveni\",\"carb\",\"honest\",\"dent\",\"egg\",\"oliv\",\"gross\",\"crisp\",\"control\",\"french\",\"lack\",\"greasi\",\"search\",\"pure\",\"loos\",\"lunch\",\"everyday\",\"broken\",\"rip\",\"freez\",\"share\",\"quantiti\",\"number\",\"stuck_vinegar\",\"trust\",\"pouch\",\"import\",\"appear\",\"remind\",\"becom\",\"rock\",\"note\",\"individu\",\"pie\",\"boy\",\"creami\",\"mild\",\"sort\",\"shape\",\"tasteless\",\"cover\",\"advertis\",\"pleasant\",\"cold\",\"liver\",\"known\",\"fish\",\"afford\",\"impress\",\"tini\",\"pricey\",\"unlik\",\"dinner\",\"beat\",\"troubl\",\"aroma\",\"healthier\",\"larger\",\"world\",\"delight\",\"unless\",\"mom\",\"simpl\",\"veggi\",\"except\",\"premium\",\"trip\",\"area\",\"discov\",\"sampl\",\"coat\",\"walk\",\"awar\",\"yum\",\"possibl\",\"workout\",\"requir\",\"portion\",\"true\",\"sourc\",\"crystal\",\"face\",\"wet\",\"crust_pizza\",\"zero\",\"complaint\",\"damag\",\"shot\",\"fit\",\"manufactur\",\"bunch\",\"claim\",\"offic\",\"shake\",\"dessert\",\"pancak\",\"crunch\",\"earth\",\"toast\",\"cherri\",\"roll\",\"trash\",\"pantri\",\"sugarfre\",\"lost\",\"italian\",\"granola\",\"research\",\"liter\",\"hit\",\"concern\",\"easier\",\"becam\",\"refus\",\"spot\",\"heavi\",\"curri\",\"junk\",\"salmon\",\"trick\",\"buck\",\"interest\",\"shelf\",\"door\",\"leak_mess\",\"short\",\"earl_grey\",\"hint\",\"china_kidney\",\"talk\",\"tree\",\"imagin\",\"onion\",\"thrill\",\"kick\",\"heart\",\"condit\",\"via\",\"boil\",\"overwhelm\",\"hole\",\"forward\",\"front\",\"general\",\"neither\",\"move\",\"turkey\",\"restaur\",\"arent\",\"retail\",\"empti\",\"stevia\",\"pull\",\"balanc\",\"main\",\"various\",\"brewer_timothi\",\"broke\",\"yellow\",\"readi\",\"travel\",\"sound\",\"weird\",\"tend\",\"pot\",\"fix\",\"amazoncom\",\"test\",\"salad\",\"tomato\",\"style\",\"pocket_pill\",\"lose\",\"six\",\"fed\",\"sour\",\"charg\",\"subscript\",\"unit\",\"sensit\",\"standard\",\"appreci\",\"refresh\",\"suffer\",\"plant\",\"metal\",\"youv\",\"prepar\",\"glutenfre\",\"adult\",\"outsid\",\"upon\",\"tough\",\"doubl\",\"stand\",\"uniqu\",\"flower\",\"initi\",\"wow\",\"chunk\",\"spread\",\"wors\",\"grow\",\"medium\",\"chili\",\"combin\",\"blueberri\",\"overpr\",\"thembr\",\"lover\",\"sad\",\"frozen\",\"lime\",\"remov\",\"job\",\"bacon\",\"mapl\",\"level\",\"paper\",\"otherwis\",\"shock\",\"spit\",\"straight\",\"thrown\",\"beyond\",\"shame\",\"mind\",\"warm\",\"birthday_parti\",\"tip\",\"girl\",\"steak\",\"touch\",\"fabul\",\"chines\",\"homemad\",\"mini\",\"system\",\"handl_late\",\"crumbl\",\"crap\",\"pass\",\"solid\",\"guy\",\"scoop\",\"load\",\"raspberri\",\"grill\",\"mountain\",\"drive\",\"bland\",\"visit\",\"broth\",\"vendor\",\"latt\",\"vomit\",\"skeptic\",\"certain\",\"frequent\",\"kept\",\"gold\",\"contact\",\"tin\",\"heaven\",\"complain\",\"admit\",\"nose\",\"choke\",\"mold\",\"everywher\",\"understand\",\"increas\",\"garden\",\"children\",\"agre\",\"instruct\",\"daili\",\"lid\",\"moist\",\"futur\",\"drinker\",\"superior\",\"garbag\",\"depend\",\"fake\",\"msg\",\"oat\",\"bed\",\"overal\",\"extract\",\"afternoon\",\"squar\",\"beer_root\",\"scent\",\"diseas_celiac\",\"stash\",\"rancid\",\"cool\",\"folk\",\"overpow\",\"kettl\",\"safe\",\"upset\",\"microwav\",\"separ\",\"squeez\",\"odor\",\"ruin\",\"develop\",\"select\",\"decent\",\"respons\",\"wine\",\"tire\",\"alot\",\"reaction\",\"filler\",\"dissolv\",\"term\",\"fell\",\"head\",\"gobbl\",\"anywher\",\"age\",\"step\",\"gas\",\"favor\",\"biscuit\",\"drank\",\"waffl\",\"medic\",\"diarrhea\",\"preserv\",\"gag\",\"experienc\",\"car\",\"gummi\",\"english\",\"jelli\",\"kibbl\",\"kitti\",\"pea\",\"stronger\",\"current\",\"mango\",\"german\",\"cancel\",\"delic\",\"canist\",\"major\",\"support\",\"strang\",\"stir\",\"begin\",\"themselv\",\"suck\",\"spent\",\"third\",\"summer\",\"odd\",\"form\",\"strip\",\"besid\",\"prior\",\"hungri\",\"higher\",\"cent\",\"limit\",\"heard\",\"peach\",\"practic\",\"chanc\",\"web\",\"appeal\",\"sleep\",\"strawberri\",\"doctor\",\"nutriti\",\"play\",\"posit\",\"inform\",\"grab\",\"center_liquid\",\"dad\",\"ton\",\"costco\",\"room\",\"owner\",\"elsewher\",\"brought\",\"hazelnut\",\"spoon\",\"floor\",\"hook\",\"email\",\"concentr\",\"child\",\"berri_smoothi\",\"reduc\",\"slice\",\"cardboard\",\"wild\",\"improv\",\"yogurt\",\"percent_fructos\",\"throat\",\"tart\",\"grind\",\"mark\",\"plenti\",\"bubbl\",\"accept\",\"shell\",\"question\",\"gotten\",\"moistur\",\"adopt_shes\",\"eater\",\"older\",\"risk\",\"whether\",\"school\",\"matcha\",\"bud\",\"dump\",\"obvious\",\"bear\",\"correct\",\"steam\",\"watch\",\"typic\",\"prime\",\"promis\",\"diabet\",\"bbq\",\"dead\",\"nutti\",\"goodbr\",\"symptom_cramp\",\"grew\",\"kitten\",\"ined\",\"aspartam\",\"danger\",\"act\",\"okay\",\"gourmet\",\"burnt\",\"fail\",\"scratch\",\"hemp\",\"attempt\",\"wake\",\"tablespoon\",\"ridicul\",\"harder\",\"creamer\",\"lab_usa\",\"thai\",\"mill\",\"measur\",\"cheddar_puff\",\"supplement_gain\",\"photo\",\"doubt\",\"grade\",\"flat\",\"breath\",\"eye\",\"air\",\"byproduct\",\"crack_mail\",\"necessari\",\"mixtur_raisin\",\"negat\",\"rave\",\"spoil\",\"occasion\",\"ran_dairi\",\"wateri\",\"duck\",\"remain\",\"sandwich\",\"teaspoon\",\"filter_onto\",\"apart_fall\",\"target\",\"carbon\",\"sticki\",\"shampoo\",\"taken\",\"cowork\",\"abov\",\"common\",\"transit\",\"page\",\"imposs\",\"grass\",\"hesit\",\"kit\",\"splenda\",\"sens\",\"relat\",\"swallow\",\"design_specif\",\"litter\",\"lead\",\"productbr\",\"supplier\",\"bill\",\"recal\",\"truffl\",\"edibl\",\"tradit\",\"pain_intestin\",\"equal\",\"dust\",\"beverag\",\"appar\",\"rescu\",\"meant\",\"answer\",\"introduc\",\"countri\",\"nutrient\",\"needless\",\"desk\",\"therefor\",\"pan\",\"canida\",\"bother\",\"mocha\",\"proper\",\"creat\",\"crumb\",\"zico\",\"present\",\"vegetarian\",\"leftov\",\"updat\",\"buffalo\",\"drain\",\"indic\",\"behind\",\"fanci\",\"eventu\",\"refriger\",\"herb\",\"american\",\"prevent\",\"burn\",\"sign\",\"poop\",\"power\",\"leaf\",\"temperatur\",\"member\",\"indoor\",\"cola\",\"whenev\",\"fda\",\"frost\",\"emerg_die\",\"shouldnt\",\"suspect\",\"polici\",\"gravi\",\"despit\",\"cranberri\",\"hear\",\"tuna\",\"human\",\"foil\",\"link_jack\",\"miner\",\"toss\",\"rais\",\"middl\",\"rawhid\",\"foodbr\",\"choos\",\"smoke\",\"sunflow\",\"destroy\",\"farm\",\"magic\",\"lbs\",\"soak\",\"golden_werent\",\"forc\",\"senseo\",\"wash\",\"excess\",\"cane\",\"constant\",\"toler\",\"yeast_medicin\",\"bore\",\"discontinu\",\"youd\",\"exampl\",\"discount\",\"mislead\",\"titl\",\"herbal\",\"cri\",\"allerg\",\"browni\",\"began\",\"effort\",\"earli\",\"spill\",\"diamond\",\"reorder\",\"manag\",\"rins\",\"across\",\"hip\",\"acai\",\"hydrogen_partial\",\"andor\",\"parent\",\"blood\",\"coupon\",\"cancer_anim\",\"wrote\",\"stool_slowli\",\"stapl\",\"press\",\"jasmin\",\"repeat\",\"peppermint\",\"rare\",\"advic\",\"palat\",\"evo\",\"agav_prompt\",\"firm\",\"assur\",\"assum\",\"attent\",\"sister\",\"explain\",\"detail\",\"flavour\",\"resembl\",\"tongu\",\"googl\",\"sodastream\",\"wide\",\"rid\",\"thisbr\",\"forget\",\"accord\",\"activ\",\"internet\",\"tabl\",\"kill\",\"dress\",\"knock\",\"lick\",\"chose\",\"funni\",\"throughout\",\"vegan\",\"stori\",\"program\",\"flavorbr\",\"inch\",\"chop_pork\",\"written\",\"wed\",\"carton\",\"jump\",\"multipl\",\"comparison\",\"california\",\"poison\",\"ten\",\"innova\",\"theyv\",\"somewhat\",\"split\",\"method\",\"spray\",\"grape\",\"hill\",\"death\",\"unpleas\",\"affect\",\"fridg\",\"joe\",\"yuck\",\"taco\",\"nobr\",\"bpa\",\"magnesium\",\"meet_luck\",\"toxic\",\"refil\",\"trap_mebr\",\"push\",\"carbohydr\",\"steep\",\"canin\",\"report\",\"muffin\",\"lie\"],\"yaxis\":\"y\",\"type\":\"scattergl\"}],                        {\"template\":{\"data\":{\"bar\":[{\"error_x\":{\"color\":\"#2a3f5f\"},\"error_y\":{\"color\":\"#2a3f5f\"},\"marker\":{\"line\":{\"color\":\"#E5ECF6\",\"width\":0.5},\"pattern\":{\"fillmode\":\"overlay\",\"size\":10,\"solidity\":0.2}},\"type\":\"bar\"}],\"barpolar\":[{\"marker\":{\"line\":{\"color\":\"#E5ECF6\",\"width\":0.5},\"pattern\":{\"fillmode\":\"overlay\",\"size\":10,\"solidity\":0.2}},\"type\":\"barpolar\"}],\"carpet\":[{\"aaxis\":{\"endlinecolor\":\"#2a3f5f\",\"gridcolor\":\"white\",\"linecolor\":\"white\",\"minorgridcolor\":\"white\",\"startlinecolor\":\"#2a3f5f\"},\"baxis\":{\"endlinecolor\":\"#2a3f5f\",\"gridcolor\":\"white\",\"linecolor\":\"white\",\"minorgridcolor\":\"white\",\"startlinecolor\":\"#2a3f5f\"},\"type\":\"carpet\"}],\"choropleth\":[{\"colorbar\":{\"outlinewidth\":0,\"ticks\":\"\"},\"type\":\"choropleth\"}],\"contour\":[{\"colorbar\":{\"outlinewidth\":0,\"ticks\":\"\"},\"colorscale\":[[0.0,\"#0d0887\"],[0.1111111111111111,\"#46039f\"],[0.2222222222222222,\"#7201a8\"],[0.3333333333333333,\"#9c179e\"],[0.4444444444444444,\"#bd3786\"],[0.5555555555555556,\"#d8576b\"],[0.6666666666666666,\"#ed7953\"],[0.7777777777777778,\"#fb9f3a\"],[0.8888888888888888,\"#fdca26\"],[1.0,\"#f0f921\"]],\"type\":\"contour\"}],\"contourcarpet\":[{\"colorbar\":{\"outlinewidth\":0,\"ticks\":\"\"},\"type\":\"contourcarpet\"}],\"heatmap\":[{\"colorbar\":{\"outlinewidth\":0,\"ticks\":\"\"},\"colorscale\":[[0.0,\"#0d0887\"],[0.1111111111111111,\"#46039f\"],[0.2222222222222222,\"#7201a8\"],[0.3333333333333333,\"#9c179e\"],[0.4444444444444444,\"#bd3786\"],[0.5555555555555556,\"#d8576b\"],[0.6666666666666666,\"#ed7953\"],[0.7777777777777778,\"#fb9f3a\"],[0.8888888888888888,\"#fdca26\"],[1.0,\"#f0f921\"]],\"type\":\"heatmap\"}],\"heatmapgl\":[{\"colorbar\":{\"outlinewidth\":0,\"ticks\":\"\"},\"colorscale\":[[0.0,\"#0d0887\"],[0.1111111111111111,\"#46039f\"],[0.2222222222222222,\"#7201a8\"],[0.3333333333333333,\"#9c179e\"],[0.4444444444444444,\"#bd3786\"],[0.5555555555555556,\"#d8576b\"],[0.6666666666666666,\"#ed7953\"],[0.7777777777777778,\"#fb9f3a\"],[0.8888888888888888,\"#fdca26\"],[1.0,\"#f0f921\"]],\"type\":\"heatmapgl\"}],\"histogram\":[{\"marker\":{\"pattern\":{\"fillmode\":\"overlay\",\"size\":10,\"solidity\":0.2}},\"type\":\"histogram\"}],\"histogram2d\":[{\"colorbar\":{\"outlinewidth\":0,\"ticks\":\"\"},\"colorscale\":[[0.0,\"#0d0887\"],[0.1111111111111111,\"#46039f\"],[0.2222222222222222,\"#7201a8\"],[0.3333333333333333,\"#9c179e\"],[0.4444444444444444,\"#bd3786\"],[0.5555555555555556,\"#d8576b\"],[0.6666666666666666,\"#ed7953\"],[0.7777777777777778,\"#fb9f3a\"],[0.8888888888888888,\"#fdca26\"],[1.0,\"#f0f921\"]],\"type\":\"histogram2d\"}],\"histogram2dcontour\":[{\"colorbar\":{\"outlinewidth\":0,\"ticks\":\"\"},\"colorscale\":[[0.0,\"#0d0887\"],[0.1111111111111111,\"#46039f\"],[0.2222222222222222,\"#7201a8\"],[0.3333333333333333,\"#9c179e\"],[0.4444444444444444,\"#bd3786\"],[0.5555555555555556,\"#d8576b\"],[0.6666666666666666,\"#ed7953\"],[0.7777777777777778,\"#fb9f3a\"],[0.8888888888888888,\"#fdca26\"],[1.0,\"#f0f921\"]],\"type\":\"histogram2dcontour\"}],\"mesh3d\":[{\"colorbar\":{\"outlinewidth\":0,\"ticks\":\"\"},\"type\":\"mesh3d\"}],\"parcoords\":[{\"line\":{\"colorbar\":{\"outlinewidth\":0,\"ticks\":\"\"}},\"type\":\"parcoords\"}],\"pie\":[{\"automargin\":true,\"type\":\"pie\"}],\"scatter\":[{\"marker\":{\"colorbar\":{\"outlinewidth\":0,\"ticks\":\"\"}},\"type\":\"scatter\"}],\"scatter3d\":[{\"line\":{\"colorbar\":{\"outlinewidth\":0,\"ticks\":\"\"}},\"marker\":{\"colorbar\":{\"outlinewidth\":0,\"ticks\":\"\"}},\"type\":\"scatter3d\"}],\"scattercarpet\":[{\"marker\":{\"colorbar\":{\"outlinewidth\":0,\"ticks\":\"\"}},\"type\":\"scattercarpet\"}],\"scattergeo\":[{\"marker\":{\"colorbar\":{\"outlinewidth\":0,\"ticks\":\"\"}},\"type\":\"scattergeo\"}],\"scattergl\":[{\"marker\":{\"colorbar\":{\"outlinewidth\":0,\"ticks\":\"\"}},\"type\":\"scattergl\"}],\"scattermapbox\":[{\"marker\":{\"colorbar\":{\"outlinewidth\":0,\"ticks\":\"\"}},\"type\":\"scattermapbox\"}],\"scatterpolar\":[{\"marker\":{\"colorbar\":{\"outlinewidth\":0,\"ticks\":\"\"}},\"type\":\"scatterpolar\"}],\"scatterpolargl\":[{\"marker\":{\"colorbar\":{\"outlinewidth\":0,\"ticks\":\"\"}},\"type\":\"scatterpolargl\"}],\"scatterternary\":[{\"marker\":{\"colorbar\":{\"outlinewidth\":0,\"ticks\":\"\"}},\"type\":\"scatterternary\"}],\"surface\":[{\"colorbar\":{\"outlinewidth\":0,\"ticks\":\"\"},\"colorscale\":[[0.0,\"#0d0887\"],[0.1111111111111111,\"#46039f\"],[0.2222222222222222,\"#7201a8\"],[0.3333333333333333,\"#9c179e\"],[0.4444444444444444,\"#bd3786\"],[0.5555555555555556,\"#d8576b\"],[0.6666666666666666,\"#ed7953\"],[0.7777777777777778,\"#fb9f3a\"],[0.8888888888888888,\"#fdca26\"],[1.0,\"#f0f921\"]],\"type\":\"surface\"}],\"table\":[{\"cells\":{\"fill\":{\"color\":\"#EBF0F8\"},\"line\":{\"color\":\"white\"}},\"header\":{\"fill\":{\"color\":\"#C8D4E3\"},\"line\":{\"color\":\"white\"}},\"type\":\"table\"}]},\"layout\":{\"annotationdefaults\":{\"arrowcolor\":\"#2a3f5f\",\"arrowhead\":0,\"arrowwidth\":1},\"autotypenumbers\":\"strict\",\"coloraxis\":{\"colorbar\":{\"outlinewidth\":0,\"ticks\":\"\"}},\"colorscale\":{\"diverging\":[[0,\"#8e0152\"],[0.1,\"#c51b7d\"],[0.2,\"#de77ae\"],[0.3,\"#f1b6da\"],[0.4,\"#fde0ef\"],[0.5,\"#f7f7f7\"],[0.6,\"#e6f5d0\"],[0.7,\"#b8e186\"],[0.8,\"#7fbc41\"],[0.9,\"#4d9221\"],[1,\"#276419\"]],\"sequential\":[[0.0,\"#0d0887\"],[0.1111111111111111,\"#46039f\"],[0.2222222222222222,\"#7201a8\"],[0.3333333333333333,\"#9c179e\"],[0.4444444444444444,\"#bd3786\"],[0.5555555555555556,\"#d8576b\"],[0.6666666666666666,\"#ed7953\"],[0.7777777777777778,\"#fb9f3a\"],[0.8888888888888888,\"#fdca26\"],[1.0,\"#f0f921\"]],\"sequentialminus\":[[0.0,\"#0d0887\"],[0.1111111111111111,\"#46039f\"],[0.2222222222222222,\"#7201a8\"],[0.3333333333333333,\"#9c179e\"],[0.4444444444444444,\"#bd3786\"],[0.5555555555555556,\"#d8576b\"],[0.6666666666666666,\"#ed7953\"],[0.7777777777777778,\"#fb9f3a\"],[0.8888888888888888,\"#fdca26\"],[1.0,\"#f0f921\"]]},\"colorway\":[\"#636efa\",\"#EF553B\",\"#00cc96\",\"#ab63fa\",\"#FFA15A\",\"#19d3f3\",\"#FF6692\",\"#B6E880\",\"#FF97FF\",\"#FECB52\"],\"font\":{\"color\":\"#2a3f5f\"},\"geo\":{\"bgcolor\":\"white\",\"lakecolor\":\"white\",\"landcolor\":\"#E5ECF6\",\"showlakes\":true,\"showland\":true,\"subunitcolor\":\"white\"},\"hoverlabel\":{\"align\":\"left\"},\"hovermode\":\"closest\",\"mapbox\":{\"style\":\"light\"},\"paper_bgcolor\":\"white\",\"plot_bgcolor\":\"#E5ECF6\",\"polar\":{\"angularaxis\":{\"gridcolor\":\"white\",\"linecolor\":\"white\",\"ticks\":\"\"},\"bgcolor\":\"#E5ECF6\",\"radialaxis\":{\"gridcolor\":\"white\",\"linecolor\":\"white\",\"ticks\":\"\"}},\"scene\":{\"xaxis\":{\"backgroundcolor\":\"#E5ECF6\",\"gridcolor\":\"white\",\"gridwidth\":2,\"linecolor\":\"white\",\"showbackground\":true,\"ticks\":\"\",\"zerolinecolor\":\"white\"},\"yaxis\":{\"backgroundcolor\":\"#E5ECF6\",\"gridcolor\":\"white\",\"gridwidth\":2,\"linecolor\":\"white\",\"showbackground\":true,\"ticks\":\"\",\"zerolinecolor\":\"white\"},\"zaxis\":{\"backgroundcolor\":\"#E5ECF6\",\"gridcolor\":\"white\",\"gridwidth\":2,\"linecolor\":\"white\",\"showbackground\":true,\"ticks\":\"\",\"zerolinecolor\":\"white\"}},\"shapedefaults\":{\"line\":{\"color\":\"#2a3f5f\"}},\"ternary\":{\"aaxis\":{\"gridcolor\":\"white\",\"linecolor\":\"white\",\"ticks\":\"\"},\"baxis\":{\"gridcolor\":\"white\",\"linecolor\":\"white\",\"ticks\":\"\"},\"bgcolor\":\"#E5ECF6\",\"caxis\":{\"gridcolor\":\"white\",\"linecolor\":\"white\",\"ticks\":\"\"}},\"title\":{\"x\":0.05},\"xaxis\":{\"automargin\":true,\"gridcolor\":\"white\",\"linecolor\":\"white\",\"ticks\":\"\",\"title\":{\"standoff\":15},\"zerolinecolor\":\"white\",\"zerolinewidth\":2},\"yaxis\":{\"automargin\":true,\"gridcolor\":\"white\",\"linecolor\":\"white\",\"ticks\":\"\",\"title\":{\"standoff\":15},\"zerolinecolor\":\"white\",\"zerolinewidth\":2}}},\"xaxis\":{\"anchor\":\"y\",\"domain\":[0.0,1.0],\"title\":{\"text\":\"tfidf\"}},\"yaxis\":{\"anchor\":\"x\",\"domain\":[0.0,1.0],\"title\":{\"text\":\"index\"}},\"coloraxis\":{\"colorbar\":{\"title\":{\"text\":\"rating_freq_log_abs\"}},\"colorscale\":[[0.0,\"#0d0887\"],[0.1111111111111111,\"#46039f\"],[0.2222222222222222,\"#7201a8\"],[0.3333333333333333,\"#9c179e\"],[0.4444444444444444,\"#bd3786\"],[0.5555555555555556,\"#d8576b\"],[0.6666666666666666,\"#ed7953\"],[0.7777777777777778,\"#fb9f3a\"],[0.8888888888888888,\"#fdca26\"],[1.0,\"#f0f921\"]]},\"legend\":{\"tracegroupgap\":0},\"margin\":{\"t\":60}},                        {\"responsive\": true}                    ).then(function(){\n",
       "                            \n",
       "var gd = document.getElementById('41d1cd90-92ea-4e7b-9df4-a583883641e5');\n",
       "var x = new MutationObserver(function (mutations, observer) {{\n",
       "        var display = window.getComputedStyle(gd).display;\n",
       "        if (!display || display === 'none') {{\n",
       "            console.log([gd, 'removed!']);\n",
       "            Plotly.purge(gd);\n",
       "            observer.disconnect();\n",
       "        }}\n",
       "}});\n",
       "\n",
       "// Listen for the removal of the full notebook cells\n",
       "var notebookContainer = gd.closest('#notebook-container');\n",
       "if (notebookContainer) {{\n",
       "    x.observe(notebookContainer, {childList: true});\n",
       "}}\n",
       "\n",
       "// Listen for the clearing of the current output cell\n",
       "var outputEl = gd.closest('.output');\n",
       "if (outputEl) {{\n",
       "    x.observe(outputEl, {childList: true});\n",
       "}}\n",
       "\n",
       "                        })                };                });            </script>        </div>"
      ]
     },
     "metadata": {},
     "output_type": "display_data"
    }
   ],
   "source": [
    "fig = px.scatter(\n",
    "    tfidf_sk_plot, x=\"tfidf\", y=\"index\", color=\"rating_freq_log_abs\", \n",
    "                 hover_data=[\"count_review\", \"rating_freq_log_abs\"]\n",
    ")\n",
    "fig.show()"
   ]
  },
  {
   "cell_type": "code",
   "execution_count": 449,
   "metadata": {},
   "outputs": [],
   "source": [
    "high_tfidf_value: list = tfidf_sk_plot[tfidf_sk_plot[\"tfidf\"] < 5e-03][\"index\"].to_list()\n",
    "_, tfidf_sk = run_transformer(X.filter(high_tfidf_value, axis=1))"
   ]
  },
  {
   "cell_type": "code",
   "execution_count": 450,
   "metadata": {},
   "outputs": [
    {
     "data": {
      "text/html": [
       "<div>\n",
       "<style scoped>\n",
       "    .dataframe tbody tr th:only-of-type {\n",
       "        vertical-align: middle;\n",
       "    }\n",
       "\n",
       "    .dataframe tbody tr th {\n",
       "        vertical-align: top;\n",
       "    }\n",
       "\n",
       "    .dataframe thead th {\n",
       "        text-align: right;\n",
       "    }\n",
       "</style>\n",
       "<table border=\"1\" class=\"dataframe\">\n",
       "  <thead>\n",
       "    <tr style=\"text-align: right;\">\n",
       "      <th></th>\n",
       "      <th>varieti</th>\n",
       "      <th>hope</th>\n",
       "      <th>bake</th>\n",
       "      <th>couldnt</th>\n",
       "      <th>abl</th>\n",
       "      <th>chang</th>\n",
       "      <th>cream_ice</th>\n",
       "      <th>pet</th>\n",
       "      <th>wish</th>\n",
       "      <th>gave</th>\n",
       "      <th>...</th>\n",
       "      <th>toxic</th>\n",
       "      <th>refil</th>\n",
       "      <th>trap_mebr</th>\n",
       "      <th>push</th>\n",
       "      <th>carbohydr</th>\n",
       "      <th>steep</th>\n",
       "      <th>canin</th>\n",
       "      <th>report</th>\n",
       "      <th>muffin</th>\n",
       "      <th>lie</th>\n",
       "    </tr>\n",
       "    <tr>\n",
       "      <th>ID</th>\n",
       "      <th></th>\n",
       "      <th></th>\n",
       "      <th></th>\n",
       "      <th></th>\n",
       "      <th></th>\n",
       "      <th></th>\n",
       "      <th></th>\n",
       "      <th></th>\n",
       "      <th></th>\n",
       "      <th></th>\n",
       "      <th></th>\n",
       "      <th></th>\n",
       "      <th></th>\n",
       "      <th></th>\n",
       "      <th></th>\n",
       "      <th></th>\n",
       "      <th></th>\n",
       "      <th></th>\n",
       "      <th></th>\n",
       "      <th></th>\n",
       "      <th></th>\n",
       "    </tr>\n",
       "  </thead>\n",
       "  <tbody>\n",
       "    <tr>\n",
       "      <th>716</th>\n",
       "      <td>0.0</td>\n",
       "      <td>0.0</td>\n",
       "      <td>0.0</td>\n",
       "      <td>0.0</td>\n",
       "      <td>0.0</td>\n",
       "      <td>0.000000</td>\n",
       "      <td>0.0</td>\n",
       "      <td>0.0</td>\n",
       "      <td>0.0</td>\n",
       "      <td>0.0000</td>\n",
       "      <td>...</td>\n",
       "      <td>0.0</td>\n",
       "      <td>0.0</td>\n",
       "      <td>0.0</td>\n",
       "      <td>0.073343</td>\n",
       "      <td>0.000000</td>\n",
       "      <td>0.0</td>\n",
       "      <td>0.0</td>\n",
       "      <td>0.0</td>\n",
       "      <td>0.0</td>\n",
       "      <td>0.077051</td>\n",
       "    </tr>\n",
       "    <tr>\n",
       "      <th>1478</th>\n",
       "      <td>0.0</td>\n",
       "      <td>0.0</td>\n",
       "      <td>0.0</td>\n",
       "      <td>0.0</td>\n",
       "      <td>0.0</td>\n",
       "      <td>0.100365</td>\n",
       "      <td>0.0</td>\n",
       "      <td>0.0</td>\n",
       "      <td>0.0</td>\n",
       "      <td>0.0345</td>\n",
       "      <td>...</td>\n",
       "      <td>0.0</td>\n",
       "      <td>0.0</td>\n",
       "      <td>0.0</td>\n",
       "      <td>0.000000</td>\n",
       "      <td>0.000000</td>\n",
       "      <td>0.0</td>\n",
       "      <td>0.0</td>\n",
       "      <td>0.0</td>\n",
       "      <td>0.0</td>\n",
       "      <td>0.107827</td>\n",
       "    </tr>\n",
       "    <tr>\n",
       "      <th>579</th>\n",
       "      <td>0.0</td>\n",
       "      <td>0.0</td>\n",
       "      <td>0.0</td>\n",
       "      <td>0.0</td>\n",
       "      <td>0.0</td>\n",
       "      <td>0.000000</td>\n",
       "      <td>0.0</td>\n",
       "      <td>0.0</td>\n",
       "      <td>0.0</td>\n",
       "      <td>0.0000</td>\n",
       "      <td>...</td>\n",
       "      <td>0.0</td>\n",
       "      <td>0.0</td>\n",
       "      <td>0.0</td>\n",
       "      <td>0.000000</td>\n",
       "      <td>0.081082</td>\n",
       "      <td>0.0</td>\n",
       "      <td>0.0</td>\n",
       "      <td>0.0</td>\n",
       "      <td>0.0</td>\n",
       "      <td>0.000000</td>\n",
       "    </tr>\n",
       "    <tr>\n",
       "      <th>1282</th>\n",
       "      <td>0.0</td>\n",
       "      <td>0.0</td>\n",
       "      <td>0.0</td>\n",
       "      <td>0.0</td>\n",
       "      <td>0.0</td>\n",
       "      <td>0.000000</td>\n",
       "      <td>0.0</td>\n",
       "      <td>0.0</td>\n",
       "      <td>0.0</td>\n",
       "      <td>0.0000</td>\n",
       "      <td>...</td>\n",
       "      <td>0.0</td>\n",
       "      <td>0.0</td>\n",
       "      <td>0.0</td>\n",
       "      <td>0.000000</td>\n",
       "      <td>0.081082</td>\n",
       "      <td>0.0</td>\n",
       "      <td>0.0</td>\n",
       "      <td>0.0</td>\n",
       "      <td>0.0</td>\n",
       "      <td>0.000000</td>\n",
       "    </tr>\n",
       "    <tr>\n",
       "      <th>1244</th>\n",
       "      <td>0.0</td>\n",
       "      <td>0.0</td>\n",
       "      <td>0.0</td>\n",
       "      <td>0.0</td>\n",
       "      <td>0.0</td>\n",
       "      <td>0.000000</td>\n",
       "      <td>0.0</td>\n",
       "      <td>0.0</td>\n",
       "      <td>0.0</td>\n",
       "      <td>0.0000</td>\n",
       "      <td>...</td>\n",
       "      <td>0.0</td>\n",
       "      <td>0.0</td>\n",
       "      <td>0.0</td>\n",
       "      <td>0.000000</td>\n",
       "      <td>0.081082</td>\n",
       "      <td>0.0</td>\n",
       "      <td>0.0</td>\n",
       "      <td>0.0</td>\n",
       "      <td>0.0</td>\n",
       "      <td>0.000000</td>\n",
       "    </tr>\n",
       "    <tr>\n",
       "      <th>...</th>\n",
       "      <td>...</td>\n",
       "      <td>...</td>\n",
       "      <td>...</td>\n",
       "      <td>...</td>\n",
       "      <td>...</td>\n",
       "      <td>...</td>\n",
       "      <td>...</td>\n",
       "      <td>...</td>\n",
       "      <td>...</td>\n",
       "      <td>...</td>\n",
       "      <td>...</td>\n",
       "      <td>...</td>\n",
       "      <td>...</td>\n",
       "      <td>...</td>\n",
       "      <td>...</td>\n",
       "      <td>...</td>\n",
       "      <td>...</td>\n",
       "      <td>...</td>\n",
       "      <td>...</td>\n",
       "      <td>...</td>\n",
       "      <td>...</td>\n",
       "    </tr>\n",
       "    <tr>\n",
       "      <th>1789</th>\n",
       "      <td>0.0</td>\n",
       "      <td>0.0</td>\n",
       "      <td>0.0</td>\n",
       "      <td>0.0</td>\n",
       "      <td>0.0</td>\n",
       "      <td>0.000000</td>\n",
       "      <td>0.0</td>\n",
       "      <td>0.0</td>\n",
       "      <td>0.0</td>\n",
       "      <td>0.0000</td>\n",
       "      <td>...</td>\n",
       "      <td>0.0</td>\n",
       "      <td>0.0</td>\n",
       "      <td>0.0</td>\n",
       "      <td>0.000000</td>\n",
       "      <td>0.000000</td>\n",
       "      <td>0.0</td>\n",
       "      <td>0.0</td>\n",
       "      <td>0.0</td>\n",
       "      <td>0.0</td>\n",
       "      <td>0.000000</td>\n",
       "    </tr>\n",
       "    <tr>\n",
       "      <th>490</th>\n",
       "      <td>0.0</td>\n",
       "      <td>0.0</td>\n",
       "      <td>0.0</td>\n",
       "      <td>0.0</td>\n",
       "      <td>0.0</td>\n",
       "      <td>0.000000</td>\n",
       "      <td>0.0</td>\n",
       "      <td>0.0</td>\n",
       "      <td>0.0</td>\n",
       "      <td>0.0000</td>\n",
       "      <td>...</td>\n",
       "      <td>0.0</td>\n",
       "      <td>0.0</td>\n",
       "      <td>0.0</td>\n",
       "      <td>0.000000</td>\n",
       "      <td>0.000000</td>\n",
       "      <td>0.0</td>\n",
       "      <td>0.0</td>\n",
       "      <td>0.0</td>\n",
       "      <td>0.0</td>\n",
       "      <td>0.000000</td>\n",
       "    </tr>\n",
       "    <tr>\n",
       "      <th>873</th>\n",
       "      <td>0.0</td>\n",
       "      <td>0.0</td>\n",
       "      <td>0.0</td>\n",
       "      <td>0.0</td>\n",
       "      <td>0.0</td>\n",
       "      <td>0.000000</td>\n",
       "      <td>0.0</td>\n",
       "      <td>0.0</td>\n",
       "      <td>0.0</td>\n",
       "      <td>0.0000</td>\n",
       "      <td>...</td>\n",
       "      <td>0.0</td>\n",
       "      <td>0.0</td>\n",
       "      <td>0.0</td>\n",
       "      <td>0.000000</td>\n",
       "      <td>0.000000</td>\n",
       "      <td>0.0</td>\n",
       "      <td>0.0</td>\n",
       "      <td>0.0</td>\n",
       "      <td>0.0</td>\n",
       "      <td>0.000000</td>\n",
       "    </tr>\n",
       "    <tr>\n",
       "      <th>1758</th>\n",
       "      <td>0.0</td>\n",
       "      <td>0.0</td>\n",
       "      <td>0.0</td>\n",
       "      <td>0.0</td>\n",
       "      <td>0.0</td>\n",
       "      <td>0.000000</td>\n",
       "      <td>0.0</td>\n",
       "      <td>0.0</td>\n",
       "      <td>0.0</td>\n",
       "      <td>0.0000</td>\n",
       "      <td>...</td>\n",
       "      <td>0.0</td>\n",
       "      <td>0.0</td>\n",
       "      <td>0.0</td>\n",
       "      <td>0.000000</td>\n",
       "      <td>0.000000</td>\n",
       "      <td>0.0</td>\n",
       "      <td>0.0</td>\n",
       "      <td>0.0</td>\n",
       "      <td>0.0</td>\n",
       "      <td>0.000000</td>\n",
       "    </tr>\n",
       "    <tr>\n",
       "      <th>871</th>\n",
       "      <td>0.0</td>\n",
       "      <td>0.0</td>\n",
       "      <td>0.0</td>\n",
       "      <td>0.0</td>\n",
       "      <td>0.0</td>\n",
       "      <td>0.000000</td>\n",
       "      <td>0.0</td>\n",
       "      <td>0.0</td>\n",
       "      <td>0.0</td>\n",
       "      <td>0.0000</td>\n",
       "      <td>...</td>\n",
       "      <td>0.0</td>\n",
       "      <td>0.0</td>\n",
       "      <td>0.0</td>\n",
       "      <td>0.000000</td>\n",
       "      <td>0.000000</td>\n",
       "      <td>0.0</td>\n",
       "      <td>0.0</td>\n",
       "      <td>0.0</td>\n",
       "      <td>0.0</td>\n",
       "      <td>0.000000</td>\n",
       "    </tr>\n",
       "  </tbody>\n",
       "</table>\n",
       "<p>2000 rows × 1126 columns</p>\n",
       "</div>"
      ],
      "text/plain": [
       "      varieti  hope  bake  couldnt  abl     chang  cream_ice  pet  wish  \\\n",
       "ID                                                                        \n",
       "716       0.0   0.0   0.0      0.0  0.0  0.000000        0.0  0.0   0.0   \n",
       "1478      0.0   0.0   0.0      0.0  0.0  0.100365        0.0  0.0   0.0   \n",
       "579       0.0   0.0   0.0      0.0  0.0  0.000000        0.0  0.0   0.0   \n",
       "1282      0.0   0.0   0.0      0.0  0.0  0.000000        0.0  0.0   0.0   \n",
       "1244      0.0   0.0   0.0      0.0  0.0  0.000000        0.0  0.0   0.0   \n",
       "...       ...   ...   ...      ...  ...       ...        ...  ...   ...   \n",
       "1789      0.0   0.0   0.0      0.0  0.0  0.000000        0.0  0.0   0.0   \n",
       "490       0.0   0.0   0.0      0.0  0.0  0.000000        0.0  0.0   0.0   \n",
       "873       0.0   0.0   0.0      0.0  0.0  0.000000        0.0  0.0   0.0   \n",
       "1758      0.0   0.0   0.0      0.0  0.0  0.000000        0.0  0.0   0.0   \n",
       "871       0.0   0.0   0.0      0.0  0.0  0.000000        0.0  0.0   0.0   \n",
       "\n",
       "        gave  ...  toxic  refil  trap_mebr      push  carbohydr  steep  canin  \\\n",
       "ID            ...                                                               \n",
       "716   0.0000  ...    0.0    0.0        0.0  0.073343   0.000000    0.0    0.0   \n",
       "1478  0.0345  ...    0.0    0.0        0.0  0.000000   0.000000    0.0    0.0   \n",
       "579   0.0000  ...    0.0    0.0        0.0  0.000000   0.081082    0.0    0.0   \n",
       "1282  0.0000  ...    0.0    0.0        0.0  0.000000   0.081082    0.0    0.0   \n",
       "1244  0.0000  ...    0.0    0.0        0.0  0.000000   0.081082    0.0    0.0   \n",
       "...      ...  ...    ...    ...        ...       ...        ...    ...    ...   \n",
       "1789  0.0000  ...    0.0    0.0        0.0  0.000000   0.000000    0.0    0.0   \n",
       "490   0.0000  ...    0.0    0.0        0.0  0.000000   0.000000    0.0    0.0   \n",
       "873   0.0000  ...    0.0    0.0        0.0  0.000000   0.000000    0.0    0.0   \n",
       "1758  0.0000  ...    0.0    0.0        0.0  0.000000   0.000000    0.0    0.0   \n",
       "871   0.0000  ...    0.0    0.0        0.0  0.000000   0.000000    0.0    0.0   \n",
       "\n",
       "      report  muffin       lie  \n",
       "ID                              \n",
       "716      0.0     0.0  0.077051  \n",
       "1478     0.0     0.0  0.107827  \n",
       "579      0.0     0.0  0.000000  \n",
       "1282     0.0     0.0  0.000000  \n",
       "1244     0.0     0.0  0.000000  \n",
       "...      ...     ...       ...  \n",
       "1789     0.0     0.0  0.000000  \n",
       "490      0.0     0.0  0.000000  \n",
       "873      0.0     0.0  0.000000  \n",
       "1758     0.0     0.0  0.000000  \n",
       "871      0.0     0.0  0.000000  \n",
       "\n",
       "[2000 rows x 1126 columns]"
      ]
     },
     "execution_count": 450,
     "metadata": {},
     "output_type": "execute_result"
    }
   ],
   "source": [
    "tfidf_sk"
   ]
  },
  {
   "cell_type": "code",
   "execution_count": null,
   "metadata": {},
   "outputs": [],
   "source": []
  },
  {
   "cell_type": "code",
   "execution_count": null,
   "metadata": {},
   "outputs": [],
   "source": []
  },
  {
   "cell_type": "code",
   "execution_count": 448,
   "metadata": {},
   "outputs": [],
   "source": []
  },
  {
   "cell_type": "code",
   "execution_count": 9,
   "metadata": {
    "collapsed": true
   },
   "outputs": [
    {
     "data": {
      "text/plain": [
       "grey_earl          8.535696e-01\n",
       "jack_link          8.533437e-01\n",
       "site_web           6.418496e-01\n",
       "pill_pocket        6.267510e-01\n",
       "custom_servic      6.193593e-01\n",
       "                       ...     \n",
       "combin_descript    1.313117e-07\n",
       "final_act          6.832005e-08\n",
       "true_half          6.098256e-08\n",
       "huge_wish          4.934614e-08\n",
       "improv_long        1.910294e-08\n",
       "Length: 1122751, dtype: float64"
      ]
     },
     "execution_count": 9,
     "metadata": {},
     "output_type": "execute_result"
    }
   ],
   "source": []
  },
  {
   "cell_type": "code",
   "execution_count": null,
   "metadata": {},
   "outputs": [],
   "source": []
  },
  {
   "cell_type": "code",
   "execution_count": null,
   "metadata": {},
   "outputs": [],
   "source": []
  },
  {
   "cell_type": "code",
   "execution_count": 12,
   "metadata": {
    "collapsed": true,
    "pycharm": {
     "name": "#%%\n"
    }
   },
   "outputs": [
    {
     "data": {
      "text/html": [
       "<div>\n",
       "<style scoped>\n",
       "    .dataframe tbody tr th:only-of-type {\n",
       "        vertical-align: middle;\n",
       "    }\n",
       "\n",
       "    .dataframe tbody tr th {\n",
       "        vertical-align: top;\n",
       "    }\n",
       "\n",
       "    .dataframe thead th {\n",
       "        text-align: right;\n",
       "    }\n",
       "</style>\n",
       "<table border=\"1\" class=\"dataframe\">\n",
       "  <thead>\n",
       "    <tr style=\"text-align: right;\">\n",
       "      <th></th>\n",
       "      <th>index</th>\n",
       "      <th>corr</th>\n",
       "    </tr>\n",
       "  </thead>\n",
       "  <tbody>\n",
       "    <tr>\n",
       "      <th>0</th>\n",
       "      <td>grey_earl</td>\n",
       "      <td>0.853570</td>\n",
       "    </tr>\n",
       "    <tr>\n",
       "      <th>1</th>\n",
       "      <td>jack_link</td>\n",
       "      <td>0.853344</td>\n",
       "    </tr>\n",
       "    <tr>\n",
       "      <th>2</th>\n",
       "      <td>site_web</td>\n",
       "      <td>0.641850</td>\n",
       "    </tr>\n",
       "    <tr>\n",
       "      <th>3</th>\n",
       "      <td>pill_pocket</td>\n",
       "      <td>0.626751</td>\n",
       "    </tr>\n",
       "    <tr>\n",
       "      <th>4</th>\n",
       "      <td>custom_servic</td>\n",
       "      <td>0.619359</td>\n",
       "    </tr>\n",
       "    <tr>\n",
       "      <th>...</th>\n",
       "      <td>...</td>\n",
       "      <td>...</td>\n",
       "    </tr>\n",
       "    <tr>\n",
       "      <th>1053</th>\n",
       "      <td>imagin_lbs</td>\n",
       "      <td>0.200221</td>\n",
       "    </tr>\n",
       "    <tr>\n",
       "      <th>1054</th>\n",
       "      <td>chip_these</td>\n",
       "      <td>0.200165</td>\n",
       "    </tr>\n",
       "    <tr>\n",
       "      <th>1055</th>\n",
       "      <td>shell_occasion</td>\n",
       "      <td>0.200153</td>\n",
       "    </tr>\n",
       "    <tr>\n",
       "      <th>1056</th>\n",
       "      <td>berri_question</td>\n",
       "      <td>0.200086</td>\n",
       "    </tr>\n",
       "    <tr>\n",
       "      <th>1057</th>\n",
       "      <td>fed_requir</td>\n",
       "      <td>0.200058</td>\n",
       "    </tr>\n",
       "  </tbody>\n",
       "</table>\n",
       "<p>1058 rows × 2 columns</p>\n",
       "</div>"
      ],
      "text/plain": [
       "               index      corr\n",
       "0          grey_earl  0.853570\n",
       "1          jack_link  0.853344\n",
       "2           site_web  0.641850\n",
       "3        pill_pocket  0.626751\n",
       "4      custom_servic  0.619359\n",
       "...              ...       ...\n",
       "1053      imagin_lbs  0.200221\n",
       "1054      chip_these  0.200165\n",
       "1055  shell_occasion  0.200153\n",
       "1056  berri_question  0.200086\n",
       "1057      fed_requir  0.200058\n",
       "\n",
       "[1058 rows x 2 columns]"
      ]
     },
     "execution_count": 12,
     "metadata": {},
     "output_type": "execute_result"
    }
   ],
   "source": [
    "correlations_stacked_plot"
   ]
  },
  {
   "cell_type": "code",
   "execution_count": 14,
   "metadata": {
    "pycharm": {
     "name": "#%%\n"
    }
   },
   "outputs": [],
   "source": [
    "import plotly.express as px\n"
   ]
  },
  {
   "cell_type": "code",
   "execution_count": 17,
   "metadata": {
    "collapsed": true
   },
   "outputs": [
    {
     "name": "stdout",
     "output_type": "stream",
     "text": [
      "Help on function bar in module plotly.express._chart_types:\n",
      "\n",
      "bar(data_frame=None, x=None, y=None, color=None, pattern_shape=None, facet_row=None, facet_col=None, facet_col_wrap=0, facet_row_spacing=None, facet_col_spacing=None, hover_name=None, hover_data=None, custom_data=None, text=None, base=None, error_x=None, error_x_minus=None, error_y=None, error_y_minus=None, animation_frame=None, animation_group=None, category_orders=None, labels=None, color_discrete_sequence=None, color_discrete_map=None, color_continuous_scale=None, pattern_shape_sequence=None, pattern_shape_map=None, range_color=None, color_continuous_midpoint=None, opacity=None, orientation=None, barmode='relative', log_x=False, log_y=False, range_x=None, range_y=None, text_auto=False, title=None, template=None, width=None, height=None)\n",
      "        In a bar plot, each row of `data_frame` is represented as a rectangular\n",
      "        mark.\n",
      "        \n",
      "    Parameters\n",
      "    ----------\n",
      "    data_frame: DataFrame or array-like or dict\n",
      "        This argument needs to be passed for column names (and not keyword\n",
      "        names) to be used. Array-like and dict are tranformed internally to a\n",
      "        pandas DataFrame. Optional: if missing, a DataFrame gets constructed\n",
      "        under the hood using the other arguments.\n",
      "    x: str or int or Series or array-like\n",
      "        Either a name of a column in `data_frame`, or a pandas Series or\n",
      "        array_like object. Values from this column or array_like are used to\n",
      "        position marks along the x axis in cartesian coordinates. Either `x` or\n",
      "        `y` can optionally be a list of column references or array_likes,  in\n",
      "        which case the data will be treated as if it were 'wide' rather than\n",
      "        'long'.\n",
      "    y: str or int or Series or array-like\n",
      "        Either a name of a column in `data_frame`, or a pandas Series or\n",
      "        array_like object. Values from this column or array_like are used to\n",
      "        position marks along the y axis in cartesian coordinates. Either `x` or\n",
      "        `y` can optionally be a list of column references or array_likes,  in\n",
      "        which case the data will be treated as if it were 'wide' rather than\n",
      "        'long'.\n",
      "    color: str or int or Series or array-like\n",
      "        Either a name of a column in `data_frame`, or a pandas Series or\n",
      "        array_like object. Values from this column or array_like are used to\n",
      "        assign color to marks.\n",
      "    pattern_shape: str or int or Series or array-like\n",
      "        Either a name of a column in `data_frame`, or a pandas Series or\n",
      "        array_like object. Values from this column or array_like are used to\n",
      "        assign pattern shapes to marks.\n",
      "    facet_row: str or int or Series or array-like\n",
      "        Either a name of a column in `data_frame`, or a pandas Series or\n",
      "        array_like object. Values from this column or array_like are used to\n",
      "        assign marks to facetted subplots in the vertical direction.\n",
      "    facet_col: str or int or Series or array-like\n",
      "        Either a name of a column in `data_frame`, or a pandas Series or\n",
      "        array_like object. Values from this column or array_like are used to\n",
      "        assign marks to facetted subplots in the horizontal direction.\n",
      "    facet_col_wrap: int\n",
      "        Maximum number of facet columns. Wraps the column variable at this\n",
      "        width, so that the column facets span multiple rows. Ignored if 0, and\n",
      "        forced to 0 if `facet_row` or a `marginal` is set.\n",
      "    facet_row_spacing: float between 0 and 1\n",
      "        Spacing between facet rows, in paper units. Default is 0.03 or 0.0.7\n",
      "        when facet_col_wrap is used.\n",
      "    facet_col_spacing: float between 0 and 1\n",
      "        Spacing between facet columns, in paper units Default is 0.02.\n",
      "    hover_name: str or int or Series or array-like\n",
      "        Either a name of a column in `data_frame`, or a pandas Series or\n",
      "        array_like object. Values from this column or array_like appear in bold\n",
      "        in the hover tooltip.\n",
      "    hover_data: list of str or int, or Series or array-like, or dict\n",
      "        Either a list of names of columns in `data_frame`, or pandas Series, or\n",
      "        array_like objects or a dict with column names as keys, with values\n",
      "        True (for default formatting) False (in order to remove this column\n",
      "        from hover information), or a formatting string, for example ':.3f' or\n",
      "        '|%a' or list-like data to appear in the hover tooltip or tuples with a\n",
      "        bool or formatting string as first element, and list-like data to\n",
      "        appear in hover as second element Values from these columns appear as\n",
      "        extra data in the hover tooltip.\n",
      "    custom_data: list of str or int, or Series or array-like\n",
      "        Either names of columns in `data_frame`, or pandas Series, or\n",
      "        array_like objects Values from these columns are extra data, to be used\n",
      "        in widgets or Dash callbacks for example. This data is not user-visible\n",
      "        but is included in events emitted by the figure (lasso selection etc.)\n",
      "    text: str or int or Series or array-like\n",
      "        Either a name of a column in `data_frame`, or a pandas Series or\n",
      "        array_like object. Values from this column or array_like appear in the\n",
      "        figure as text labels.\n",
      "    base: str or int or Series or array-like\n",
      "        Either a name of a column in `data_frame`, or a pandas Series or\n",
      "        array_like object. Values from this column or array_like are used to\n",
      "        position the base of the bar.\n",
      "    error_x: str or int or Series or array-like\n",
      "        Either a name of a column in `data_frame`, or a pandas Series or\n",
      "        array_like object. Values from this column or array_like are used to\n",
      "        size x-axis error bars. If `error_x_minus` is `None`, error bars will\n",
      "        be symmetrical, otherwise `error_x` is used for the positive direction\n",
      "        only.\n",
      "    error_x_minus: str or int or Series or array-like\n",
      "        Either a name of a column in `data_frame`, or a pandas Series or\n",
      "        array_like object. Values from this column or array_like are used to\n",
      "        size x-axis error bars in the negative direction. Ignored if `error_x`\n",
      "        is `None`.\n",
      "    error_y: str or int or Series or array-like\n",
      "        Either a name of a column in `data_frame`, or a pandas Series or\n",
      "        array_like object. Values from this column or array_like are used to\n",
      "        size y-axis error bars. If `error_y_minus` is `None`, error bars will\n",
      "        be symmetrical, otherwise `error_y` is used for the positive direction\n",
      "        only.\n",
      "    error_y_minus: str or int or Series or array-like\n",
      "        Either a name of a column in `data_frame`, or a pandas Series or\n",
      "        array_like object. Values from this column or array_like are used to\n",
      "        size y-axis error bars in the negative direction. Ignored if `error_y`\n",
      "        is `None`.\n",
      "    animation_frame: str or int or Series or array-like\n",
      "        Either a name of a column in `data_frame`, or a pandas Series or\n",
      "        array_like object. Values from this column or array_like are used to\n",
      "        assign marks to animation frames.\n",
      "    animation_group: str or int or Series or array-like\n",
      "        Either a name of a column in `data_frame`, or a pandas Series or\n",
      "        array_like object. Values from this column or array_like are used to\n",
      "        provide object-constancy across animation frames: rows with matching\n",
      "        `animation_group`s will be treated as if they describe the same object\n",
      "        in each frame.\n",
      "    category_orders: dict with str keys and list of str values (default `{}`)\n",
      "        By default, in Python 3.6+, the order of categorical values in axes,\n",
      "        legends and facets depends on the order in which these values are first\n",
      "        encountered in `data_frame` (and no order is guaranteed by default in\n",
      "        Python below 3.6). This parameter is used to force a specific ordering\n",
      "        of values per column. The keys of this dict should correspond to column\n",
      "        names, and the values should be lists of strings corresponding to the\n",
      "        specific display order desired.\n",
      "    labels: dict with str keys and str values (default `{}`)\n",
      "        By default, column names are used in the figure for axis titles, legend\n",
      "        entries and hovers. This parameter allows this to be overridden. The\n",
      "        keys of this dict should correspond to column names, and the values\n",
      "        should correspond to the desired label to be displayed.\n",
      "    color_discrete_sequence: list of str\n",
      "        Strings should define valid CSS-colors. When `color` is set and the\n",
      "        values in the corresponding column are not numeric, values in that\n",
      "        column are assigned colors by cycling through `color_discrete_sequence`\n",
      "        in the order described in `category_orders`, unless the value of\n",
      "        `color` is a key in `color_discrete_map`. Various useful color\n",
      "        sequences are available in the `plotly.express.colors` submodules,\n",
      "        specifically `plotly.express.colors.qualitative`.\n",
      "    color_discrete_map: dict with str keys and str values (default `{}`)\n",
      "        String values should define valid CSS-colors Used to override\n",
      "        `color_discrete_sequence` to assign a specific colors to marks\n",
      "        corresponding with specific values. Keys in `color_discrete_map` should\n",
      "        be values in the column denoted by `color`. Alternatively, if the\n",
      "        values of `color` are valid colors, the string `'identity'` may be\n",
      "        passed to cause them to be used directly.\n",
      "    color_continuous_scale: list of str\n",
      "        Strings should define valid CSS-colors This list is used to build a\n",
      "        continuous color scale when the column denoted by `color` contains\n",
      "        numeric data. Various useful color scales are available in the\n",
      "        `plotly.express.colors` submodules, specifically\n",
      "        `plotly.express.colors.sequential`, `plotly.express.colors.diverging`\n",
      "        and `plotly.express.colors.cyclical`.\n",
      "    pattern_shape_sequence: list of str\n",
      "        Strings should define valid plotly.js patterns-shapes. When\n",
      "        `pattern_shape` is set, values in that column are assigned patterns-\n",
      "        shapes by cycling through `pattern_shape_sequence` in the order\n",
      "        described in `category_orders`, unless the value of `pattern_shape` is\n",
      "        a key in `pattern_shape_map`.\n",
      "    pattern_shape_map: dict with str keys and str values (default `{}`)\n",
      "        Strings values define plotly.js patterns-shapes. Used to override\n",
      "        `pattern_shape_sequences` to assign a specific patterns-shapes to lines\n",
      "        corresponding with specific values. Keys in `pattern_shape_map` should\n",
      "        be values in the column denoted by `pattern_shape`. Alternatively, if\n",
      "        the values of `pattern_shape` are valid patterns-shapes names, the\n",
      "        string `'identity'` may be passed to cause them to be used directly.\n",
      "    range_color: list of two numbers\n",
      "        If provided, overrides auto-scaling on the continuous color scale.\n",
      "    color_continuous_midpoint: number (default `None`)\n",
      "        If set, computes the bounds of the continuous color scale to have the\n",
      "        desired midpoint. Setting this value is recommended when using\n",
      "        `plotly.express.colors.diverging` color scales as the inputs to\n",
      "        `color_continuous_scale`.\n",
      "    opacity: float\n",
      "        Value between 0 and 1. Sets the opacity for markers.\n",
      "    orientation: str, one of `'h'` for horizontal or `'v'` for vertical. \n",
      "        (default `'v'` if `x` and `y` are provided and both continous or both\n",
      "        categorical,  otherwise `'v'`(`'h'`) if `x`(`y`) is categorical and\n",
      "        `y`(`x`) is continuous,  otherwise `'v'`(`'h'`) if only `x`(`y`) is\n",
      "        provided)\n",
      "    barmode: str (default `'relative'`)\n",
      "        One of `'group'`, `'overlay'` or `'relative'` In `'relative'` mode,\n",
      "        bars are stacked above zero for positive values and below zero for\n",
      "        negative values. In `'overlay'` mode, bars are drawn on top of one\n",
      "        another. In `'group'` mode, bars are placed beside each other.\n",
      "    log_x: boolean (default `False`)\n",
      "        If `True`, the x-axis is log-scaled in cartesian coordinates.\n",
      "    log_y: boolean (default `False`)\n",
      "        If `True`, the y-axis is log-scaled in cartesian coordinates.\n",
      "    range_x: list of two numbers\n",
      "        If provided, overrides auto-scaling on the x-axis in cartesian\n",
      "        coordinates.\n",
      "    range_y: list of two numbers\n",
      "        If provided, overrides auto-scaling on the y-axis in cartesian\n",
      "        coordinates.\n",
      "    text_auto: bool or string (default `False`)\n",
      "        If `True` or a string, the x or y or z values will be displayed as\n",
      "        text, depending on the orientation A string like `'.2f'` will be\n",
      "        interpreted as a `texttemplate` numeric formatting directive.\n",
      "    title: str\n",
      "        The figure title.\n",
      "    template: str or dict or plotly.graph_objects.layout.Template instance\n",
      "        The figure template name (must be a key in plotly.io.templates) or\n",
      "        definition.\n",
      "    width: int (default `None`)\n",
      "        The figure width in pixels.\n",
      "    height: int (default `None`)\n",
      "        The figure height in pixels.\n",
      "    \n",
      "    Returns\n",
      "    -------\n",
      "        plotly.graph_objects.Figure\n",
      "\n"
     ]
    }
   ],
   "source": [
    "help(px.bar)"
   ]
  },
  {
   "cell_type": "code",
   "execution_count": 19,
   "metadata": {
    "pycharm": {
     "name": "#%%\n"
    }
   },
   "outputs": [
    {
     "data": {
      "application/vnd.plotly.v1+json": {
       "config": {
        "plotlyServerURL": "https://plot.ly"
       },
       "data": [
        {
         "hovertemplate": "corr=%{marker.color}<br>index=%{y}<extra></extra>",
         "legendgroup": "",
         "marker": {
          "color": [
           0.8535696491487166,
           0.853343668808996,
           0.6418495761562872,
           0.6267510269922577,
           0.6193593070035367,
           0.6085382344415878,
           0.5918172423153671,
           0.5915998770417953,
           0.5803546509767313,
           0.5659422192394332,
           0.5607507201257727,
           0.5410697110695416,
           0.5325626568854848,
           0.5205151123920807,
           0.5071538790894496,
           0.5006094648510305,
           0.4949659111774196,
           0.4777899055150075,
           0.4666356118888771,
           0.46488921828013247,
           0.46470066910629876,
           0.46410083802681174,
           0.45983312735552156,
           0.45940464696671873,
           0.4577190644881474,
           0.45657713361640523,
           0.45647840771849907,
           0.4563806558241835,
           0.44604034035175305,
           0.441815593738593,
           0.4394912711942215,
           0.43645128272984735,
           0.4331144026231048,
           0.42808270599423376,
           0.42789929788333625,
           0.42564285558308107,
           0.42550997320080064,
           0.4252719365453392,
           0.42049947323070774,
           0.41845581289594036,
           0.4172135233457813,
           0.41624461168532473,
           0.41293991479901015,
           0.4113109000511803,
           0.41127543703517355,
           0.410961458782836,
           0.4098740929644146,
           0.40986774493208855,
           0.4057348052873312,
           0.4033844236479559,
           0.4030624735528638,
           0.4028744128389233,
           0.40094050545656534,
           0.3972044452279599,
           0.3952785471587181,
           0.39410337898752745,
           0.391605059391499,
           0.39084674594167695,
           0.3895595275577901,
           0.3886147311969921,
           0.3884055068438752,
           0.38775033189142716,
           0.38658212199953007,
           0.3865685808757262,
           0.38534851817237176,
           0.38287077487261656,
           0.3802144894033986,
           0.3800540341680079,
           0.378128576082268,
           0.3780932686665568,
           0.37463369950127023,
           0.3740664716901299,
           0.37242691697425534,
           0.3723849718946363,
           0.3706347682161789,
           0.37054133494070696,
           0.36652230247145495,
           0.36621236775535876,
           0.365656315978804,
           0.36457195170791123,
           0.36259663336393105,
           0.3596303380302458,
           0.35921663032434514,
           0.3583921128560051,
           0.3583016501253356,
           0.3579963647271624,
           0.35647920030568697,
           0.3560046924668319,
           0.35596662254663886,
           0.35544486485285126,
           0.35244615467629287,
           0.352425401084495,
           0.3522185950645598,
           0.3520490691719457,
           0.3515546528137319,
           0.3512418601003726,
           0.3498735671067517,
           0.3497233828275331,
           0.34932609759113276,
           0.34869967584202893,
           0.3483854992392719,
           0.3483446111191622,
           0.34809766748019205,
           0.3474964370549013,
           0.3474512003579097,
           0.3463642797036938,
           0.3463571218317904,
           0.34615924446064333,
           0.3456435647376639,
           0.34561080539216815,
           0.34538542610371764,
           0.3452619906651072,
           0.34480782063418036,
           0.34463251801446815,
           0.34383786103360797,
           0.34350259100001923,
           0.342998481446166,
           0.34235855301912144,
           0.34124643288250817,
           0.34116681156692635,
           0.34085260532513034,
           0.3403830339912793,
           0.33998577969371424,
           0.33749153510680613,
           0.3371071329777787,
           0.3361021146651366,
           0.33537263095622255,
           0.335025711327932,
           0.33490958010017274,
           0.33182957804964475,
           0.3313777951974019,
           0.33124509767564836,
           0.33112738091638577,
           0.3300683484949661,
           0.32943586701358113,
           0.32934175002573957,
           0.32900148691818015,
           0.3284057057196194,
           0.3282358882782264,
           0.3280117288765592,
           0.32772531122884774,
           0.3275205161834301,
           0.32557400405362125,
           0.32534694396825437,
           0.32525453264762827,
           0.32502589842578794,
           0.3248505612135305,
           0.3238336846738792,
           0.3228679909534584,
           0.3214769169985941,
           0.32050384567824836,
           0.32026770081524075,
           0.3187471455693718,
           0.3185223550473202,
           0.3183206964589089,
           0.3183191231199227,
           0.31806244436111136,
           0.3173706881626544,
           0.3173665165955682,
           0.3171276769300977,
           0.316216652875114,
           0.31607975316698866,
           0.3157588426201001,
           0.31575699723330003,
           0.3151940450601596,
           0.3148750600551595,
           0.31481629674463246,
           0.3144041627077652,
           0.31425311826347824,
           0.3142294798189424,
           0.3137230632962293,
           0.3131769163525384,
           0.3131562354837995,
           0.31296562769592784,
           0.3126790457558799,
           0.3124580705587626,
           0.31233718496020163,
           0.3122118336307005,
           0.31197138582609907,
           0.3108722596692767,
           0.3103838999350343,
           0.30997381342499336,
           0.3098589501627795,
           0.3096127204662167,
           0.3091919569886684,
           0.30914226605191775,
           0.30872784003649284,
           0.3081698850571202,
           0.30814479402087375,
           0.30753694161637485,
           0.30719083554671306,
           0.3067548295410681,
           0.30650980951069157,
           0.30645750841111796,
           0.3063542694426473,
           0.3050323088919241,
           0.3044507124572258,
           0.30403373164412517,
           0.30378404339415466,
           0.3035982474125848,
           0.30344313892067964,
           0.303381490910777,
           0.3026555645661737,
           0.3022721445503761,
           0.3020508511025187,
           0.3020332714814704,
           0.30160442727413544,
           0.3004250994585812,
           0.3002941301139285,
           0.29954378588146957,
           0.29949464734297143,
           0.29930178327017265,
           0.2992887222094639,
           0.2990684556536203,
           0.2985711426830804,
           0.29699300975042464,
           0.2967889632784364,
           0.2965509596198848,
           0.2962245830632204,
           0.2955294902692048,
           0.295401511962789,
           0.2952094113374181,
           0.29514652132772873,
           0.29411655486424615,
           0.29371664157937727,
           0.2926621119979199,
           0.29245581393246795,
           0.2921344055772738,
           0.29188688598458545,
           0.2917115577156631,
           0.29158700372266966,
           0.29158101804462794,
           0.2913642089714784,
           0.2912600114131833,
           0.29100857427619925,
           0.2905051846445903,
           0.29042787004741033,
           0.28985274839876435,
           0.28976544858137765,
           0.28965675569230304,
           0.28955994498149296,
           0.28939710063157753,
           0.28779144010242697,
           0.2876293164729617,
           0.2875842334889608,
           0.28732273249332446,
           0.28688140265617407,
           0.2866600202026267,
           0.28653788174647915,
           0.28637355739593573,
           0.2862389546930489,
           0.2862332230331538,
           0.28542917259763173,
           0.2851525270649743,
           0.28480712666206937,
           0.28442023183354354,
           0.28414519158660667,
           0.2840981590061613,
           0.2839103676601413,
           0.28388219866777187,
           0.2838483205974752,
           0.28354257593827564,
           0.2832250070918238,
           0.2825794857767332,
           0.28243917083957293,
           0.28235493457177524,
           0.28231419990818907,
           0.28107001635929313,
           0.2807902716494723,
           0.28045313354648005,
           0.2802980318912273,
           0.28007330665853947,
           0.2797785453383208,
           0.27963358030851154,
           0.2795398658138129,
           0.27945438633582914,
           0.27923049836799785,
           0.27914149629206964,
           0.2789862566736787,
           0.2787138239268071,
           0.27858041688528473,
           0.2783395176958291,
           0.27827948986964635,
           0.2782700183473813,
           0.2774773572787336,
           0.27741689993269103,
           0.27738167239099526,
           0.2772332572145874,
           0.2769593399906093,
           0.2769155539890654,
           0.2764613861208172,
           0.2760764370387523,
           0.27544355849762614,
           0.2752734066892093,
           0.27503485680328194,
           0.2745843468633352,
           0.2743320270422849,
           0.27413263027765483,
           0.2739268769977729,
           0.2739041493795165,
           0.27386928891642304,
           0.27368020318935327,
           0.27356442452216273,
           0.27352476953855825,
           0.2734023174619103,
           0.2733321949841422,
           0.2731348085693915,
           0.27296495779234387,
           0.2727823607302432,
           0.27249801789421546,
           0.27241366231850433,
           0.27210067799192433,
           0.27201077864213025,
           0.27144868368222225,
           0.2703981814362303,
           0.26974643893787426,
           0.26952506896625056,
           0.269423450682996,
           0.26867143203439786,
           0.2683996493881256,
           0.2682018629190446,
           0.2681951336306988,
           0.26746739465500124,
           0.2672867470550122,
           0.26678241626072413,
           0.26663402702479405,
           0.2662707367570083,
           0.266107922185879,
           0.26573423893609344,
           0.26570509546139154,
           0.26565791172635483,
           0.265455795346739,
           0.26545028783650676,
           0.2654349692420909,
           0.26536745066902867,
           0.26500920923776505,
           0.2647367868630957,
           0.2644920847396943,
           0.2644389275882417,
           0.26398245980551543,
           0.26389950174753857,
           0.26386529822356164,
           0.2638340497051237,
           0.26368360599596985,
           0.26350840120135827,
           0.26349054968246144,
           0.26333208884010373,
           0.26311231833804305,
           0.26311052923254463,
           0.2627551846902325,
           0.26239707494174397,
           0.26239505449429723,
           0.262269392301735,
           0.26218638505474745,
           0.2619097431537848,
           0.2617183121755714,
           0.2616783143469445,
           0.26167304312547374,
           0.26146254067558244,
           0.26130453207632287,
           0.26100821888728803,
           0.26093346865941613,
           0.2609298143983495,
           0.26092508423610367,
           0.26083200031949433,
           0.2604270188671648,
           0.2603267709520232,
           0.2601706362924592,
           0.26012545886138383,
           0.26002359792678914,
           0.26001896627050686,
           0.2599545437220247,
           0.2594991462003754,
           0.25902908581300443,
           0.25859416764507426,
           0.25858671330421334,
           0.2584660646414216,
           0.2581840409105536,
           0.25809222002168425,
           0.25803443266533305,
           0.25797535184507564,
           0.25790927682422693,
           0.2578898061438802,
           0.2577227087247674,
           0.2576014703487923,
           0.2574076777484531,
           0.2573143862880124,
           0.2573117733337722,
           0.25701763810964734,
           0.256996712699156,
           0.2567657448936328,
           0.25661500010507154,
           0.2563950159966886,
           0.25638374101231276,
           0.25625818768403286,
           0.2561591666875473,
           0.25610203064712356,
           0.2560981044920367,
           0.25572183258464204,
           0.2556027305846524,
           0.2555379398358584,
           0.2554486492461016,
           0.2554423979855677,
           0.2552514669035614,
           0.25501934295625167,
           0.2547865011006678,
           0.254774597373517,
           0.25467059666096564,
           0.25447476341600417,
           0.2537944161109825,
           0.2536376339944726,
           0.2535735017284087,
           0.25345959648062416,
           0.2534258563642955,
           0.25317189155593867,
           0.25295494281226527,
           0.25295031031368775,
           0.25276202136638687,
           0.2527415951675226,
           0.2527226046063159,
           0.2527215531551234,
           0.25258693854072206,
           0.25258028908033114,
           0.25248914353543733,
           0.25167909669275607,
           0.25156044030959734,
           0.25131509823157544,
           0.25131386352761625,
           0.2510341435208356,
           0.2509579380402157,
           0.25090921969395114,
           0.2508857260982757,
           0.25085506070500296,
           0.2507113919381665,
           0.25046047126886467,
           0.2504208143269479,
           0.25031317066839526,
           0.2500273926528939,
           0.25001629629585437,
           0.2497493603441062,
           0.24969780552987533,
           0.24948606755578281,
           0.24948477295397148,
           0.24938182596256975,
           0.24909125156974102,
           0.24907673486903187,
           0.24887807405465798,
           0.24887202540426245,
           0.2487969097612207,
           0.2487140970709302,
           0.24831510148945563,
           0.24817562123756853,
           0.24796846592971494,
           0.2479298548663614,
           0.24792872966666388,
           0.24781138001459077,
           0.2477053210145513,
           0.24756864502056902,
           0.24746385947518487,
           0.2473837404921834,
           0.24731087310690195,
           0.24722030938457457,
           0.2471873925314388,
           0.24709347770347959,
           0.24676407828331384,
           0.24671239753565027,
           0.24618447566694843,
           0.24611557757295785,
           0.24610732413184908,
           0.24603184668644945,
           0.2456813451040802,
           0.2456090858986172,
           0.24539453330227876,
           0.2452329211855048,
           0.24512771700282063,
           0.24507339590709412,
           0.24500532950881118,
           0.24481499189253417,
           0.24463963978306658,
           0.24455808878720045,
           0.2444803910049936,
           0.2443695958316708,
           0.24432748946161903,
           0.24415937069723137,
           0.2439661356262414,
           0.2437477582692559,
           0.2436141918425222,
           0.24360284522697365,
           0.24354953633244492,
           0.24351258485351138,
           0.243439578883639,
           0.243364266073426,
           0.24330713213190552,
           0.24321171064426156,
           0.24320568648637986,
           0.2430809420578163,
           0.24295518157253007,
           0.24280837162347008,
           0.2427345420353026,
           0.24252488490681015,
           0.24187229712982336,
           0.24179621338541812,
           0.24166645644429802,
           0.2415985793090073,
           0.24158956688943442,
           0.24149384780829328,
           0.24142849154928722,
           0.24140512747860018,
           0.24123167057653896,
           0.24097114081989757,
           0.2408929414722233,
           0.2407178215024564,
           0.24069639016554195,
           0.24054416376868742,
           0.24030790681144518,
           0.24022278414831486,
           0.24003493524205388,
           0.24002543344980448,
           0.24000750612725996,
           0.23990146606337748,
           0.23965189451675278,
           0.23950598679703242,
           0.239153595526476,
           0.23913236300820265,
           0.2389853867349876,
           0.23888361096217106,
           0.23885176632828614,
           0.23881274987893664,
           0.2387918902739085,
           0.23869401141737062,
           0.2386711888546668,
           0.23846097746160402,
           0.23831688790928984,
           0.23817397846584198,
           0.23816912336527837,
           0.23812937909115875,
           0.23800405217706158,
           0.23792925469971457,
           0.23749692383764925,
           0.23732825994392223,
           0.23717278205164483,
           0.23716904912153322,
           0.23714382149831384,
           0.23704831362457907,
           0.23700527106170546,
           0.23685358785975957,
           0.23670986017948448,
           0.23655064146184174,
           0.23635582509954228,
           0.23611576893219038,
           0.23579260926229118,
           0.2357445249961112,
           0.235698232158539,
           0.2355176067473412,
           0.235385984581253,
           0.23528366740766976,
           0.23482117472325023,
           0.23454670719439702,
           0.23452654594802033,
           0.23442517952390865,
           0.23436142916683061,
           0.23435454559434535,
           0.23430584389295434,
           0.2339948272367885,
           0.2338660009896307,
           0.23380914057416216,
           0.23371712319866936,
           0.23369566660396385,
           0.2335791191465218,
           0.23348164540354158,
           0.2334058291545582,
           0.23338028456802462,
           0.233292006082811,
           0.23323324093895406,
           0.23303921219564044,
           0.2325616741364545,
           0.23255888072889166,
           0.23252709879580621,
           0.23252504179851963,
           0.23250820496539615,
           0.23236736744023023,
           0.23199361946462438,
           0.23196919822811896,
           0.23179305085101534,
           0.2317116315793151,
           0.23167191594563236,
           0.2315816855840206,
           0.23156420132503744,
           0.23130582608979378,
           0.23124062163367587,
           0.2312108341721304,
           0.2311543116199336,
           0.23101890347071338,
           0.2309967527415346,
           0.23098247843058295,
           0.2309586969827999,
           0.230918879924337,
           0.23087857912777165,
           0.23074335911142857,
           0.23072406202591472,
           0.2306378012672548,
           0.2304635758322687,
           0.2304472474803238,
           0.23010750450777961,
           0.22997930956592072,
           0.22996617393092914,
           0.22996409213670607,
           0.22980158091905914,
           0.22975924646130488,
           0.22969786844335705,
           0.2296868796398633,
           0.22952722815226434,
           0.2294917107560805,
           0.22948498845352697,
           0.2294740236439007,
           0.22932263116332585,
           0.22921943450598042,
           0.2292083512568557,
           0.22917320811064318,
           0.22914405149050499,
           0.22911753241158797,
           0.2290172422089697,
           0.22895229588578794,
           0.22892195860699965,
           0.22889214246114636,
           0.22877969852955,
           0.22874010826822355,
           0.2287026361302239,
           0.22855091216590254,
           0.22849932226010355,
           0.22848470811537447,
           0.22844157151719702,
           0.22817041181612688,
           0.22800796576927307,
           0.22790481097424023,
           0.22784143776007582,
           0.22775118012776285,
           0.2277115480369649,
           0.22740622742207764,
           0.22730102047948716,
           0.22726523548501548,
           0.2272520153689322,
           0.22720267813054737,
           0.2271806472704813,
           0.22717764114713743,
           0.2269942850220013,
           0.2269758299991771,
           0.22689717358460207,
           0.22682390553915344,
           0.22675601819040378,
           0.22674510645777346,
           0.22674362782783647,
           0.22673323292925254,
           0.2267150193634101,
           0.2265442272651829,
           0.2264748994746433,
           0.22630691866766847,
           0.22609824853482915,
           0.22607113873514267,
           0.22595313519362328,
           0.22594525830456244,
           0.22582802140184557,
           0.22581058892323536,
           0.22573921329355084,
           0.225673983026613,
           0.22560857441808968,
           0.22545756862828545,
           0.22539015203080243,
           0.225242252315906,
           0.22519392105731714,
           0.22519114312393101,
           0.2251052018019228,
           0.2250847053410201,
           0.22507919473950452,
           0.22483473446018695,
           0.22454630152734412,
           0.2244887179367339,
           0.2244842752350465,
           0.22438216510678977,
           0.22428161039423025,
           0.22425460184715126,
           0.22424550255821263,
           0.22422201612994286,
           0.22420003450291492,
           0.22418292112750324,
           0.2240673249433628,
           0.22398711517072434,
           0.22398394147473297,
           0.22340983546190998,
           0.22327589913846302,
           0.22325235069931912,
           0.22318510588103938,
           0.22310644449030373,
           0.22285770071408864,
           0.22247843708742351,
           0.22239562929177584,
           0.2222555510214678,
           0.22224854170314728,
           0.22223845805987477,
           0.22222374057085734,
           0.2222214657575128,
           0.22212278712545144,
           0.22200765058785527,
           0.22192921028189516,
           0.22190823156384143,
           0.22163764057474114,
           0.2216133547878509,
           0.22156236995718648,
           0.2214300884204676,
           0.2213451356110096,
           0.2213435777827445,
           0.22127417210040076,
           0.22126659774196838,
           0.22125501533833272,
           0.22123108098213495,
           0.2211763149316547,
           0.22112360944923476,
           0.22105984429991984,
           0.22102547657325758,
           0.22062708026348593,
           0.22055294095347702,
           0.2205285399075422,
           0.2205198756214068,
           0.22045787566953134,
           0.22043194687044707,
           0.2202689986310798,
           0.22020776976242706,
           0.22010225489756843,
           0.22007132828485368,
           0.22006134216006853,
           0.21973832576380273,
           0.2194786829295903,
           0.2193783409722883,
           0.21937526917586256,
           0.2193524892842206,
           0.21927562617616853,
           0.21912515305852184,
           0.21912016873179413,
           0.21911984920242145,
           0.219035114142414,
           0.218925482066937,
           0.2188098561698529,
           0.21875585659019686,
           0.21864793605352514,
           0.21862491028399741,
           0.2186023223656072,
           0.21850087049399897,
           0.21835806978695396,
           0.21828268255622188,
           0.2179830385646011,
           0.2179407698722383,
           0.21789878963547904,
           0.21778947724348702,
           0.21775252943819556,
           0.2175321896443027,
           0.2173769418137153,
           0.21726583375691297,
           0.21725917080833268,
           0.21717029694046505,
           0.2171519256135462,
           0.2170937715324274,
           0.21706316824206612,
           0.2169765112806228,
           0.21674114366117792,
           0.2165727691577628,
           0.2165565621860639,
           0.21647809477899577,
           0.2163464101490407,
           0.21608377235318113,
           0.21592086599776805,
           0.21579395339207058,
           0.21575698830302745,
           0.21567502598974378,
           0.2156673705828394,
           0.21557378169534785,
           0.21550745864523485,
           0.21549774032400365,
           0.2154782882037208,
           0.2154657025279152,
           0.21538224832023567,
           0.21533215237175954,
           0.21532174216536323,
           0.21524476137331733,
           0.21510104639053398,
           0.21480553093190655,
           0.21471170205462187,
           0.21468826106538832,
           0.2146457702331791,
           0.21463800357981985,
           0.2145971888037566,
           0.2144816251440477,
           0.21446488948357312,
           0.21442164359073965,
           0.21438756294111333,
           0.21432259046563346,
           0.21413962728191793,
           0.2141393270010459,
           0.21412779497613327,
           0.21408302442527993,
           0.21395968435101032,
           0.21389307753760123,
           0.21388721656833498,
           0.21386173256739474,
           0.21386164294758367,
           0.21374290547408156,
           0.21370957475477478,
           0.21368514227937369,
           0.21368414491808288,
           0.21357834606979348,
           0.21353983775100793,
           0.2135256801147503,
           0.21346189228939197,
           0.21341685948512215,
           0.21333474724832113,
           0.21330398434045617,
           0.21328340293083345,
           0.21322020633952452,
           0.2131860219561373,
           0.21308408930624387,
           0.2130620370439966,
           0.2130190571168142,
           0.21299351869021785,
           0.212983989618228,
           0.21292514146634112,
           0.21283293506032697,
           0.21279089822915792,
           0.21262558973461626,
           0.2124409518031141,
           0.21230771349573113,
           0.21225256293748426,
           0.21201660450962728,
           0.21187609389008358,
           0.21176868869192894,
           0.21165249543498232,
           0.2116096625711566,
           0.21142373978049742,
           0.21138559026103595,
           0.21135040103942762,
           0.21126066921485465,
           0.21107306655354774,
           0.21094673217756676,
           0.21092970902847782,
           0.2108957465719223,
           0.2108383009268393,
           0.21072416197125163,
           0.21068440045400866,
           0.2106535465150613,
           0.21063845385260527,
           0.21040993704720923,
           0.2103418639976867,
           0.2102869871499931,
           0.21027745601728481,
           0.210251431881276,
           0.2102028301666396,
           0.21015676716504597,
           0.21015486989408727,
           0.21011777657659966,
           0.20993146362069282,
           0.20990734688722562,
           0.20984122924900236,
           0.20963871956104257,
           0.20960759173079066,
           0.20955913936104664,
           0.20952771383435356,
           0.20936509717390894,
           0.20934881977984923,
           0.20918392316423604,
           0.20917721755732585,
           0.20912360959344703,
           0.20900621017839777,
           0.20897972995775305,
           0.2087021028096797,
           0.2085777033895718,
           0.2085548625684994,
           0.20851387206333608,
           0.20826072855437913,
           0.2082599004394373,
           0.20823075356047796,
           0.2082002793752621,
           0.20819938615040293,
           0.2081281601256761,
           0.20811623868898482,
           0.20810799272134908,
           0.20808892083773858,
           0.20803831374236584,
           0.20788175156330024,
           0.20779638534674638,
           0.20778353699881255,
           0.20771549826026225,
           0.2076996013046178,
           0.20768629608975428,
           0.20767466559475867,
           0.20767350734056905,
           0.20756580171506692,
           0.20755652854128645,
           0.20740935554151463,
           0.20728692048315878,
           0.20715429402044203,
           0.20711979894754914,
           0.20707851710634786,
           0.20704636232642698,
           0.20703427685238163,
           0.20701101311630005,
           0.20700733449573258,
           0.2070071675592052,
           0.20691132221641637,
           0.2069017804065848,
           0.20678534902399776,
           0.20669887235949255,
           0.2066980843974472,
           0.2066094992704229,
           0.20658131420950937,
           0.20654039675939867,
           0.20650727855834092,
           0.20642910892442265,
           0.20642278154212956,
           0.20636322412113897,
           0.20630783517349327,
           0.20607951639314492,
           0.2060723256882801,
           0.2060284035697786,
           0.20599162873556054,
           0.2059903187832797,
           0.20588834032194395,
           0.2058443503905047,
           0.20583302492801228,
           0.20572181772818263,
           0.2056902636178886,
           0.20567314002388934,
           0.20561160041962107,
           0.20550226308603994,
           0.205426657341208,
           0.2053752090333115,
           0.20535053482495202,
           0.20530450679034135,
           0.2052780803908443,
           0.20512493776037313,
           0.20512214636401394,
           0.20507962741563263,
           0.205059647686122,
           0.20502068852837307,
           0.2050123284955832,
           0.2049873600579639,
           0.20496631440041702,
           0.20496213963712068,
           0.20490886772478495,
           0.20485575144804916,
           0.20482213673008645,
           0.2048020673824939,
           0.20471500172506615,
           0.20467578753072263,
           0.20458785461683804,
           0.20458727821914824,
           0.20453842787911838,
           0.2045011163448419,
           0.20445168021872487,
           0.2044413771353171,
           0.20439771735749407,
           0.2043792027403649,
           0.20433008894433874,
           0.20432023814279385,
           0.20427948304433216,
           0.20403111094104304,
           0.20398154385271147,
           0.20396187241418645,
           0.20387914763634643,
           0.20387816298166458,
           0.20377226412841445,
           0.20376043088906923,
           0.20375164318232103,
           0.2037345619945141,
           0.2037042389328012,
           0.2036442671372511,
           0.2035803726786258,
           0.20357475847504486,
           0.20353451992445187,
           0.20351854579036924,
           0.2034447152636667,
           0.20341111900025288,
           0.2034021487220029,
           0.2033271010361291,
           0.2033112352678321,
           0.20330826619930803,
           0.20329945439239688,
           0.20329002108355093,
           0.20326084710714218,
           0.20318177044872723,
           0.20317622330131566,
           0.2031097520647496,
           0.2030603534176976,
           0.20292464627177406,
           0.20291222468474676,
           0.20283819940994344,
           0.20280516193836853,
           0.20280018152640344,
           0.20278677120333669,
           0.20276198505032997,
           0.20274788075306427,
           0.20272626758695927,
           0.2026055234321704,
           0.20252292310748257,
           0.20249005333834894,
           0.20245123705189003,
           0.20242261885251428,
           0.20239980990978526,
           0.20234287322064964,
           0.202276873178037,
           0.20227007801061325,
           0.20215402394641865,
           0.2021478884067792,
           0.20209931756246693,
           0.20199938229462402,
           0.20192281656158442,
           0.2019213328735195,
           0.20191955012649238,
           0.20185811765712747,
           0.20182922987213628,
           0.20173817843133765,
           0.20170476503652712,
           0.20167697713161928,
           0.2016629279100242,
           0.20162847476097676,
           0.20160621703174061,
           0.20160142245854804,
           0.20159751280058816,
           0.20159047872082292,
           0.20155126735211717,
           0.20153771659020722,
           0.20149614230921553,
           0.20146391247554502,
           0.20137042565532276,
           0.20136240651475695,
           0.20136095032171558,
           0.20129605072320791,
           0.20128085526099096,
           0.20126206206689126,
           0.20107695454637167,
           0.20103277369867295,
           0.20098903519191244,
           0.20093908096145094,
           0.20080503270417552,
           0.20075154025179567,
           0.2007083429588654,
           0.20066337769764636,
           0.20058387922604043,
           0.20048552178703438,
           0.2004855027258264,
           0.20041109316994493,
           0.20037150675243814,
           0.20034501403426297,
           0.20033378603067992,
           0.20031158946537844,
           0.20025091017572175,
           0.20022075785046556,
           0.20016533749658894,
           0.20015334239374702,
           0.2000860414730974,
           0.20005817491296782
          ],
          "coloraxis": "coloraxis",
          "symbol": "circle"
         },
         "mode": "markers",
         "name": "",
         "showlegend": false,
         "type": "scattergl",
         "x": [
          0.8535696491487166,
          0.853343668808996,
          0.6418495761562872,
          0.6267510269922577,
          0.6193593070035367,
          0.6085382344415878,
          0.5918172423153671,
          0.5915998770417953,
          0.5803546509767313,
          0.5659422192394332,
          0.5607507201257727,
          0.5410697110695416,
          0.5325626568854848,
          0.5205151123920807,
          0.5071538790894496,
          0.5006094648510305,
          0.4949659111774196,
          0.4777899055150075,
          0.4666356118888771,
          0.46488921828013247,
          0.46470066910629876,
          0.46410083802681174,
          0.45983312735552156,
          0.45940464696671873,
          0.4577190644881474,
          0.45657713361640523,
          0.45647840771849907,
          0.4563806558241835,
          0.44604034035175305,
          0.441815593738593,
          0.4394912711942215,
          0.43645128272984735,
          0.4331144026231048,
          0.42808270599423376,
          0.42789929788333625,
          0.42564285558308107,
          0.42550997320080064,
          0.4252719365453392,
          0.42049947323070774,
          0.41845581289594036,
          0.4172135233457813,
          0.41624461168532473,
          0.41293991479901015,
          0.4113109000511803,
          0.41127543703517355,
          0.410961458782836,
          0.4098740929644146,
          0.40986774493208855,
          0.4057348052873312,
          0.4033844236479559,
          0.4030624735528638,
          0.4028744128389233,
          0.40094050545656534,
          0.3972044452279599,
          0.3952785471587181,
          0.39410337898752745,
          0.391605059391499,
          0.39084674594167695,
          0.3895595275577901,
          0.3886147311969921,
          0.3884055068438752,
          0.38775033189142716,
          0.38658212199953007,
          0.3865685808757262,
          0.38534851817237176,
          0.38287077487261656,
          0.3802144894033986,
          0.3800540341680079,
          0.378128576082268,
          0.3780932686665568,
          0.37463369950127023,
          0.3740664716901299,
          0.37242691697425534,
          0.3723849718946363,
          0.3706347682161789,
          0.37054133494070696,
          0.36652230247145495,
          0.36621236775535876,
          0.365656315978804,
          0.36457195170791123,
          0.36259663336393105,
          0.3596303380302458,
          0.35921663032434514,
          0.3583921128560051,
          0.3583016501253356,
          0.3579963647271624,
          0.35647920030568697,
          0.3560046924668319,
          0.35596662254663886,
          0.35544486485285126,
          0.35244615467629287,
          0.352425401084495,
          0.3522185950645598,
          0.3520490691719457,
          0.3515546528137319,
          0.3512418601003726,
          0.3498735671067517,
          0.3497233828275331,
          0.34932609759113276,
          0.34869967584202893,
          0.3483854992392719,
          0.3483446111191622,
          0.34809766748019205,
          0.3474964370549013,
          0.3474512003579097,
          0.3463642797036938,
          0.3463571218317904,
          0.34615924446064333,
          0.3456435647376639,
          0.34561080539216815,
          0.34538542610371764,
          0.3452619906651072,
          0.34480782063418036,
          0.34463251801446815,
          0.34383786103360797,
          0.34350259100001923,
          0.342998481446166,
          0.34235855301912144,
          0.34124643288250817,
          0.34116681156692635,
          0.34085260532513034,
          0.3403830339912793,
          0.33998577969371424,
          0.33749153510680613,
          0.3371071329777787,
          0.3361021146651366,
          0.33537263095622255,
          0.335025711327932,
          0.33490958010017274,
          0.33182957804964475,
          0.3313777951974019,
          0.33124509767564836,
          0.33112738091638577,
          0.3300683484949661,
          0.32943586701358113,
          0.32934175002573957,
          0.32900148691818015,
          0.3284057057196194,
          0.3282358882782264,
          0.3280117288765592,
          0.32772531122884774,
          0.3275205161834301,
          0.32557400405362125,
          0.32534694396825437,
          0.32525453264762827,
          0.32502589842578794,
          0.3248505612135305,
          0.3238336846738792,
          0.3228679909534584,
          0.3214769169985941,
          0.32050384567824836,
          0.32026770081524075,
          0.3187471455693718,
          0.3185223550473202,
          0.3183206964589089,
          0.3183191231199227,
          0.31806244436111136,
          0.3173706881626544,
          0.3173665165955682,
          0.3171276769300977,
          0.316216652875114,
          0.31607975316698866,
          0.3157588426201001,
          0.31575699723330003,
          0.3151940450601596,
          0.3148750600551595,
          0.31481629674463246,
          0.3144041627077652,
          0.31425311826347824,
          0.3142294798189424,
          0.3137230632962293,
          0.3131769163525384,
          0.3131562354837995,
          0.31296562769592784,
          0.3126790457558799,
          0.3124580705587626,
          0.31233718496020163,
          0.3122118336307005,
          0.31197138582609907,
          0.3108722596692767,
          0.3103838999350343,
          0.30997381342499336,
          0.3098589501627795,
          0.3096127204662167,
          0.3091919569886684,
          0.30914226605191775,
          0.30872784003649284,
          0.3081698850571202,
          0.30814479402087375,
          0.30753694161637485,
          0.30719083554671306,
          0.3067548295410681,
          0.30650980951069157,
          0.30645750841111796,
          0.3063542694426473,
          0.3050323088919241,
          0.3044507124572258,
          0.30403373164412517,
          0.30378404339415466,
          0.3035982474125848,
          0.30344313892067964,
          0.303381490910777,
          0.3026555645661737,
          0.3022721445503761,
          0.3020508511025187,
          0.3020332714814704,
          0.30160442727413544,
          0.3004250994585812,
          0.3002941301139285,
          0.29954378588146957,
          0.29949464734297143,
          0.29930178327017265,
          0.2992887222094639,
          0.2990684556536203,
          0.2985711426830804,
          0.29699300975042464,
          0.2967889632784364,
          0.2965509596198848,
          0.2962245830632204,
          0.2955294902692048,
          0.295401511962789,
          0.2952094113374181,
          0.29514652132772873,
          0.29411655486424615,
          0.29371664157937727,
          0.2926621119979199,
          0.29245581393246795,
          0.2921344055772738,
          0.29188688598458545,
          0.2917115577156631,
          0.29158700372266966,
          0.29158101804462794,
          0.2913642089714784,
          0.2912600114131833,
          0.29100857427619925,
          0.2905051846445903,
          0.29042787004741033,
          0.28985274839876435,
          0.28976544858137765,
          0.28965675569230304,
          0.28955994498149296,
          0.28939710063157753,
          0.28779144010242697,
          0.2876293164729617,
          0.2875842334889608,
          0.28732273249332446,
          0.28688140265617407,
          0.2866600202026267,
          0.28653788174647915,
          0.28637355739593573,
          0.2862389546930489,
          0.2862332230331538,
          0.28542917259763173,
          0.2851525270649743,
          0.28480712666206937,
          0.28442023183354354,
          0.28414519158660667,
          0.2840981590061613,
          0.2839103676601413,
          0.28388219866777187,
          0.2838483205974752,
          0.28354257593827564,
          0.2832250070918238,
          0.2825794857767332,
          0.28243917083957293,
          0.28235493457177524,
          0.28231419990818907,
          0.28107001635929313,
          0.2807902716494723,
          0.28045313354648005,
          0.2802980318912273,
          0.28007330665853947,
          0.2797785453383208,
          0.27963358030851154,
          0.2795398658138129,
          0.27945438633582914,
          0.27923049836799785,
          0.27914149629206964,
          0.2789862566736787,
          0.2787138239268071,
          0.27858041688528473,
          0.2783395176958291,
          0.27827948986964635,
          0.2782700183473813,
          0.2774773572787336,
          0.27741689993269103,
          0.27738167239099526,
          0.2772332572145874,
          0.2769593399906093,
          0.2769155539890654,
          0.2764613861208172,
          0.2760764370387523,
          0.27544355849762614,
          0.2752734066892093,
          0.27503485680328194,
          0.2745843468633352,
          0.2743320270422849,
          0.27413263027765483,
          0.2739268769977729,
          0.2739041493795165,
          0.27386928891642304,
          0.27368020318935327,
          0.27356442452216273,
          0.27352476953855825,
          0.2734023174619103,
          0.2733321949841422,
          0.2731348085693915,
          0.27296495779234387,
          0.2727823607302432,
          0.27249801789421546,
          0.27241366231850433,
          0.27210067799192433,
          0.27201077864213025,
          0.27144868368222225,
          0.2703981814362303,
          0.26974643893787426,
          0.26952506896625056,
          0.269423450682996,
          0.26867143203439786,
          0.2683996493881256,
          0.2682018629190446,
          0.2681951336306988,
          0.26746739465500124,
          0.2672867470550122,
          0.26678241626072413,
          0.26663402702479405,
          0.2662707367570083,
          0.266107922185879,
          0.26573423893609344,
          0.26570509546139154,
          0.26565791172635483,
          0.265455795346739,
          0.26545028783650676,
          0.2654349692420909,
          0.26536745066902867,
          0.26500920923776505,
          0.2647367868630957,
          0.2644920847396943,
          0.2644389275882417,
          0.26398245980551543,
          0.26389950174753857,
          0.26386529822356164,
          0.2638340497051237,
          0.26368360599596985,
          0.26350840120135827,
          0.26349054968246144,
          0.26333208884010373,
          0.26311231833804305,
          0.26311052923254463,
          0.2627551846902325,
          0.26239707494174397,
          0.26239505449429723,
          0.262269392301735,
          0.26218638505474745,
          0.2619097431537848,
          0.2617183121755714,
          0.2616783143469445,
          0.26167304312547374,
          0.26146254067558244,
          0.26130453207632287,
          0.26100821888728803,
          0.26093346865941613,
          0.2609298143983495,
          0.26092508423610367,
          0.26083200031949433,
          0.2604270188671648,
          0.2603267709520232,
          0.2601706362924592,
          0.26012545886138383,
          0.26002359792678914,
          0.26001896627050686,
          0.2599545437220247,
          0.2594991462003754,
          0.25902908581300443,
          0.25859416764507426,
          0.25858671330421334,
          0.2584660646414216,
          0.2581840409105536,
          0.25809222002168425,
          0.25803443266533305,
          0.25797535184507564,
          0.25790927682422693,
          0.2578898061438802,
          0.2577227087247674,
          0.2576014703487923,
          0.2574076777484531,
          0.2573143862880124,
          0.2573117733337722,
          0.25701763810964734,
          0.256996712699156,
          0.2567657448936328,
          0.25661500010507154,
          0.2563950159966886,
          0.25638374101231276,
          0.25625818768403286,
          0.2561591666875473,
          0.25610203064712356,
          0.2560981044920367,
          0.25572183258464204,
          0.2556027305846524,
          0.2555379398358584,
          0.2554486492461016,
          0.2554423979855677,
          0.2552514669035614,
          0.25501934295625167,
          0.2547865011006678,
          0.254774597373517,
          0.25467059666096564,
          0.25447476341600417,
          0.2537944161109825,
          0.2536376339944726,
          0.2535735017284087,
          0.25345959648062416,
          0.2534258563642955,
          0.25317189155593867,
          0.25295494281226527,
          0.25295031031368775,
          0.25276202136638687,
          0.2527415951675226,
          0.2527226046063159,
          0.2527215531551234,
          0.25258693854072206,
          0.25258028908033114,
          0.25248914353543733,
          0.25167909669275607,
          0.25156044030959734,
          0.25131509823157544,
          0.25131386352761625,
          0.2510341435208356,
          0.2509579380402157,
          0.25090921969395114,
          0.2508857260982757,
          0.25085506070500296,
          0.2507113919381665,
          0.25046047126886467,
          0.2504208143269479,
          0.25031317066839526,
          0.2500273926528939,
          0.25001629629585437,
          0.2497493603441062,
          0.24969780552987533,
          0.24948606755578281,
          0.24948477295397148,
          0.24938182596256975,
          0.24909125156974102,
          0.24907673486903187,
          0.24887807405465798,
          0.24887202540426245,
          0.2487969097612207,
          0.2487140970709302,
          0.24831510148945563,
          0.24817562123756853,
          0.24796846592971494,
          0.2479298548663614,
          0.24792872966666388,
          0.24781138001459077,
          0.2477053210145513,
          0.24756864502056902,
          0.24746385947518487,
          0.2473837404921834,
          0.24731087310690195,
          0.24722030938457457,
          0.2471873925314388,
          0.24709347770347959,
          0.24676407828331384,
          0.24671239753565027,
          0.24618447566694843,
          0.24611557757295785,
          0.24610732413184908,
          0.24603184668644945,
          0.2456813451040802,
          0.2456090858986172,
          0.24539453330227876,
          0.2452329211855048,
          0.24512771700282063,
          0.24507339590709412,
          0.24500532950881118,
          0.24481499189253417,
          0.24463963978306658,
          0.24455808878720045,
          0.2444803910049936,
          0.2443695958316708,
          0.24432748946161903,
          0.24415937069723137,
          0.2439661356262414,
          0.2437477582692559,
          0.2436141918425222,
          0.24360284522697365,
          0.24354953633244492,
          0.24351258485351138,
          0.243439578883639,
          0.243364266073426,
          0.24330713213190552,
          0.24321171064426156,
          0.24320568648637986,
          0.2430809420578163,
          0.24295518157253007,
          0.24280837162347008,
          0.2427345420353026,
          0.24252488490681015,
          0.24187229712982336,
          0.24179621338541812,
          0.24166645644429802,
          0.2415985793090073,
          0.24158956688943442,
          0.24149384780829328,
          0.24142849154928722,
          0.24140512747860018,
          0.24123167057653896,
          0.24097114081989757,
          0.2408929414722233,
          0.2407178215024564,
          0.24069639016554195,
          0.24054416376868742,
          0.24030790681144518,
          0.24022278414831486,
          0.24003493524205388,
          0.24002543344980448,
          0.24000750612725996,
          0.23990146606337748,
          0.23965189451675278,
          0.23950598679703242,
          0.239153595526476,
          0.23913236300820265,
          0.2389853867349876,
          0.23888361096217106,
          0.23885176632828614,
          0.23881274987893664,
          0.2387918902739085,
          0.23869401141737062,
          0.2386711888546668,
          0.23846097746160402,
          0.23831688790928984,
          0.23817397846584198,
          0.23816912336527837,
          0.23812937909115875,
          0.23800405217706158,
          0.23792925469971457,
          0.23749692383764925,
          0.23732825994392223,
          0.23717278205164483,
          0.23716904912153322,
          0.23714382149831384,
          0.23704831362457907,
          0.23700527106170546,
          0.23685358785975957,
          0.23670986017948448,
          0.23655064146184174,
          0.23635582509954228,
          0.23611576893219038,
          0.23579260926229118,
          0.2357445249961112,
          0.235698232158539,
          0.2355176067473412,
          0.235385984581253,
          0.23528366740766976,
          0.23482117472325023,
          0.23454670719439702,
          0.23452654594802033,
          0.23442517952390865,
          0.23436142916683061,
          0.23435454559434535,
          0.23430584389295434,
          0.2339948272367885,
          0.2338660009896307,
          0.23380914057416216,
          0.23371712319866936,
          0.23369566660396385,
          0.2335791191465218,
          0.23348164540354158,
          0.2334058291545582,
          0.23338028456802462,
          0.233292006082811,
          0.23323324093895406,
          0.23303921219564044,
          0.2325616741364545,
          0.23255888072889166,
          0.23252709879580621,
          0.23252504179851963,
          0.23250820496539615,
          0.23236736744023023,
          0.23199361946462438,
          0.23196919822811896,
          0.23179305085101534,
          0.2317116315793151,
          0.23167191594563236,
          0.2315816855840206,
          0.23156420132503744,
          0.23130582608979378,
          0.23124062163367587,
          0.2312108341721304,
          0.2311543116199336,
          0.23101890347071338,
          0.2309967527415346,
          0.23098247843058295,
          0.2309586969827999,
          0.230918879924337,
          0.23087857912777165,
          0.23074335911142857,
          0.23072406202591472,
          0.2306378012672548,
          0.2304635758322687,
          0.2304472474803238,
          0.23010750450777961,
          0.22997930956592072,
          0.22996617393092914,
          0.22996409213670607,
          0.22980158091905914,
          0.22975924646130488,
          0.22969786844335705,
          0.2296868796398633,
          0.22952722815226434,
          0.2294917107560805,
          0.22948498845352697,
          0.2294740236439007,
          0.22932263116332585,
          0.22921943450598042,
          0.2292083512568557,
          0.22917320811064318,
          0.22914405149050499,
          0.22911753241158797,
          0.2290172422089697,
          0.22895229588578794,
          0.22892195860699965,
          0.22889214246114636,
          0.22877969852955,
          0.22874010826822355,
          0.2287026361302239,
          0.22855091216590254,
          0.22849932226010355,
          0.22848470811537447,
          0.22844157151719702,
          0.22817041181612688,
          0.22800796576927307,
          0.22790481097424023,
          0.22784143776007582,
          0.22775118012776285,
          0.2277115480369649,
          0.22740622742207764,
          0.22730102047948716,
          0.22726523548501548,
          0.2272520153689322,
          0.22720267813054737,
          0.2271806472704813,
          0.22717764114713743,
          0.2269942850220013,
          0.2269758299991771,
          0.22689717358460207,
          0.22682390553915344,
          0.22675601819040378,
          0.22674510645777346,
          0.22674362782783647,
          0.22673323292925254,
          0.2267150193634101,
          0.2265442272651829,
          0.2264748994746433,
          0.22630691866766847,
          0.22609824853482915,
          0.22607113873514267,
          0.22595313519362328,
          0.22594525830456244,
          0.22582802140184557,
          0.22581058892323536,
          0.22573921329355084,
          0.225673983026613,
          0.22560857441808968,
          0.22545756862828545,
          0.22539015203080243,
          0.225242252315906,
          0.22519392105731714,
          0.22519114312393101,
          0.2251052018019228,
          0.2250847053410201,
          0.22507919473950452,
          0.22483473446018695,
          0.22454630152734412,
          0.2244887179367339,
          0.2244842752350465,
          0.22438216510678977,
          0.22428161039423025,
          0.22425460184715126,
          0.22424550255821263,
          0.22422201612994286,
          0.22420003450291492,
          0.22418292112750324,
          0.2240673249433628,
          0.22398711517072434,
          0.22398394147473297,
          0.22340983546190998,
          0.22327589913846302,
          0.22325235069931912,
          0.22318510588103938,
          0.22310644449030373,
          0.22285770071408864,
          0.22247843708742351,
          0.22239562929177584,
          0.2222555510214678,
          0.22224854170314728,
          0.22223845805987477,
          0.22222374057085734,
          0.2222214657575128,
          0.22212278712545144,
          0.22200765058785527,
          0.22192921028189516,
          0.22190823156384143,
          0.22163764057474114,
          0.2216133547878509,
          0.22156236995718648,
          0.2214300884204676,
          0.2213451356110096,
          0.2213435777827445,
          0.22127417210040076,
          0.22126659774196838,
          0.22125501533833272,
          0.22123108098213495,
          0.2211763149316547,
          0.22112360944923476,
          0.22105984429991984,
          0.22102547657325758,
          0.22062708026348593,
          0.22055294095347702,
          0.2205285399075422,
          0.2205198756214068,
          0.22045787566953134,
          0.22043194687044707,
          0.2202689986310798,
          0.22020776976242706,
          0.22010225489756843,
          0.22007132828485368,
          0.22006134216006853,
          0.21973832576380273,
          0.2194786829295903,
          0.2193783409722883,
          0.21937526917586256,
          0.2193524892842206,
          0.21927562617616853,
          0.21912515305852184,
          0.21912016873179413,
          0.21911984920242145,
          0.219035114142414,
          0.218925482066937,
          0.2188098561698529,
          0.21875585659019686,
          0.21864793605352514,
          0.21862491028399741,
          0.2186023223656072,
          0.21850087049399897,
          0.21835806978695396,
          0.21828268255622188,
          0.2179830385646011,
          0.2179407698722383,
          0.21789878963547904,
          0.21778947724348702,
          0.21775252943819556,
          0.2175321896443027,
          0.2173769418137153,
          0.21726583375691297,
          0.21725917080833268,
          0.21717029694046505,
          0.2171519256135462,
          0.2170937715324274,
          0.21706316824206612,
          0.2169765112806228,
          0.21674114366117792,
          0.2165727691577628,
          0.2165565621860639,
          0.21647809477899577,
          0.2163464101490407,
          0.21608377235318113,
          0.21592086599776805,
          0.21579395339207058,
          0.21575698830302745,
          0.21567502598974378,
          0.2156673705828394,
          0.21557378169534785,
          0.21550745864523485,
          0.21549774032400365,
          0.2154782882037208,
          0.2154657025279152,
          0.21538224832023567,
          0.21533215237175954,
          0.21532174216536323,
          0.21524476137331733,
          0.21510104639053398,
          0.21480553093190655,
          0.21471170205462187,
          0.21468826106538832,
          0.2146457702331791,
          0.21463800357981985,
          0.2145971888037566,
          0.2144816251440477,
          0.21446488948357312,
          0.21442164359073965,
          0.21438756294111333,
          0.21432259046563346,
          0.21413962728191793,
          0.2141393270010459,
          0.21412779497613327,
          0.21408302442527993,
          0.21395968435101032,
          0.21389307753760123,
          0.21388721656833498,
          0.21386173256739474,
          0.21386164294758367,
          0.21374290547408156,
          0.21370957475477478,
          0.21368514227937369,
          0.21368414491808288,
          0.21357834606979348,
          0.21353983775100793,
          0.2135256801147503,
          0.21346189228939197,
          0.21341685948512215,
          0.21333474724832113,
          0.21330398434045617,
          0.21328340293083345,
          0.21322020633952452,
          0.2131860219561373,
          0.21308408930624387,
          0.2130620370439966,
          0.2130190571168142,
          0.21299351869021785,
          0.212983989618228,
          0.21292514146634112,
          0.21283293506032697,
          0.21279089822915792,
          0.21262558973461626,
          0.2124409518031141,
          0.21230771349573113,
          0.21225256293748426,
          0.21201660450962728,
          0.21187609389008358,
          0.21176868869192894,
          0.21165249543498232,
          0.2116096625711566,
          0.21142373978049742,
          0.21138559026103595,
          0.21135040103942762,
          0.21126066921485465,
          0.21107306655354774,
          0.21094673217756676,
          0.21092970902847782,
          0.2108957465719223,
          0.2108383009268393,
          0.21072416197125163,
          0.21068440045400866,
          0.2106535465150613,
          0.21063845385260527,
          0.21040993704720923,
          0.2103418639976867,
          0.2102869871499931,
          0.21027745601728481,
          0.210251431881276,
          0.2102028301666396,
          0.21015676716504597,
          0.21015486989408727,
          0.21011777657659966,
          0.20993146362069282,
          0.20990734688722562,
          0.20984122924900236,
          0.20963871956104257,
          0.20960759173079066,
          0.20955913936104664,
          0.20952771383435356,
          0.20936509717390894,
          0.20934881977984923,
          0.20918392316423604,
          0.20917721755732585,
          0.20912360959344703,
          0.20900621017839777,
          0.20897972995775305,
          0.2087021028096797,
          0.2085777033895718,
          0.2085548625684994,
          0.20851387206333608,
          0.20826072855437913,
          0.2082599004394373,
          0.20823075356047796,
          0.2082002793752621,
          0.20819938615040293,
          0.2081281601256761,
          0.20811623868898482,
          0.20810799272134908,
          0.20808892083773858,
          0.20803831374236584,
          0.20788175156330024,
          0.20779638534674638,
          0.20778353699881255,
          0.20771549826026225,
          0.2076996013046178,
          0.20768629608975428,
          0.20767466559475867,
          0.20767350734056905,
          0.20756580171506692,
          0.20755652854128645,
          0.20740935554151463,
          0.20728692048315878,
          0.20715429402044203,
          0.20711979894754914,
          0.20707851710634786,
          0.20704636232642698,
          0.20703427685238163,
          0.20701101311630005,
          0.20700733449573258,
          0.2070071675592052,
          0.20691132221641637,
          0.2069017804065848,
          0.20678534902399776,
          0.20669887235949255,
          0.2066980843974472,
          0.2066094992704229,
          0.20658131420950937,
          0.20654039675939867,
          0.20650727855834092,
          0.20642910892442265,
          0.20642278154212956,
          0.20636322412113897,
          0.20630783517349327,
          0.20607951639314492,
          0.2060723256882801,
          0.2060284035697786,
          0.20599162873556054,
          0.2059903187832797,
          0.20588834032194395,
          0.2058443503905047,
          0.20583302492801228,
          0.20572181772818263,
          0.2056902636178886,
          0.20567314002388934,
          0.20561160041962107,
          0.20550226308603994,
          0.205426657341208,
          0.2053752090333115,
          0.20535053482495202,
          0.20530450679034135,
          0.2052780803908443,
          0.20512493776037313,
          0.20512214636401394,
          0.20507962741563263,
          0.205059647686122,
          0.20502068852837307,
          0.2050123284955832,
          0.2049873600579639,
          0.20496631440041702,
          0.20496213963712068,
          0.20490886772478495,
          0.20485575144804916,
          0.20482213673008645,
          0.2048020673824939,
          0.20471500172506615,
          0.20467578753072263,
          0.20458785461683804,
          0.20458727821914824,
          0.20453842787911838,
          0.2045011163448419,
          0.20445168021872487,
          0.2044413771353171,
          0.20439771735749407,
          0.2043792027403649,
          0.20433008894433874,
          0.20432023814279385,
          0.20427948304433216,
          0.20403111094104304,
          0.20398154385271147,
          0.20396187241418645,
          0.20387914763634643,
          0.20387816298166458,
          0.20377226412841445,
          0.20376043088906923,
          0.20375164318232103,
          0.2037345619945141,
          0.2037042389328012,
          0.2036442671372511,
          0.2035803726786258,
          0.20357475847504486,
          0.20353451992445187,
          0.20351854579036924,
          0.2034447152636667,
          0.20341111900025288,
          0.2034021487220029,
          0.2033271010361291,
          0.2033112352678321,
          0.20330826619930803,
          0.20329945439239688,
          0.20329002108355093,
          0.20326084710714218,
          0.20318177044872723,
          0.20317622330131566,
          0.2031097520647496,
          0.2030603534176976,
          0.20292464627177406,
          0.20291222468474676,
          0.20283819940994344,
          0.20280516193836853,
          0.20280018152640344,
          0.20278677120333669,
          0.20276198505032997,
          0.20274788075306427,
          0.20272626758695927,
          0.2026055234321704,
          0.20252292310748257,
          0.20249005333834894,
          0.20245123705189003,
          0.20242261885251428,
          0.20239980990978526,
          0.20234287322064964,
          0.202276873178037,
          0.20227007801061325,
          0.20215402394641865,
          0.2021478884067792,
          0.20209931756246693,
          0.20199938229462402,
          0.20192281656158442,
          0.2019213328735195,
          0.20191955012649238,
          0.20185811765712747,
          0.20182922987213628,
          0.20173817843133765,
          0.20170476503652712,
          0.20167697713161928,
          0.2016629279100242,
          0.20162847476097676,
          0.20160621703174061,
          0.20160142245854804,
          0.20159751280058816,
          0.20159047872082292,
          0.20155126735211717,
          0.20153771659020722,
          0.20149614230921553,
          0.20146391247554502,
          0.20137042565532276,
          0.20136240651475695,
          0.20136095032171558,
          0.20129605072320791,
          0.20128085526099096,
          0.20126206206689126,
          0.20107695454637167,
          0.20103277369867295,
          0.20098903519191244,
          0.20093908096145094,
          0.20080503270417552,
          0.20075154025179567,
          0.2007083429588654,
          0.20066337769764636,
          0.20058387922604043,
          0.20048552178703438,
          0.2004855027258264,
          0.20041109316994493,
          0.20037150675243814,
          0.20034501403426297,
          0.20033378603067992,
          0.20031158946537844,
          0.20025091017572175,
          0.20022075785046556,
          0.20016533749658894,
          0.20015334239374702,
          0.2000860414730974,
          0.20005817491296782
         ],
         "xaxis": "x",
         "y": [
          "grey_earl",
          "jack_link",
          "site_web",
          "pill_pocket",
          "custom_servic",
          "buffalo_hill",
          "peanut_butter",
          "cowork_comparison",
          "gluten_free",
          "save_subscrib",
          "partial_hydrogen",
          "innova_evo",
          "detail_specif",
          "acai_juic",
          "wast_money",
          "scienc_hill",
          "groceri_store",
          "her_she",
          "date_expir",
          "shampoo_hair",
          "practic_bulk",
          "strip_test",
          "jerki_beef",
          "remain_whether",
          "are_these",
          "discontinu_productbr",
          "senseo_pod",
          "practic_common",
          "split_pea",
          "frequent_tin",
          "miner_page",
          "cancer_suspect",
          "subscript_cancel",
          "jack_beef",
          "blue_diamond",
          "they_are",
          "off_rip",
          "act_sens",
          "vomit_innova",
          "sens_drank",
          "throughout_knock",
          "skin_moistur",
          "artifici_sweeten",
          "afford_gain",
          "picki_eater",
          "kibbl_transit",
          "cancel_jump",
          "fructos_corn",
          "forc_duck",
          "sign_discontinu",
          "necessari_specif",
          "firm_flavorbr",
          "detail_necessari",
          "syrup_fructos",
          "duck_rais",
          "odor_unpleas",
          "coupon_percent",
          "grey_earli",
          "christma_truffl",
          "breath_teeth",
          "recommend_high",
          "act_drank",
          "food_cat",
          "beauti_report",
          "diamond_almond",
          "mapl_syrup",
          "job_funni",
          "hole_empti",
          "press_french",
          "safe_diseas",
          "tasteless_wild",
          "firm_prevent",
          "oil_oliv",
          "china_made",
          "sea_salt",
          "forc_rais",
          "herbal_peppermint",
          "blood_negat",
          "soak_rins",
          "via_harder",
          "link_beef",
          "suspect_symptom",
          "crisp_honest",
          "gain_gummi",
          "diseas_hydrogen",
          "bewar_buyer",
          "stick_bulli",
          "roast_french",
          "wide_select",
          "prevent_sodastream",
          "inch_squar",
          "list_ingredi",
          "greasi_bottom",
          "gum_bubbl",
          "squeez_page",
          "these_this",
          "tabl_salt",
          "nutrient_bodi",
          "cramp_suffer",
          "allergi_medic",
          "chines_style",
          "bold_extra",
          "latt_chai",
          "retail_discontinu",
          "frequent_ined",
          "cramp_magic",
          "green_tea",
          "trick_litter",
          "shipment_common",
          "lime_medicin",
          "school_grab",
          "tin_touch",
          "knock_head",
          "shampoo_indic",
          "crave_junk",
          "plant_dead",
          "pancak_waffl",
          "throughout_head",
          "oil_coconut",
          "steam_grill",
          "his_him",
          "biscuit_gravi",
          "temperatur_gummi",
          "teaspoon_pot",
          "whether_child",
          "newman_own",
          "carb_low",
          "shipment_practic",
          "mill_general",
          "bulk_common",
          "hesit_goodbr",
          "broth_veget",
          "walmart_target",
          "throat_begin",
          "stash_grey",
          "doubt_refil",
          "refil_bare",
          "diamond_magnesium",
          "grind_nutrient",
          "glutenfre_browni",
          "percent_target",
          "oatmeal_oat",
          "lost_activ",
          "formula_adult",
          "dust_truffl",
          "shake_protein",
          "danger_manag",
          "floor_dust",
          "upset_stomach",
          "carbon_juic",
          "tongu_wed",
          "pop_popcorn",
          "subscript_jasmin",
          "ground_spill",
          "cocoa_browni",
          "leftov_behind",
          "level_choos",
          "danger_remov",
          "hill_hate",
          "teaspoon_everyday",
          "junk_lunch",
          "mislead_cri",
          "cup_keurig",
          "spit_bill",
          "room_sister",
          "symptom_suffer",
          "dress_salad",
          "bubbl_grass",
          "pull_intestin",
          "beer_leftov",
          "gravi_vegetarian",
          "orang_carbon",
          "link_meat",
          "jack_meat",
          "coupon_target",
          "skin_hair",
          "subscrib_program",
          "condit_arriv",
          "ever_best",
          "car_sticki",
          "will_again",
          "hemp_seed",
          "crust_pizza",
          "forget_mocha",
          "scienc_buffalo",
          "beyond_bed",
          "gluten_celiac",
          "frequent_repeat",
          "doctor_lover",
          "photo_squeez",
          "flat_sandwich",
          "sign_retail",
          "grade_mapl",
          "proper_trick",
          "mapl_waffl",
          "scienc_innova",
          "safe_upset",
          "they_them",
          "child_remain",
          "firm_onto",
          "manag_golden",
          "pet_food",
          "chip_potato",
          "fed_diseas",
          "magic_symptom",
          "lab_sick",
          "review_read",
          "forward_look",
          "pet_china",
          "these_them",
          "breath_vet",
          "scienc_diet",
          "buffalo_hate",
          "again_buy",
          "frozen_bear",
          "dad_felt",
          "bar_granola",
          "coupon_recal",
          "head_sleep",
          "suffer_medic",
          "workout_cancel",
          "parent_canin",
          "vet_intestin",
          "bare_lime",
          "aspartam_yellow",
          "intestin_bone",
          "edibl_lead",
          "nutrit_valu",
          "allergi_suffer",
          "splenda_aspartam",
          "bold_timothi",
          "behind_sister",
          "subscript_andor",
          "pain_current",
          "zico_coconut",
          "ran_mom",
          "drive_sleep",
          "tomato_pizza",
          "dust_liquid",
          "heart_lover",
          "clean_teeth",
          "touch_frequent",
          "assum_throat",
          "gain_weight",
          "behind_import",
          "mocha_pod",
          "comparison_flat",
          "human_beer",
          "vet_her",
          "instruct_follow",
          "fell_pick",
          "present_tree",
          "crisp_wow",
          "away_throw",
          "store_local",
          "gummi_bear",
          "heaven_frozen",
          "carbon_switch",
          "damag_internet",
          "shes_she",
          "pour_into",
          "dog_food",
          "fake_style",
          "yeast_googl",
          "sweeten_cola",
          "they_these",
          "year_been",
          "everywher_floor",
          "canida_suspect",
          "lunch_crave",
          "excess_content",
          "duck_titl",
          "canin_accept",
          "worst_ever",
          "avoid_hydrogen",
          "hint_tasteless",
          "individu_wrap",
          "canin_jump",
          "onto_kitten",
          "earl_stash",
          "grill_chicken",
          "more_than",
          "develop_stool",
          "satisfi_crave",
          "moistur_oil",
          "owner_stori",
          "question_tip",
          "productbr_sign",
          "futur_shipment",
          "heaven_bear",
          "page_sunflow",
          "teeth_her",
          "treat_dog",
          "him_hes",
          "room_death",
          "air_gold",
          "snack_healthi",
          "common_advertis",
          "stash_steep",
          "hit_mark",
          "potato_kettl",
          "herbal_tea",
          "spici_thai",
          "canin_six",
          "msg_yeast",
          "werent_handl",
          "eater_introduc",
          "squar_themselv",
          "cramp_mild",
          "sauc_pizza",
          "face_skin",
          "raw_tasteless",
          "fri_pan",
          "affect_greeni",
          "medic_hip",
          "grass_plant",
          "effort_celiac",
          "comment_cent",
          "tire_detail",
          "night_sleep",
          "effort_school",
          "against_restaur",
          "youv_slowli",
          "desk_lie",
          "trip_flavorbr",
          "magnesium_blue",
          "sister_alot",
          "toss_drain",
          "wateri_drain",
          "attempt_step",
          "ined_tough",
          "bpa_effect",
          "rins_repeat",
          "practic_advertis",
          "root_powder",
          "center_manag",
          "extract_yeast",
          "have_been",
          "taco_uniqu",
          "concentr_zico",
          "bore_clear",
          "rare_recal",
          "train_puppi",
          "dissolv_slowli",
          "damag_imposs",
          "canist_six",
          "thai_incred",
          "ball_toy",
          "chewi_soft",
          "interest_lead",
          "chunk_intestin",
          "red_mill",
          "lost_weight",
          "grow_grew",
          "fda_report",
          "serv_per",
          "farm_resembl",
          "filler_scienc",
          "oatmeal_toler",
          "set_trap",
          "avail_percent",
          "awesom_admit",
          "spit_tini",
          "kit_link",
          "spread_tablespoon",
          "word_frozen",
          "lid_bpa",
          "vomit_evo",
          "front_desk",
          "term_dinner",
          "human_leftov",
          "german_waffl",
          "page_photo",
          "cancel_shipment",
          "transit_formula",
          "workout_flavorbr",
          "frequent_salmon",
          "specif_tire",
          "premium_chines",
          "everyday_appeal",
          "bill_tini",
          "clean_breath",
          "import_ran",
          "slice_cheddar",
          "surpris_pleasant",
          "steam_sauc",
          "weight_activ",
          "bulk_shipment",
          "fell_perhap",
          "away_threw",
          "crust_fridg",
          "better_than",
          "chunk_term",
          "custom_contact",
          "vitamin_experienc",
          "die_becam",
          "swallow_unlik",
          "via_amazoncom",
          "slowli_meant",
          "diseas_requir",
          "gross_throat",
          "glutenfre_muffin",
          "nutriti_split",
          "wors_yuck",
          "paid_ten",
          "describ_unit",
          "ball_remov",
          "harder_cola",
          "filler_byproduct",
          "waffl_separ",
          "usa_perhap",
          "began_introduc",
          "research_foodbr",
          "water_coconut",
          "imposs_internet",
          "swallow_tire",
          "magic_suspect",
          "meet_readi",
          "detail_short",
          "cancel_magic",
          "jerki_jack",
          "rins_boil",
          "ago_month",
          "toxic_manufactur",
          "death_rock",
          "adopt_rescu",
          "danger_golden",
          "pork_answer",
          "somewhat_crumbl",
          "risk_foodbr",
          "spit_threw",
          "soy_crap",
          "afternoon_english",
          "lbs_dress",
          "peach_nor",
          "cooki_crumbl",
          "percent_walmart",
          "relat_hydrogen",
          "sodastream_kept",
          "indoor_kitten",
          "filler_overpr",
          "death_risk",
          "drain_disgust",
          "cancel_subscrib",
          "soda_diet",
          "green_mountain",
          "light_crystal",
          "anyon_recommend",
          "herb_dress",
          "wheat_pasta",
          "melt_solid",
          "sell_dollar",
          "lid_written",
          "initi_design",
          "appreci_stronger",
          "old_year",
          "rescu_straight",
          "smoke_babi",
          "assur_difficult",
          "resembl_red",
          "filter_accept",
          "various_rancid",
          "under_lbs",
          "tree_rock",
          "anyway_mini",
          "websit_polici",
          "smoke_obvious",
          "save_program",
          "ingredi_hydrogen",
          "needless_note",
          "food_feed",
          "christma_promis",
          "cramp_leaf",
          "weird_canist",
          "salt_vinegar",
          "hair_wash",
          "flat_sprinkl",
          "cramp_symptom",
          "clear_face",
          "are_this",
          "main_rescu",
          "coffe_brew",
          "lead_caffein",
          "root_indic",
          "stapl_cane",
          "toxic_question",
          "month_old",
          "supermarket_zico",
          "allerg_walk",
          "miss_support",
          "develop_diarrhea",
          "formula_canida",
          "cola_artifici",
          "harder_fix",
          "salmon_ined",
          "googl_rare",
          "mail_crumb",
          "short_specif",
          "like_tast",
          "bland_bore",
          "cent_target",
          "aspartam_magnesium",
          "further_subscript",
          "down_drain",
          "matter_wrote",
          "truffl_whatev",
          "havent_crack",
          "rock_tini",
          "rais_nor",
          "firm_sodastream",
          "dad_rock",
          "root_therefor",
          "wateri_weak",
          "tell_drank",
          "starbuck_fail",
          "kitti_garden",
          "granola_design",
          "weight_lose",
          "shake_strawberri",
          "agav_oatmeal",
          "magic_workout",
          "dure_wake",
          "cool_touch",
          "onion_garlic",
          "greasi_chip",
          "own_frequent",
          "edibl_smoke",
          "retail_productbr",
          "tart_cherri",
          "resembl_vegetarian",
          "green_stash",
          "door_rescu",
          "correct_bud",
          "stuck_manag",
          "msg_question",
          "term_ate",
          "older_puppi",
          "indoor_meet",
          "discontinu_bone",
          "supermarket_doubt",
          "brewer_keurig",
          "greeni_becam",
          "sprinkl_anywher",
          "half_percent",
          "sampl_show",
          "kcup_coffe",
          "kit_curri",
          "repeat_boil",
          "coffe_cup",
          "afford_gummi",
          "lick_wet",
          "tabl_miner",
          "multipl_pocket",
          "prepar_biscuit",
          "calori_low",
          "sister_kitchen",
          "worri_sticki",
          "receiv_common",
          "fell_appreci",
          "stori_die",
          "hungri_titl",
          "taken_sleep",
          "common_gag",
          "behind_walk",
          "nasti_chemic",
          "frost_moist",
          "agav_rais",
          "beer_scienc",
          "beef_meat",
          "pretzel_prevent",
          "birthday_cake",
          "mother_herb",
          "cake_color",
          "freez_cover",
          "spend_money",
          "werent_aftertast",
          "excess_gas",
          "pouch_steep",
          "ton_post",
          "birthday_show",
          "fish_salmon",
          "chip_are",
          "pork_grill",
          "hes_his",
          "cherri_theyv",
          "youd_reduc",
          "sale_bed",
          "experienc_beverag",
          "knock_symptom",
          "stash_tea",
          "juic_grape",
          "adult_bubbl",
          "heart_correct",
          "prevent_bread",
          "leak_everyday",
          "fda_method",
          "less_than",
          "coffe_starbuck",
          "year_ago",
          "push_dish",
          "fake_chines",
          "greeni_stori",
          "alot_hear",
          "odor_carbohydr",
          "mom_import",
          "fat_calori",
          "step_guy",
          "acid_aspartam",
          "order_receiv",
          "room_alot",
          "this_them",
          "roast_dark",
          "wow_honest",
          "late_night",
          "fail_attempt",
          "recal_googl",
          "kettl_chip",
          "heat_burn",
          "togeth_stuck",
          "receiv_practic",
          "cent_ounc",
          "gave_wors",
          "detail_titl",
          "fail_lid",
          "system_teaspoon",
          "supplier_pricey",
          "spoon_broken",
          "pound_grape",
          "spent_leftov",
          "doubt_prevent",
          "review_written",
          "lab_old",
          "filler_leftov",
          "level_youll",
          "american_funni",
          "bewar_poop",
          "center_suck",
          "sensit_skin",
          "maker_coffe",
          "corn_syrup",
          "hemp_raw",
          "method_odd",
          "sens_tell",
          "return_polici",
          "soak_easier",
          "rest_ined",
          "ined_tin",
          "tasteless_mint",
          "creamer_heaven",
          "high_fructos",
          "die_owner",
          "canin_countri",
          "descript_carton",
          "emerg_alon",
          "yellow_imposs",
          "claim_safe",
          "cardboard_foil",
          "seal_empti",
          "separ_chines",
          "skeptic_emerg",
          "breakfast_english",
          "import_flavorbr",
          "luck_everywher",
          "explain_artifici",
          "black_garlic",
          "tip_favor",
          "member_alot",
          "sound_mind",
          "crust_result",
          "claim_replac",
          "brought_attent",
          "bud_ran",
          "awar_raw",
          "term_busi",
          "german_liver",
          "refil_figur",
          "sugarfre_caramel",
          "extract_search",
          "across_excess",
          "throw_spent",
          "youll_youv",
          "sodium_broth",
          "kitten_cat",
          "attent_cri",
          "doubl_percent",
          "nose_advic",
          "suspect_suffer",
          "peppermint_themselv",
          "adult_canin",
          "youv_against",
          "caffein_decaf",
          "you_your",
          "microwav_chose",
          "jump_onto",
          "lead_flower",
          "summer_refresh",
          "cramp_herbal",
          "needless_cancel",
          "ground_cup",
          "neither_spoil",
          "beer_filler",
          "despit_follow",
          "scienc_leftov",
          "answer_told",
          "carton_dollar",
          "smooth_rich",
          "scienc_human",
          "thick_thin",
          "diseas_supplement",
          "canida_internet",
          "share_gummi",
          "direct_abov",
          "web_play",
          "receiv_item",
          "werent_crumb",
          "jack_ridicul",
          "hear_trash",
          "bowl_term",
          "soup_spill",
          "foil_seal",
          "inch_larger",
          "hold_sister",
          "crisp_thin",
          "mislead_compani",
          "specif_between",
          "sandwich_bread",
          "keurig_kcup",
          "true_frequent",
          "floor_toy",
          "cook_pasta",
          "overpr_costco",
          "destroy_black",
          "resembl_veget",
          "form_leftov",
          "between_detail",
          "fix_sleep",
          "knew_frequent",
          "biscuit_german",
          "local_groceri",
          "center_danger",
          "foil_ground",
          "apart_mark",
          "thrown_trap",
          "eater_bite",
          "okay_pull",
          "percent_charg",
          "medicin_els",
          "indoor_allow",
          "nor_death",
          "instruct_herbal",
          "lime_desk",
          "squar_theyr",
          "floor_room",
          "brought_allergi",
          "beef_tough",
          "soda_orang",
          "fail_written",
          "sister_step",
          "onion_slice",
          "grape_oliv",
          "target_act",
          "inch_blood",
          "bulk_paid",
          "spent_chunk",
          "bill_rock",
          "smaller_rins",
          "supplement_stool",
          "ground_lid",
          "creat_spit",
          "energi_hour",
          "matcha_heavi",
          "swallow_chew",
          "second_microwav",
          "often_emerg",
          "rare_coupon",
          "sent_mother",
          "door_canist",
          "gift_send",
          "ball_treat",
          "than_rather",
          "cowork_cane",
          "lack_licoric",
          "china_prior",
          "turkey_origin",
          "stomach_intestin",
          "dent_pumpkin",
          "relat_tradit",
          "latt_pod",
          "individu_desk",
          "jelli_bean",
          "singl_brewer",
          "instruct_balanc",
          "beer_diamond",
          "mother_present",
          "sea_rid",
          "becam_bill",
          "metal_splenda",
          "thisbr_vegan",
          "worri_cane",
          "crumbl_oat",
          "servic_contact",
          "felt_cri",
          "condit_futur",
          "oat_elsewher",
          "mini_bear",
          "machin_offic",
          "fed_eventu",
          "frequent_line",
          "this_they",
          "link_jerki",
          "bowl_dinner",
          "carbohydr_sugarfre",
          "steam_dust",
          "tough_pure",
          "sip_spot",
          "burnt_pretzel",
          "zero_crazi",
          "sea_cheddar",
          "produc_method",
          "suck_hole",
          "ate_dinner",
          "flavorbr_foil",
          "those_who",
          "googl_msg",
          "extract_stevia",
          "ship_charg",
          "car_worri",
          "shouldnt_paid",
          "summer_middl",
          "rawhid_lab",
          "advertis_shipment",
          "formula_german",
          "cook_fri",
          "impress_alon",
          "floor_countri",
          "coffe_roast",
          "paper_trap",
          "minut_oat",
          "reorder_mislead",
          "diabet_agav",
          "red_vegetarian",
          "instant_doubt",
          "gobbl_daili",
          "kill_lost",
          "stronger_hair",
          "needless_gag",
          "fix_fabul",
          "protein_hemp",
          "tuna_fridg",
          "assum_pan",
          "sunflow_assur",
          "contact_tip",
          "dad_destroy",
          "act_tell",
          "wild_hint",
          "clear_buffalo",
          "partial_ingredi",
          "solid_blueberri",
          "pantri_becam",
          "filter_design",
          "cancer_otherwis",
          "bone_vet",
          "chanc_took",
          "foil_kit",
          "lunch_kid",
          "benefit_health",
          "canida_stool",
          "lie_trust",
          "rip_buyer",
          "shes_lost",
          "offic_repeat",
          "cheaper_than",
          "tart_acai",
          "pantri_number",
          "keep_busi",
          "poop_greeni",
          "skeptic_spoon",
          "heart_hydrogen",
          "blue_almond",
          "claim_mislead",
          "varieti_spoil",
          "cours_tabl",
          "wateri_dump",
          "blueberri_pie",
          "past_mail",
          "happi_hip",
          "discount_overwhelm",
          "throw_trash",
          "eaten_beauti",
          "ingredi_corn",
          "swallow_slowli",
          "shipment_receiv",
          "contact_paid",
          "oil_hydrogen",
          "steep_green",
          "throat_car",
          "foodbr_repeat",
          "rock_room",
          "flour_bake",
          "earth_choic",
          "nor_human",
          "teaspoon_press",
          "twice_gobbl",
          "kick_smooth",
          "gag_troubl",
          "split_boil",
          "blue_buffalo",
          "soft_cooki",
          "salmon_wine",
          "owner_fda",
          "newman_symptom",
          "ounc_squeez",
          "mixtur_assum",
          "dump_stir",
          "loos_stool",
          "ten_buck",
          "berri_mold",
          "gold_websit",
          "dog_vet",
          "junk_latt",
          "whenev_rememb",
          "difficult_find",
          "burnt_timothi",
          "freez_poop",
          "coffe_bold",
          "salmon_wild",
          "lbs_weight",
          "tea_chai",
          "curri_write",
          "fabul_dessert",
          "age_older",
          "face_moistur",
          "yeast_promis",
          "gotten_respons",
          "import_china",
          "truffl_promis",
          "flower_buyer",
          "ined_burn",
          "odd_shape",
          "skin_jasmin",
          "risk_sad",
          "soup_pea",
          "suspect_cramp",
          "delic_despit",
          "doctor_beat",
          "wild_raw",
          "heaven_word",
          "content_fat",
          "choke_transit",
          "sandwich_salad",
          "mebr_bother",
          "golden_center",
          "older_hip",
          "month_coupl",
          "supermarket_refil",
          "sprinkl_unlik",
          "steam_bottom",
          "say_needless",
          "flat_goodbr",
          "joe_initi",
          "intestin_hour",
          "limit_caramel",
          "spray_trap",
          "adopt_certain",
          "juic_theyv",
          "destroy_swallow",
          "everi_day",
          "popcorn_microwav",
          "suffer_brought",
          "plain_drain",
          "vendor_detail",
          "waffl_spread",
          "pouch_nutti",
          "tin_visit",
          "dessert_fix",
          "safe_hydrogen",
          "prevent_burnt",
          "ined_peach",
          "between_carbohydr",
          "addict_form",
          "nose_turn",
          "daili_sodium",
          "death_sad",
          "soda_sodastream",
          "becam_spray",
          "brown_rice",
          "run_out",
          "general_select",
          "basic_crystal",
          "rest_frequent",
          "outsid_prior",
          "describ_knock",
          "bulk_advertis",
          "six_german",
          "neither_palat",
          "free_celiac",
          "junk_post",
          "flat_wrote",
          "everywher_front",
          "trust_desk",
          "fail_system",
          "garbag_innova",
          "give_him",
          "return_item",
          "rare_main",
          "broth_msg",
          "room_kitchen",
          "besid_typic",
          "hole_seal",
          "canist_shame",
          "are_them",
          "walmart_almond",
          "dark_smooth",
          "pain_suffer",
          "sandwich_turkey",
          "kitten_adopt",
          "nutrient_tablespoon",
          "fridg_second",
          "dissolv_cowork",
          "tea_drink",
          "content_across",
          "larger_squar",
          "tire_necessari",
          "grab_theyr",
          "oil_skin",
          "steak_lover",
          "splenda_multipl",
          "steep_boil",
          "adopt_vomit",
          "byproduct_cri",
          "email_constant",
          "due_prior",
          "calori_carbohydr",
          "frost_obvious",
          "elsewher_exampl",
          "sick_imagin",
          "carbohydr_total",
          "china_die",
          "funni_death",
          "powder_hemp",
          "prompt_latt",
          "filter_multipl",
          "rich_dark",
          "desk_everywher",
          "center_ball",
          "besid_frost",
          "mom_bud",
          "fall_despit",
          "cheap_instant",
          "present_parti",
          "spot_coupon",
          "three_fanci",
          "between_pasta",
          "imagin_lbs",
          "chip_these",
          "shell_occasion",
          "berri_question",
          "fed_requir"
         ],
         "yaxis": "y"
        }
       ],
       "layout": {
        "coloraxis": {
         "colorbar": {
          "title": {
           "text": "corr"
          }
         },
         "colorscale": [
          [
           0,
           "#0d0887"
          ],
          [
           0.1111111111111111,
           "#46039f"
          ],
          [
           0.2222222222222222,
           "#7201a8"
          ],
          [
           0.3333333333333333,
           "#9c179e"
          ],
          [
           0.4444444444444444,
           "#bd3786"
          ],
          [
           0.5555555555555556,
           "#d8576b"
          ],
          [
           0.6666666666666666,
           "#ed7953"
          ],
          [
           0.7777777777777778,
           "#fb9f3a"
          ],
          [
           0.8888888888888888,
           "#fdca26"
          ],
          [
           1,
           "#f0f921"
          ]
         ]
        },
        "legend": {
         "tracegroupgap": 0
        },
        "margin": {
         "t": 60
        },
        "template": {
         "data": {
          "bar": [
           {
            "error_x": {
             "color": "#2a3f5f"
            },
            "error_y": {
             "color": "#2a3f5f"
            },
            "marker": {
             "line": {
              "color": "#E5ECF6",
              "width": 0.5
             },
             "pattern": {
              "fillmode": "overlay",
              "size": 10,
              "solidity": 0.2
             }
            },
            "type": "bar"
           }
          ],
          "barpolar": [
           {
            "marker": {
             "line": {
              "color": "#E5ECF6",
              "width": 0.5
             },
             "pattern": {
              "fillmode": "overlay",
              "size": 10,
              "solidity": 0.2
             }
            },
            "type": "barpolar"
           }
          ],
          "carpet": [
           {
            "aaxis": {
             "endlinecolor": "#2a3f5f",
             "gridcolor": "white",
             "linecolor": "white",
             "minorgridcolor": "white",
             "startlinecolor": "#2a3f5f"
            },
            "baxis": {
             "endlinecolor": "#2a3f5f",
             "gridcolor": "white",
             "linecolor": "white",
             "minorgridcolor": "white",
             "startlinecolor": "#2a3f5f"
            },
            "type": "carpet"
           }
          ],
          "choropleth": [
           {
            "colorbar": {
             "outlinewidth": 0,
             "ticks": ""
            },
            "type": "choropleth"
           }
          ],
          "contour": [
           {
            "colorbar": {
             "outlinewidth": 0,
             "ticks": ""
            },
            "colorscale": [
             [
              0,
              "#0d0887"
             ],
             [
              0.1111111111111111,
              "#46039f"
             ],
             [
              0.2222222222222222,
              "#7201a8"
             ],
             [
              0.3333333333333333,
              "#9c179e"
             ],
             [
              0.4444444444444444,
              "#bd3786"
             ],
             [
              0.5555555555555556,
              "#d8576b"
             ],
             [
              0.6666666666666666,
              "#ed7953"
             ],
             [
              0.7777777777777778,
              "#fb9f3a"
             ],
             [
              0.8888888888888888,
              "#fdca26"
             ],
             [
              1,
              "#f0f921"
             ]
            ],
            "type": "contour"
           }
          ],
          "contourcarpet": [
           {
            "colorbar": {
             "outlinewidth": 0,
             "ticks": ""
            },
            "type": "contourcarpet"
           }
          ],
          "heatmap": [
           {
            "colorbar": {
             "outlinewidth": 0,
             "ticks": ""
            },
            "colorscale": [
             [
              0,
              "#0d0887"
             ],
             [
              0.1111111111111111,
              "#46039f"
             ],
             [
              0.2222222222222222,
              "#7201a8"
             ],
             [
              0.3333333333333333,
              "#9c179e"
             ],
             [
              0.4444444444444444,
              "#bd3786"
             ],
             [
              0.5555555555555556,
              "#d8576b"
             ],
             [
              0.6666666666666666,
              "#ed7953"
             ],
             [
              0.7777777777777778,
              "#fb9f3a"
             ],
             [
              0.8888888888888888,
              "#fdca26"
             ],
             [
              1,
              "#f0f921"
             ]
            ],
            "type": "heatmap"
           }
          ],
          "heatmapgl": [
           {
            "colorbar": {
             "outlinewidth": 0,
             "ticks": ""
            },
            "colorscale": [
             [
              0,
              "#0d0887"
             ],
             [
              0.1111111111111111,
              "#46039f"
             ],
             [
              0.2222222222222222,
              "#7201a8"
             ],
             [
              0.3333333333333333,
              "#9c179e"
             ],
             [
              0.4444444444444444,
              "#bd3786"
             ],
             [
              0.5555555555555556,
              "#d8576b"
             ],
             [
              0.6666666666666666,
              "#ed7953"
             ],
             [
              0.7777777777777778,
              "#fb9f3a"
             ],
             [
              0.8888888888888888,
              "#fdca26"
             ],
             [
              1,
              "#f0f921"
             ]
            ],
            "type": "heatmapgl"
           }
          ],
          "histogram": [
           {
            "marker": {
             "pattern": {
              "fillmode": "overlay",
              "size": 10,
              "solidity": 0.2
             }
            },
            "type": "histogram"
           }
          ],
          "histogram2d": [
           {
            "colorbar": {
             "outlinewidth": 0,
             "ticks": ""
            },
            "colorscale": [
             [
              0,
              "#0d0887"
             ],
             [
              0.1111111111111111,
              "#46039f"
             ],
             [
              0.2222222222222222,
              "#7201a8"
             ],
             [
              0.3333333333333333,
              "#9c179e"
             ],
             [
              0.4444444444444444,
              "#bd3786"
             ],
             [
              0.5555555555555556,
              "#d8576b"
             ],
             [
              0.6666666666666666,
              "#ed7953"
             ],
             [
              0.7777777777777778,
              "#fb9f3a"
             ],
             [
              0.8888888888888888,
              "#fdca26"
             ],
             [
              1,
              "#f0f921"
             ]
            ],
            "type": "histogram2d"
           }
          ],
          "histogram2dcontour": [
           {
            "colorbar": {
             "outlinewidth": 0,
             "ticks": ""
            },
            "colorscale": [
             [
              0,
              "#0d0887"
             ],
             [
              0.1111111111111111,
              "#46039f"
             ],
             [
              0.2222222222222222,
              "#7201a8"
             ],
             [
              0.3333333333333333,
              "#9c179e"
             ],
             [
              0.4444444444444444,
              "#bd3786"
             ],
             [
              0.5555555555555556,
              "#d8576b"
             ],
             [
              0.6666666666666666,
              "#ed7953"
             ],
             [
              0.7777777777777778,
              "#fb9f3a"
             ],
             [
              0.8888888888888888,
              "#fdca26"
             ],
             [
              1,
              "#f0f921"
             ]
            ],
            "type": "histogram2dcontour"
           }
          ],
          "mesh3d": [
           {
            "colorbar": {
             "outlinewidth": 0,
             "ticks": ""
            },
            "type": "mesh3d"
           }
          ],
          "parcoords": [
           {
            "line": {
             "colorbar": {
              "outlinewidth": 0,
              "ticks": ""
             }
            },
            "type": "parcoords"
           }
          ],
          "pie": [
           {
            "automargin": true,
            "type": "pie"
           }
          ],
          "scatter": [
           {
            "marker": {
             "colorbar": {
              "outlinewidth": 0,
              "ticks": ""
             }
            },
            "type": "scatter"
           }
          ],
          "scatter3d": [
           {
            "line": {
             "colorbar": {
              "outlinewidth": 0,
              "ticks": ""
             }
            },
            "marker": {
             "colorbar": {
              "outlinewidth": 0,
              "ticks": ""
             }
            },
            "type": "scatter3d"
           }
          ],
          "scattercarpet": [
           {
            "marker": {
             "colorbar": {
              "outlinewidth": 0,
              "ticks": ""
             }
            },
            "type": "scattercarpet"
           }
          ],
          "scattergeo": [
           {
            "marker": {
             "colorbar": {
              "outlinewidth": 0,
              "ticks": ""
             }
            },
            "type": "scattergeo"
           }
          ],
          "scattergl": [
           {
            "marker": {
             "colorbar": {
              "outlinewidth": 0,
              "ticks": ""
             }
            },
            "type": "scattergl"
           }
          ],
          "scattermapbox": [
           {
            "marker": {
             "colorbar": {
              "outlinewidth": 0,
              "ticks": ""
             }
            },
            "type": "scattermapbox"
           }
          ],
          "scatterpolar": [
           {
            "marker": {
             "colorbar": {
              "outlinewidth": 0,
              "ticks": ""
             }
            },
            "type": "scatterpolar"
           }
          ],
          "scatterpolargl": [
           {
            "marker": {
             "colorbar": {
              "outlinewidth": 0,
              "ticks": ""
             }
            },
            "type": "scatterpolargl"
           }
          ],
          "scatterternary": [
           {
            "marker": {
             "colorbar": {
              "outlinewidth": 0,
              "ticks": ""
             }
            },
            "type": "scatterternary"
           }
          ],
          "surface": [
           {
            "colorbar": {
             "outlinewidth": 0,
             "ticks": ""
            },
            "colorscale": [
             [
              0,
              "#0d0887"
             ],
             [
              0.1111111111111111,
              "#46039f"
             ],
             [
              0.2222222222222222,
              "#7201a8"
             ],
             [
              0.3333333333333333,
              "#9c179e"
             ],
             [
              0.4444444444444444,
              "#bd3786"
             ],
             [
              0.5555555555555556,
              "#d8576b"
             ],
             [
              0.6666666666666666,
              "#ed7953"
             ],
             [
              0.7777777777777778,
              "#fb9f3a"
             ],
             [
              0.8888888888888888,
              "#fdca26"
             ],
             [
              1,
              "#f0f921"
             ]
            ],
            "type": "surface"
           }
          ],
          "table": [
           {
            "cells": {
             "fill": {
              "color": "#EBF0F8"
             },
             "line": {
              "color": "white"
             }
            },
            "header": {
             "fill": {
              "color": "#C8D4E3"
             },
             "line": {
              "color": "white"
             }
            },
            "type": "table"
           }
          ]
         },
         "layout": {
          "annotationdefaults": {
           "arrowcolor": "#2a3f5f",
           "arrowhead": 0,
           "arrowwidth": 1
          },
          "autotypenumbers": "strict",
          "coloraxis": {
           "colorbar": {
            "outlinewidth": 0,
            "ticks": ""
           }
          },
          "colorscale": {
           "diverging": [
            [
             0,
             "#8e0152"
            ],
            [
             0.1,
             "#c51b7d"
            ],
            [
             0.2,
             "#de77ae"
            ],
            [
             0.3,
             "#f1b6da"
            ],
            [
             0.4,
             "#fde0ef"
            ],
            [
             0.5,
             "#f7f7f7"
            ],
            [
             0.6,
             "#e6f5d0"
            ],
            [
             0.7,
             "#b8e186"
            ],
            [
             0.8,
             "#7fbc41"
            ],
            [
             0.9,
             "#4d9221"
            ],
            [
             1,
             "#276419"
            ]
           ],
           "sequential": [
            [
             0,
             "#0d0887"
            ],
            [
             0.1111111111111111,
             "#46039f"
            ],
            [
             0.2222222222222222,
             "#7201a8"
            ],
            [
             0.3333333333333333,
             "#9c179e"
            ],
            [
             0.4444444444444444,
             "#bd3786"
            ],
            [
             0.5555555555555556,
             "#d8576b"
            ],
            [
             0.6666666666666666,
             "#ed7953"
            ],
            [
             0.7777777777777778,
             "#fb9f3a"
            ],
            [
             0.8888888888888888,
             "#fdca26"
            ],
            [
             1,
             "#f0f921"
            ]
           ],
           "sequentialminus": [
            [
             0,
             "#0d0887"
            ],
            [
             0.1111111111111111,
             "#46039f"
            ],
            [
             0.2222222222222222,
             "#7201a8"
            ],
            [
             0.3333333333333333,
             "#9c179e"
            ],
            [
             0.4444444444444444,
             "#bd3786"
            ],
            [
             0.5555555555555556,
             "#d8576b"
            ],
            [
             0.6666666666666666,
             "#ed7953"
            ],
            [
             0.7777777777777778,
             "#fb9f3a"
            ],
            [
             0.8888888888888888,
             "#fdca26"
            ],
            [
             1,
             "#f0f921"
            ]
           ]
          },
          "colorway": [
           "#636efa",
           "#EF553B",
           "#00cc96",
           "#ab63fa",
           "#FFA15A",
           "#19d3f3",
           "#FF6692",
           "#B6E880",
           "#FF97FF",
           "#FECB52"
          ],
          "font": {
           "color": "#2a3f5f"
          },
          "geo": {
           "bgcolor": "white",
           "lakecolor": "white",
           "landcolor": "#E5ECF6",
           "showlakes": true,
           "showland": true,
           "subunitcolor": "white"
          },
          "hoverlabel": {
           "align": "left"
          },
          "hovermode": "closest",
          "mapbox": {
           "style": "light"
          },
          "paper_bgcolor": "white",
          "plot_bgcolor": "#E5ECF6",
          "polar": {
           "angularaxis": {
            "gridcolor": "white",
            "linecolor": "white",
            "ticks": ""
           },
           "bgcolor": "#E5ECF6",
           "radialaxis": {
            "gridcolor": "white",
            "linecolor": "white",
            "ticks": ""
           }
          },
          "scene": {
           "xaxis": {
            "backgroundcolor": "#E5ECF6",
            "gridcolor": "white",
            "gridwidth": 2,
            "linecolor": "white",
            "showbackground": true,
            "ticks": "",
            "zerolinecolor": "white"
           },
           "yaxis": {
            "backgroundcolor": "#E5ECF6",
            "gridcolor": "white",
            "gridwidth": 2,
            "linecolor": "white",
            "showbackground": true,
            "ticks": "",
            "zerolinecolor": "white"
           },
           "zaxis": {
            "backgroundcolor": "#E5ECF6",
            "gridcolor": "white",
            "gridwidth": 2,
            "linecolor": "white",
            "showbackground": true,
            "ticks": "",
            "zerolinecolor": "white"
           }
          },
          "shapedefaults": {
           "line": {
            "color": "#2a3f5f"
           }
          },
          "ternary": {
           "aaxis": {
            "gridcolor": "white",
            "linecolor": "white",
            "ticks": ""
           },
           "baxis": {
            "gridcolor": "white",
            "linecolor": "white",
            "ticks": ""
           },
           "bgcolor": "#E5ECF6",
           "caxis": {
            "gridcolor": "white",
            "linecolor": "white",
            "ticks": ""
           }
          },
          "title": {
           "x": 0.05
          },
          "xaxis": {
           "automargin": true,
           "gridcolor": "white",
           "linecolor": "white",
           "ticks": "",
           "title": {
            "standoff": 15
           },
           "zerolinecolor": "white",
           "zerolinewidth": 2
          },
          "yaxis": {
           "automargin": true,
           "gridcolor": "white",
           "linecolor": "white",
           "ticks": "",
           "title": {
            "standoff": 15
           },
           "zerolinecolor": "white",
           "zerolinewidth": 2
          }
         }
        },
        "xaxis": {
         "anchor": "y",
         "domain": [
          0,
          1
         ],
         "title": {
          "text": "corr"
         }
        },
        "yaxis": {
         "anchor": "x",
         "domain": [
          0,
          1
         ],
         "title": {
          "text": "index"
         }
        }
       }
      },
      "text/html": [
       "<div>                            <div id=\"eacc8d6e-218a-4800-b5d7-86189743d122\" class=\"plotly-graph-div\" style=\"height:525px; width:100%;\"></div>            <script type=\"text/javascript\">                require([\"plotly\"], function(Plotly) {                    window.PLOTLYENV=window.PLOTLYENV || {};                                    if (document.getElementById(\"eacc8d6e-218a-4800-b5d7-86189743d122\")) {                    Plotly.newPlot(                        \"eacc8d6e-218a-4800-b5d7-86189743d122\",                        [{\"hovertemplate\":\"corr=%{marker.color}<br>index=%{y}<extra></extra>\",\"legendgroup\":\"\",\"marker\":{\"color\":[0.8535696491487166,0.853343668808996,0.6418495761562872,0.6267510269922577,0.6193593070035367,0.6085382344415878,0.5918172423153671,0.5915998770417953,0.5803546509767313,0.5659422192394332,0.5607507201257727,0.5410697110695416,0.5325626568854848,0.5205151123920807,0.5071538790894496,0.5006094648510305,0.4949659111774196,0.4777899055150075,0.4666356118888771,0.46488921828013247,0.46470066910629876,0.46410083802681174,0.45983312735552156,0.45940464696671873,0.4577190644881474,0.45657713361640523,0.45647840771849907,0.4563806558241835,0.44604034035175305,0.441815593738593,0.4394912711942215,0.43645128272984735,0.4331144026231048,0.42808270599423376,0.42789929788333625,0.42564285558308107,0.42550997320080064,0.4252719365453392,0.42049947323070774,0.41845581289594036,0.4172135233457813,0.41624461168532473,0.41293991479901015,0.4113109000511803,0.41127543703517355,0.410961458782836,0.4098740929644146,0.40986774493208855,0.4057348052873312,0.4033844236479559,0.4030624735528638,0.4028744128389233,0.40094050545656534,0.3972044452279599,0.3952785471587181,0.39410337898752745,0.391605059391499,0.39084674594167695,0.3895595275577901,0.3886147311969921,0.3884055068438752,0.38775033189142716,0.38658212199953007,0.3865685808757262,0.38534851817237176,0.38287077487261656,0.3802144894033986,0.3800540341680079,0.378128576082268,0.3780932686665568,0.37463369950127023,0.3740664716901299,0.37242691697425534,0.3723849718946363,0.3706347682161789,0.37054133494070696,0.36652230247145495,0.36621236775535876,0.365656315978804,0.36457195170791123,0.36259663336393105,0.3596303380302458,0.35921663032434514,0.3583921128560051,0.3583016501253356,0.3579963647271624,0.35647920030568697,0.3560046924668319,0.35596662254663886,0.35544486485285126,0.35244615467629287,0.352425401084495,0.3522185950645598,0.3520490691719457,0.3515546528137319,0.3512418601003726,0.3498735671067517,0.3497233828275331,0.34932609759113276,0.34869967584202893,0.3483854992392719,0.3483446111191622,0.34809766748019205,0.3474964370549013,0.3474512003579097,0.3463642797036938,0.3463571218317904,0.34615924446064333,0.3456435647376639,0.34561080539216815,0.34538542610371764,0.3452619906651072,0.34480782063418036,0.34463251801446815,0.34383786103360797,0.34350259100001923,0.342998481446166,0.34235855301912144,0.34124643288250817,0.34116681156692635,0.34085260532513034,0.3403830339912793,0.33998577969371424,0.33749153510680613,0.3371071329777787,0.3361021146651366,0.33537263095622255,0.335025711327932,0.33490958010017274,0.33182957804964475,0.3313777951974019,0.33124509767564836,0.33112738091638577,0.3300683484949661,0.32943586701358113,0.32934175002573957,0.32900148691818015,0.3284057057196194,0.3282358882782264,0.3280117288765592,0.32772531122884774,0.3275205161834301,0.32557400405362125,0.32534694396825437,0.32525453264762827,0.32502589842578794,0.3248505612135305,0.3238336846738792,0.3228679909534584,0.3214769169985941,0.32050384567824836,0.32026770081524075,0.3187471455693718,0.3185223550473202,0.3183206964589089,0.3183191231199227,0.31806244436111136,0.3173706881626544,0.3173665165955682,0.3171276769300977,0.316216652875114,0.31607975316698866,0.3157588426201001,0.31575699723330003,0.3151940450601596,0.3148750600551595,0.31481629674463246,0.3144041627077652,0.31425311826347824,0.3142294798189424,0.3137230632962293,0.3131769163525384,0.3131562354837995,0.31296562769592784,0.3126790457558799,0.3124580705587626,0.31233718496020163,0.3122118336307005,0.31197138582609907,0.3108722596692767,0.3103838999350343,0.30997381342499336,0.3098589501627795,0.3096127204662167,0.3091919569886684,0.30914226605191775,0.30872784003649284,0.3081698850571202,0.30814479402087375,0.30753694161637485,0.30719083554671306,0.3067548295410681,0.30650980951069157,0.30645750841111796,0.3063542694426473,0.3050323088919241,0.3044507124572258,0.30403373164412517,0.30378404339415466,0.3035982474125848,0.30344313892067964,0.303381490910777,0.3026555645661737,0.3022721445503761,0.3020508511025187,0.3020332714814704,0.30160442727413544,0.3004250994585812,0.3002941301139285,0.29954378588146957,0.29949464734297143,0.29930178327017265,0.2992887222094639,0.2990684556536203,0.2985711426830804,0.29699300975042464,0.2967889632784364,0.2965509596198848,0.2962245830632204,0.2955294902692048,0.295401511962789,0.2952094113374181,0.29514652132772873,0.29411655486424615,0.29371664157937727,0.2926621119979199,0.29245581393246795,0.2921344055772738,0.29188688598458545,0.2917115577156631,0.29158700372266966,0.29158101804462794,0.2913642089714784,0.2912600114131833,0.29100857427619925,0.2905051846445903,0.29042787004741033,0.28985274839876435,0.28976544858137765,0.28965675569230304,0.28955994498149296,0.28939710063157753,0.28779144010242697,0.2876293164729617,0.2875842334889608,0.28732273249332446,0.28688140265617407,0.2866600202026267,0.28653788174647915,0.28637355739593573,0.2862389546930489,0.2862332230331538,0.28542917259763173,0.2851525270649743,0.28480712666206937,0.28442023183354354,0.28414519158660667,0.2840981590061613,0.2839103676601413,0.28388219866777187,0.2838483205974752,0.28354257593827564,0.2832250070918238,0.2825794857767332,0.28243917083957293,0.28235493457177524,0.28231419990818907,0.28107001635929313,0.2807902716494723,0.28045313354648005,0.2802980318912273,0.28007330665853947,0.2797785453383208,0.27963358030851154,0.2795398658138129,0.27945438633582914,0.27923049836799785,0.27914149629206964,0.2789862566736787,0.2787138239268071,0.27858041688528473,0.2783395176958291,0.27827948986964635,0.2782700183473813,0.2774773572787336,0.27741689993269103,0.27738167239099526,0.2772332572145874,0.2769593399906093,0.2769155539890654,0.2764613861208172,0.2760764370387523,0.27544355849762614,0.2752734066892093,0.27503485680328194,0.2745843468633352,0.2743320270422849,0.27413263027765483,0.2739268769977729,0.2739041493795165,0.27386928891642304,0.27368020318935327,0.27356442452216273,0.27352476953855825,0.2734023174619103,0.2733321949841422,0.2731348085693915,0.27296495779234387,0.2727823607302432,0.27249801789421546,0.27241366231850433,0.27210067799192433,0.27201077864213025,0.27144868368222225,0.2703981814362303,0.26974643893787426,0.26952506896625056,0.269423450682996,0.26867143203439786,0.2683996493881256,0.2682018629190446,0.2681951336306988,0.26746739465500124,0.2672867470550122,0.26678241626072413,0.26663402702479405,0.2662707367570083,0.266107922185879,0.26573423893609344,0.26570509546139154,0.26565791172635483,0.265455795346739,0.26545028783650676,0.2654349692420909,0.26536745066902867,0.26500920923776505,0.2647367868630957,0.2644920847396943,0.2644389275882417,0.26398245980551543,0.26389950174753857,0.26386529822356164,0.2638340497051237,0.26368360599596985,0.26350840120135827,0.26349054968246144,0.26333208884010373,0.26311231833804305,0.26311052923254463,0.2627551846902325,0.26239707494174397,0.26239505449429723,0.262269392301735,0.26218638505474745,0.2619097431537848,0.2617183121755714,0.2616783143469445,0.26167304312547374,0.26146254067558244,0.26130453207632287,0.26100821888728803,0.26093346865941613,0.2609298143983495,0.26092508423610367,0.26083200031949433,0.2604270188671648,0.2603267709520232,0.2601706362924592,0.26012545886138383,0.26002359792678914,0.26001896627050686,0.2599545437220247,0.2594991462003754,0.25902908581300443,0.25859416764507426,0.25858671330421334,0.2584660646414216,0.2581840409105536,0.25809222002168425,0.25803443266533305,0.25797535184507564,0.25790927682422693,0.2578898061438802,0.2577227087247674,0.2576014703487923,0.2574076777484531,0.2573143862880124,0.2573117733337722,0.25701763810964734,0.256996712699156,0.2567657448936328,0.25661500010507154,0.2563950159966886,0.25638374101231276,0.25625818768403286,0.2561591666875473,0.25610203064712356,0.2560981044920367,0.25572183258464204,0.2556027305846524,0.2555379398358584,0.2554486492461016,0.2554423979855677,0.2552514669035614,0.25501934295625167,0.2547865011006678,0.254774597373517,0.25467059666096564,0.25447476341600417,0.2537944161109825,0.2536376339944726,0.2535735017284087,0.25345959648062416,0.2534258563642955,0.25317189155593867,0.25295494281226527,0.25295031031368775,0.25276202136638687,0.2527415951675226,0.2527226046063159,0.2527215531551234,0.25258693854072206,0.25258028908033114,0.25248914353543733,0.25167909669275607,0.25156044030959734,0.25131509823157544,0.25131386352761625,0.2510341435208356,0.2509579380402157,0.25090921969395114,0.2508857260982757,0.25085506070500296,0.2507113919381665,0.25046047126886467,0.2504208143269479,0.25031317066839526,0.2500273926528939,0.25001629629585437,0.2497493603441062,0.24969780552987533,0.24948606755578281,0.24948477295397148,0.24938182596256975,0.24909125156974102,0.24907673486903187,0.24887807405465798,0.24887202540426245,0.2487969097612207,0.2487140970709302,0.24831510148945563,0.24817562123756853,0.24796846592971494,0.2479298548663614,0.24792872966666388,0.24781138001459077,0.2477053210145513,0.24756864502056902,0.24746385947518487,0.2473837404921834,0.24731087310690195,0.24722030938457457,0.2471873925314388,0.24709347770347959,0.24676407828331384,0.24671239753565027,0.24618447566694843,0.24611557757295785,0.24610732413184908,0.24603184668644945,0.2456813451040802,0.2456090858986172,0.24539453330227876,0.2452329211855048,0.24512771700282063,0.24507339590709412,0.24500532950881118,0.24481499189253417,0.24463963978306658,0.24455808878720045,0.2444803910049936,0.2443695958316708,0.24432748946161903,0.24415937069723137,0.2439661356262414,0.2437477582692559,0.2436141918425222,0.24360284522697365,0.24354953633244492,0.24351258485351138,0.243439578883639,0.243364266073426,0.24330713213190552,0.24321171064426156,0.24320568648637986,0.2430809420578163,0.24295518157253007,0.24280837162347008,0.2427345420353026,0.24252488490681015,0.24187229712982336,0.24179621338541812,0.24166645644429802,0.2415985793090073,0.24158956688943442,0.24149384780829328,0.24142849154928722,0.24140512747860018,0.24123167057653896,0.24097114081989757,0.2408929414722233,0.2407178215024564,0.24069639016554195,0.24054416376868742,0.24030790681144518,0.24022278414831486,0.24003493524205388,0.24002543344980448,0.24000750612725996,0.23990146606337748,0.23965189451675278,0.23950598679703242,0.239153595526476,0.23913236300820265,0.2389853867349876,0.23888361096217106,0.23885176632828614,0.23881274987893664,0.2387918902739085,0.23869401141737062,0.2386711888546668,0.23846097746160402,0.23831688790928984,0.23817397846584198,0.23816912336527837,0.23812937909115875,0.23800405217706158,0.23792925469971457,0.23749692383764925,0.23732825994392223,0.23717278205164483,0.23716904912153322,0.23714382149831384,0.23704831362457907,0.23700527106170546,0.23685358785975957,0.23670986017948448,0.23655064146184174,0.23635582509954228,0.23611576893219038,0.23579260926229118,0.2357445249961112,0.235698232158539,0.2355176067473412,0.235385984581253,0.23528366740766976,0.23482117472325023,0.23454670719439702,0.23452654594802033,0.23442517952390865,0.23436142916683061,0.23435454559434535,0.23430584389295434,0.2339948272367885,0.2338660009896307,0.23380914057416216,0.23371712319866936,0.23369566660396385,0.2335791191465218,0.23348164540354158,0.2334058291545582,0.23338028456802462,0.233292006082811,0.23323324093895406,0.23303921219564044,0.2325616741364545,0.23255888072889166,0.23252709879580621,0.23252504179851963,0.23250820496539615,0.23236736744023023,0.23199361946462438,0.23196919822811896,0.23179305085101534,0.2317116315793151,0.23167191594563236,0.2315816855840206,0.23156420132503744,0.23130582608979378,0.23124062163367587,0.2312108341721304,0.2311543116199336,0.23101890347071338,0.2309967527415346,0.23098247843058295,0.2309586969827999,0.230918879924337,0.23087857912777165,0.23074335911142857,0.23072406202591472,0.2306378012672548,0.2304635758322687,0.2304472474803238,0.23010750450777961,0.22997930956592072,0.22996617393092914,0.22996409213670607,0.22980158091905914,0.22975924646130488,0.22969786844335705,0.2296868796398633,0.22952722815226434,0.2294917107560805,0.22948498845352697,0.2294740236439007,0.22932263116332585,0.22921943450598042,0.2292083512568557,0.22917320811064318,0.22914405149050499,0.22911753241158797,0.2290172422089697,0.22895229588578794,0.22892195860699965,0.22889214246114636,0.22877969852955,0.22874010826822355,0.2287026361302239,0.22855091216590254,0.22849932226010355,0.22848470811537447,0.22844157151719702,0.22817041181612688,0.22800796576927307,0.22790481097424023,0.22784143776007582,0.22775118012776285,0.2277115480369649,0.22740622742207764,0.22730102047948716,0.22726523548501548,0.2272520153689322,0.22720267813054737,0.2271806472704813,0.22717764114713743,0.2269942850220013,0.2269758299991771,0.22689717358460207,0.22682390553915344,0.22675601819040378,0.22674510645777346,0.22674362782783647,0.22673323292925254,0.2267150193634101,0.2265442272651829,0.2264748994746433,0.22630691866766847,0.22609824853482915,0.22607113873514267,0.22595313519362328,0.22594525830456244,0.22582802140184557,0.22581058892323536,0.22573921329355084,0.225673983026613,0.22560857441808968,0.22545756862828545,0.22539015203080243,0.225242252315906,0.22519392105731714,0.22519114312393101,0.2251052018019228,0.2250847053410201,0.22507919473950452,0.22483473446018695,0.22454630152734412,0.2244887179367339,0.2244842752350465,0.22438216510678977,0.22428161039423025,0.22425460184715126,0.22424550255821263,0.22422201612994286,0.22420003450291492,0.22418292112750324,0.2240673249433628,0.22398711517072434,0.22398394147473297,0.22340983546190998,0.22327589913846302,0.22325235069931912,0.22318510588103938,0.22310644449030373,0.22285770071408864,0.22247843708742351,0.22239562929177584,0.2222555510214678,0.22224854170314728,0.22223845805987477,0.22222374057085734,0.2222214657575128,0.22212278712545144,0.22200765058785527,0.22192921028189516,0.22190823156384143,0.22163764057474114,0.2216133547878509,0.22156236995718648,0.2214300884204676,0.2213451356110096,0.2213435777827445,0.22127417210040076,0.22126659774196838,0.22125501533833272,0.22123108098213495,0.2211763149316547,0.22112360944923476,0.22105984429991984,0.22102547657325758,0.22062708026348593,0.22055294095347702,0.2205285399075422,0.2205198756214068,0.22045787566953134,0.22043194687044707,0.2202689986310798,0.22020776976242706,0.22010225489756843,0.22007132828485368,0.22006134216006853,0.21973832576380273,0.2194786829295903,0.2193783409722883,0.21937526917586256,0.2193524892842206,0.21927562617616853,0.21912515305852184,0.21912016873179413,0.21911984920242145,0.219035114142414,0.218925482066937,0.2188098561698529,0.21875585659019686,0.21864793605352514,0.21862491028399741,0.2186023223656072,0.21850087049399897,0.21835806978695396,0.21828268255622188,0.2179830385646011,0.2179407698722383,0.21789878963547904,0.21778947724348702,0.21775252943819556,0.2175321896443027,0.2173769418137153,0.21726583375691297,0.21725917080833268,0.21717029694046505,0.2171519256135462,0.2170937715324274,0.21706316824206612,0.2169765112806228,0.21674114366117792,0.2165727691577628,0.2165565621860639,0.21647809477899577,0.2163464101490407,0.21608377235318113,0.21592086599776805,0.21579395339207058,0.21575698830302745,0.21567502598974378,0.2156673705828394,0.21557378169534785,0.21550745864523485,0.21549774032400365,0.2154782882037208,0.2154657025279152,0.21538224832023567,0.21533215237175954,0.21532174216536323,0.21524476137331733,0.21510104639053398,0.21480553093190655,0.21471170205462187,0.21468826106538832,0.2146457702331791,0.21463800357981985,0.2145971888037566,0.2144816251440477,0.21446488948357312,0.21442164359073965,0.21438756294111333,0.21432259046563346,0.21413962728191793,0.2141393270010459,0.21412779497613327,0.21408302442527993,0.21395968435101032,0.21389307753760123,0.21388721656833498,0.21386173256739474,0.21386164294758367,0.21374290547408156,0.21370957475477478,0.21368514227937369,0.21368414491808288,0.21357834606979348,0.21353983775100793,0.2135256801147503,0.21346189228939197,0.21341685948512215,0.21333474724832113,0.21330398434045617,0.21328340293083345,0.21322020633952452,0.2131860219561373,0.21308408930624387,0.2130620370439966,0.2130190571168142,0.21299351869021785,0.212983989618228,0.21292514146634112,0.21283293506032697,0.21279089822915792,0.21262558973461626,0.2124409518031141,0.21230771349573113,0.21225256293748426,0.21201660450962728,0.21187609389008358,0.21176868869192894,0.21165249543498232,0.2116096625711566,0.21142373978049742,0.21138559026103595,0.21135040103942762,0.21126066921485465,0.21107306655354774,0.21094673217756676,0.21092970902847782,0.2108957465719223,0.2108383009268393,0.21072416197125163,0.21068440045400866,0.2106535465150613,0.21063845385260527,0.21040993704720923,0.2103418639976867,0.2102869871499931,0.21027745601728481,0.210251431881276,0.2102028301666396,0.21015676716504597,0.21015486989408727,0.21011777657659966,0.20993146362069282,0.20990734688722562,0.20984122924900236,0.20963871956104257,0.20960759173079066,0.20955913936104664,0.20952771383435356,0.20936509717390894,0.20934881977984923,0.20918392316423604,0.20917721755732585,0.20912360959344703,0.20900621017839777,0.20897972995775305,0.2087021028096797,0.2085777033895718,0.2085548625684994,0.20851387206333608,0.20826072855437913,0.2082599004394373,0.20823075356047796,0.2082002793752621,0.20819938615040293,0.2081281601256761,0.20811623868898482,0.20810799272134908,0.20808892083773858,0.20803831374236584,0.20788175156330024,0.20779638534674638,0.20778353699881255,0.20771549826026225,0.2076996013046178,0.20768629608975428,0.20767466559475867,0.20767350734056905,0.20756580171506692,0.20755652854128645,0.20740935554151463,0.20728692048315878,0.20715429402044203,0.20711979894754914,0.20707851710634786,0.20704636232642698,0.20703427685238163,0.20701101311630005,0.20700733449573258,0.2070071675592052,0.20691132221641637,0.2069017804065848,0.20678534902399776,0.20669887235949255,0.2066980843974472,0.2066094992704229,0.20658131420950937,0.20654039675939867,0.20650727855834092,0.20642910892442265,0.20642278154212956,0.20636322412113897,0.20630783517349327,0.20607951639314492,0.2060723256882801,0.2060284035697786,0.20599162873556054,0.2059903187832797,0.20588834032194395,0.2058443503905047,0.20583302492801228,0.20572181772818263,0.2056902636178886,0.20567314002388934,0.20561160041962107,0.20550226308603994,0.205426657341208,0.2053752090333115,0.20535053482495202,0.20530450679034135,0.2052780803908443,0.20512493776037313,0.20512214636401394,0.20507962741563263,0.205059647686122,0.20502068852837307,0.2050123284955832,0.2049873600579639,0.20496631440041702,0.20496213963712068,0.20490886772478495,0.20485575144804916,0.20482213673008645,0.2048020673824939,0.20471500172506615,0.20467578753072263,0.20458785461683804,0.20458727821914824,0.20453842787911838,0.2045011163448419,0.20445168021872487,0.2044413771353171,0.20439771735749407,0.2043792027403649,0.20433008894433874,0.20432023814279385,0.20427948304433216,0.20403111094104304,0.20398154385271147,0.20396187241418645,0.20387914763634643,0.20387816298166458,0.20377226412841445,0.20376043088906923,0.20375164318232103,0.2037345619945141,0.2037042389328012,0.2036442671372511,0.2035803726786258,0.20357475847504486,0.20353451992445187,0.20351854579036924,0.2034447152636667,0.20341111900025288,0.2034021487220029,0.2033271010361291,0.2033112352678321,0.20330826619930803,0.20329945439239688,0.20329002108355093,0.20326084710714218,0.20318177044872723,0.20317622330131566,0.2031097520647496,0.2030603534176976,0.20292464627177406,0.20291222468474676,0.20283819940994344,0.20280516193836853,0.20280018152640344,0.20278677120333669,0.20276198505032997,0.20274788075306427,0.20272626758695927,0.2026055234321704,0.20252292310748257,0.20249005333834894,0.20245123705189003,0.20242261885251428,0.20239980990978526,0.20234287322064964,0.202276873178037,0.20227007801061325,0.20215402394641865,0.2021478884067792,0.20209931756246693,0.20199938229462402,0.20192281656158442,0.2019213328735195,0.20191955012649238,0.20185811765712747,0.20182922987213628,0.20173817843133765,0.20170476503652712,0.20167697713161928,0.2016629279100242,0.20162847476097676,0.20160621703174061,0.20160142245854804,0.20159751280058816,0.20159047872082292,0.20155126735211717,0.20153771659020722,0.20149614230921553,0.20146391247554502,0.20137042565532276,0.20136240651475695,0.20136095032171558,0.20129605072320791,0.20128085526099096,0.20126206206689126,0.20107695454637167,0.20103277369867295,0.20098903519191244,0.20093908096145094,0.20080503270417552,0.20075154025179567,0.2007083429588654,0.20066337769764636,0.20058387922604043,0.20048552178703438,0.2004855027258264,0.20041109316994493,0.20037150675243814,0.20034501403426297,0.20033378603067992,0.20031158946537844,0.20025091017572175,0.20022075785046556,0.20016533749658894,0.20015334239374702,0.2000860414730974,0.20005817491296782],\"coloraxis\":\"coloraxis\",\"symbol\":\"circle\"},\"mode\":\"markers\",\"name\":\"\",\"showlegend\":false,\"x\":[0.8535696491487166,0.853343668808996,0.6418495761562872,0.6267510269922577,0.6193593070035367,0.6085382344415878,0.5918172423153671,0.5915998770417953,0.5803546509767313,0.5659422192394332,0.5607507201257727,0.5410697110695416,0.5325626568854848,0.5205151123920807,0.5071538790894496,0.5006094648510305,0.4949659111774196,0.4777899055150075,0.4666356118888771,0.46488921828013247,0.46470066910629876,0.46410083802681174,0.45983312735552156,0.45940464696671873,0.4577190644881474,0.45657713361640523,0.45647840771849907,0.4563806558241835,0.44604034035175305,0.441815593738593,0.4394912711942215,0.43645128272984735,0.4331144026231048,0.42808270599423376,0.42789929788333625,0.42564285558308107,0.42550997320080064,0.4252719365453392,0.42049947323070774,0.41845581289594036,0.4172135233457813,0.41624461168532473,0.41293991479901015,0.4113109000511803,0.41127543703517355,0.410961458782836,0.4098740929644146,0.40986774493208855,0.4057348052873312,0.4033844236479559,0.4030624735528638,0.4028744128389233,0.40094050545656534,0.3972044452279599,0.3952785471587181,0.39410337898752745,0.391605059391499,0.39084674594167695,0.3895595275577901,0.3886147311969921,0.3884055068438752,0.38775033189142716,0.38658212199953007,0.3865685808757262,0.38534851817237176,0.38287077487261656,0.3802144894033986,0.3800540341680079,0.378128576082268,0.3780932686665568,0.37463369950127023,0.3740664716901299,0.37242691697425534,0.3723849718946363,0.3706347682161789,0.37054133494070696,0.36652230247145495,0.36621236775535876,0.365656315978804,0.36457195170791123,0.36259663336393105,0.3596303380302458,0.35921663032434514,0.3583921128560051,0.3583016501253356,0.3579963647271624,0.35647920030568697,0.3560046924668319,0.35596662254663886,0.35544486485285126,0.35244615467629287,0.352425401084495,0.3522185950645598,0.3520490691719457,0.3515546528137319,0.3512418601003726,0.3498735671067517,0.3497233828275331,0.34932609759113276,0.34869967584202893,0.3483854992392719,0.3483446111191622,0.34809766748019205,0.3474964370549013,0.3474512003579097,0.3463642797036938,0.3463571218317904,0.34615924446064333,0.3456435647376639,0.34561080539216815,0.34538542610371764,0.3452619906651072,0.34480782063418036,0.34463251801446815,0.34383786103360797,0.34350259100001923,0.342998481446166,0.34235855301912144,0.34124643288250817,0.34116681156692635,0.34085260532513034,0.3403830339912793,0.33998577969371424,0.33749153510680613,0.3371071329777787,0.3361021146651366,0.33537263095622255,0.335025711327932,0.33490958010017274,0.33182957804964475,0.3313777951974019,0.33124509767564836,0.33112738091638577,0.3300683484949661,0.32943586701358113,0.32934175002573957,0.32900148691818015,0.3284057057196194,0.3282358882782264,0.3280117288765592,0.32772531122884774,0.3275205161834301,0.32557400405362125,0.32534694396825437,0.32525453264762827,0.32502589842578794,0.3248505612135305,0.3238336846738792,0.3228679909534584,0.3214769169985941,0.32050384567824836,0.32026770081524075,0.3187471455693718,0.3185223550473202,0.3183206964589089,0.3183191231199227,0.31806244436111136,0.3173706881626544,0.3173665165955682,0.3171276769300977,0.316216652875114,0.31607975316698866,0.3157588426201001,0.31575699723330003,0.3151940450601596,0.3148750600551595,0.31481629674463246,0.3144041627077652,0.31425311826347824,0.3142294798189424,0.3137230632962293,0.3131769163525384,0.3131562354837995,0.31296562769592784,0.3126790457558799,0.3124580705587626,0.31233718496020163,0.3122118336307005,0.31197138582609907,0.3108722596692767,0.3103838999350343,0.30997381342499336,0.3098589501627795,0.3096127204662167,0.3091919569886684,0.30914226605191775,0.30872784003649284,0.3081698850571202,0.30814479402087375,0.30753694161637485,0.30719083554671306,0.3067548295410681,0.30650980951069157,0.30645750841111796,0.3063542694426473,0.3050323088919241,0.3044507124572258,0.30403373164412517,0.30378404339415466,0.3035982474125848,0.30344313892067964,0.303381490910777,0.3026555645661737,0.3022721445503761,0.3020508511025187,0.3020332714814704,0.30160442727413544,0.3004250994585812,0.3002941301139285,0.29954378588146957,0.29949464734297143,0.29930178327017265,0.2992887222094639,0.2990684556536203,0.2985711426830804,0.29699300975042464,0.2967889632784364,0.2965509596198848,0.2962245830632204,0.2955294902692048,0.295401511962789,0.2952094113374181,0.29514652132772873,0.29411655486424615,0.29371664157937727,0.2926621119979199,0.29245581393246795,0.2921344055772738,0.29188688598458545,0.2917115577156631,0.29158700372266966,0.29158101804462794,0.2913642089714784,0.2912600114131833,0.29100857427619925,0.2905051846445903,0.29042787004741033,0.28985274839876435,0.28976544858137765,0.28965675569230304,0.28955994498149296,0.28939710063157753,0.28779144010242697,0.2876293164729617,0.2875842334889608,0.28732273249332446,0.28688140265617407,0.2866600202026267,0.28653788174647915,0.28637355739593573,0.2862389546930489,0.2862332230331538,0.28542917259763173,0.2851525270649743,0.28480712666206937,0.28442023183354354,0.28414519158660667,0.2840981590061613,0.2839103676601413,0.28388219866777187,0.2838483205974752,0.28354257593827564,0.2832250070918238,0.2825794857767332,0.28243917083957293,0.28235493457177524,0.28231419990818907,0.28107001635929313,0.2807902716494723,0.28045313354648005,0.2802980318912273,0.28007330665853947,0.2797785453383208,0.27963358030851154,0.2795398658138129,0.27945438633582914,0.27923049836799785,0.27914149629206964,0.2789862566736787,0.2787138239268071,0.27858041688528473,0.2783395176958291,0.27827948986964635,0.2782700183473813,0.2774773572787336,0.27741689993269103,0.27738167239099526,0.2772332572145874,0.2769593399906093,0.2769155539890654,0.2764613861208172,0.2760764370387523,0.27544355849762614,0.2752734066892093,0.27503485680328194,0.2745843468633352,0.2743320270422849,0.27413263027765483,0.2739268769977729,0.2739041493795165,0.27386928891642304,0.27368020318935327,0.27356442452216273,0.27352476953855825,0.2734023174619103,0.2733321949841422,0.2731348085693915,0.27296495779234387,0.2727823607302432,0.27249801789421546,0.27241366231850433,0.27210067799192433,0.27201077864213025,0.27144868368222225,0.2703981814362303,0.26974643893787426,0.26952506896625056,0.269423450682996,0.26867143203439786,0.2683996493881256,0.2682018629190446,0.2681951336306988,0.26746739465500124,0.2672867470550122,0.26678241626072413,0.26663402702479405,0.2662707367570083,0.266107922185879,0.26573423893609344,0.26570509546139154,0.26565791172635483,0.265455795346739,0.26545028783650676,0.2654349692420909,0.26536745066902867,0.26500920923776505,0.2647367868630957,0.2644920847396943,0.2644389275882417,0.26398245980551543,0.26389950174753857,0.26386529822356164,0.2638340497051237,0.26368360599596985,0.26350840120135827,0.26349054968246144,0.26333208884010373,0.26311231833804305,0.26311052923254463,0.2627551846902325,0.26239707494174397,0.26239505449429723,0.262269392301735,0.26218638505474745,0.2619097431537848,0.2617183121755714,0.2616783143469445,0.26167304312547374,0.26146254067558244,0.26130453207632287,0.26100821888728803,0.26093346865941613,0.2609298143983495,0.26092508423610367,0.26083200031949433,0.2604270188671648,0.2603267709520232,0.2601706362924592,0.26012545886138383,0.26002359792678914,0.26001896627050686,0.2599545437220247,0.2594991462003754,0.25902908581300443,0.25859416764507426,0.25858671330421334,0.2584660646414216,0.2581840409105536,0.25809222002168425,0.25803443266533305,0.25797535184507564,0.25790927682422693,0.2578898061438802,0.2577227087247674,0.2576014703487923,0.2574076777484531,0.2573143862880124,0.2573117733337722,0.25701763810964734,0.256996712699156,0.2567657448936328,0.25661500010507154,0.2563950159966886,0.25638374101231276,0.25625818768403286,0.2561591666875473,0.25610203064712356,0.2560981044920367,0.25572183258464204,0.2556027305846524,0.2555379398358584,0.2554486492461016,0.2554423979855677,0.2552514669035614,0.25501934295625167,0.2547865011006678,0.254774597373517,0.25467059666096564,0.25447476341600417,0.2537944161109825,0.2536376339944726,0.2535735017284087,0.25345959648062416,0.2534258563642955,0.25317189155593867,0.25295494281226527,0.25295031031368775,0.25276202136638687,0.2527415951675226,0.2527226046063159,0.2527215531551234,0.25258693854072206,0.25258028908033114,0.25248914353543733,0.25167909669275607,0.25156044030959734,0.25131509823157544,0.25131386352761625,0.2510341435208356,0.2509579380402157,0.25090921969395114,0.2508857260982757,0.25085506070500296,0.2507113919381665,0.25046047126886467,0.2504208143269479,0.25031317066839526,0.2500273926528939,0.25001629629585437,0.2497493603441062,0.24969780552987533,0.24948606755578281,0.24948477295397148,0.24938182596256975,0.24909125156974102,0.24907673486903187,0.24887807405465798,0.24887202540426245,0.2487969097612207,0.2487140970709302,0.24831510148945563,0.24817562123756853,0.24796846592971494,0.2479298548663614,0.24792872966666388,0.24781138001459077,0.2477053210145513,0.24756864502056902,0.24746385947518487,0.2473837404921834,0.24731087310690195,0.24722030938457457,0.2471873925314388,0.24709347770347959,0.24676407828331384,0.24671239753565027,0.24618447566694843,0.24611557757295785,0.24610732413184908,0.24603184668644945,0.2456813451040802,0.2456090858986172,0.24539453330227876,0.2452329211855048,0.24512771700282063,0.24507339590709412,0.24500532950881118,0.24481499189253417,0.24463963978306658,0.24455808878720045,0.2444803910049936,0.2443695958316708,0.24432748946161903,0.24415937069723137,0.2439661356262414,0.2437477582692559,0.2436141918425222,0.24360284522697365,0.24354953633244492,0.24351258485351138,0.243439578883639,0.243364266073426,0.24330713213190552,0.24321171064426156,0.24320568648637986,0.2430809420578163,0.24295518157253007,0.24280837162347008,0.2427345420353026,0.24252488490681015,0.24187229712982336,0.24179621338541812,0.24166645644429802,0.2415985793090073,0.24158956688943442,0.24149384780829328,0.24142849154928722,0.24140512747860018,0.24123167057653896,0.24097114081989757,0.2408929414722233,0.2407178215024564,0.24069639016554195,0.24054416376868742,0.24030790681144518,0.24022278414831486,0.24003493524205388,0.24002543344980448,0.24000750612725996,0.23990146606337748,0.23965189451675278,0.23950598679703242,0.239153595526476,0.23913236300820265,0.2389853867349876,0.23888361096217106,0.23885176632828614,0.23881274987893664,0.2387918902739085,0.23869401141737062,0.2386711888546668,0.23846097746160402,0.23831688790928984,0.23817397846584198,0.23816912336527837,0.23812937909115875,0.23800405217706158,0.23792925469971457,0.23749692383764925,0.23732825994392223,0.23717278205164483,0.23716904912153322,0.23714382149831384,0.23704831362457907,0.23700527106170546,0.23685358785975957,0.23670986017948448,0.23655064146184174,0.23635582509954228,0.23611576893219038,0.23579260926229118,0.2357445249961112,0.235698232158539,0.2355176067473412,0.235385984581253,0.23528366740766976,0.23482117472325023,0.23454670719439702,0.23452654594802033,0.23442517952390865,0.23436142916683061,0.23435454559434535,0.23430584389295434,0.2339948272367885,0.2338660009896307,0.23380914057416216,0.23371712319866936,0.23369566660396385,0.2335791191465218,0.23348164540354158,0.2334058291545582,0.23338028456802462,0.233292006082811,0.23323324093895406,0.23303921219564044,0.2325616741364545,0.23255888072889166,0.23252709879580621,0.23252504179851963,0.23250820496539615,0.23236736744023023,0.23199361946462438,0.23196919822811896,0.23179305085101534,0.2317116315793151,0.23167191594563236,0.2315816855840206,0.23156420132503744,0.23130582608979378,0.23124062163367587,0.2312108341721304,0.2311543116199336,0.23101890347071338,0.2309967527415346,0.23098247843058295,0.2309586969827999,0.230918879924337,0.23087857912777165,0.23074335911142857,0.23072406202591472,0.2306378012672548,0.2304635758322687,0.2304472474803238,0.23010750450777961,0.22997930956592072,0.22996617393092914,0.22996409213670607,0.22980158091905914,0.22975924646130488,0.22969786844335705,0.2296868796398633,0.22952722815226434,0.2294917107560805,0.22948498845352697,0.2294740236439007,0.22932263116332585,0.22921943450598042,0.2292083512568557,0.22917320811064318,0.22914405149050499,0.22911753241158797,0.2290172422089697,0.22895229588578794,0.22892195860699965,0.22889214246114636,0.22877969852955,0.22874010826822355,0.2287026361302239,0.22855091216590254,0.22849932226010355,0.22848470811537447,0.22844157151719702,0.22817041181612688,0.22800796576927307,0.22790481097424023,0.22784143776007582,0.22775118012776285,0.2277115480369649,0.22740622742207764,0.22730102047948716,0.22726523548501548,0.2272520153689322,0.22720267813054737,0.2271806472704813,0.22717764114713743,0.2269942850220013,0.2269758299991771,0.22689717358460207,0.22682390553915344,0.22675601819040378,0.22674510645777346,0.22674362782783647,0.22673323292925254,0.2267150193634101,0.2265442272651829,0.2264748994746433,0.22630691866766847,0.22609824853482915,0.22607113873514267,0.22595313519362328,0.22594525830456244,0.22582802140184557,0.22581058892323536,0.22573921329355084,0.225673983026613,0.22560857441808968,0.22545756862828545,0.22539015203080243,0.225242252315906,0.22519392105731714,0.22519114312393101,0.2251052018019228,0.2250847053410201,0.22507919473950452,0.22483473446018695,0.22454630152734412,0.2244887179367339,0.2244842752350465,0.22438216510678977,0.22428161039423025,0.22425460184715126,0.22424550255821263,0.22422201612994286,0.22420003450291492,0.22418292112750324,0.2240673249433628,0.22398711517072434,0.22398394147473297,0.22340983546190998,0.22327589913846302,0.22325235069931912,0.22318510588103938,0.22310644449030373,0.22285770071408864,0.22247843708742351,0.22239562929177584,0.2222555510214678,0.22224854170314728,0.22223845805987477,0.22222374057085734,0.2222214657575128,0.22212278712545144,0.22200765058785527,0.22192921028189516,0.22190823156384143,0.22163764057474114,0.2216133547878509,0.22156236995718648,0.2214300884204676,0.2213451356110096,0.2213435777827445,0.22127417210040076,0.22126659774196838,0.22125501533833272,0.22123108098213495,0.2211763149316547,0.22112360944923476,0.22105984429991984,0.22102547657325758,0.22062708026348593,0.22055294095347702,0.2205285399075422,0.2205198756214068,0.22045787566953134,0.22043194687044707,0.2202689986310798,0.22020776976242706,0.22010225489756843,0.22007132828485368,0.22006134216006853,0.21973832576380273,0.2194786829295903,0.2193783409722883,0.21937526917586256,0.2193524892842206,0.21927562617616853,0.21912515305852184,0.21912016873179413,0.21911984920242145,0.219035114142414,0.218925482066937,0.2188098561698529,0.21875585659019686,0.21864793605352514,0.21862491028399741,0.2186023223656072,0.21850087049399897,0.21835806978695396,0.21828268255622188,0.2179830385646011,0.2179407698722383,0.21789878963547904,0.21778947724348702,0.21775252943819556,0.2175321896443027,0.2173769418137153,0.21726583375691297,0.21725917080833268,0.21717029694046505,0.2171519256135462,0.2170937715324274,0.21706316824206612,0.2169765112806228,0.21674114366117792,0.2165727691577628,0.2165565621860639,0.21647809477899577,0.2163464101490407,0.21608377235318113,0.21592086599776805,0.21579395339207058,0.21575698830302745,0.21567502598974378,0.2156673705828394,0.21557378169534785,0.21550745864523485,0.21549774032400365,0.2154782882037208,0.2154657025279152,0.21538224832023567,0.21533215237175954,0.21532174216536323,0.21524476137331733,0.21510104639053398,0.21480553093190655,0.21471170205462187,0.21468826106538832,0.2146457702331791,0.21463800357981985,0.2145971888037566,0.2144816251440477,0.21446488948357312,0.21442164359073965,0.21438756294111333,0.21432259046563346,0.21413962728191793,0.2141393270010459,0.21412779497613327,0.21408302442527993,0.21395968435101032,0.21389307753760123,0.21388721656833498,0.21386173256739474,0.21386164294758367,0.21374290547408156,0.21370957475477478,0.21368514227937369,0.21368414491808288,0.21357834606979348,0.21353983775100793,0.2135256801147503,0.21346189228939197,0.21341685948512215,0.21333474724832113,0.21330398434045617,0.21328340293083345,0.21322020633952452,0.2131860219561373,0.21308408930624387,0.2130620370439966,0.2130190571168142,0.21299351869021785,0.212983989618228,0.21292514146634112,0.21283293506032697,0.21279089822915792,0.21262558973461626,0.2124409518031141,0.21230771349573113,0.21225256293748426,0.21201660450962728,0.21187609389008358,0.21176868869192894,0.21165249543498232,0.2116096625711566,0.21142373978049742,0.21138559026103595,0.21135040103942762,0.21126066921485465,0.21107306655354774,0.21094673217756676,0.21092970902847782,0.2108957465719223,0.2108383009268393,0.21072416197125163,0.21068440045400866,0.2106535465150613,0.21063845385260527,0.21040993704720923,0.2103418639976867,0.2102869871499931,0.21027745601728481,0.210251431881276,0.2102028301666396,0.21015676716504597,0.21015486989408727,0.21011777657659966,0.20993146362069282,0.20990734688722562,0.20984122924900236,0.20963871956104257,0.20960759173079066,0.20955913936104664,0.20952771383435356,0.20936509717390894,0.20934881977984923,0.20918392316423604,0.20917721755732585,0.20912360959344703,0.20900621017839777,0.20897972995775305,0.2087021028096797,0.2085777033895718,0.2085548625684994,0.20851387206333608,0.20826072855437913,0.2082599004394373,0.20823075356047796,0.2082002793752621,0.20819938615040293,0.2081281601256761,0.20811623868898482,0.20810799272134908,0.20808892083773858,0.20803831374236584,0.20788175156330024,0.20779638534674638,0.20778353699881255,0.20771549826026225,0.2076996013046178,0.20768629608975428,0.20767466559475867,0.20767350734056905,0.20756580171506692,0.20755652854128645,0.20740935554151463,0.20728692048315878,0.20715429402044203,0.20711979894754914,0.20707851710634786,0.20704636232642698,0.20703427685238163,0.20701101311630005,0.20700733449573258,0.2070071675592052,0.20691132221641637,0.2069017804065848,0.20678534902399776,0.20669887235949255,0.2066980843974472,0.2066094992704229,0.20658131420950937,0.20654039675939867,0.20650727855834092,0.20642910892442265,0.20642278154212956,0.20636322412113897,0.20630783517349327,0.20607951639314492,0.2060723256882801,0.2060284035697786,0.20599162873556054,0.2059903187832797,0.20588834032194395,0.2058443503905047,0.20583302492801228,0.20572181772818263,0.2056902636178886,0.20567314002388934,0.20561160041962107,0.20550226308603994,0.205426657341208,0.2053752090333115,0.20535053482495202,0.20530450679034135,0.2052780803908443,0.20512493776037313,0.20512214636401394,0.20507962741563263,0.205059647686122,0.20502068852837307,0.2050123284955832,0.2049873600579639,0.20496631440041702,0.20496213963712068,0.20490886772478495,0.20485575144804916,0.20482213673008645,0.2048020673824939,0.20471500172506615,0.20467578753072263,0.20458785461683804,0.20458727821914824,0.20453842787911838,0.2045011163448419,0.20445168021872487,0.2044413771353171,0.20439771735749407,0.2043792027403649,0.20433008894433874,0.20432023814279385,0.20427948304433216,0.20403111094104304,0.20398154385271147,0.20396187241418645,0.20387914763634643,0.20387816298166458,0.20377226412841445,0.20376043088906923,0.20375164318232103,0.2037345619945141,0.2037042389328012,0.2036442671372511,0.2035803726786258,0.20357475847504486,0.20353451992445187,0.20351854579036924,0.2034447152636667,0.20341111900025288,0.2034021487220029,0.2033271010361291,0.2033112352678321,0.20330826619930803,0.20329945439239688,0.20329002108355093,0.20326084710714218,0.20318177044872723,0.20317622330131566,0.2031097520647496,0.2030603534176976,0.20292464627177406,0.20291222468474676,0.20283819940994344,0.20280516193836853,0.20280018152640344,0.20278677120333669,0.20276198505032997,0.20274788075306427,0.20272626758695927,0.2026055234321704,0.20252292310748257,0.20249005333834894,0.20245123705189003,0.20242261885251428,0.20239980990978526,0.20234287322064964,0.202276873178037,0.20227007801061325,0.20215402394641865,0.2021478884067792,0.20209931756246693,0.20199938229462402,0.20192281656158442,0.2019213328735195,0.20191955012649238,0.20185811765712747,0.20182922987213628,0.20173817843133765,0.20170476503652712,0.20167697713161928,0.2016629279100242,0.20162847476097676,0.20160621703174061,0.20160142245854804,0.20159751280058816,0.20159047872082292,0.20155126735211717,0.20153771659020722,0.20149614230921553,0.20146391247554502,0.20137042565532276,0.20136240651475695,0.20136095032171558,0.20129605072320791,0.20128085526099096,0.20126206206689126,0.20107695454637167,0.20103277369867295,0.20098903519191244,0.20093908096145094,0.20080503270417552,0.20075154025179567,0.2007083429588654,0.20066337769764636,0.20058387922604043,0.20048552178703438,0.2004855027258264,0.20041109316994493,0.20037150675243814,0.20034501403426297,0.20033378603067992,0.20031158946537844,0.20025091017572175,0.20022075785046556,0.20016533749658894,0.20015334239374702,0.2000860414730974,0.20005817491296782],\"xaxis\":\"x\",\"y\":[\"grey_earl\",\"jack_link\",\"site_web\",\"pill_pocket\",\"custom_servic\",\"buffalo_hill\",\"peanut_butter\",\"cowork_comparison\",\"gluten_free\",\"save_subscrib\",\"partial_hydrogen\",\"innova_evo\",\"detail_specif\",\"acai_juic\",\"wast_money\",\"scienc_hill\",\"groceri_store\",\"her_she\",\"date_expir\",\"shampoo_hair\",\"practic_bulk\",\"strip_test\",\"jerki_beef\",\"remain_whether\",\"are_these\",\"discontinu_productbr\",\"senseo_pod\",\"practic_common\",\"split_pea\",\"frequent_tin\",\"miner_page\",\"cancer_suspect\",\"subscript_cancel\",\"jack_beef\",\"blue_diamond\",\"they_are\",\"off_rip\",\"act_sens\",\"vomit_innova\",\"sens_drank\",\"throughout_knock\",\"skin_moistur\",\"artifici_sweeten\",\"afford_gain\",\"picki_eater\",\"kibbl_transit\",\"cancel_jump\",\"fructos_corn\",\"forc_duck\",\"sign_discontinu\",\"necessari_specif\",\"firm_flavorbr\",\"detail_necessari\",\"syrup_fructos\",\"duck_rais\",\"odor_unpleas\",\"coupon_percent\",\"grey_earli\",\"christma_truffl\",\"breath_teeth\",\"recommend_high\",\"act_drank\",\"food_cat\",\"beauti_report\",\"diamond_almond\",\"mapl_syrup\",\"job_funni\",\"hole_empti\",\"press_french\",\"safe_diseas\",\"tasteless_wild\",\"firm_prevent\",\"oil_oliv\",\"china_made\",\"sea_salt\",\"forc_rais\",\"herbal_peppermint\",\"blood_negat\",\"soak_rins\",\"via_harder\",\"link_beef\",\"suspect_symptom\",\"crisp_honest\",\"gain_gummi\",\"diseas_hydrogen\",\"bewar_buyer\",\"stick_bulli\",\"roast_french\",\"wide_select\",\"prevent_sodastream\",\"inch_squar\",\"list_ingredi\",\"greasi_bottom\",\"gum_bubbl\",\"squeez_page\",\"these_this\",\"tabl_salt\",\"nutrient_bodi\",\"cramp_suffer\",\"allergi_medic\",\"chines_style\",\"bold_extra\",\"latt_chai\",\"retail_discontinu\",\"frequent_ined\",\"cramp_magic\",\"green_tea\",\"trick_litter\",\"shipment_common\",\"lime_medicin\",\"school_grab\",\"tin_touch\",\"knock_head\",\"shampoo_indic\",\"crave_junk\",\"plant_dead\",\"pancak_waffl\",\"throughout_head\",\"oil_coconut\",\"steam_grill\",\"his_him\",\"biscuit_gravi\",\"temperatur_gummi\",\"teaspoon_pot\",\"whether_child\",\"newman_own\",\"carb_low\",\"shipment_practic\",\"mill_general\",\"bulk_common\",\"hesit_goodbr\",\"broth_veget\",\"walmart_target\",\"throat_begin\",\"stash_grey\",\"doubt_refil\",\"refil_bare\",\"diamond_magnesium\",\"grind_nutrient\",\"glutenfre_browni\",\"percent_target\",\"oatmeal_oat\",\"lost_activ\",\"formula_adult\",\"dust_truffl\",\"shake_protein\",\"danger_manag\",\"floor_dust\",\"upset_stomach\",\"carbon_juic\",\"tongu_wed\",\"pop_popcorn\",\"subscript_jasmin\",\"ground_spill\",\"cocoa_browni\",\"leftov_behind\",\"level_choos\",\"danger_remov\",\"hill_hate\",\"teaspoon_everyday\",\"junk_lunch\",\"mislead_cri\",\"cup_keurig\",\"spit_bill\",\"room_sister\",\"symptom_suffer\",\"dress_salad\",\"bubbl_grass\",\"pull_intestin\",\"beer_leftov\",\"gravi_vegetarian\",\"orang_carbon\",\"link_meat\",\"jack_meat\",\"coupon_target\",\"skin_hair\",\"subscrib_program\",\"condit_arriv\",\"ever_best\",\"car_sticki\",\"will_again\",\"hemp_seed\",\"crust_pizza\",\"forget_mocha\",\"scienc_buffalo\",\"beyond_bed\",\"gluten_celiac\",\"frequent_repeat\",\"doctor_lover\",\"photo_squeez\",\"flat_sandwich\",\"sign_retail\",\"grade_mapl\",\"proper_trick\",\"mapl_waffl\",\"scienc_innova\",\"safe_upset\",\"they_them\",\"child_remain\",\"firm_onto\",\"manag_golden\",\"pet_food\",\"chip_potato\",\"fed_diseas\",\"magic_symptom\",\"lab_sick\",\"review_read\",\"forward_look\",\"pet_china\",\"these_them\",\"breath_vet\",\"scienc_diet\",\"buffalo_hate\",\"again_buy\",\"frozen_bear\",\"dad_felt\",\"bar_granola\",\"coupon_recal\",\"head_sleep\",\"suffer_medic\",\"workout_cancel\",\"parent_canin\",\"vet_intestin\",\"bare_lime\",\"aspartam_yellow\",\"intestin_bone\",\"edibl_lead\",\"nutrit_valu\",\"allergi_suffer\",\"splenda_aspartam\",\"bold_timothi\",\"behind_sister\",\"subscript_andor\",\"pain_current\",\"zico_coconut\",\"ran_mom\",\"drive_sleep\",\"tomato_pizza\",\"dust_liquid\",\"heart_lover\",\"clean_teeth\",\"touch_frequent\",\"assum_throat\",\"gain_weight\",\"behind_import\",\"mocha_pod\",\"comparison_flat\",\"human_beer\",\"vet_her\",\"instruct_follow\",\"fell_pick\",\"present_tree\",\"crisp_wow\",\"away_throw\",\"store_local\",\"gummi_bear\",\"heaven_frozen\",\"carbon_switch\",\"damag_internet\",\"shes_she\",\"pour_into\",\"dog_food\",\"fake_style\",\"yeast_googl\",\"sweeten_cola\",\"they_these\",\"year_been\",\"everywher_floor\",\"canida_suspect\",\"lunch_crave\",\"excess_content\",\"duck_titl\",\"canin_accept\",\"worst_ever\",\"avoid_hydrogen\",\"hint_tasteless\",\"individu_wrap\",\"canin_jump\",\"onto_kitten\",\"earl_stash\",\"grill_chicken\",\"more_than\",\"develop_stool\",\"satisfi_crave\",\"moistur_oil\",\"owner_stori\",\"question_tip\",\"productbr_sign\",\"futur_shipment\",\"heaven_bear\",\"page_sunflow\",\"teeth_her\",\"treat_dog\",\"him_hes\",\"room_death\",\"air_gold\",\"snack_healthi\",\"common_advertis\",\"stash_steep\",\"hit_mark\",\"potato_kettl\",\"herbal_tea\",\"spici_thai\",\"canin_six\",\"msg_yeast\",\"werent_handl\",\"eater_introduc\",\"squar_themselv\",\"cramp_mild\",\"sauc_pizza\",\"face_skin\",\"raw_tasteless\",\"fri_pan\",\"affect_greeni\",\"medic_hip\",\"grass_plant\",\"effort_celiac\",\"comment_cent\",\"tire_detail\",\"night_sleep\",\"effort_school\",\"against_restaur\",\"youv_slowli\",\"desk_lie\",\"trip_flavorbr\",\"magnesium_blue\",\"sister_alot\",\"toss_drain\",\"wateri_drain\",\"attempt_step\",\"ined_tough\",\"bpa_effect\",\"rins_repeat\",\"practic_advertis\",\"root_powder\",\"center_manag\",\"extract_yeast\",\"have_been\",\"taco_uniqu\",\"concentr_zico\",\"bore_clear\",\"rare_recal\",\"train_puppi\",\"dissolv_slowli\",\"damag_imposs\",\"canist_six\",\"thai_incred\",\"ball_toy\",\"chewi_soft\",\"interest_lead\",\"chunk_intestin\",\"red_mill\",\"lost_weight\",\"grow_grew\",\"fda_report\",\"serv_per\",\"farm_resembl\",\"filler_scienc\",\"oatmeal_toler\",\"set_trap\",\"avail_percent\",\"awesom_admit\",\"spit_tini\",\"kit_link\",\"spread_tablespoon\",\"word_frozen\",\"lid_bpa\",\"vomit_evo\",\"front_desk\",\"term_dinner\",\"human_leftov\",\"german_waffl\",\"page_photo\",\"cancel_shipment\",\"transit_formula\",\"workout_flavorbr\",\"frequent_salmon\",\"specif_tire\",\"premium_chines\",\"everyday_appeal\",\"bill_tini\",\"clean_breath\",\"import_ran\",\"slice_cheddar\",\"surpris_pleasant\",\"steam_sauc\",\"weight_activ\",\"bulk_shipment\",\"fell_perhap\",\"away_threw\",\"crust_fridg\",\"better_than\",\"chunk_term\",\"custom_contact\",\"vitamin_experienc\",\"die_becam\",\"swallow_unlik\",\"via_amazoncom\",\"slowli_meant\",\"diseas_requir\",\"gross_throat\",\"glutenfre_muffin\",\"nutriti_split\",\"wors_yuck\",\"paid_ten\",\"describ_unit\",\"ball_remov\",\"harder_cola\",\"filler_byproduct\",\"waffl_separ\",\"usa_perhap\",\"began_introduc\",\"research_foodbr\",\"water_coconut\",\"imposs_internet\",\"swallow_tire\",\"magic_suspect\",\"meet_readi\",\"detail_short\",\"cancel_magic\",\"jerki_jack\",\"rins_boil\",\"ago_month\",\"toxic_manufactur\",\"death_rock\",\"adopt_rescu\",\"danger_golden\",\"pork_answer\",\"somewhat_crumbl\",\"risk_foodbr\",\"spit_threw\",\"soy_crap\",\"afternoon_english\",\"lbs_dress\",\"peach_nor\",\"cooki_crumbl\",\"percent_walmart\",\"relat_hydrogen\",\"sodastream_kept\",\"indoor_kitten\",\"filler_overpr\",\"death_risk\",\"drain_disgust\",\"cancel_subscrib\",\"soda_diet\",\"green_mountain\",\"light_crystal\",\"anyon_recommend\",\"herb_dress\",\"wheat_pasta\",\"melt_solid\",\"sell_dollar\",\"lid_written\",\"initi_design\",\"appreci_stronger\",\"old_year\",\"rescu_straight\",\"smoke_babi\",\"assur_difficult\",\"resembl_red\",\"filter_accept\",\"various_rancid\",\"under_lbs\",\"tree_rock\",\"anyway_mini\",\"websit_polici\",\"smoke_obvious\",\"save_program\",\"ingredi_hydrogen\",\"needless_note\",\"food_feed\",\"christma_promis\",\"cramp_leaf\",\"weird_canist\",\"salt_vinegar\",\"hair_wash\",\"flat_sprinkl\",\"cramp_symptom\",\"clear_face\",\"are_this\",\"main_rescu\",\"coffe_brew\",\"lead_caffein\",\"root_indic\",\"stapl_cane\",\"toxic_question\",\"month_old\",\"supermarket_zico\",\"allerg_walk\",\"miss_support\",\"develop_diarrhea\",\"formula_canida\",\"cola_artifici\",\"harder_fix\",\"salmon_ined\",\"googl_rare\",\"mail_crumb\",\"short_specif\",\"like_tast\",\"bland_bore\",\"cent_target\",\"aspartam_magnesium\",\"further_subscript\",\"down_drain\",\"matter_wrote\",\"truffl_whatev\",\"havent_crack\",\"rock_tini\",\"rais_nor\",\"firm_sodastream\",\"dad_rock\",\"root_therefor\",\"wateri_weak\",\"tell_drank\",\"starbuck_fail\",\"kitti_garden\",\"granola_design\",\"weight_lose\",\"shake_strawberri\",\"agav_oatmeal\",\"magic_workout\",\"dure_wake\",\"cool_touch\",\"onion_garlic\",\"greasi_chip\",\"own_frequent\",\"edibl_smoke\",\"retail_productbr\",\"tart_cherri\",\"resembl_vegetarian\",\"green_stash\",\"door_rescu\",\"correct_bud\",\"stuck_manag\",\"msg_question\",\"term_ate\",\"older_puppi\",\"indoor_meet\",\"discontinu_bone\",\"supermarket_doubt\",\"brewer_keurig\",\"greeni_becam\",\"sprinkl_anywher\",\"half_percent\",\"sampl_show\",\"kcup_coffe\",\"kit_curri\",\"repeat_boil\",\"coffe_cup\",\"afford_gummi\",\"lick_wet\",\"tabl_miner\",\"multipl_pocket\",\"prepar_biscuit\",\"calori_low\",\"sister_kitchen\",\"worri_sticki\",\"receiv_common\",\"fell_appreci\",\"stori_die\",\"hungri_titl\",\"taken_sleep\",\"common_gag\",\"behind_walk\",\"nasti_chemic\",\"frost_moist\",\"agav_rais\",\"beer_scienc\",\"beef_meat\",\"pretzel_prevent\",\"birthday_cake\",\"mother_herb\",\"cake_color\",\"freez_cover\",\"spend_money\",\"werent_aftertast\",\"excess_gas\",\"pouch_steep\",\"ton_post\",\"birthday_show\",\"fish_salmon\",\"chip_are\",\"pork_grill\",\"hes_his\",\"cherri_theyv\",\"youd_reduc\",\"sale_bed\",\"experienc_beverag\",\"knock_symptom\",\"stash_tea\",\"juic_grape\",\"adult_bubbl\",\"heart_correct\",\"prevent_bread\",\"leak_everyday\",\"fda_method\",\"less_than\",\"coffe_starbuck\",\"year_ago\",\"push_dish\",\"fake_chines\",\"greeni_stori\",\"alot_hear\",\"odor_carbohydr\",\"mom_import\",\"fat_calori\",\"step_guy\",\"acid_aspartam\",\"order_receiv\",\"room_alot\",\"this_them\",\"roast_dark\",\"wow_honest\",\"late_night\",\"fail_attempt\",\"recal_googl\",\"kettl_chip\",\"heat_burn\",\"togeth_stuck\",\"receiv_practic\",\"cent_ounc\",\"gave_wors\",\"detail_titl\",\"fail_lid\",\"system_teaspoon\",\"supplier_pricey\",\"spoon_broken\",\"pound_grape\",\"spent_leftov\",\"doubt_prevent\",\"review_written\",\"lab_old\",\"filler_leftov\",\"level_youll\",\"american_funni\",\"bewar_poop\",\"center_suck\",\"sensit_skin\",\"maker_coffe\",\"corn_syrup\",\"hemp_raw\",\"method_odd\",\"sens_tell\",\"return_polici\",\"soak_easier\",\"rest_ined\",\"ined_tin\",\"tasteless_mint\",\"creamer_heaven\",\"high_fructos\",\"die_owner\",\"canin_countri\",\"descript_carton\",\"emerg_alon\",\"yellow_imposs\",\"claim_safe\",\"cardboard_foil\",\"seal_empti\",\"separ_chines\",\"skeptic_emerg\",\"breakfast_english\",\"import_flavorbr\",\"luck_everywher\",\"explain_artifici\",\"black_garlic\",\"tip_favor\",\"member_alot\",\"sound_mind\",\"crust_result\",\"claim_replac\",\"brought_attent\",\"bud_ran\",\"awar_raw\",\"term_busi\",\"german_liver\",\"refil_figur\",\"sugarfre_caramel\",\"extract_search\",\"across_excess\",\"throw_spent\",\"youll_youv\",\"sodium_broth\",\"kitten_cat\",\"attent_cri\",\"doubl_percent\",\"nose_advic\",\"suspect_suffer\",\"peppermint_themselv\",\"adult_canin\",\"youv_against\",\"caffein_decaf\",\"you_your\",\"microwav_chose\",\"jump_onto\",\"lead_flower\",\"summer_refresh\",\"cramp_herbal\",\"needless_cancel\",\"ground_cup\",\"neither_spoil\",\"beer_filler\",\"despit_follow\",\"scienc_leftov\",\"answer_told\",\"carton_dollar\",\"smooth_rich\",\"scienc_human\",\"thick_thin\",\"diseas_supplement\",\"canida_internet\",\"share_gummi\",\"direct_abov\",\"web_play\",\"receiv_item\",\"werent_crumb\",\"jack_ridicul\",\"hear_trash\",\"bowl_term\",\"soup_spill\",\"foil_seal\",\"inch_larger\",\"hold_sister\",\"crisp_thin\",\"mislead_compani\",\"specif_between\",\"sandwich_bread\",\"keurig_kcup\",\"true_frequent\",\"floor_toy\",\"cook_pasta\",\"overpr_costco\",\"destroy_black\",\"resembl_veget\",\"form_leftov\",\"between_detail\",\"fix_sleep\",\"knew_frequent\",\"biscuit_german\",\"local_groceri\",\"center_danger\",\"foil_ground\",\"apart_mark\",\"thrown_trap\",\"eater_bite\",\"okay_pull\",\"percent_charg\",\"medicin_els\",\"indoor_allow\",\"nor_death\",\"instruct_herbal\",\"lime_desk\",\"squar_theyr\",\"floor_room\",\"brought_allergi\",\"beef_tough\",\"soda_orang\",\"fail_written\",\"sister_step\",\"onion_slice\",\"grape_oliv\",\"target_act\",\"inch_blood\",\"bulk_paid\",\"spent_chunk\",\"bill_rock\",\"smaller_rins\",\"supplement_stool\",\"ground_lid\",\"creat_spit\",\"energi_hour\",\"matcha_heavi\",\"swallow_chew\",\"second_microwav\",\"often_emerg\",\"rare_coupon\",\"sent_mother\",\"door_canist\",\"gift_send\",\"ball_treat\",\"than_rather\",\"cowork_cane\",\"lack_licoric\",\"china_prior\",\"turkey_origin\",\"stomach_intestin\",\"dent_pumpkin\",\"relat_tradit\",\"latt_pod\",\"individu_desk\",\"jelli_bean\",\"singl_brewer\",\"instruct_balanc\",\"beer_diamond\",\"mother_present\",\"sea_rid\",\"becam_bill\",\"metal_splenda\",\"thisbr_vegan\",\"worri_cane\",\"crumbl_oat\",\"servic_contact\",\"felt_cri\",\"condit_futur\",\"oat_elsewher\",\"mini_bear\",\"machin_offic\",\"fed_eventu\",\"frequent_line\",\"this_they\",\"link_jerki\",\"bowl_dinner\",\"carbohydr_sugarfre\",\"steam_dust\",\"tough_pure\",\"sip_spot\",\"burnt_pretzel\",\"zero_crazi\",\"sea_cheddar\",\"produc_method\",\"suck_hole\",\"ate_dinner\",\"flavorbr_foil\",\"those_who\",\"googl_msg\",\"extract_stevia\",\"ship_charg\",\"car_worri\",\"shouldnt_paid\",\"summer_middl\",\"rawhid_lab\",\"advertis_shipment\",\"formula_german\",\"cook_fri\",\"impress_alon\",\"floor_countri\",\"coffe_roast\",\"paper_trap\",\"minut_oat\",\"reorder_mislead\",\"diabet_agav\",\"red_vegetarian\",\"instant_doubt\",\"gobbl_daili\",\"kill_lost\",\"stronger_hair\",\"needless_gag\",\"fix_fabul\",\"protein_hemp\",\"tuna_fridg\",\"assum_pan\",\"sunflow_assur\",\"contact_tip\",\"dad_destroy\",\"act_tell\",\"wild_hint\",\"clear_buffalo\",\"partial_ingredi\",\"solid_blueberri\",\"pantri_becam\",\"filter_design\",\"cancer_otherwis\",\"bone_vet\",\"chanc_took\",\"foil_kit\",\"lunch_kid\",\"benefit_health\",\"canida_stool\",\"lie_trust\",\"rip_buyer\",\"shes_lost\",\"offic_repeat\",\"cheaper_than\",\"tart_acai\",\"pantri_number\",\"keep_busi\",\"poop_greeni\",\"skeptic_spoon\",\"heart_hydrogen\",\"blue_almond\",\"claim_mislead\",\"varieti_spoil\",\"cours_tabl\",\"wateri_dump\",\"blueberri_pie\",\"past_mail\",\"happi_hip\",\"discount_overwhelm\",\"throw_trash\",\"eaten_beauti\",\"ingredi_corn\",\"swallow_slowli\",\"shipment_receiv\",\"contact_paid\",\"oil_hydrogen\",\"steep_green\",\"throat_car\",\"foodbr_repeat\",\"rock_room\",\"flour_bake\",\"earth_choic\",\"nor_human\",\"teaspoon_press\",\"twice_gobbl\",\"kick_smooth\",\"gag_troubl\",\"split_boil\",\"blue_buffalo\",\"soft_cooki\",\"salmon_wine\",\"owner_fda\",\"newman_symptom\",\"ounc_squeez\",\"mixtur_assum\",\"dump_stir\",\"loos_stool\",\"ten_buck\",\"berri_mold\",\"gold_websit\",\"dog_vet\",\"junk_latt\",\"whenev_rememb\",\"difficult_find\",\"burnt_timothi\",\"freez_poop\",\"coffe_bold\",\"salmon_wild\",\"lbs_weight\",\"tea_chai\",\"curri_write\",\"fabul_dessert\",\"age_older\",\"face_moistur\",\"yeast_promis\",\"gotten_respons\",\"import_china\",\"truffl_promis\",\"flower_buyer\",\"ined_burn\",\"odd_shape\",\"skin_jasmin\",\"risk_sad\",\"soup_pea\",\"suspect_cramp\",\"delic_despit\",\"doctor_beat\",\"wild_raw\",\"heaven_word\",\"content_fat\",\"choke_transit\",\"sandwich_salad\",\"mebr_bother\",\"golden_center\",\"older_hip\",\"month_coupl\",\"supermarket_refil\",\"sprinkl_unlik\",\"steam_bottom\",\"say_needless\",\"flat_goodbr\",\"joe_initi\",\"intestin_hour\",\"limit_caramel\",\"spray_trap\",\"adopt_certain\",\"juic_theyv\",\"destroy_swallow\",\"everi_day\",\"popcorn_microwav\",\"suffer_brought\",\"plain_drain\",\"vendor_detail\",\"waffl_spread\",\"pouch_nutti\",\"tin_visit\",\"dessert_fix\",\"safe_hydrogen\",\"prevent_burnt\",\"ined_peach\",\"between_carbohydr\",\"addict_form\",\"nose_turn\",\"daili_sodium\",\"death_sad\",\"soda_sodastream\",\"becam_spray\",\"brown_rice\",\"run_out\",\"general_select\",\"basic_crystal\",\"rest_frequent\",\"outsid_prior\",\"describ_knock\",\"bulk_advertis\",\"six_german\",\"neither_palat\",\"free_celiac\",\"junk_post\",\"flat_wrote\",\"everywher_front\",\"trust_desk\",\"fail_system\",\"garbag_innova\",\"give_him\",\"return_item\",\"rare_main\",\"broth_msg\",\"room_kitchen\",\"besid_typic\",\"hole_seal\",\"canist_shame\",\"are_them\",\"walmart_almond\",\"dark_smooth\",\"pain_suffer\",\"sandwich_turkey\",\"kitten_adopt\",\"nutrient_tablespoon\",\"fridg_second\",\"dissolv_cowork\",\"tea_drink\",\"content_across\",\"larger_squar\",\"tire_necessari\",\"grab_theyr\",\"oil_skin\",\"steak_lover\",\"splenda_multipl\",\"steep_boil\",\"adopt_vomit\",\"byproduct_cri\",\"email_constant\",\"due_prior\",\"calori_carbohydr\",\"frost_obvious\",\"elsewher_exampl\",\"sick_imagin\",\"carbohydr_total\",\"china_die\",\"funni_death\",\"powder_hemp\",\"prompt_latt\",\"filter_multipl\",\"rich_dark\",\"desk_everywher\",\"center_ball\",\"besid_frost\",\"mom_bud\",\"fall_despit\",\"cheap_instant\",\"present_parti\",\"spot_coupon\",\"three_fanci\",\"between_pasta\",\"imagin_lbs\",\"chip_these\",\"shell_occasion\",\"berri_question\",\"fed_requir\"],\"yaxis\":\"y\",\"type\":\"scattergl\"}],                        {\"template\":{\"data\":{\"bar\":[{\"error_x\":{\"color\":\"#2a3f5f\"},\"error_y\":{\"color\":\"#2a3f5f\"},\"marker\":{\"line\":{\"color\":\"#E5ECF6\",\"width\":0.5},\"pattern\":{\"fillmode\":\"overlay\",\"size\":10,\"solidity\":0.2}},\"type\":\"bar\"}],\"barpolar\":[{\"marker\":{\"line\":{\"color\":\"#E5ECF6\",\"width\":0.5},\"pattern\":{\"fillmode\":\"overlay\",\"size\":10,\"solidity\":0.2}},\"type\":\"barpolar\"}],\"carpet\":[{\"aaxis\":{\"endlinecolor\":\"#2a3f5f\",\"gridcolor\":\"white\",\"linecolor\":\"white\",\"minorgridcolor\":\"white\",\"startlinecolor\":\"#2a3f5f\"},\"baxis\":{\"endlinecolor\":\"#2a3f5f\",\"gridcolor\":\"white\",\"linecolor\":\"white\",\"minorgridcolor\":\"white\",\"startlinecolor\":\"#2a3f5f\"},\"type\":\"carpet\"}],\"choropleth\":[{\"colorbar\":{\"outlinewidth\":0,\"ticks\":\"\"},\"type\":\"choropleth\"}],\"contour\":[{\"colorbar\":{\"outlinewidth\":0,\"ticks\":\"\"},\"colorscale\":[[0.0,\"#0d0887\"],[0.1111111111111111,\"#46039f\"],[0.2222222222222222,\"#7201a8\"],[0.3333333333333333,\"#9c179e\"],[0.4444444444444444,\"#bd3786\"],[0.5555555555555556,\"#d8576b\"],[0.6666666666666666,\"#ed7953\"],[0.7777777777777778,\"#fb9f3a\"],[0.8888888888888888,\"#fdca26\"],[1.0,\"#f0f921\"]],\"type\":\"contour\"}],\"contourcarpet\":[{\"colorbar\":{\"outlinewidth\":0,\"ticks\":\"\"},\"type\":\"contourcarpet\"}],\"heatmap\":[{\"colorbar\":{\"outlinewidth\":0,\"ticks\":\"\"},\"colorscale\":[[0.0,\"#0d0887\"],[0.1111111111111111,\"#46039f\"],[0.2222222222222222,\"#7201a8\"],[0.3333333333333333,\"#9c179e\"],[0.4444444444444444,\"#bd3786\"],[0.5555555555555556,\"#d8576b\"],[0.6666666666666666,\"#ed7953\"],[0.7777777777777778,\"#fb9f3a\"],[0.8888888888888888,\"#fdca26\"],[1.0,\"#f0f921\"]],\"type\":\"heatmap\"}],\"heatmapgl\":[{\"colorbar\":{\"outlinewidth\":0,\"ticks\":\"\"},\"colorscale\":[[0.0,\"#0d0887\"],[0.1111111111111111,\"#46039f\"],[0.2222222222222222,\"#7201a8\"],[0.3333333333333333,\"#9c179e\"],[0.4444444444444444,\"#bd3786\"],[0.5555555555555556,\"#d8576b\"],[0.6666666666666666,\"#ed7953\"],[0.7777777777777778,\"#fb9f3a\"],[0.8888888888888888,\"#fdca26\"],[1.0,\"#f0f921\"]],\"type\":\"heatmapgl\"}],\"histogram\":[{\"marker\":{\"pattern\":{\"fillmode\":\"overlay\",\"size\":10,\"solidity\":0.2}},\"type\":\"histogram\"}],\"histogram2d\":[{\"colorbar\":{\"outlinewidth\":0,\"ticks\":\"\"},\"colorscale\":[[0.0,\"#0d0887\"],[0.1111111111111111,\"#46039f\"],[0.2222222222222222,\"#7201a8\"],[0.3333333333333333,\"#9c179e\"],[0.4444444444444444,\"#bd3786\"],[0.5555555555555556,\"#d8576b\"],[0.6666666666666666,\"#ed7953\"],[0.7777777777777778,\"#fb9f3a\"],[0.8888888888888888,\"#fdca26\"],[1.0,\"#f0f921\"]],\"type\":\"histogram2d\"}],\"histogram2dcontour\":[{\"colorbar\":{\"outlinewidth\":0,\"ticks\":\"\"},\"colorscale\":[[0.0,\"#0d0887\"],[0.1111111111111111,\"#46039f\"],[0.2222222222222222,\"#7201a8\"],[0.3333333333333333,\"#9c179e\"],[0.4444444444444444,\"#bd3786\"],[0.5555555555555556,\"#d8576b\"],[0.6666666666666666,\"#ed7953\"],[0.7777777777777778,\"#fb9f3a\"],[0.8888888888888888,\"#fdca26\"],[1.0,\"#f0f921\"]],\"type\":\"histogram2dcontour\"}],\"mesh3d\":[{\"colorbar\":{\"outlinewidth\":0,\"ticks\":\"\"},\"type\":\"mesh3d\"}],\"parcoords\":[{\"line\":{\"colorbar\":{\"outlinewidth\":0,\"ticks\":\"\"}},\"type\":\"parcoords\"}],\"pie\":[{\"automargin\":true,\"type\":\"pie\"}],\"scatter\":[{\"marker\":{\"colorbar\":{\"outlinewidth\":0,\"ticks\":\"\"}},\"type\":\"scatter\"}],\"scatter3d\":[{\"line\":{\"colorbar\":{\"outlinewidth\":0,\"ticks\":\"\"}},\"marker\":{\"colorbar\":{\"outlinewidth\":0,\"ticks\":\"\"}},\"type\":\"scatter3d\"}],\"scattercarpet\":[{\"marker\":{\"colorbar\":{\"outlinewidth\":0,\"ticks\":\"\"}},\"type\":\"scattercarpet\"}],\"scattergeo\":[{\"marker\":{\"colorbar\":{\"outlinewidth\":0,\"ticks\":\"\"}},\"type\":\"scattergeo\"}],\"scattergl\":[{\"marker\":{\"colorbar\":{\"outlinewidth\":0,\"ticks\":\"\"}},\"type\":\"scattergl\"}],\"scattermapbox\":[{\"marker\":{\"colorbar\":{\"outlinewidth\":0,\"ticks\":\"\"}},\"type\":\"scattermapbox\"}],\"scatterpolar\":[{\"marker\":{\"colorbar\":{\"outlinewidth\":0,\"ticks\":\"\"}},\"type\":\"scatterpolar\"}],\"scatterpolargl\":[{\"marker\":{\"colorbar\":{\"outlinewidth\":0,\"ticks\":\"\"}},\"type\":\"scatterpolargl\"}],\"scatterternary\":[{\"marker\":{\"colorbar\":{\"outlinewidth\":0,\"ticks\":\"\"}},\"type\":\"scatterternary\"}],\"surface\":[{\"colorbar\":{\"outlinewidth\":0,\"ticks\":\"\"},\"colorscale\":[[0.0,\"#0d0887\"],[0.1111111111111111,\"#46039f\"],[0.2222222222222222,\"#7201a8\"],[0.3333333333333333,\"#9c179e\"],[0.4444444444444444,\"#bd3786\"],[0.5555555555555556,\"#d8576b\"],[0.6666666666666666,\"#ed7953\"],[0.7777777777777778,\"#fb9f3a\"],[0.8888888888888888,\"#fdca26\"],[1.0,\"#f0f921\"]],\"type\":\"surface\"}],\"table\":[{\"cells\":{\"fill\":{\"color\":\"#EBF0F8\"},\"line\":{\"color\":\"white\"}},\"header\":{\"fill\":{\"color\":\"#C8D4E3\"},\"line\":{\"color\":\"white\"}},\"type\":\"table\"}]},\"layout\":{\"annotationdefaults\":{\"arrowcolor\":\"#2a3f5f\",\"arrowhead\":0,\"arrowwidth\":1},\"autotypenumbers\":\"strict\",\"coloraxis\":{\"colorbar\":{\"outlinewidth\":0,\"ticks\":\"\"}},\"colorscale\":{\"diverging\":[[0,\"#8e0152\"],[0.1,\"#c51b7d\"],[0.2,\"#de77ae\"],[0.3,\"#f1b6da\"],[0.4,\"#fde0ef\"],[0.5,\"#f7f7f7\"],[0.6,\"#e6f5d0\"],[0.7,\"#b8e186\"],[0.8,\"#7fbc41\"],[0.9,\"#4d9221\"],[1,\"#276419\"]],\"sequential\":[[0.0,\"#0d0887\"],[0.1111111111111111,\"#46039f\"],[0.2222222222222222,\"#7201a8\"],[0.3333333333333333,\"#9c179e\"],[0.4444444444444444,\"#bd3786\"],[0.5555555555555556,\"#d8576b\"],[0.6666666666666666,\"#ed7953\"],[0.7777777777777778,\"#fb9f3a\"],[0.8888888888888888,\"#fdca26\"],[1.0,\"#f0f921\"]],\"sequentialminus\":[[0.0,\"#0d0887\"],[0.1111111111111111,\"#46039f\"],[0.2222222222222222,\"#7201a8\"],[0.3333333333333333,\"#9c179e\"],[0.4444444444444444,\"#bd3786\"],[0.5555555555555556,\"#d8576b\"],[0.6666666666666666,\"#ed7953\"],[0.7777777777777778,\"#fb9f3a\"],[0.8888888888888888,\"#fdca26\"],[1.0,\"#f0f921\"]]},\"colorway\":[\"#636efa\",\"#EF553B\",\"#00cc96\",\"#ab63fa\",\"#FFA15A\",\"#19d3f3\",\"#FF6692\",\"#B6E880\",\"#FF97FF\",\"#FECB52\"],\"font\":{\"color\":\"#2a3f5f\"},\"geo\":{\"bgcolor\":\"white\",\"lakecolor\":\"white\",\"landcolor\":\"#E5ECF6\",\"showlakes\":true,\"showland\":true,\"subunitcolor\":\"white\"},\"hoverlabel\":{\"align\":\"left\"},\"hovermode\":\"closest\",\"mapbox\":{\"style\":\"light\"},\"paper_bgcolor\":\"white\",\"plot_bgcolor\":\"#E5ECF6\",\"polar\":{\"angularaxis\":{\"gridcolor\":\"white\",\"linecolor\":\"white\",\"ticks\":\"\"},\"bgcolor\":\"#E5ECF6\",\"radialaxis\":{\"gridcolor\":\"white\",\"linecolor\":\"white\",\"ticks\":\"\"}},\"scene\":{\"xaxis\":{\"backgroundcolor\":\"#E5ECF6\",\"gridcolor\":\"white\",\"gridwidth\":2,\"linecolor\":\"white\",\"showbackground\":true,\"ticks\":\"\",\"zerolinecolor\":\"white\"},\"yaxis\":{\"backgroundcolor\":\"#E5ECF6\",\"gridcolor\":\"white\",\"gridwidth\":2,\"linecolor\":\"white\",\"showbackground\":true,\"ticks\":\"\",\"zerolinecolor\":\"white\"},\"zaxis\":{\"backgroundcolor\":\"#E5ECF6\",\"gridcolor\":\"white\",\"gridwidth\":2,\"linecolor\":\"white\",\"showbackground\":true,\"ticks\":\"\",\"zerolinecolor\":\"white\"}},\"shapedefaults\":{\"line\":{\"color\":\"#2a3f5f\"}},\"ternary\":{\"aaxis\":{\"gridcolor\":\"white\",\"linecolor\":\"white\",\"ticks\":\"\"},\"baxis\":{\"gridcolor\":\"white\",\"linecolor\":\"white\",\"ticks\":\"\"},\"bgcolor\":\"#E5ECF6\",\"caxis\":{\"gridcolor\":\"white\",\"linecolor\":\"white\",\"ticks\":\"\"}},\"title\":{\"x\":0.05},\"xaxis\":{\"automargin\":true,\"gridcolor\":\"white\",\"linecolor\":\"white\",\"ticks\":\"\",\"title\":{\"standoff\":15},\"zerolinecolor\":\"white\",\"zerolinewidth\":2},\"yaxis\":{\"automargin\":true,\"gridcolor\":\"white\",\"linecolor\":\"white\",\"ticks\":\"\",\"title\":{\"standoff\":15},\"zerolinecolor\":\"white\",\"zerolinewidth\":2}}},\"xaxis\":{\"anchor\":\"y\",\"domain\":[0.0,1.0],\"title\":{\"text\":\"corr\"}},\"yaxis\":{\"anchor\":\"x\",\"domain\":[0.0,1.0],\"title\":{\"text\":\"index\"}},\"coloraxis\":{\"colorbar\":{\"title\":{\"text\":\"corr\"}},\"colorscale\":[[0.0,\"#0d0887\"],[0.1111111111111111,\"#46039f\"],[0.2222222222222222,\"#7201a8\"],[0.3333333333333333,\"#9c179e\"],[0.4444444444444444,\"#bd3786\"],[0.5555555555555556,\"#d8576b\"],[0.6666666666666666,\"#ed7953\"],[0.7777777777777778,\"#fb9f3a\"],[0.8888888888888888,\"#fdca26\"],[1.0,\"#f0f921\"]]},\"legend\":{\"tracegroupgap\":0},\"margin\":{\"t\":60}},                        {\"responsive\": true}                    ).then(function(){\n",
       "                            \n",
       "var gd = document.getElementById('eacc8d6e-218a-4800-b5d7-86189743d122');\n",
       "var x = new MutationObserver(function (mutations, observer) {{\n",
       "        var display = window.getComputedStyle(gd).display;\n",
       "        if (!display || display === 'none') {{\n",
       "            console.log([gd, 'removed!']);\n",
       "            Plotly.purge(gd);\n",
       "            observer.disconnect();\n",
       "        }}\n",
       "}});\n",
       "\n",
       "// Listen for the removal of the full notebook cells\n",
       "var notebookContainer = gd.closest('#notebook-container');\n",
       "if (notebookContainer) {{\n",
       "    x.observe(notebookContainer, {childList: true});\n",
       "}}\n",
       "\n",
       "// Listen for the clearing of the current output cell\n",
       "var outputEl = gd.closest('.output');\n",
       "if (outputEl) {{\n",
       "    x.observe(outputEl, {childList: true});\n",
       "}}\n",
       "\n",
       "                        })                };                });            </script>        </div>"
      ]
     },
     "metadata": {},
     "output_type": "display_data"
    }
   ],
   "source": []
  },
  {
   "cell_type": "code",
   "execution_count": null,
   "metadata": {
    "pycharm": {
     "name": "#%%\n"
    }
   },
   "outputs": [],
   "source": []
  },
  {
   "cell_type": "code",
   "execution_count": null,
   "metadata": {
    "pycharm": {
     "name": "#%%\n"
    }
   },
   "outputs": [],
   "source": []
  },
  {
   "cell_type": "code",
   "execution_count": null,
   "metadata": {
    "pycharm": {
     "name": "#%%\n"
    }
   },
   "outputs": [],
   "source": [
    "correlations.loc[correlations[correlations > 0.01].count() > 2]"
   ]
  },
  {
   "cell_type": "code",
   "execution_count": null,
   "metadata": {
    "pycharm": {
     "name": "#%%\n"
    }
   },
   "outputs": [],
   "source": [
    "correlations.abs().apply(lambda x: x if x[x > 0.15].count() > 2 else None , axis=1)"
   ]
  },
  {
   "cell_type": "code",
   "execution_count": null,
   "metadata": {
    "pycharm": {
     "name": "#%%\n"
    }
   },
   "outputs": [],
   "source": [
    "fig = px.imshow(tfidf_sk.corr(), text_auto=True, aspect=\"auto\")\n",
    "fig.show()\n"
   ]
  },
  {
   "cell_type": "code",
   "execution_count": null,
   "metadata": {
    "pycharm": {
     "name": "#%%\n"
    }
   },
   "outputs": [],
   "source": []
  },
  {
   "cell_type": "code",
   "execution_count": null,
   "metadata": {
    "pycharm": {
     "name": "#%%\n"
    }
   },
   "outputs": [],
   "source": [
    "\n",
    "\n",
    "\"\"\"\n",
    "instaed of droping 'nobr' non exsting word will add 1 to all the words\n",
    "\"\"\"\n",
    "tfidf_local: pd.DataFrame = calc_tfidf(X.drop(\"nobr\", axis=1))\n",
    "tfidf_local.loc[tfidf_local.sum(axis=1).sort_values(ascending=False).index].head(5)\n"
   ]
  }
 ],
 "metadata": {
  "kernelspec": {
   "display_name": "Python 3 (ipykernel)",
   "language": "python",
   "name": "python3"
  },
  "language_info": {
   "codemirror_mode": {
    "name": "ipython",
    "version": 3
   },
   "file_extension": ".py",
   "mimetype": "text/x-python",
   "name": "python",
   "nbconvert_exporter": "python",
   "pygments_lexer": "ipython3",
   "version": "3.8.11"
  }
 },
 "nbformat": 4,
 "nbformat_minor": 1
}